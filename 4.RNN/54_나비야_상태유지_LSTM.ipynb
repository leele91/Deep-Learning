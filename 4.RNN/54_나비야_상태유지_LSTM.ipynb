{
  "nbformat": 4,
  "nbformat_minor": 0,
  "metadata": {
    "colab": {
      "name": "54_나비야-상태유지_LSTM.ipynb",
      "provenance": [],
      "collapsed_sections": [],
      "toc_visible": true
    },
    "kernelspec": {
      "name": "python3",
      "display_name": "Python 3"
    }
  },
  "cells": [
    {
      "cell_type": "markdown",
      "metadata": {
        "id": "J6aIJunrqhqa"
      },
      "source": [
        "# 순환 신경망 - 나비야\r\n",
        "- 출처 : https://tykimos.github.io/2017/04/09/RNN_Layer_Talk/"
      ]
    },
    {
      "cell_type": "markdown",
      "metadata": {
        "id": "VDvcWmNnDdVj"
      },
      "source": [
        "### 상태유지 LSTM 모델\r\n",
        "- 상태유지 모드에서는 현재 샘플의 학습 상태가 다음 샘플의 초기 상태로 전달된다."
      ]
    },
    {
      "cell_type": "markdown",
      "metadata": {
        "id": "Oz66iXp8t1j8"
      },
      "source": [
        "### 다층 퍼셉트론 모델"
      ]
    },
    {
      "cell_type": "code",
      "metadata": {
        "id": "fc9Y3jogt4-9"
      },
      "source": [
        "# 사용할 패키지 불러오기\r\n",
        "import numpy as np\r\n",
        "import tensorflow as tf\r\n",
        "from tensorflow.keras.models import Sequential\r\n",
        "from tensorflow.keras.layers import Dense, LSTM\r\n",
        "from tensorflow.keras.utils import to_categorical\r\n",
        "from tensorflow.keras.callbacks import Callback"
      ],
      "execution_count": 6,
      "outputs": []
    },
    {
      "cell_type": "code",
      "metadata": {
        "id": "U1UMdGPRt44I"
      },
      "source": [
        "seed = 2021\r\n",
        "np.random.seed(seed)\r\n",
        "tf.random.set_seed(seed)"
      ],
      "execution_count": 2,
      "outputs": []
    },
    {
      "cell_type": "code",
      "metadata": {
        "id": "mMet2HY_quif"
      },
      "source": [
        "def seq2dataset(seq, window_size):\r\n",
        "    dataset = []\r\n",
        "    for i in range(len(seq)-window_size):\r\n",
        "        subset = seq[i:(i+window_size+1)]\r\n",
        "        dataset.append([code2idx[item] for item in subset])\r\n",
        "    return np.array(dataset)"
      ],
      "execution_count": 3,
      "outputs": []
    },
    {
      "cell_type": "code",
      "metadata": {
        "id": "id00qDGhpMGa"
      },
      "source": [
        "# 데이터 준비하기\r\n",
        "\r\n",
        "# 코드 사전 정의\r\n",
        "code2idx = {'c4':0, 'd4':1, 'e4':2, 'f4':3, 'g4':4, 'a4':5, 'b4':6,\r\n",
        "            'c8':7, 'd8':8, 'e8':9, 'f8':10, 'g8':11, 'a8':12, 'b8':13}\r\n",
        "idx2code = {0:'c4', 1:'d4', 2:'e4', 3:'f4', 4:'g4', 5:'a4', 6:'b4',\r\n",
        "            7:'c8', 8:'d8', 9:'e8', 10:'f8', 11:'g8', 12:'a8', 13:'b8'}"
      ],
      "execution_count": 4,
      "outputs": []
    },
    {
      "cell_type": "code",
      "metadata": {
        "colab": {
          "base_uri": "https://localhost:8080/"
        },
        "id": "Vdd3_TCTrDDM",
        "outputId": "66e8666f-291a-43f8-a523-477c8c9e5e0e"
      },
      "source": [
        "# 시퀀스 데이터 정의\r\n",
        "seq = ['g8', 'e8', 'e4', 'f8', 'd8', 'd4', 'c8', 'd8', 'e8', 'f8', 'g8', 'g8', 'g4',\r\n",
        "       'g8', 'e8', 'e8', 'e8', 'f8', 'd8', 'd4', 'c8', 'e8', 'g8', 'g8', 'e8', 'e8', 'e4',\r\n",
        "       'd8', 'd8', 'd8', 'd8', 'd8', 'e8', 'f4', 'e8', 'e8', 'e8', 'e8', 'e8', 'f8', 'g4',\r\n",
        "       'g8', 'e8', 'e4', 'f8', 'd8', 'd4', 'c8', 'e8', 'g8', 'g8', 'e8', 'e8', 'e4']\r\n",
        "       \r\n",
        "# 데이터셋 생성하기\r\n",
        "dataset = seq2dataset(seq, window_size = 4)\r\n",
        "dataset.shape"
      ],
      "execution_count": 5,
      "outputs": [
        {
          "output_type": "execute_result",
          "data": {
            "text/plain": [
              "(50, 5)"
            ]
          },
          "metadata": {
            "tags": []
          },
          "execution_count": 5
        }
      ]
    },
    {
      "cell_type": "code",
      "metadata": {
        "id": "6cD_c4XFr8hJ"
      },
      "source": [
        "# 입력(X)과 출력(Y) 변수로 분리하기\r\n",
        "X_train = dataset[:, :-1]\r\n",
        "y_train = dataset[:, -1] # 한줄이라 y는 소문자로 표시 / 맨 앞에서부터 4개\r\n",
        "\r\n",
        "MAX_IDX_VALUE = 13"
      ],
      "execution_count": 7,
      "outputs": []
    },
    {
      "cell_type": "code",
      "metadata": {
        "colab": {
          "base_uri": "https://localhost:8080/"
        },
        "id": "4PLlv24UvGW6",
        "outputId": "2772aaa9-bb40-48d6-cd8f-ec96a48d06c7"
      },
      "source": [
        "# 입력값 정규화 시키기\r\n",
        "X_train = X_train / float(MAX_IDX_VALUE)\r\n",
        "X_train.shape"
      ],
      "execution_count": 8,
      "outputs": [
        {
          "output_type": "execute_result",
          "data": {
            "text/plain": [
              "(50, 4)"
            ]
          },
          "metadata": {
            "tags": []
          },
          "execution_count": 8
        }
      ]
    },
    {
      "cell_type": "code",
      "metadata": {
        "id": "VKgNGinQEY0i"
      },
      "source": [
        "# 입력을 (샘플 수, 타입스텝, 특성 수)로 형태 변환\r\n",
        "X_train = np.reshape(X_train, (50, 4, 1))"
      ],
      "execution_count": 9,
      "outputs": []
    },
    {
      "cell_type": "code",
      "metadata": {
        "colab": {
          "base_uri": "https://localhost:8080/"
        },
        "id": "AxD9ELl0vNSr",
        "outputId": "dc271377-cce6-443f-c261-90c5394ab4eb"
      },
      "source": [
        "# 라벨값에 대한 one-hot 인코딩 수행\r\n",
        "Y_train = to_categorical(y_train)\r\n",
        "one_hot_vec_size = Y_train.shape[1]\r\n",
        "one_hot_vec_size"
      ],
      "execution_count": 10,
      "outputs": [
        {
          "output_type": "execute_result",
          "data": {
            "text/plain": [
              "12"
            ]
          },
          "metadata": {
            "tags": []
          },
          "execution_count": 10
        }
      ]
    },
    {
      "cell_type": "code",
      "metadata": {
        "id": "wsx7PNPVG3N_"
      },
      "source": [
        "# 손실 이력 클래스 정의\r\n",
        "class LossHistory(Callback):\r\n",
        "    def init(self):\r\n",
        "        self.losses = []\r\n",
        "        \r\n",
        "    def on_epoch_end(self, batch, logs={}):\r\n",
        "        self.losses.append(logs.get('loss'))"
      ],
      "execution_count": 11,
      "outputs": []
    },
    {
      "cell_type": "markdown",
      "metadata": {
        "id": "lSYq9RZrvsDL"
      },
      "source": [
        "### 모델 정의 / 설정/ 학습"
      ]
    },
    {
      "cell_type": "code",
      "metadata": {
        "colab": {
          "base_uri": "https://localhost:8080/"
        },
        "id": "RPY-tlbjvVZ6",
        "outputId": "287eae56-40ae-4148-cd05-d97db5e6061a"
      },
      "source": [
        "# 모델 구성하기\r\n",
        "model = Sequential()\r\n",
        "model.add(LSTM(128, batch_input_shape = (1, 4, 1), stateful=True))\r\n",
        "model.add(Dense(one_hot_vec_size, activation='softmax'))\r\n",
        "model.summary()"
      ],
      "execution_count": 12,
      "outputs": [
        {
          "output_type": "stream",
          "text": [
            "Model: \"sequential\"\n",
            "_________________________________________________________________\n",
            "Layer (type)                 Output Shape              Param #   \n",
            "=================================================================\n",
            "lstm (LSTM)                  (1, 128)                  66560     \n",
            "_________________________________________________________________\n",
            "dense (Dense)                (1, 12)                   1548      \n",
            "=================================================================\n",
            "Total params: 68,108\n",
            "Trainable params: 68,108\n",
            "Non-trainable params: 0\n",
            "_________________________________________________________________\n"
          ],
          "name": "stdout"
        }
      ]
    },
    {
      "cell_type": "code",
      "metadata": {
        "id": "KE7VW4unv-bm"
      },
      "source": [
        "# 모델 학습과정 설정하기\r\n",
        "model.compile(loss='categorical_crossentropy', optimizer='adam', metrics=['accuracy'])"
      ],
      "execution_count": 13,
      "outputs": []
    },
    {
      "cell_type": "code",
      "metadata": {
        "colab": {
          "base_uri": "https://localhost:8080/"
        },
        "id": "n1_xkw4ZwEy7",
        "outputId": "d5cee300-dce6-44b7-c272-3f2db8c24560"
      },
      "source": [
        "# 모델 학습시키기\r\n",
        "num_epochs = 201\r\n",
        "history = LossHistory()\r\n",
        "history.init()\r\n",
        "\r\n",
        "for epoch_idx in range(num_epochs):\r\n",
        "    if epoch_idx % 50 == 0:\r\n",
        "        print(\"======================= \" + str(epoch_idx) + \" =======================\")\r\n",
        "    model.fit(X_train, Y_train, epochs=1, batch_size=1, verbose=2, shuffle=False,\r\n",
        "              callbacks=[history]) # 50 is X.shape[0]\r\n",
        "    model.reset_states()"
      ],
      "execution_count": 14,
      "outputs": [
        {
          "output_type": "stream",
          "text": [
            "======================= 0 =======================\n",
            "50/50 - 1s - loss: 2.3356 - accuracy: 0.3000\n",
            "50/50 - 0s - loss: 1.9998 - accuracy: 0.3400\n",
            "50/50 - 0s - loss: 1.9571 - accuracy: 0.3400\n",
            "50/50 - 0s - loss: 1.9417 - accuracy: 0.3400\n",
            "50/50 - 0s - loss: 1.9324 - accuracy: 0.3400\n",
            "50/50 - 0s - loss: 1.9256 - accuracy: 0.3400\n",
            "50/50 - 0s - loss: 1.9202 - accuracy: 0.3400\n",
            "50/50 - 0s - loss: 1.9157 - accuracy: 0.3400\n",
            "50/50 - 0s - loss: 1.9118 - accuracy: 0.3400\n",
            "50/50 - 0s - loss: 1.9081 - accuracy: 0.3400\n",
            "50/50 - 0s - loss: 1.9045 - accuracy: 0.3600\n",
            "50/50 - 0s - loss: 1.9008 - accuracy: 0.3600\n",
            "50/50 - 0s - loss: 1.8967 - accuracy: 0.3600\n",
            "50/50 - 0s - loss: 1.8924 - accuracy: 0.3600\n",
            "50/50 - 0s - loss: 1.8884 - accuracy: 0.3600\n",
            "50/50 - 0s - loss: 1.8776 - accuracy: 0.3800\n",
            "50/50 - 0s - loss: 2.0541 - accuracy: 0.3600\n",
            "50/50 - 0s - loss: 1.9016 - accuracy: 0.3600\n",
            "50/50 - 0s - loss: 1.8816 - accuracy: 0.3600\n",
            "50/50 - 0s - loss: 1.8632 - accuracy: 0.3600\n",
            "50/50 - 0s - loss: 1.8393 - accuracy: 0.3800\n",
            "50/50 - 0s - loss: 1.8214 - accuracy: 0.3800\n",
            "50/50 - 0s - loss: 1.8917 - accuracy: 0.3600\n",
            "50/50 - 0s - loss: 1.8497 - accuracy: 0.3400\n",
            "50/50 - 0s - loss: 1.8522 - accuracy: 0.3600\n",
            "50/50 - 0s - loss: 1.8246 - accuracy: 0.3800\n",
            "50/50 - 0s - loss: 1.7960 - accuracy: 0.3600\n",
            "50/50 - 0s - loss: 1.7605 - accuracy: 0.4000\n",
            "50/50 - 0s - loss: 1.9860 - accuracy: 0.3400\n",
            "50/50 - 0s - loss: 1.8328 - accuracy: 0.3600\n",
            "50/50 - 0s - loss: 1.8077 - accuracy: 0.3600\n",
            "50/50 - 0s - loss: 1.7986 - accuracy: 0.3600\n",
            "50/50 - 0s - loss: 1.7897 - accuracy: 0.3800\n",
            "50/50 - 0s - loss: 1.7794 - accuracy: 0.4000\n",
            "50/50 - 0s - loss: 1.7554 - accuracy: 0.4000\n",
            "50/50 - 0s - loss: 1.7520 - accuracy: 0.4000\n",
            "50/50 - 0s - loss: 1.7182 - accuracy: 0.4000\n",
            "50/50 - 0s - loss: 1.7118 - accuracy: 0.4200\n",
            "50/50 - 0s - loss: 1.7049 - accuracy: 0.3600\n",
            "50/50 - 0s - loss: 1.6941 - accuracy: 0.3800\n",
            "50/50 - 0s - loss: 1.8146 - accuracy: 0.4000\n",
            "50/50 - 0s - loss: 1.7621 - accuracy: 0.3800\n",
            "50/50 - 0s - loss: 1.6985 - accuracy: 0.4000\n",
            "50/50 - 0s - loss: 1.6971 - accuracy: 0.4000\n",
            "50/50 - 0s - loss: 1.7893 - accuracy: 0.3600\n",
            "50/50 - 0s - loss: 1.7105 - accuracy: 0.3800\n",
            "50/50 - 0s - loss: 2.5896 - accuracy: 0.3200\n",
            "50/50 - 0s - loss: 2.0953 - accuracy: 0.2400\n",
            "50/50 - 0s - loss: 1.9760 - accuracy: 0.3600\n",
            "50/50 - 0s - loss: 1.9364 - accuracy: 0.3600\n",
            "======================= 50 =======================\n",
            "50/50 - 0s - loss: 1.9184 - accuracy: 0.3600\n",
            "50/50 - 0s - loss: 1.9055 - accuracy: 0.3600\n",
            "50/50 - 0s - loss: 1.8913 - accuracy: 0.3600\n",
            "50/50 - 0s - loss: 1.8805 - accuracy: 0.3600\n",
            "50/50 - 0s - loss: 1.8602 - accuracy: 0.3600\n",
            "50/50 - 0s - loss: 1.8464 - accuracy: 0.3600\n",
            "50/50 - 0s - loss: 1.9253 - accuracy: 0.3000\n",
            "50/50 - 0s - loss: 1.8213 - accuracy: 0.3600\n",
            "50/50 - 0s - loss: 1.7933 - accuracy: 0.3600\n",
            "50/50 - 0s - loss: 1.7495 - accuracy: 0.3800\n",
            "50/50 - 0s - loss: 1.8162 - accuracy: 0.4000\n",
            "50/50 - 0s - loss: 1.7307 - accuracy: 0.3800\n",
            "50/50 - 0s - loss: 1.6724 - accuracy: 0.4200\n",
            "50/50 - 0s - loss: 1.6177 - accuracy: 0.5000\n",
            "50/50 - 0s - loss: 1.5740 - accuracy: 0.5000\n",
            "50/50 - 0s - loss: 1.6168 - accuracy: 0.4400\n",
            "50/50 - 0s - loss: 1.6481 - accuracy: 0.4000\n",
            "50/50 - 0s - loss: 1.5415 - accuracy: 0.5000\n",
            "50/50 - 0s - loss: 1.4916 - accuracy: 0.5000\n",
            "50/50 - 0s - loss: 1.7189 - accuracy: 0.3800\n",
            "50/50 - 0s - loss: 1.6489 - accuracy: 0.4200\n",
            "50/50 - 0s - loss: 1.5914 - accuracy: 0.4400\n",
            "50/50 - 0s - loss: 1.5390 - accuracy: 0.4400\n",
            "50/50 - 0s - loss: 1.4943 - accuracy: 0.4400\n",
            "50/50 - 0s - loss: 1.5301 - accuracy: 0.4600\n",
            "50/50 - 0s - loss: 1.4917 - accuracy: 0.4400\n",
            "50/50 - 0s - loss: 1.7768 - accuracy: 0.3800\n",
            "50/50 - 0s - loss: 1.6334 - accuracy: 0.4000\n",
            "50/50 - 0s - loss: 1.5650 - accuracy: 0.4000\n",
            "50/50 - 0s - loss: 1.5012 - accuracy: 0.3600\n",
            "50/50 - 0s - loss: 1.4841 - accuracy: 0.3600\n",
            "50/50 - 0s - loss: 1.3879 - accuracy: 0.3800\n",
            "50/50 - 0s - loss: 1.3356 - accuracy: 0.4600\n",
            "50/50 - 0s - loss: 1.3180 - accuracy: 0.4600\n",
            "50/50 - 0s - loss: 1.2620 - accuracy: 0.5200\n",
            "50/50 - 0s - loss: 1.3499 - accuracy: 0.4600\n",
            "50/50 - 0s - loss: 1.3641 - accuracy: 0.5400\n",
            "50/50 - 0s - loss: 1.2698 - accuracy: 0.4600\n",
            "50/50 - 0s - loss: 1.4194 - accuracy: 0.5000\n",
            "50/50 - 0s - loss: 1.3456 - accuracy: 0.4800\n",
            "50/50 - 0s - loss: 1.2972 - accuracy: 0.5000\n",
            "50/50 - 0s - loss: 1.2218 - accuracy: 0.5800\n",
            "50/50 - 0s - loss: 1.1455 - accuracy: 0.5600\n",
            "50/50 - 0s - loss: 1.4816 - accuracy: 0.4800\n",
            "50/50 - 0s - loss: 1.3665 - accuracy: 0.5400\n",
            "50/50 - 0s - loss: 1.2183 - accuracy: 0.4800\n",
            "50/50 - 0s - loss: 1.3566 - accuracy: 0.4800\n",
            "50/50 - 0s - loss: 1.1558 - accuracy: 0.5400\n",
            "50/50 - 0s - loss: 1.3425 - accuracy: 0.4600\n",
            "50/50 - 0s - loss: 1.2455 - accuracy: 0.5800\n",
            "======================= 100 =======================\n",
            "50/50 - 0s - loss: 1.3264 - accuracy: 0.5000\n",
            "50/50 - 0s - loss: 1.2825 - accuracy: 0.4600\n",
            "50/50 - 0s - loss: 1.1954 - accuracy: 0.5600\n",
            "50/50 - 0s - loss: 1.2200 - accuracy: 0.5400\n",
            "50/50 - 0s - loss: 1.0946 - accuracy: 0.6000\n",
            "50/50 - 0s - loss: 1.3033 - accuracy: 0.5400\n",
            "50/50 - 0s - loss: 1.3964 - accuracy: 0.4800\n",
            "50/50 - 0s - loss: 1.1255 - accuracy: 0.5800\n",
            "50/50 - 0s - loss: 1.0633 - accuracy: 0.6000\n",
            "50/50 - 0s - loss: 1.0154 - accuracy: 0.6200\n",
            "50/50 - 0s - loss: 0.9829 - accuracy: 0.6200\n",
            "50/50 - 0s - loss: 1.1677 - accuracy: 0.5400\n",
            "50/50 - 0s - loss: 1.2905 - accuracy: 0.5200\n",
            "50/50 - 0s - loss: 0.9403 - accuracy: 0.6400\n",
            "50/50 - 0s - loss: 0.9301 - accuracy: 0.6200\n",
            "50/50 - 0s - loss: 0.9041 - accuracy: 0.6600\n",
            "50/50 - 0s - loss: 1.1625 - accuracy: 0.5600\n",
            "50/50 - 0s - loss: 1.4009 - accuracy: 0.5000\n",
            "50/50 - 0s - loss: 1.0151 - accuracy: 0.6400\n",
            "50/50 - 0s - loss: 1.3074 - accuracy: 0.5200\n",
            "50/50 - 0s - loss: 1.0475 - accuracy: 0.6800\n",
            "50/50 - 0s - loss: 0.8543 - accuracy: 0.6400\n",
            "50/50 - 0s - loss: 0.8740 - accuracy: 0.6600\n",
            "50/50 - 0s - loss: 0.7680 - accuracy: 0.7800\n",
            "50/50 - 0s - loss: 1.1159 - accuracy: 0.5800\n",
            "50/50 - 0s - loss: 1.2196 - accuracy: 0.5000\n",
            "50/50 - 0s - loss: 1.0613 - accuracy: 0.5800\n",
            "50/50 - 0s - loss: 1.0000 - accuracy: 0.6400\n",
            "50/50 - 0s - loss: 0.8675 - accuracy: 0.6400\n",
            "50/50 - 0s - loss: 0.9148 - accuracy: 0.6000\n",
            "50/50 - 0s - loss: 0.8038 - accuracy: 0.6800\n",
            "50/50 - 0s - loss: 0.8845 - accuracy: 0.6200\n",
            "50/50 - 0s - loss: 0.8947 - accuracy: 0.6600\n",
            "50/50 - 0s - loss: 1.3864 - accuracy: 0.5200\n",
            "50/50 - 0s - loss: 0.9826 - accuracy: 0.6200\n",
            "50/50 - 0s - loss: 1.1727 - accuracy: 0.5400\n",
            "50/50 - 0s - loss: 1.0405 - accuracy: 0.6000\n",
            "50/50 - 0s - loss: 0.8193 - accuracy: 0.7200\n",
            "50/50 - 0s - loss: 0.8376 - accuracy: 0.7200\n",
            "50/50 - 0s - loss: 0.7836 - accuracy: 0.7000\n",
            "50/50 - 0s - loss: 0.7662 - accuracy: 0.6800\n",
            "50/50 - 0s - loss: 0.6536 - accuracy: 0.7600\n",
            "50/50 - 0s - loss: 0.8237 - accuracy: 0.7000\n",
            "50/50 - 0s - loss: 0.7114 - accuracy: 0.7200\n",
            "50/50 - 0s - loss: 0.6164 - accuracy: 0.8000\n",
            "50/50 - 0s - loss: 0.6453 - accuracy: 0.8000\n",
            "50/50 - 0s - loss: 0.5455 - accuracy: 0.8000\n",
            "50/50 - 0s - loss: 0.7082 - accuracy: 0.7800\n",
            "50/50 - 0s - loss: 0.4243 - accuracy: 0.9200\n",
            "50/50 - 0s - loss: 0.3888 - accuracy: 0.9200\n",
            "======================= 150 =======================\n",
            "50/50 - 0s - loss: 0.7019 - accuracy: 0.6600\n",
            "50/50 - 0s - loss: 0.9930 - accuracy: 0.6600\n",
            "50/50 - 0s - loss: 0.5544 - accuracy: 0.8000\n",
            "50/50 - 0s - loss: 0.5434 - accuracy: 0.8200\n",
            "50/50 - 0s - loss: 0.8988 - accuracy: 0.6800\n",
            "50/50 - 0s - loss: 1.0892 - accuracy: 0.6200\n",
            "50/50 - 0s - loss: 0.8751 - accuracy: 0.6000\n",
            "50/50 - 0s - loss: 0.5510 - accuracy: 0.8000\n",
            "50/50 - 0s - loss: 0.4407 - accuracy: 0.9000\n",
            "50/50 - 0s - loss: 0.3563 - accuracy: 0.9000\n",
            "50/50 - 0s - loss: 0.3225 - accuracy: 0.9200\n",
            "50/50 - 0s - loss: 0.3921 - accuracy: 0.8800\n",
            "50/50 - 0s - loss: 0.2966 - accuracy: 0.9000\n",
            "50/50 - 0s - loss: 0.3115 - accuracy: 0.8600\n",
            "50/50 - 0s - loss: 0.3550 - accuracy: 0.8800\n",
            "50/50 - 0s - loss: 0.2168 - accuracy: 0.9400\n",
            "50/50 - 0s - loss: 0.2259 - accuracy: 0.9800\n",
            "50/50 - 0s - loss: 0.2363 - accuracy: 0.9200\n",
            "50/50 - 0s - loss: 0.4732 - accuracy: 0.8400\n",
            "50/50 - 0s - loss: 0.3740 - accuracy: 0.8400\n",
            "50/50 - 0s - loss: 1.7346 - accuracy: 0.4200\n",
            "50/50 - 0s - loss: 1.0399 - accuracy: 0.6600\n",
            "50/50 - 0s - loss: 0.8710 - accuracy: 0.6200\n",
            "50/50 - 0s - loss: 1.4500 - accuracy: 0.5600\n",
            "50/50 - 0s - loss: 1.0902 - accuracy: 0.6000\n",
            "50/50 - 0s - loss: 1.2365 - accuracy: 0.5200\n",
            "50/50 - 0s - loss: 2.0032 - accuracy: 0.4600\n",
            "50/50 - 0s - loss: 1.2604 - accuracy: 0.5200\n",
            "50/50 - 0s - loss: 1.1335 - accuracy: 0.5800\n",
            "50/50 - 0s - loss: 0.9693 - accuracy: 0.6200\n",
            "50/50 - 0s - loss: 0.8983 - accuracy: 0.6600\n",
            "50/50 - 0s - loss: 0.7312 - accuracy: 0.7400\n",
            "50/50 - 0s - loss: 0.6849 - accuracy: 0.7200\n",
            "50/50 - 0s - loss: 0.5856 - accuracy: 0.8000\n",
            "50/50 - 0s - loss: 0.5071 - accuracy: 0.8400\n",
            "50/50 - 0s - loss: 0.4292 - accuracy: 0.8600\n",
            "50/50 - 0s - loss: 0.5965 - accuracy: 0.8400\n",
            "50/50 - 0s - loss: 0.4931 - accuracy: 0.8000\n",
            "50/50 - 0s - loss: 0.6944 - accuracy: 0.7400\n",
            "50/50 - 0s - loss: 0.3789 - accuracy: 0.8800\n",
            "50/50 - 0s - loss: 0.5035 - accuracy: 0.8400\n",
            "50/50 - 0s - loss: 0.2938 - accuracy: 0.9200\n",
            "50/50 - 0s - loss: 0.2021 - accuracy: 0.9600\n",
            "50/50 - 0s - loss: 0.1566 - accuracy: 0.9800\n",
            "50/50 - 0s - loss: 0.1208 - accuracy: 1.0000\n",
            "50/50 - 0s - loss: 0.0989 - accuracy: 1.0000\n",
            "50/50 - 0s - loss: 0.0850 - accuracy: 1.0000\n",
            "50/50 - 0s - loss: 0.0721 - accuracy: 1.0000\n",
            "50/50 - 0s - loss: 0.0638 - accuracy: 1.0000\n",
            "50/50 - 0s - loss: 0.0565 - accuracy: 1.0000\n",
            "======================= 200 =======================\n",
            "50/50 - 0s - loss: 0.0496 - accuracy: 1.0000\n"
          ],
          "name": "stdout"
        }
      ]
    },
    {
      "cell_type": "code",
      "metadata": {
        "colab": {
          "base_uri": "https://localhost:8080/",
          "height": 279
        },
        "id": "dnPOahwNwJb2",
        "outputId": "66b443bf-d14f-4d4e-906c-d3dd25f0ad91"
      },
      "source": [
        "# 학습과정 살펴보기\r\n",
        "%matplotlib inline\r\n",
        "import matplotlib.pyplot as plt\r\n",
        "\r\n",
        "plt.plot(history.losses)\r\n",
        "plt.ylabel('loss')\r\n",
        "plt.xlabel('epoch')\r\n",
        "plt.legend(['train'], loc='upper right')\r\n",
        "plt.show()"
      ],
      "execution_count": 15,
      "outputs": [
        {
          "output_type": "display_data",
          "data": {
            "image/png": "[encoded data removed]",
            "text/plain": [
              "<Figure size 432x288 with 1 Axes>"
            ]
          },
          "metadata": {
            "tags": [],
            "needs_background": "light"
          }
        }
      ]
    },
    {
      "cell_type": "markdown",
      "metadata": {
        "id": "8BlgGZfmwlvg"
      },
      "source": [
        "### 평가"
      ]
    },
    {
      "cell_type": "code",
      "metadata": {
        "colab": {
          "base_uri": "https://localhost:8080/"
        },
        "id": "r_KC3gE6winK",
        "outputId": "2326a0e3-ee1f-4dd6-b034-71ae0718b18d"
      },
      "source": [
        "# 모델 평가하기\r\n",
        "scores = model.evaluate(X_train, Y_train, batch_size=1)\r\n",
        "print(\"%s: %.2f%%\" %(model.metrics_names[1], scores[1]*100))"
      ],
      "execution_count": 16,
      "outputs": [
        {
          "output_type": "stream",
          "text": [
            "50/50 [==============================] - 1s 1ms/step - loss: 0.0455 - accuracy: 1.0000\n",
            "accuracy: 100.00%\n"
          ],
          "name": "stdout"
        }
      ]
    },
    {
      "cell_type": "code",
      "metadata": {
        "id": "BuzzPr4Kwtdi"
      },
      "source": [
        "# 모델 사용하기\r\n",
        "pred_count = 50   # 최대 예측 개수 정의"
      ],
      "execution_count": 17,
      "outputs": []
    },
    {
      "cell_type": "code",
      "metadata": {
        "colab": {
          "base_uri": "https://localhost:8080/"
        },
        "id": "tqjFf6n2w0Cs",
        "outputId": "3c4c4302-83c0-41b3-b54d-8aae845fd190"
      },
      "source": [
        "# 한 스텝 예측\r\n",
        "seq_out = ['g8', 'e8', 'e4', 'f8']\r\n",
        "pred_out = model.predict(X_train, batch_size=1)\r\n",
        "\r\n",
        "for i in range(pred_count):\r\n",
        "    idx = np.argmax(pred_out[i]) # one-hot 인코딩을 인덱스 값으로 변환\r\n",
        "    seq_out.append(idx2code[idx]) # seq_out는 최종 악보이므로 인덱스 값을 코드로 변환하여 저장\r\n",
        "# model.reset_states()\r\n",
        "\r\n",
        "print(\"one step prediction : \", seq_out)"
      ],
      "execution_count": 18,
      "outputs": [
        {
          "output_type": "stream",
          "text": [
            "one step prediction :  ['g8', 'e8', 'e4', 'f8', 'd8', 'd8', 'd8', 'd8', 'd8', 'd8', 'd8', 'e8', 'f4', 'e8', 'e8', 'e4', 'g8', 'e8', 'e8', 'f8', 'e8', 'e8', 'd4', 'f8', 'e8', 'f8', 'g4', 'f8', 'e8', 'e4', 'f8', 'd8', 'd4', 'f8', 'f8', 'e8', 'd4', 'e8', 'e8', 'f8', 'e4', 'g8', 'e8', 'd4', 'c8', 'e8', 'g8', 'c8', 'e8', 'g8', 'g8', 'e8', 'e8', 'e4']\n"
          ],
          "name": "stdout"
        }
      ]
    },
    {
      "cell_type": "markdown",
      "metadata": {
        "id": "PQCp88mxxwRj"
      },
      "source": [
        "### 노래듣기\r\n",
        "[노래듣기](https://tykimos.github.io/warehouse/2017-4-9-MLP_one_step_prediction.mp3)"
      ]
    },
    {
      "cell_type": "code",
      "metadata": {
        "colab": {
          "base_uri": "https://localhost:8080/"
        },
        "id": "UIYSY2y_xBAx",
        "outputId": "a3ab13cd-e723-48d2-803d-6142475d12bb"
      },
      "source": [
        "# 곡 전체 예측\r\n",
        "seq_in = ['g8', 'e8', 'e4', 'f8']\r\n",
        "seq_out = seq_in\r\n",
        "seq_in = [code2idx[it] / float(MAX_IDX_VALUE) for it in seq_in] # 코드를 인덱스값으로 변환\r\n",
        "\r\n",
        "for i in range(pred_count):\r\n",
        "    sample_in = np.array(seq_in)\r\n",
        "    sample_in = np.reshape(sample_in, (1, 4, 1)) # 샘플 수, 타입스텝 수, 속성 수\r\n",
        "    pred_out = model.predict(sample_in)\r\n",
        "    idx = np.argmax(pred_out)\r\n",
        "    seq_out.append(idx2code[idx])\r\n",
        "    seq_in.append(idx / float(MAX_IDX_VALUE))\r\n",
        "    seq_in.pop(0)\r\n",
        "# model.reset_states()\r\n",
        "    \r\n",
        "print(\"full song prediction : \", seq_out)"
      ],
      "execution_count": 19,
      "outputs": [
        {
          "output_type": "stream",
          "text": [
            "full song prediction :  ['g8', 'e8', 'e4', 'f8', 'e4', 'd8', 'd8', 'd8', 'd8', 'd8', 'e8', 'f4', 'e8', 'e8', 'e4', 'f8', 'd8', 'd4', 'c8', 'e8', 'g8', 'g8', 'e8', 'e8', 'e4', 'g8', 'd8', 'd8', 'd8', 'd8', 'e8', 'f4', 'e8', 'e8', 'e8', 'e8', 'e8', 'e4', 'g8', 'e8', 'e4', 'f8', 'd8', 'd4', 'c8', 'e8', 'g8', 'g8', 'e8', 'e8', 'e4', 'g8', 'd8', 'd8']\n"
          ],
          "name": "stdout"
        }
      ]
    },
    {
      "cell_type": "markdown",
      "metadata": {
        "id": "FmN24Jy-yKTu"
      },
      "source": [
        "[노래 듣기](https://tykimos.github.io/warehouse/2017-4-9-MLP_full_song_prediction.mp3)"
      ]
    },
    {
      "cell_type": "code",
      "metadata": {
        "id": "H9KoikN5yE2h"
      },
      "source": [
        ""
      ],
      "execution_count": null,
      "outputs": []
    }
  ]
}