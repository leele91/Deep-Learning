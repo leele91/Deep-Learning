{
  "nbformat": 4,
  "nbformat_minor": 0,
  "metadata": {
    "colab": {
      "name": "02_CPU-vs-GPU.ipynb",
      "provenance": [],
      "collapsed_sections": []
    },
    "kernelspec": {
      "name": "python3",
      "display_name": "Python 3"
    },
    "accelerator": "GPU"
  },
  "cells": [
    {
      "cell_type": "code",
      "metadata": {
        "id": "NR-wpIre0Oqk"
      },
      "source": [
        "import numpy as np\r\n",
        "import tensorflow as tf\r\n",
        "from tensorflow import keras\r\n",
        "from keras.datasets import mnist\r\n",
        "from keras.models import Sequential\r\n",
        "from keras.layers import Dense, Dropout, Flatten, Conv2D, MaxPooling2D\r\n",
        "from keras.callbacks import ModelCheckpoint, EarlyStopping\r\n",
        "\r\n",
        "import os\r\n",
        "import matplotlib.pyplot as plt\r\n",
        "%matplotlib inline"
      ],
      "execution_count": 1,
      "outputs": []
    },
    {
      "cell_type": "code",
      "metadata": {
        "id": "cbe0Fcns0aL5"
      },
      "source": [
        "# seed 값 설정\r\n",
        "seed = 2021\r\n",
        "np.random.seed(seed)\r\n",
        "tf.random.set_seed(seed)"
      ],
      "execution_count": 2,
      "outputs": []
    },
    {
      "cell_type": "code",
      "metadata": {
        "colab": {
          "base_uri": "https://localhost:8080/"
        },
        "id": "dkuvqZCy0a85",
        "outputId": "9bbce80b-d9a7-4624-873c-763dbcf47ef5"
      },
      "source": [
        "# 데이터 불러오기\r\n",
        "(X_train, Y_train), (X_test, Y_test) = mnist.load_data()\r\n",
        "X_train = X_train.reshape(-1, 28, 28, 1).astype('float32') / 255\r\n",
        "X_test = X_test.reshape(-1, 28, 28, 1).astype('float32') / 255\r\n",
        "Y_train = keras.utils.to_categorical(Y_train)\r\n",
        "Y_test = keras.utils.to_categorical(Y_test)"
      ],
      "execution_count": 3,
      "outputs": [
        {
          "output_type": "stream",
          "text": [
            "Downloading data from https://storage.googleapis.com/tensorflow/tf-keras-datasets/mnist.npz\n",
            "11493376/11490434 [==============================] - 0s 0us/step\n"
          ],
          "name": "stdout"
        }
      ]
    },
    {
      "cell_type": "code",
      "metadata": {
        "colab": {
          "base_uri": "https://localhost:8080/"
        },
        "id": "jfJ1BIDu0p95",
        "outputId": "cbe480f5-6d7d-4bdc-e7ae-e3b5d377ece2"
      },
      "source": [
        "X_train.shape, X_test.shape"
      ],
      "execution_count": 4,
      "outputs": [
        {
          "output_type": "execute_result",
          "data": {
            "text/plain": [
              "((60000, 28, 28, 1), (10000, 28, 28, 1))"
            ]
          },
          "metadata": {
            "tags": []
          },
          "execution_count": 4
        }
      ]
    },
    {
      "cell_type": "code",
      "metadata": {
        "colab": {
          "base_uri": "https://localhost:8080/"
        },
        "id": "KpXZvhbn0sMg",
        "outputId": "14355030-1328-40c3-a114-ee3cbc18288e"
      },
      "source": [
        "# 컨볼루션 신경망 설정\r\n",
        "model = Sequential([\r\n",
        "    Conv2D(32, kernel_size=(3, 3), input_shape=(28, 28, 1), \r\n",
        "           activation='relu'),\r\n",
        "    Conv2D(64, (3, 3), activation='relu'),\r\n",
        "    MaxPooling2D(pool_size=2),\r\n",
        "    Dropout(0.25),\r\n",
        "    Flatten(),\r\n",
        "    Dense(128, activation='relu'),\r\n",
        "    Dropout(0.5),\r\n",
        "    Dense(10, activation='softmax')\r\n",
        "])\r\n",
        "model.summary()"
      ],
      "execution_count": 5,
      "outputs": [
        {
          "output_type": "stream",
          "text": [
            "Model: \"sequential\"\n",
            "_________________________________________________________________\n",
            "Layer (type)                 Output Shape              Param #   \n",
            "=================================================================\n",
            "conv2d (Conv2D)              (None, 26, 26, 32)        320       \n",
            "_________________________________________________________________\n",
            "conv2d_1 (Conv2D)            (None, 24, 24, 64)        18496     \n",
            "_________________________________________________________________\n",
            "max_pooling2d (MaxPooling2D) (None, 12, 12, 64)        0         \n",
            "_________________________________________________________________\n",
            "dropout (Dropout)            (None, 12, 12, 64)        0         \n",
            "_________________________________________________________________\n",
            "flatten (Flatten)            (None, 9216)              0         \n",
            "_________________________________________________________________\n",
            "dense (Dense)                (None, 128)               1179776   \n",
            "_________________________________________________________________\n",
            "dropout_1 (Dropout)          (None, 128)               0         \n",
            "_________________________________________________________________\n",
            "dense_1 (Dense)              (None, 10)                1290      \n",
            "=================================================================\n",
            "Total params: 1,199,882\n",
            "Trainable params: 1,199,882\n",
            "Non-trainable params: 0\n",
            "_________________________________________________________________\n"
          ],
          "name": "stdout"
        }
      ]
    },
    {
      "cell_type": "code",
      "metadata": {
        "colab": {
          "base_uri": "https://localhost:8080/",
          "height": 856
        },
        "id": "5ynN9Y7vjB96",
        "outputId": "03d78e9e-877f-4edf-e2b3-98281bc9195d"
      },
      "source": [
        "from tensorflow.keras.utils import plot_model\r\n",
        "plot_model(model)"
      ],
      "execution_count": 6,
      "outputs": [
        {
          "output_type": "execute_result",
          "data": {
            "image/png": "[encoded data removed]",
            "text/plain": [
              "<IPython.core.display.Image object>"
            ]
          },
          "metadata": {
            "tags": []
          },
          "execution_count": 6
        }
      ]
    },
    {
      "cell_type": "code",
      "metadata": {
        "id": "UD82H1-f03b0"
      },
      "source": [
        "model.compile(loss='categorical_crossentropy',\r\n",
        "              optimizer='adam',\r\n",
        "              metrics=['accuracy'])"
      ],
      "execution_count": 7,
      "outputs": []
    },
    {
      "cell_type": "code",
      "metadata": {
        "id": "_3osRNBD04eQ"
      },
      "source": [
        "# 모델 최적화 설정\r\n",
        "MODEL_DIR = './model/'\r\n",
        "if not os.path.exists(MODEL_DIR):\r\n",
        "    os.mkdir(MODEL_DIR)"
      ],
      "execution_count": 8,
      "outputs": []
    },
    {
      "cell_type": "code",
      "metadata": {
        "colab": {
          "base_uri": "https://localhost:8080/"
        },
        "id": "zI9BHg3X1JZ5",
        "outputId": "b2f6f11a-69b5-4f25-9713-9b92a043565b"
      },
      "source": [
        "!ls -l"
      ],
      "execution_count": 9,
      "outputs": [
        {
          "output_type": "stream",
          "text": [
            "total 32\n",
            "drwxr-xr-x 2 root root  4096 Feb  8 03:12 model\n",
            "-rw-r--r-- 1 root root 23744 Feb  8 03:12 model.png\n",
            "drwxr-xr-x 1 root root  4096 Feb  4 15:26 sample_data\n"
          ],
          "name": "stdout"
        }
      ]
    },
    {
      "cell_type": "code",
      "metadata": {
        "id": "5ZnapJ5W1KpJ"
      },
      "source": [
        "modelpath = MODEL_DIR + \"mnist-cnn-{epoch:02d}-{val_loss:.4f}.hdf5\"\r\n",
        "checkpointer = ModelCheckpoint(filepath=modelpath, monitor='val_loss', \r\n",
        "                               verbose=1, save_best_only=True)\r\n",
        "early_stopping_callback = EarlyStopping(monitor='val_loss', patience=10)"
      ],
      "execution_count": 10,
      "outputs": []
    },
    {
      "cell_type": "code",
      "metadata": {
        "colab": {
          "base_uri": "https://localhost:8080/"
        },
        "id": "3sInRe9j1T1Q",
        "outputId": "25ec55d3-eee5-4623-d876-13ea5db75266"
      },
      "source": [
        "# 모델의 실행\r\n",
        "history = model.fit(X_train, Y_train, validation_split=0.2, epochs=30,\r\n",
        "                    batch_size=200,\r\n",
        "                    callbacks=[early_stopping_callback, checkpointer])"
      ],
      "execution_count": 11,
      "outputs": [
        {
          "output_type": "stream",
          "text": [
            "Epoch 1/30\n",
            "240/240 [==============================] - 10s 12ms/step - loss: 0.6065 - accuracy: 0.8087 - val_loss: 0.0727 - val_accuracy: 0.9795\n",
            "\n",
            "Epoch 00001: val_loss improved from inf to 0.07270, saving model to ./model/mnist-cnn-01-0.0727.hdf5\n",
            "Epoch 2/30\n",
            "240/240 [==============================] - 2s 10ms/step - loss: 0.1033 - accuracy: 0.9692 - val_loss: 0.0541 - val_accuracy: 0.9847\n",
            "\n",
            "Epoch 00002: val_loss improved from 0.07270 to 0.05407, saving model to ./model/mnist-cnn-02-0.0541.hdf5\n",
            "Epoch 3/30\n",
            "240/240 [==============================] - 2s 10ms/step - loss: 0.0668 - accuracy: 0.9798 - val_loss: 0.0441 - val_accuracy: 0.9869\n",
            "\n",
            "Epoch 00003: val_loss improved from 0.05407 to 0.04406, saving model to ./model/mnist-cnn-03-0.0441.hdf5\n",
            "Epoch 4/30\n",
            "240/240 [==============================] - 2s 10ms/step - loss: 0.0597 - accuracy: 0.9814 - val_loss: 0.0400 - val_accuracy: 0.9884\n",
            "\n",
            "Epoch 00004: val_loss improved from 0.04406 to 0.04001, saving model to ./model/mnist-cnn-04-0.0400.hdf5\n",
            "Epoch 5/30\n",
            "240/240 [==============================] - 3s 10ms/step - loss: 0.0455 - accuracy: 0.9857 - val_loss: 0.0408 - val_accuracy: 0.9888\n",
            "\n",
            "Epoch 00005: val_loss did not improve from 0.04001\n",
            "Epoch 6/30\n",
            "240/240 [==============================] - 2s 10ms/step - loss: 0.0426 - accuracy: 0.9864 - val_loss: 0.0406 - val_accuracy: 0.9883\n",
            "\n",
            "Epoch 00006: val_loss did not improve from 0.04001\n",
            "Epoch 7/30\n",
            "240/240 [==============================] - 2s 10ms/step - loss: 0.0373 - accuracy: 0.9878 - val_loss: 0.0409 - val_accuracy: 0.9886\n",
            "\n",
            "Epoch 00007: val_loss did not improve from 0.04001\n",
            "Epoch 8/30\n",
            "240/240 [==============================] - 3s 10ms/step - loss: 0.0331 - accuracy: 0.9895 - val_loss: 0.0373 - val_accuracy: 0.9895\n",
            "\n",
            "Epoch 00008: val_loss improved from 0.04001 to 0.03730, saving model to ./model/mnist-cnn-08-0.0373.hdf5\n",
            "Epoch 9/30\n",
            "240/240 [==============================] - 3s 10ms/step - loss: 0.0281 - accuracy: 0.9904 - val_loss: 0.0389 - val_accuracy: 0.9897\n",
            "\n",
            "Epoch 00009: val_loss did not improve from 0.03730\n",
            "Epoch 10/30\n",
            "240/240 [==============================] - 3s 10ms/step - loss: 0.0277 - accuracy: 0.9910 - val_loss: 0.0439 - val_accuracy: 0.9897\n",
            "\n",
            "Epoch 00010: val_loss did not improve from 0.03730\n",
            "Epoch 11/30\n",
            "240/240 [==============================] - 2s 10ms/step - loss: 0.0249 - accuracy: 0.9921 - val_loss: 0.0376 - val_accuracy: 0.9895\n",
            "\n",
            "Epoch 00011: val_loss did not improve from 0.03730\n",
            "Epoch 12/30\n",
            "240/240 [==============================] - 3s 10ms/step - loss: 0.0242 - accuracy: 0.9918 - val_loss: 0.0428 - val_accuracy: 0.9892\n",
            "\n",
            "Epoch 00012: val_loss did not improve from 0.03730\n",
            "Epoch 13/30\n",
            "240/240 [==============================] - 3s 10ms/step - loss: 0.0221 - accuracy: 0.9927 - val_loss: 0.0408 - val_accuracy: 0.9902\n",
            "\n",
            "Epoch 00013: val_loss did not improve from 0.03730\n",
            "Epoch 14/30\n",
            "240/240 [==============================] - 3s 10ms/step - loss: 0.0200 - accuracy: 0.9935 - val_loss: 0.0415 - val_accuracy: 0.9902\n",
            "\n",
            "Epoch 00014: val_loss did not improve from 0.03730\n",
            "Epoch 15/30\n",
            "240/240 [==============================] - 3s 11ms/step - loss: 0.0185 - accuracy: 0.9944 - val_loss: 0.0398 - val_accuracy: 0.9915\n",
            "\n",
            "Epoch 00015: val_loss did not improve from 0.03730\n",
            "Epoch 16/30\n",
            "240/240 [==============================] - 3s 10ms/step - loss: 0.0174 - accuracy: 0.9943 - val_loss: 0.0415 - val_accuracy: 0.9901\n",
            "\n",
            "Epoch 00016: val_loss did not improve from 0.03730\n",
            "Epoch 17/30\n",
            "240/240 [==============================] - 3s 11ms/step - loss: 0.0179 - accuracy: 0.9935 - val_loss: 0.0438 - val_accuracy: 0.9898\n",
            "\n",
            "Epoch 00017: val_loss did not improve from 0.03730\n",
            "Epoch 18/30\n",
            "240/240 [==============================] - 3s 11ms/step - loss: 0.0155 - accuracy: 0.9944 - val_loss: 0.0438 - val_accuracy: 0.9901\n",
            "\n",
            "Epoch 00018: val_loss did not improve from 0.03730\n"
          ],
          "name": "stdout"
        }
      ]
    },
    {
      "cell_type": "code",
      "metadata": {
        "colab": {
          "base_uri": "https://localhost:8080/"
        },
        "id": "jygtw6vp1YeT",
        "outputId": "41bf6776-7e7c-4767-eabc-918759fdc00c"
      },
      "source": [
        "!ls model"
      ],
      "execution_count": 12,
      "outputs": [
        {
          "output_type": "stream",
          "text": [
            "mnist-cnn-01-0.0727.hdf5  mnist-cnn-03-0.0441.hdf5  mnist-cnn-08-0.0373.hdf5\n",
            "mnist-cnn-02-0.0541.hdf5  mnist-cnn-04-0.0400.hdf5\n"
          ],
          "name": "stdout"
        }
      ]
    },
    {
      "cell_type": "code",
      "metadata": {
        "id": "qZDWizT7Avw1"
      },
      "source": [
        "from keras.models import load_model\r\n",
        "del model\r\n",
        "model = load_model('model/mnist-cnn-08-0.0373.hdf5')"
      ],
      "execution_count": 13,
      "outputs": []
    },
    {
      "cell_type": "code",
      "metadata": {
        "colab": {
          "base_uri": "https://localhost:8080/"
        },
        "id": "DXBdkIOWA76U",
        "outputId": "91d101f5-5274-4147-8e6b-d86fcc0c6ca2"
      },
      "source": [
        "# 테스트 정확도 출력 \r\n",
        "acc = model.evaluate(X_test, Y_test, verbose=0)[1]\r\n",
        "print(f\"Test Accuracy:{acc:.4f}\")"
      ],
      "execution_count": 14,
      "outputs": [
        {
          "output_type": "stream",
          "text": [
            "Test Accuracy:0.9907\n"
          ],
          "name": "stdout"
        }
      ]
    },
    {
      "cell_type": "code",
      "metadata": {
        "id": "mfihh7vVBZTM"
      },
      "source": [
        "# 검증셋의 오차\r\n",
        "y_vloss = history.history['val_loss']\r\n",
        "\r\n",
        "# 학습셋의 오차\r\n",
        "y_loss = history.history['loss']"
      ],
      "execution_count": 15,
      "outputs": []
    },
    {
      "cell_type": "code",
      "metadata": {
        "colab": {
          "base_uri": "https://localhost:8080/",
          "height": 388
        },
        "id": "AbvCfHfnCt71",
        "outputId": "555345c1-b65b-4981-b11c-350e96a3b1e7"
      },
      "source": [
        "# 그래프로 표현\r\n",
        "x_len = np.arange(1, len(y_loss)+1)\r\n",
        "plt.figure(figsize=(8,6))\r\n",
        "plt.plot(x_len, y_vloss, marker='.', c=\"red\", label='Validationset_loss')\r\n",
        "plt.plot(x_len, y_loss, marker='.', c=\"blue\", label='Trainset_loss')\r\n",
        "\r\n",
        "# 그래프에 그리드를 주고 레이블을 표시\r\n",
        "plt.legend(loc='upper right')\r\n",
        "#plt.axis([0, 20, 0, 0.35])\r\n",
        "plt.grid()\r\n",
        "plt.xlabel('epoch')\r\n",
        "plt.ylabel('loss')\r\n",
        "plt.show()"
      ],
      "execution_count": 16,
      "outputs": [
        {
          "output_type": "display_data",
          "data": {
            "image/png": "[encoded data removed]",
            "text/plain": [
              "<Figure size 576x432 with 1 Axes>"
            ]
          },
          "metadata": {
            "tags": [],
            "needs_background": "light"
          }
        }
      ]
    },
    {
      "cell_type": "markdown",
      "metadata": {
        "id": "AinVnay_QJqN"
      },
      "source": [
        "### GPU"
      ]
    },
    {
      "cell_type": "code",
      "metadata": {
        "colab": {
          "base_uri": "https://localhost:8080/"
        },
        "id": "_xDVfkvZQJK_",
        "outputId": "266e6679-78bf-43ec-b22d-c89759716b0e"
      },
      "source": [
        "from tensorflow.python.client import device_lib\r\n",
        "print(device_lib.list_local_devices())"
      ],
      "execution_count": 17,
      "outputs": [
        {
          "output_type": "stream",
          "text": [
            "[name: \"/device:CPU:0\"\n",
            "device_type: \"CPU\"\n",
            "memory_limit: 268435456\n",
            "locality {\n",
            "}\n",
            "incarnation: 17104905506320453739\n",
            ", name: \"/device:GPU:0\"\n",
            "device_type: \"GPU\"\n",
            "memory_limit: 14638920512\n",
            "locality {\n",
            "  bus_id: 1\n",
            "  links {\n",
            "  }\n",
            "}\n",
            "incarnation: 1366703200596570994\n",
            "physical_device_desc: \"device: 0, name: Tesla T4, pci bus id: 0000:00:04.0, compute capability: 7.5\"\n",
            "]\n"
          ],
          "name": "stdout"
        }
      ]
    },
    {
      "cell_type": "code",
      "metadata": {
        "colab": {
          "base_uri": "https://localhost:8080/"
        },
        "id": "0MW1gmrASRXu",
        "outputId": "f652b18e-9993-4d7b-df29-cddfe4054831"
      },
      "source": [
        "!nvidia-smi"
      ],
      "execution_count": 18,
      "outputs": [
        {
          "output_type": "stream",
          "text": [
            "Mon Feb  8 03:14:28 2021       \n",
            "+-----------------------------------------------------------------------------+\n",
            "| NVIDIA-SMI 460.39       Driver Version: 418.67       CUDA Version: 10.1     |\n",
            "|-------------------------------+----------------------+----------------------+\n",
            "| GPU  Name        Persistence-M| Bus-Id        Disp.A | Volatile Uncorr. ECC |\n",
            "| Fan  Temp  Perf  Pwr:Usage/Cap|         Memory-Usage | GPU-Util  Compute M. |\n",
            "|                               |                      |               MIG M. |\n",
            "|===============================+======================+======================|\n",
            "|   0  Tesla T4            Off  | 00000000:00:04.0 Off |                    0 |\n",
            "| N/A   71C    P0    32W /  70W |   1129MiB / 15079MiB |      0%      Default |\n",
            "|                               |                      |                 ERR! |\n",
            "+-------------------------------+----------------------+----------------------+\n",
            "                                                                               \n",
            "+-----------------------------------------------------------------------------+\n",
            "| Processes:                                                                  |\n",
            "|  GPU   GI   CI        PID   Type   Process name                  GPU Memory |\n",
            "|        ID   ID                                                   Usage      |\n",
            "|=============================================================================|\n",
            "|  No running processes found                                                 |\n",
            "+-----------------------------------------------------------------------------+\n"
          ],
          "name": "stdout"
        }
      ]
    }
  ]
}