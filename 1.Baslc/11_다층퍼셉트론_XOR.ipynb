{
  "nbformat": 4,
  "nbformat_minor": 0,
  "metadata": {
    "colab": {
      "name": "11.다층퍼셉트론-XOR.ipynb",
      "provenance": [],
      "collapsed_sections": []
    },
    "kernelspec": {
      "name": "python3",
      "display_name": "Python 3"
    }
  },
  "cells": [
    {
      "cell_type": "markdown",
      "metadata": {
        "id": "5uLxNOK0gNLA"
      },
      "source": [
        "# 다층 퍼셉트론 - XOR"
      ]
    },
    {
      "cell_type": "code",
      "metadata": {
        "id": "48LQVDaLfor1"
      },
      "source": [
        "import numpy as np\r\n",
        "\r\n",
        "# 가중치와 바이어스\r\n",
        "w11 = np.array([-2, -2])\r\n",
        "w12 = np.array([2, 2])\r\n",
        "w2 = np.array([1, 1])\r\n",
        "b1 = 3\r\n",
        "b2 = -1\r\n",
        "b3 = -1"
      ],
      "execution_count": 1,
      "outputs": []
    },
    {
      "cell_type": "code",
      "metadata": {
        "id": "sRSVuldCgfxg"
      },
      "source": [
        "# 퍼셉트론 (Multi Layer Perceptron)\r\n",
        "def MLP(x, w, b):\r\n",
        "    y = np.sum(w * x) + b\r\n",
        "    if y <= 0:\r\n",
        "        return 0\r\n",
        "    else:\r\n",
        "        return 1"
      ],
      "execution_count": 2,
      "outputs": []
    },
    {
      "cell_type": "code",
      "metadata": {
        "id": "mi8QX5_egwQI"
      },
      "source": [
        "# NAND 게이트 [-2, -2], 3\r\n",
        "def NAND(x1, x2):\r\n",
        "    return MLP(np.array([x1, x2]), w11, b1)\r\n",
        "\r\n",
        "# OR 게이트 [2, 2], -1\r\n",
        "def OR(x1, x2):\r\n",
        "    return MLP(np.array([x1, x2]), w12, b2)\r\n",
        "\r\n",
        "# AND 게이트 [1, 1], -1\r\n",
        "def AND(x1, x2):\r\n",
        "    return MLP(np.array([x1, x2]), w2, b3)\r\n",
        "\r\n",
        "# XOR 게이트\r\n",
        "def XOR(x1, x2):\r\n",
        "    return AND(NAND(x1, x2), OR(x1, x2))"
      ],
      "execution_count": 3,
      "outputs": []
    },
    {
      "cell_type": "code",
      "metadata": {
        "colab": {
          "base_uri": "https://localhost:8080/"
        },
        "id": "ypkWpp4og1l4",
        "outputId": "674cf871-dd00-4732-9872-e344a244b1af"
      },
      "source": [
        "for x in [(0, 0), (1, 0), (0, 1), (1, 1)]:\r\n",
        "    print(NAND(*x))"
      ],
      "execution_count": 4,
      "outputs": [
        {
          "output_type": "stream",
          "text": [
            "1\n",
            "1\n",
            "1\n",
            "0\n"
          ],
          "name": "stdout"
        }
      ]
    },
    {
      "cell_type": "code",
      "metadata": {
        "colab": {
          "base_uri": "https://localhost:8080/"
        },
        "id": "pMq230h3g_gI",
        "outputId": "c4e68951-72fc-4fd6-d3db-ca2678e3ef81"
      },
      "source": [
        "for x in [(0, 0), (1, 0), (0, 1), (1, 1)]:\r\n",
        "    print(OR(*x))"
      ],
      "execution_count": 5,
      "outputs": [
        {
          "output_type": "stream",
          "text": [
            "0\n",
            "1\n",
            "1\n",
            "1\n"
          ],
          "name": "stdout"
        }
      ]
    },
    {
      "cell_type": "code",
      "metadata": {
        "colab": {
          "base_uri": "https://localhost:8080/"
        },
        "id": "h1_YsHNXhGMo",
        "outputId": "c944e2b7-1b0f-4b8a-b904-2c1449ed0201"
      },
      "source": [
        "for x in [(0, 0), (1, 0), (0, 1), (1, 1)]:\r\n",
        "    print(AND(*x))"
      ],
      "execution_count": 6,
      "outputs": [
        {
          "output_type": "stream",
          "text": [
            "0\n",
            "0\n",
            "0\n",
            "1\n"
          ],
          "name": "stdout"
        }
      ]
    },
    {
      "cell_type": "code",
      "metadata": {
        "colab": {
          "base_uri": "https://localhost:8080/"
        },
        "id": "iVqdhiWohNaX",
        "outputId": "b10c532d-d4cd-412b-9682-908520cb1864"
      },
      "source": [
        "# x1, x2 값을 번갈아 대입해 가며 최종값 출력\r\n",
        "if __name__ == '__main__':\r\n",
        "    for x in [(0, 0), (1, 0), (0, 1), (1, 1)]:\r\n",
        "        y = XOR(*x)\r\n",
        "        print(\"입력 값: \" + str(x) + \" 출력 값: \" + str(y))"
      ],
      "execution_count": 7,
      "outputs": [
        {
          "output_type": "stream",
          "text": [
            "입력 값: (0, 0) 출력 값: 0\n",
            "입력 값: (1, 0) 출력 값: 1\n",
            "입력 값: (0, 1) 출력 값: 1\n",
            "입력 값: (1, 1) 출력 값: 0\n"
          ],
          "name": "stdout"
        }
      ]
    }
  ]
}