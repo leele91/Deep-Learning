{
  "nbformat": 4,
  "nbformat_minor": 0,
  "metadata": {
    "colab": {
      "name": "02_CPU__vs_GPU.ipynb",
      "provenance": [],
      "collapsed_sections": []
    },
    "kernelspec": {
      "name": "python3",
      "display_name": "Python 3"
    }
  },
  "cells": [
    {
      "cell_type": "code",
      "metadata": {
        "id": "RpsXZqlvZJlQ"
      },
      "source": [
        "import numpy as np\r\n",
        "import tensorflow as tf\r\n",
        "from tensorflow import keras\r\n",
        "from keras.datasets import mnist\r\n",
        "from keras.models import Sequential\r\n",
        "from keras.layers import Dense, Dropout, Flatten, Conv2D, MaxPooling2D\r\n",
        "from keras.callbacks import ModelCheckpoint, EarlyStopping\r\n",
        "\r\n",
        "import os\r\n",
        "import matplotlib.pyplot as plt\r\n",
        "%matplotlib inline"
      ],
      "execution_count": 1,
      "outputs": []
    },
    {
      "cell_type": "code",
      "metadata": {
        "id": "vm_tLPXPZfVf"
      },
      "source": [
        "# seed 값 설정\r\n",
        "seed = 2021\r\n",
        "np.random.seed(seed)\r\n",
        "tf.random.set_seed(seed)"
      ],
      "execution_count": 2,
      "outputs": []
    },
    {
      "cell_type": "code",
      "metadata": {
        "colab": {
          "base_uri": "https://localhost:8080/"
        },
        "id": "eHh9HKzRZh9r",
        "outputId": "23a9182e-95a5-46af-d715-388834023e3f"
      },
      "source": [
        "# 데이터 불러오기\r\n",
        "(X_train, Y_train), (X_test, Y_test) = mnist.load_data()\r\n",
        "X_train = X_train.reshape(-1, 28, 28, 1).astype('float32') / 255\r\n",
        "X_test = X_test.reshape(-1, 28, 28, 1).astype('float32') / 255\r\n",
        "Y_train = keras.utils.to_categorical(Y_train)\r\n",
        "Y_test = keras.utils.to_categorical(Y_test)"
      ],
      "execution_count": 3,
      "outputs": [
        {
          "output_type": "stream",
          "text": [
            "Downloading data from https://storage.googleapis.com/tensorflow/tf-keras-datasets/mnist.npz\n",
            "11493376/11490434 [==============================] - 0s 0us/step\n"
          ],
          "name": "stdout"
        }
      ]
    },
    {
      "cell_type": "code",
      "metadata": {
        "colab": {
          "base_uri": "https://localhost:8080/"
        },
        "id": "iVFZJk27ZlIl",
        "outputId": "254b3e3a-bebb-4427-ba9f-e4f3312b4b57"
      },
      "source": [
        "X_train.shape, X_test.shape"
      ],
      "execution_count": 4,
      "outputs": [
        {
          "output_type": "execute_result",
          "data": {
            "text/plain": [
              "((60000, 28, 28, 1), (10000, 28, 28, 1))"
            ]
          },
          "metadata": {
            "tags": []
          },
          "execution_count": 4
        }
      ]
    },
    {
      "cell_type": "code",
      "metadata": {
        "colab": {
          "base_uri": "https://localhost:8080/"
        },
        "id": "xcZCFvXpZnMO",
        "outputId": "89636862-c7fe-4db8-eb18-95f20388d544"
      },
      "source": [
        "# 컨볼루션 신경망 설정\r\n",
        "model = Sequential([\r\n",
        "    Conv2D(32, kernel_size=(3, 3), input_shape=(28, 28, 1), \r\n",
        "           activation='relu'),\r\n",
        "    Conv2D(64, (3, 3), activation='relu'),\r\n",
        "    MaxPooling2D(pool_size=2),\r\n",
        "    Dropout(0.25),\r\n",
        "    Flatten(),\r\n",
        "    Dense(128, activation='relu'),\r\n",
        "    Dropout(0.5),\r\n",
        "    Dense(10, activation='softmax')\r\n",
        "])\r\n",
        "model.summary()"
      ],
      "execution_count": 5,
      "outputs": [
        {
          "output_type": "stream",
          "text": [
            "Model: \"sequential\"\n",
            "_________________________________________________________________\n",
            "Layer (type)                 Output Shape              Param #   \n",
            "=================================================================\n",
            "conv2d (Conv2D)              (None, 26, 26, 32)        320       \n",
            "_________________________________________________________________\n",
            "conv2d_1 (Conv2D)            (None, 24, 24, 64)        18496     \n",
            "_________________________________________________________________\n",
            "max_pooling2d (MaxPooling2D) (None, 12, 12, 64)        0         \n",
            "_________________________________________________________________\n",
            "dropout (Dropout)            (None, 12, 12, 64)        0         \n",
            "_________________________________________________________________\n",
            "flatten (Flatten)            (None, 9216)              0         \n",
            "_________________________________________________________________\n",
            "dense (Dense)                (None, 128)               1179776   \n",
            "_________________________________________________________________\n",
            "dropout_1 (Dropout)          (None, 128)               0         \n",
            "_________________________________________________________________\n",
            "dense_1 (Dense)              (None, 10)                1290      \n",
            "=================================================================\n",
            "Total params: 1,199,882\n",
            "Trainable params: 1,199,882\n",
            "Non-trainable params: 0\n",
            "_________________________________________________________________\n"
          ],
          "name": "stdout"
        }
      ]
    },
    {
      "cell_type": "code",
      "metadata": {
        "colab": {
          "base_uri": "https://localhost:8080/",
          "height": 856
        },
        "id": "J-WH2O8oZpd7",
        "outputId": "f97686a2-6b84-4629-a5af-0cabfec21092"
      },
      "source": [
        "from tensorflow.keras.utils import plot_model\r\n",
        "plot_model(model)"
      ],
      "execution_count": 6,
      "outputs": [
        {
          "output_type": "execute_result",
          "data": {
            "image/png": "[encoded data removed]",
            "text/plain": [
              "<IPython.core.display.Image object>"
            ]
          },
          "metadata": {
            "tags": []
          },
          "execution_count": 6
        }
      ]
    },
    {
      "cell_type": "code",
      "metadata": {
        "id": "_Fg0Yz4GZr0O"
      },
      "source": [
        "model.compile(loss='categorical_crossentropy',\r\n",
        "              optimizer='adam',\r\n",
        "              metrics=['accuracy'])"
      ],
      "execution_count": 7,
      "outputs": []
    },
    {
      "cell_type": "code",
      "metadata": {
        "id": "zv10WGw9ZuB1"
      },
      "source": [
        "# 모델 최적화 설정\r\n",
        "MODEL_DIR = './model/'\r\n",
        "if not os.path.exists(MODEL_DIR):\r\n",
        "    os.mkdir(MODEL_DIR)"
      ],
      "execution_count": 8,
      "outputs": []
    },
    {
      "cell_type": "code",
      "metadata": {
        "colab": {
          "base_uri": "https://localhost:8080/"
        },
        "id": "dot08wq-ZvrC",
        "outputId": "a7d1f0ad-7cb5-4287-f7bc-d5f7c409711a"
      },
      "source": [
        "!ls -l"
      ],
      "execution_count": 9,
      "outputs": [
        {
          "output_type": "stream",
          "text": [
            "total 32\n",
            "drwxr-xr-x 2 root root  4096 Feb  8 06:49 model\n",
            "-rw-r--r-- 1 root root 23744 Feb  8 06:49 model.png\n",
            "drwxr-xr-x 1 root root  4096 Feb  4 15:26 sample_data\n"
          ],
          "name": "stdout"
        }
      ]
    },
    {
      "cell_type": "code",
      "metadata": {
        "id": "VJyF11YtZxzA"
      },
      "source": [
        "modelpath = MODEL_DIR + \"mnist-cnn-{epoch:02d}-{val_loss:.4f}.hdf5\"\r\n",
        "checkpointer = ModelCheckpoint(filepath=modelpath, monitor='val_loss', \r\n",
        "                               verbose=1, save_best_only=True)\r\n",
        "early_stopping_callback = EarlyStopping(monitor='val_loss', patience=10)"
      ],
      "execution_count": 10,
      "outputs": []
    },
    {
      "cell_type": "code",
      "metadata": {
        "colab": {
          "base_uri": "https://localhost:8080/"
        },
        "id": "xSuW4ru5Z0Hd",
        "outputId": "05c03601-e911-42da-ba10-42cf01519313"
      },
      "source": [
        "# 모델의 실행\r\n",
        "history = model.fit(X_train, Y_train, validation_split=0.2, epochs=30,\r\n",
        "                    batch_size=200, callbacks=[early_stopping_callback, checkpointer])"
      ],
      "execution_count": 11,
      "outputs": [
        {
          "output_type": "stream",
          "text": [
            "Epoch 1/30\n",
            "240/240 [==============================] - 113s 468ms/step - loss: 0.6057 - accuracy: 0.8101 - val_loss: 0.0748 - val_accuracy: 0.9786\n",
            "\n",
            "Epoch 00001: val_loss improved from inf to 0.07478, saving model to ./model/mnist-cnn-01-0.0748.hdf5\n",
            "Epoch 2/30\n",
            "240/240 [==============================] - 112s 465ms/step - loss: 0.1047 - accuracy: 0.9681 - val_loss: 0.0534 - val_accuracy: 0.9848\n",
            "\n",
            "Epoch 00002: val_loss improved from 0.07478 to 0.05336, saving model to ./model/mnist-cnn-02-0.0534.hdf5\n",
            "Epoch 3/30\n",
            "240/240 [==============================] - 112s 466ms/step - loss: 0.0685 - accuracy: 0.9799 - val_loss: 0.0447 - val_accuracy: 0.9868\n",
            "\n",
            "Epoch 00003: val_loss improved from 0.05336 to 0.04475, saving model to ./model/mnist-cnn-03-0.0447.hdf5\n",
            "Epoch 4/30\n",
            "240/240 [==============================] - 111s 464ms/step - loss: 0.0599 - accuracy: 0.9804 - val_loss: 0.0392 - val_accuracy: 0.9890\n",
            "\n",
            "Epoch 00004: val_loss improved from 0.04475 to 0.03922, saving model to ./model/mnist-cnn-04-0.0392.hdf5\n",
            "Epoch 5/30\n",
            "240/240 [==============================] - 118s 489ms/step - loss: 0.0462 - accuracy: 0.9856 - val_loss: 0.0402 - val_accuracy: 0.9886\n",
            "\n",
            "Epoch 00005: val_loss did not improve from 0.03922\n",
            "Epoch 6/30\n",
            "240/240 [==============================] - 111s 462ms/step - loss: 0.0433 - accuracy: 0.9859 - val_loss: 0.0405 - val_accuracy: 0.9887\n",
            "\n",
            "Epoch 00006: val_loss did not improve from 0.03922\n",
            "Epoch 7/30\n",
            "240/240 [==============================] - 111s 464ms/step - loss: 0.0362 - accuracy: 0.9883 - val_loss: 0.0363 - val_accuracy: 0.9903\n",
            "\n",
            "Epoch 00007: val_loss improved from 0.03922 to 0.03635, saving model to ./model/mnist-cnn-07-0.0363.hdf5\n",
            "Epoch 8/30\n",
            "240/240 [==============================] - 111s 462ms/step - loss: 0.0317 - accuracy: 0.9903 - val_loss: 0.0378 - val_accuracy: 0.9899\n",
            "\n",
            "Epoch 00008: val_loss did not improve from 0.03635\n",
            "Epoch 9/30\n",
            "240/240 [==============================] - 111s 463ms/step - loss: 0.0290 - accuracy: 0.9895 - val_loss: 0.0401 - val_accuracy: 0.9890\n",
            "\n",
            "Epoch 00009: val_loss did not improve from 0.03635\n",
            "Epoch 10/30\n",
            "240/240 [==============================] - 111s 462ms/step - loss: 0.0281 - accuracy: 0.9899 - val_loss: 0.0398 - val_accuracy: 0.9898\n",
            "\n",
            "Epoch 00010: val_loss did not improve from 0.03635\n",
            "Epoch 11/30\n",
            "240/240 [==============================] - 111s 462ms/step - loss: 0.0253 - accuracy: 0.9917 - val_loss: 0.0369 - val_accuracy: 0.9905\n",
            "\n",
            "Epoch 00011: val_loss did not improve from 0.03635\n",
            "Epoch 12/30\n",
            "240/240 [==============================] - 110s 460ms/step - loss: 0.0243 - accuracy: 0.9925 - val_loss: 0.0396 - val_accuracy: 0.9903\n",
            "\n",
            "Epoch 00012: val_loss did not improve from 0.03635\n",
            "Epoch 13/30\n",
            "240/240 [==============================] - 111s 461ms/step - loss: 0.0208 - accuracy: 0.9927 - val_loss: 0.0396 - val_accuracy: 0.9903\n",
            "\n",
            "Epoch 00013: val_loss did not improve from 0.03635\n",
            "Epoch 14/30\n",
            "240/240 [==============================] - 111s 463ms/step - loss: 0.0198 - accuracy: 0.9930 - val_loss: 0.0404 - val_accuracy: 0.9895\n",
            "\n",
            "Epoch 00014: val_loss did not improve from 0.03635\n",
            "Epoch 15/30\n",
            "240/240 [==============================] - 111s 461ms/step - loss: 0.0185 - accuracy: 0.9941 - val_loss: 0.0413 - val_accuracy: 0.9898\n",
            "\n",
            "Epoch 00015: val_loss did not improve from 0.03635\n",
            "Epoch 16/30\n",
            "240/240 [==============================] - 110s 460ms/step - loss: 0.0187 - accuracy: 0.9937 - val_loss: 0.0361 - val_accuracy: 0.9905\n",
            "\n",
            "Epoch 00016: val_loss improved from 0.03635 to 0.03607, saving model to ./model/mnist-cnn-16-0.0361.hdf5\n",
            "Epoch 17/30\n",
            "240/240 [==============================] - 110s 459ms/step - loss: 0.0166 - accuracy: 0.9945 - val_loss: 0.0438 - val_accuracy: 0.9902\n",
            "\n",
            "Epoch 00017: val_loss did not improve from 0.03607\n",
            "Epoch 18/30\n",
            "240/240 [==============================] - 111s 461ms/step - loss: 0.0157 - accuracy: 0.9942 - val_loss: 0.0413 - val_accuracy: 0.9910\n",
            "\n",
            "Epoch 00018: val_loss did not improve from 0.03607\n",
            "Epoch 19/30\n",
            "240/240 [==============================] - 111s 463ms/step - loss: 0.0158 - accuracy: 0.9943 - val_loss: 0.0363 - val_accuracy: 0.9913\n",
            "\n",
            "Epoch 00019: val_loss did not improve from 0.03607\n",
            "Epoch 20/30\n",
            "240/240 [==============================] - 112s 465ms/step - loss: 0.0131 - accuracy: 0.9954 - val_loss: 0.0405 - val_accuracy: 0.9909\n",
            "\n",
            "Epoch 00020: val_loss did not improve from 0.03607\n",
            "Epoch 21/30\n",
            "240/240 [==============================] - 112s 465ms/step - loss: 0.0134 - accuracy: 0.9955 - val_loss: 0.0411 - val_accuracy: 0.9910\n",
            "\n",
            "Epoch 00021: val_loss did not improve from 0.03607\n",
            "Epoch 22/30\n",
            "240/240 [==============================] - 111s 465ms/step - loss: 0.0132 - accuracy: 0.9956 - val_loss: 0.0407 - val_accuracy: 0.9912\n",
            "\n",
            "Epoch 00022: val_loss did not improve from 0.03607\n",
            "Epoch 23/30\n",
            "240/240 [==============================] - 112s 465ms/step - loss: 0.0127 - accuracy: 0.9952 - val_loss: 0.0462 - val_accuracy: 0.9907\n",
            "\n",
            "Epoch 00023: val_loss did not improve from 0.03607\n",
            "Epoch 24/30\n",
            "240/240 [==============================] - 111s 464ms/step - loss: 0.0128 - accuracy: 0.9949 - val_loss: 0.0478 - val_accuracy: 0.9905\n",
            "\n",
            "Epoch 00024: val_loss did not improve from 0.03607\n",
            "Epoch 25/30\n",
            "240/240 [==============================] - 111s 463ms/step - loss: 0.0124 - accuracy: 0.9956 - val_loss: 0.0441 - val_accuracy: 0.9912\n",
            "\n",
            "Epoch 00025: val_loss did not improve from 0.03607\n",
            "Epoch 26/30\n",
            "240/240 [==============================] - 112s 466ms/step - loss: 0.0095 - accuracy: 0.9967 - val_loss: 0.0466 - val_accuracy: 0.9912\n",
            "\n",
            "Epoch 00026: val_loss did not improve from 0.03607\n"
          ],
          "name": "stdout"
        }
      ]
    },
    {
      "cell_type": "code",
      "metadata": {
        "colab": {
          "base_uri": "https://localhost:8080/"
        },
        "id": "FsFP0BRjZ2vc",
        "outputId": "4df15284-73e8-47c6-921d-fd7864633816"
      },
      "source": [
        "!ls model"
      ],
      "execution_count": 23,
      "outputs": [
        {
          "output_type": "stream",
          "text": [
            "mnist-cnn-01-0.0748.hdf5  mnist-cnn-03-0.0447.hdf5  mnist-cnn-07-0.0363.hdf5\n",
            "mnist-cnn-02-0.0534.hdf5  mnist-cnn-04-0.0392.hdf5  mnist-cnn-16-0.0361.hdf5\n"
          ],
          "name": "stdout"
        }
      ]
    },
    {
      "cell_type": "code",
      "metadata": {
        "id": "7l3t77fjlM2G"
      },
      "source": [
        "from keras.models import load_model\r\n",
        "del model\r\n",
        "model = load_model('model/mnist-cnn-16-0.0361.hdf5')"
      ],
      "execution_count": 25,
      "outputs": []
    },
    {
      "cell_type": "code",
      "metadata": {
        "colab": {
          "base_uri": "https://localhost:8080/"
        },
        "id": "XNNXXrdulPP4",
        "outputId": "5352222c-4a5c-4e03-a0a6-b44a77b55338"
      },
      "source": [
        "# 테스트 정확도 출력 \r\n",
        "acc = model.evaluate(X_test, Y_test, verbose=0)[1]\r\n",
        "print(f\"Test Accuracy:{acc:.4f}\")"
      ],
      "execution_count": 26,
      "outputs": [
        {
          "output_type": "stream",
          "text": [
            "Test Accuracy:0.9920\n"
          ],
          "name": "stdout"
        }
      ]
    },
    {
      "cell_type": "code",
      "metadata": {
        "id": "_j_oW15sl1Cv"
      },
      "source": [
        "# 검증셋의 오차\r\n",
        "y_vloss = history.history['val_loss']\r\n",
        "\r\n",
        "# 학습셋의 오차\r\n",
        "y_loss = history.history['loss']"
      ],
      "execution_count": 27,
      "outputs": []
    },
    {
      "cell_type": "code",
      "metadata": {
        "colab": {
          "base_uri": "https://localhost:8080/",
          "height": 388
        },
        "id": "2CM4bCFXnKhj",
        "outputId": "fddbb072-cc9e-44d6-b40f-82fd68917711"
      },
      "source": [
        "# 그래프로 표현\r\n",
        "x_len = np.arange(1, len(y_loss)+1)\r\n",
        "plt.figure(figsize=(8,6))\r\n",
        "plt.plot(x_len, y_vloss, marker='.', c=\"red\", label='Validationset_loss')\r\n",
        "plt.plot(x_len, y_loss, marker='.', c=\"blue\", label='Trainset_loss')\r\n",
        "\r\n",
        "# 그래프에 그리드를 주고 레이블을 표시\r\n",
        "plt.legend(loc='upper right')\r\n",
        "#plt.axis([0, 20, 0, 0.35])\r\n",
        "plt.grid()\r\n",
        "plt.xlabel('epoch')\r\n",
        "plt.ylabel('loss')\r\n",
        "plt.show()"
      ],
      "execution_count": 28,
      "outputs": [
        {
          "output_type": "display_data",
          "data": {
            "image/png": "[encoded data removed]",
            "text/plain": [
              "<Figure size 576x432 with 1 Axes>"
            ]
          },
          "metadata": {
            "tags": [],
            "needs_background": "light"
          }
        }
      ]
    },
    {
      "cell_type": "markdown",
      "metadata": {
        "id": "Ac2II10dnRkR"
      },
      "source": [
        "### GPU"
      ]
    },
    {
      "cell_type": "code",
      "metadata": {
        "colab": {
          "base_uri": "https://localhost:8080/"
        },
        "id": "KW5xpVNBnOFW",
        "outputId": "3e83e90b-1b3f-4e06-bc2f-2dd9d6193c66"
      },
      "source": [
        "from tensorflow.python.client import device_lib\r\n",
        "print(device_lib.list_local_devices())"
      ],
      "execution_count": 29,
      "outputs": [
        {
          "output_type": "stream",
          "text": [
            "[name: \"/device:CPU:0\"\n",
            "device_type: \"CPU\"\n",
            "memory_limit: 268435456\n",
            "locality {\n",
            "}\n",
            "incarnation: 14747357879335845010\n",
            "]\n"
          ],
          "name": "stdout"
        }
      ]
    },
    {
      "cell_type": "code",
      "metadata": {
        "colab": {
          "base_uri": "https://localhost:8080/"
        },
        "id": "c9K8oGmjnV4_",
        "outputId": "947b6ecd-bf47-4032-d295-d7e8b4905095"
      },
      "source": [
        "!nvidia-smi"
      ],
      "execution_count": 30,
      "outputs": [
        {
          "output_type": "stream",
          "text": [
            "NVIDIA-SMI has failed because it couldn't communicate with the NVIDIA driver. Make sure that the latest NVIDIA driver is installed and running.\n",
            "\n"
          ],
          "name": "stdout"
        }
      ]
    },
    {
      "cell_type": "code",
      "metadata": {
        "id": "thFiS6GHnXvP"
      },
      "source": [
        ""
      ],
      "execution_count": null,
      "outputs": []
    }
  ]
}