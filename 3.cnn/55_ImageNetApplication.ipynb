{
  "nbformat": 4,
  "nbformat_minor": 0,
  "metadata": {
    "colab": {
      "name": "55_ImageNetApplication.ipynb",
      "provenance": [],
      "collapsed_sections": [],
      "toc_visible": true
    },
    "kernelspec": {
      "name": "python3",
      "display_name": "Python 3"
    }
  },
  "cells": [
    {
      "cell_type": "markdown",
      "metadata": {
        "id": "jiXL5eWPw4WI"
      },
      "source": [
        "# Keras Application 사용하여 동물 맞히기"
      ]
    },
    {
      "cell_type": "code",
      "metadata": {
        "colab": {
          "base_uri": "https://localhost:8080/"
        },
        "id": "S_HkitVk1wHK",
        "outputId": "5af4bc49-54ee-407e-f49b-7033607dc83a"
      },
      "source": [
        "!unzip -qq animals.zip -d animals"
      ],
      "execution_count": 1,
      "outputs": [
        {
          "output_type": "stream",
          "text": [
            "개.jpg:  mismatching \"local\" filename (ъ░Ь.jpg),\n",
            "         continuing with \"central\" filename version\n",
            "개구리.jpg:  mismatching \"local\" filename (ъ░Ьъ╡мыжм.jpg),\n",
            "         continuing with \"central\" filename version\n",
            "거북이.jpg:  mismatching \"local\" filename (ъ▒░ы╢БьЭ┤.jpg),\n",
            "         continuing with \"central\" filename version\n",
            "고양이.jpg:  mismatching \"local\" filename (ъ│аьЦСьЭ┤.jpg),\n",
            "         continuing with \"central\" filename version\n",
            "까치.jfif:  mismatching \"local\" filename (ъ╣Мь╣Ш.jfif),\n",
            "         continuing with \"central\" filename version\n",
            "도마뱀.jfif:  mismatching \"local\" filename (ыПДызИы▒А.jfif),\n",
            "         continuing with \"central\" filename version\n",
            "독수리.jfif:  mismatching \"local\" filename (ыПЕьИШыжм.jfif),\n",
            "         continuing with \"central\" filename version\n",
            "돌고래.png:  mismatching \"local\" filename (ыПМъ│аыЮШ.png),\n",
            "         continuing with \"central\" filename version\n",
            "돼지.jpg:  mismatching \"local\" filename (ыП╝ьзА.jpg),\n",
            "         continuing with \"central\" filename version\n",
            "비둘기.jfif:  mismatching \"local\" filename (ы╣ДыСШъ╕░.jfif),\n",
            "         continuing with \"central\" filename version\n",
            "사자.jfif:  mismatching \"local\" filename (ьВмьЮР.jfif),\n",
            "         continuing with \"central\" filename version\n",
            "상어.jpg:  mismatching \"local\" filename (ьГБьЦ┤.jpg),\n",
            "         continuing with \"central\" filename version\n",
            "소.jpg:  mismatching \"local\" filename (ьЖМ.jpg),\n",
            "         continuing with \"central\" filename version\n",
            "앵무새.jpg:  mismatching \"local\" filename (ьХ╡ым┤ьГИ.jpg),\n",
            "         continuing with \"central\" filename version\n",
            "얼룩말.jpg:  mismatching \"local\" filename (ьЦ╝ыгйызР.jpg),\n",
            "         continuing with \"central\" filename version\n",
            "오리.png:  mismatching \"local\" filename (ьШдыжм.png),\n",
            "         continuing with \"central\" filename version\n",
            "참새.jpg:  mismatching \"local\" filename (ь░╕ьГИ.jpg),\n",
            "         continuing with \"central\" filename version\n",
            "캥거루.jpg:  mismatching \"local\" filename (ь║еъ▒░ыги.jpg),\n",
            "         continuing with \"central\" filename version\n",
            "토끼.png:  mismatching \"local\" filename (эЖаыБ╝.png),\n",
            "         continuing with \"central\" filename version\n",
            "호랑이.jpg:  mismatching \"local\" filename (эШ╕ыЮСьЭ┤.jpg),\n",
            "         continuing with \"central\" filename version\n"
          ],
          "name": "stdout"
        }
      ]
    },
    {
      "cell_type": "code",
      "metadata": {
        "id": "jQOvJqvt2rMb"
      },
      "source": [
        "from glob import glob\r\n",
        "names = []\r\n",
        "for file in glob('animals/*'):\r\n",
        "    name = file.split('.')[0]\r\n",
        "    name = name.split('/')[1]\r\n",
        "    names.append(name)"
      ],
      "execution_count": 1,
      "outputs": []
    },
    {
      "cell_type": "code",
      "metadata": {
        "colab": {
          "base_uri": "https://localhost:8080/"
        },
        "id": "tEj-EkpV3psi",
        "outputId": "9be04944-435f-47ae-8d92-e19013c26f3a"
      },
      "source": [
        "print(names)"
      ],
      "execution_count": 2,
      "outputs": [
        {
          "output_type": "stream",
          "text": [
            "['까치', '비둘기', '도마뱀', '호랑이', '독수리', '개구리', '거북이', '참새', '사자', '돌고래', '돼지', '앵무새', '고양이', '오리', '캥거루', '토끼', '상어', '소', '개', '얼룩말']\n"
          ],
          "name": "stdout"
        }
      ]
    },
    {
      "cell_type": "markdown",
      "metadata": {
        "id": "Vxl84wuY18mp"
      },
      "source": [
        "### ResNet50"
      ]
    },
    {
      "cell_type": "code",
      "metadata": {
        "id": "nRz8vI6uw8Cn"
      },
      "source": [
        "from tensorflow.keras.applications.resnet50 import ResNet50, decode_predictions\r\n",
        "resnet = ResNet50()"
      ],
      "execution_count": 3,
      "outputs": []
    },
    {
      "cell_type": "code",
      "metadata": {
        "id": "t16DSP2q2YEn"
      },
      "source": [
        "import cv2\r\n",
        "\r\n",
        "resnet50_list = []\r\n",
        "for file in glob('animals/*'):\r\n",
        "    img = cv2.imread(file, -1)\r\n",
        "    img = cv2.cvtColor(img, cv2.COLOR_BGR2RGB)\r\n",
        "    img = cv2.resize(img, (224, 224))\r\n",
        "\r\n",
        "    yhat = resnet.predict(img.reshape(-1, 224, 224, 3))\r\n",
        "    label = decode_predictions(yhat)\r\n",
        "    label = label[0][0]\r\n",
        "    resnet50_list.append(label[1])"
      ],
      "execution_count": 4,
      "outputs": []
    },
    {
      "cell_type": "code",
      "metadata": {
        "colab": {
          "base_uri": "https://localhost:8080/"
        },
        "id": "3y83ehBQ4X6d",
        "outputId": "94c6b177-5030-4a90-e4b9-6134fd4ef10e"
      },
      "source": [
        "print(resnet50_list)"
      ],
      "execution_count": 5,
      "outputs": [
        {
          "output_type": "stream",
          "text": [
            "['black_grouse', 'ruffed_grouse', 'banded_gecko', 'pug', 'black_stork', 'tree_frog', 'leatherback_turtle', 'jay', 'lion', 'Weimaraner', 'hog', 'water_bottle', 'Egyptian_cat', 'drake', 'wallaby', 'hare', 'great_white_shark', 'ox', 'Saint_Bernard', 'zebra']\n"
          ],
          "name": "stdout"
        }
      ]
    },
    {
      "cell_type": "markdown",
      "metadata": {
        "id": "NXiKeEXM_DLX"
      },
      "source": [
        "### ResNet101"
      ]
    },
    {
      "cell_type": "code",
      "metadata": {
        "colab": {
          "base_uri": "https://localhost:8080/"
        },
        "id": "ARrTChVG-khK",
        "outputId": "30fa04cd-c9d4-44fb-f594-1adb6f5404fc"
      },
      "source": [
        "from tensorflow.keras.applications.resnet import ResNet101, decode_predictions\r\n",
        "resnet101 = ResNet101()"
      ],
      "execution_count": 19,
      "outputs": [
        {
          "output_type": "stream",
          "text": [
            "Downloading data from https://storage.googleapis.com/tensorflow/keras-applications/resnet/resnet101_weights_tf_dim_ordering_tf_kernels.h5\n",
            "179650560/179648224 [==============================] - 1s 0us/step\n"
          ],
          "name": "stdout"
        }
      ]
    },
    {
      "cell_type": "code",
      "metadata": {
        "id": "r1yZyPVV_MKr"
      },
      "source": [
        "resnet101_list = []\r\n",
        "for file in glob('animals/*'):\r\n",
        "    img = cv2.imread(file, -1)\r\n",
        "    img = cv2.cvtColor(img, cv2.COLOR_BGR2RGB)\r\n",
        "    img = cv2.resize(img, (224, 224))\r\n",
        "\r\n",
        "    yhat = resnet101.predict(img.reshape(-1, 224, 224, 3))\r\n",
        "    label = decode_predictions(yhat)\r\n",
        "    label = label[0][0]\r\n",
        "    resnet101_list.append(label[1])"
      ],
      "execution_count": 20,
      "outputs": []
    },
    {
      "cell_type": "code",
      "metadata": {
        "colab": {
          "base_uri": "https://localhost:8080/"
        },
        "id": "LKHC2pzM_XTB",
        "outputId": "473e04f0-0c19-4e5a-92bc-0cf29666b29b"
      },
      "source": [
        "print(resnet101_list)"
      ],
      "execution_count": 21,
      "outputs": [
        {
          "output_type": "stream",
          "text": [
            "['black_grouse', 'ptarmigan', 'banded_gecko', 'tiger', 'bald_eagle', 'tailed_frog', 'leatherback_turtle', 'jay', 'lion', 'Weimaraner', 'hog', 'jay', 'tabby', 'goose', 'wallaby', 'hare', 'great_white_shark', 'ox', 'Tibetan_terrier', 'zebra']\n"
          ],
          "name": "stdout"
        }
      ]
    },
    {
      "cell_type": "markdown",
      "metadata": {
        "id": "W4wQBdqw4flS"
      },
      "source": [
        "### ResNet50 v2"
      ]
    },
    {
      "cell_type": "code",
      "metadata": {
        "id": "SK3jaWFI2xCA"
      },
      "source": [
        "from tensorflow.keras.applications.resnet_v2 import ResNet50V2, decode_predictions\r\n",
        "resnet_v2 = ResNet50V2(weights=\"imagenet\")"
      ],
      "execution_count": 6,
      "outputs": []
    },
    {
      "cell_type": "code",
      "metadata": {
        "id": "OGF3P1QU25Un"
      },
      "source": [
        "resnet50_v2_list = []\r\n",
        "for file in glob('animals/*'):\r\n",
        "    img = cv2.imread(file, -1)\r\n",
        "    img = cv2.cvtColor(img, cv2.COLOR_BGR2RGB)\r\n",
        "    img = cv2.resize(img, (224, 224))\r\n",
        "\r\n",
        "    yhat = resnet_v2.predict(img.reshape(-1, 224, 224, 3))\r\n",
        "    label = decode_predictions(yhat)\r\n",
        "    label = label[0][0]\r\n",
        "    resnet50_v2_list.append(label[1])"
      ],
      "execution_count": 7,
      "outputs": []
    },
    {
      "cell_type": "code",
      "metadata": {
        "colab": {
          "base_uri": "https://localhost:8080/"
        },
        "id": "t-kW_3Eb55Ey",
        "outputId": "e1b13fbe-1de1-4a2f-d7cb-ddc562572aec"
      },
      "source": [
        "print(resnet50_v2_list)"
      ],
      "execution_count": 8,
      "outputs": [
        {
          "output_type": "stream",
          "text": [
            "['Siamese_cat', 'English_foxhound', 'Siamese_cat', 'English_foxhound', 'English_foxhound', 'Siamese_cat', 'fox_squirrel', 'English_foxhound', 'trifle', 'fox_squirrel', 'trifle', 'English_foxhound', 'magnetic_compass', 'trifle', 'trifle', 'red-breasted_merganser', 'sock', 'Siamese_cat', 'English_foxhound', 'trifle']\n"
          ],
          "name": "stdout"
        }
      ]
    },
    {
      "cell_type": "markdown",
      "metadata": {
        "id": "x2cws7-p6HFZ"
      },
      "source": [
        "### VGG Net 16"
      ]
    },
    {
      "cell_type": "code",
      "metadata": {
        "id": "huTfKwbI6NoC"
      },
      "source": [
        "from tensorflow.keras.applications.vgg16 import VGG16, decode_predictions\r\n",
        "vgg = VGG16()"
      ],
      "execution_count": 9,
      "outputs": []
    },
    {
      "cell_type": "code",
      "metadata": {
        "id": "TrP4VX699awm"
      },
      "source": [
        "vgg16_list = []\r\n",
        "for file in glob('animals/*'):\r\n",
        "    img = cv2.imread(file, -1)\r\n",
        "    img = cv2.cvtColor(img, cv2.COLOR_BGR2RGB)\r\n",
        "    img = cv2.resize(img, (224, 224))\r\n",
        "\r\n",
        "    yhat = vgg.predict(img.reshape(-1, 224, 224, 3))\r\n",
        "    label = decode_predictions(yhat)\r\n",
        "    label = label[0][0]\r\n",
        "    vgg16_list.append(label[1])"
      ],
      "execution_count": 10,
      "outputs": []
    },
    {
      "cell_type": "code",
      "metadata": {
        "colab": {
          "base_uri": "https://localhost:8080/"
        },
        "id": "NJ4nW4yd7JWs",
        "outputId": "53c2f2bc-99af-4ca0-ecca-f4b518863498"
      },
      "source": [
        "print(vgg16_list)"
      ],
      "execution_count": 11,
      "outputs": [
        {
          "output_type": "stream",
          "text": [
            "['albatross', 'ptarmigan', 'banded_gecko', 'tabby', 'kite', 'tailed_frog', 'leatherback_turtle', 'indigo_bunting', 'lion', 'leatherback_turtle', 'hog', 'macaw', 'Egyptian_cat', 'albatross', 'wallaby', 'hare', 'tiger_shark', 'ox', 'English_springer', 'zebra']\n"
          ],
          "name": "stdout"
        }
      ]
    },
    {
      "cell_type": "markdown",
      "metadata": {
        "id": "apdJuyfr7Qtx"
      },
      "source": [
        "### VGG Net 19"
      ]
    },
    {
      "cell_type": "code",
      "metadata": {
        "id": "Lazw70AD7O4A"
      },
      "source": [
        "from tensorflow.keras.applications.vgg19 import VGG19, decode_predictions\r\n",
        "vgg19 = VGG19(weights=\"imagenet\")"
      ],
      "execution_count": 12,
      "outputs": []
    },
    {
      "cell_type": "code",
      "metadata": {
        "id": "xJJWzb5H7bcR"
      },
      "source": [
        "vgg19_list = []\r\n",
        "for file in glob('animals/*'):\r\n",
        "    img = cv2.imread(file, -1)\r\n",
        "    img = cv2.cvtColor(img, cv2.COLOR_BGR2RGB)\r\n",
        "    img = cv2.resize(img, (224, 224))\r\n",
        "\r\n",
        "    yhat = vgg19.predict(img.reshape(-1, 224, 224, 3))\r\n",
        "    label = decode_predictions(yhat)\r\n",
        "    label = label[0][0]\r\n",
        "    vgg19_list.append(label[1])"
      ],
      "execution_count": 13,
      "outputs": []
    },
    {
      "cell_type": "code",
      "metadata": {
        "colab": {
          "base_uri": "https://localhost:8080/"
        },
        "id": "9A4soZMw7h1A",
        "outputId": "329456d8-0b5b-43a2-c734-fab354eb79b2"
      },
      "source": [
        "print(vgg19_list)"
      ],
      "execution_count": 14,
      "outputs": [
        {
          "output_type": "stream",
          "text": [
            "['albatross', 'ptarmigan', 'banded_gecko', 'tabby', 'black_grouse', 'tree_frog', 'leatherback_turtle', 'jay', 'lion', 'dugong', 'hog', 'macaw', 'tabby', 'albatross', 'wallaby', 'hare', 'hammerhead', 'ox', 'Border_collie', 'zebra']\n"
          ],
          "name": "stdout"
        }
      ]
    },
    {
      "cell_type": "markdown",
      "metadata": {
        "id": "kt-ElzDc7sIw"
      },
      "source": [
        "### DataFrame으로 합치기\r\n",
        "\r\n"
      ]
    },
    {
      "cell_type": "code",
      "metadata": {
        "colab": {
          "base_uri": "https://localhost:8080/",
          "height": 669
        },
        "id": "7EriCumS7mzZ",
        "outputId": "b98f2211-8ac9-4a52-d0a8-69aff964277b"
      },
      "source": [
        "import pandas as pd\r\n",
        "df = pd.DataFrame({'원본':names, 'VGG16':vgg16_list, 'VGG19':vgg19_list,\r\n",
        "                   'ResNet50':resnet50_list, 'ResNet101':resnet101_list,\r\n",
        "                   'ResNet50 V2':resnet50_v2_list})\r\n",
        "df"
      ],
      "execution_count": 23,
      "outputs": [
        {
          "output_type": "execute_result",
          "data": {
            "text/html": [
              "<div>\n",
              "<style scoped>\n",
              "    .dataframe tbody tr th:only-of-type {\n",
              "        vertical-align: middle;\n",
              "    }\n",
              "\n",
              "    .dataframe tbody tr th {\n",
              "        vertical-align: top;\n",
              "    }\n",
              "\n",
              "    .dataframe thead th {\n",
              "        text-align: right;\n",
              "    }\n",
              "</style>\n",
              "<table border=\"1\" class=\"dataframe\">\n",
              "  <thead>\n",
              "    <tr style=\"text-align: right;\">\n",
              "      <th></th>\n",
              "      <th>원본</th>\n",
              "      <th>VGG16</th>\n",
              "      <th>VGG19</th>\n",
              "      <th>ResNet50</th>\n",
              "      <th>ResNet101</th>\n",
              "      <th>ResNet50 V2</th>\n",
              "    </tr>\n",
              "  </thead>\n",
              "  <tbody>\n",
              "    <tr>\n",
              "      <th>0</th>\n",
              "      <td>까치</td>\n",
              "      <td>albatross</td>\n",
              "      <td>albatross</td>\n",
              "      <td>black_grouse</td>\n",
              "      <td>black_grouse</td>\n",
              "      <td>Siamese_cat</td>\n",
              "    </tr>\n",
              "    <tr>\n",
              "      <th>1</th>\n",
              "      <td>비둘기</td>\n",
              "      <td>ptarmigan</td>\n",
              "      <td>ptarmigan</td>\n",
              "      <td>ruffed_grouse</td>\n",
              "      <td>ptarmigan</td>\n",
              "      <td>English_foxhound</td>\n",
              "    </tr>\n",
              "    <tr>\n",
              "      <th>2</th>\n",
              "      <td>도마뱀</td>\n",
              "      <td>banded_gecko</td>\n",
              "      <td>banded_gecko</td>\n",
              "      <td>banded_gecko</td>\n",
              "      <td>banded_gecko</td>\n",
              "      <td>Siamese_cat</td>\n",
              "    </tr>\n",
              "    <tr>\n",
              "      <th>3</th>\n",
              "      <td>호랑이</td>\n",
              "      <td>tabby</td>\n",
              "      <td>tabby</td>\n",
              "      <td>pug</td>\n",
              "      <td>tiger</td>\n",
              "      <td>English_foxhound</td>\n",
              "    </tr>\n",
              "    <tr>\n",
              "      <th>4</th>\n",
              "      <td>독수리</td>\n",
              "      <td>kite</td>\n",
              "      <td>black_grouse</td>\n",
              "      <td>black_stork</td>\n",
              "      <td>bald_eagle</td>\n",
              "      <td>English_foxhound</td>\n",
              "    </tr>\n",
              "    <tr>\n",
              "      <th>5</th>\n",
              "      <td>개구리</td>\n",
              "      <td>tailed_frog</td>\n",
              "      <td>tree_frog</td>\n",
              "      <td>tree_frog</td>\n",
              "      <td>tailed_frog</td>\n",
              "      <td>Siamese_cat</td>\n",
              "    </tr>\n",
              "    <tr>\n",
              "      <th>6</th>\n",
              "      <td>거북이</td>\n",
              "      <td>leatherback_turtle</td>\n",
              "      <td>leatherback_turtle</td>\n",
              "      <td>leatherback_turtle</td>\n",
              "      <td>leatherback_turtle</td>\n",
              "      <td>fox_squirrel</td>\n",
              "    </tr>\n",
              "    <tr>\n",
              "      <th>7</th>\n",
              "      <td>참새</td>\n",
              "      <td>indigo_bunting</td>\n",
              "      <td>jay</td>\n",
              "      <td>jay</td>\n",
              "      <td>jay</td>\n",
              "      <td>English_foxhound</td>\n",
              "    </tr>\n",
              "    <tr>\n",
              "      <th>8</th>\n",
              "      <td>사자</td>\n",
              "      <td>lion</td>\n",
              "      <td>lion</td>\n",
              "      <td>lion</td>\n",
              "      <td>lion</td>\n",
              "      <td>trifle</td>\n",
              "    </tr>\n",
              "    <tr>\n",
              "      <th>9</th>\n",
              "      <td>돌고래</td>\n",
              "      <td>leatherback_turtle</td>\n",
              "      <td>dugong</td>\n",
              "      <td>Weimaraner</td>\n",
              "      <td>Weimaraner</td>\n",
              "      <td>fox_squirrel</td>\n",
              "    </tr>\n",
              "    <tr>\n",
              "      <th>10</th>\n",
              "      <td>돼지</td>\n",
              "      <td>hog</td>\n",
              "      <td>hog</td>\n",
              "      <td>hog</td>\n",
              "      <td>hog</td>\n",
              "      <td>trifle</td>\n",
              "    </tr>\n",
              "    <tr>\n",
              "      <th>11</th>\n",
              "      <td>앵무새</td>\n",
              "      <td>macaw</td>\n",
              "      <td>macaw</td>\n",
              "      <td>water_bottle</td>\n",
              "      <td>jay</td>\n",
              "      <td>English_foxhound</td>\n",
              "    </tr>\n",
              "    <tr>\n",
              "      <th>12</th>\n",
              "      <td>고양이</td>\n",
              "      <td>Egyptian_cat</td>\n",
              "      <td>tabby</td>\n",
              "      <td>Egyptian_cat</td>\n",
              "      <td>tabby</td>\n",
              "      <td>magnetic_compass</td>\n",
              "    </tr>\n",
              "    <tr>\n",
              "      <th>13</th>\n",
              "      <td>오리</td>\n",
              "      <td>albatross</td>\n",
              "      <td>albatross</td>\n",
              "      <td>drake</td>\n",
              "      <td>goose</td>\n",
              "      <td>trifle</td>\n",
              "    </tr>\n",
              "    <tr>\n",
              "      <th>14</th>\n",
              "      <td>캥거루</td>\n",
              "      <td>wallaby</td>\n",
              "      <td>wallaby</td>\n",
              "      <td>wallaby</td>\n",
              "      <td>wallaby</td>\n",
              "      <td>trifle</td>\n",
              "    </tr>\n",
              "    <tr>\n",
              "      <th>15</th>\n",
              "      <td>토끼</td>\n",
              "      <td>hare</td>\n",
              "      <td>hare</td>\n",
              "      <td>hare</td>\n",
              "      <td>hare</td>\n",
              "      <td>red-breasted_merganser</td>\n",
              "    </tr>\n",
              "    <tr>\n",
              "      <th>16</th>\n",
              "      <td>상어</td>\n",
              "      <td>tiger_shark</td>\n",
              "      <td>hammerhead</td>\n",
              "      <td>great_white_shark</td>\n",
              "      <td>great_white_shark</td>\n",
              "      <td>sock</td>\n",
              "    </tr>\n",
              "    <tr>\n",
              "      <th>17</th>\n",
              "      <td>소</td>\n",
              "      <td>ox</td>\n",
              "      <td>ox</td>\n",
              "      <td>ox</td>\n",
              "      <td>ox</td>\n",
              "      <td>Siamese_cat</td>\n",
              "    </tr>\n",
              "    <tr>\n",
              "      <th>18</th>\n",
              "      <td>개</td>\n",
              "      <td>English_springer</td>\n",
              "      <td>Border_collie</td>\n",
              "      <td>Saint_Bernard</td>\n",
              "      <td>Tibetan_terrier</td>\n",
              "      <td>English_foxhound</td>\n",
              "    </tr>\n",
              "    <tr>\n",
              "      <th>19</th>\n",
              "      <td>얼룩말</td>\n",
              "      <td>zebra</td>\n",
              "      <td>zebra</td>\n",
              "      <td>zebra</td>\n",
              "      <td>zebra</td>\n",
              "      <td>trifle</td>\n",
              "    </tr>\n",
              "  </tbody>\n",
              "</table>\n",
              "</div>"
            ],
            "text/plain": [
              "     원본               VGG16  ...           ResNet101             ResNet50 V2\n",
              "0    까치           albatross  ...        black_grouse             Siamese_cat\n",
              "1   비둘기           ptarmigan  ...           ptarmigan        English_foxhound\n",
              "2   도마뱀        banded_gecko  ...        banded_gecko             Siamese_cat\n",
              "3   호랑이               tabby  ...               tiger        English_foxhound\n",
              "4   독수리                kite  ...          bald_eagle        English_foxhound\n",
              "5   개구리         tailed_frog  ...         tailed_frog             Siamese_cat\n",
              "6   거북이  leatherback_turtle  ...  leatherback_turtle            fox_squirrel\n",
              "7    참새      indigo_bunting  ...                 jay        English_foxhound\n",
              "8    사자                lion  ...                lion                  trifle\n",
              "9   돌고래  leatherback_turtle  ...          Weimaraner            fox_squirrel\n",
              "10   돼지                 hog  ...                 hog                  trifle\n",
              "11  앵무새               macaw  ...                 jay        English_foxhound\n",
              "12  고양이        Egyptian_cat  ...               tabby        magnetic_compass\n",
              "13   오리           albatross  ...               goose                  trifle\n",
              "14  캥거루             wallaby  ...             wallaby                  trifle\n",
              "15   토끼                hare  ...                hare  red-breasted_merganser\n",
              "16   상어         tiger_shark  ...   great_white_shark                    sock\n",
              "17    소                  ox  ...                  ox             Siamese_cat\n",
              "18    개    English_springer  ...     Tibetan_terrier        English_foxhound\n",
              "19  얼룩말               zebra  ...               zebra                  trifle\n",
              "\n",
              "[20 rows x 6 columns]"
            ]
          },
          "metadata": {
            "tags": []
          },
          "execution_count": 23
        }
      ]
    },
    {
      "cell_type": "code",
      "metadata": {
        "id": "4Ug6zA8R7qrp"
      },
      "source": [
        ""
      ],
      "execution_count": null,
      "outputs": []
    }
  ]
}