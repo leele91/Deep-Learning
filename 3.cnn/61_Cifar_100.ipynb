{
  "nbformat": 4,
  "nbformat_minor": 0,
  "metadata": {
    "colab": {
      "name": "61_Cifar-100.ipynb",
      "provenance": [],
      "collapsed_sections": []
    },
    "kernelspec": {
      "name": "python3",
      "display_name": "Python 3"
    },
    "accelerator": "GPU"
  },
  "cells": [
    {
      "cell_type": "markdown",
      "metadata": {
        "id": "iGrggYq_Qk83"
      },
      "source": [
        "# Cifar-100\r\n",
        "### 모델 출처: [Divya Agarwal](https://github.com/divya025/Cifar100)"
      ]
    },
    {
      "cell_type": "code",
      "metadata": {
        "id": "o6MjnFMtQndF"
      },
      "source": [
        "import os\r\n",
        "import numpy as np\r\n",
        "import tensorflow as tf\r\n",
        "from tensorflow.keras.datasets import cifar100\r\n",
        "from tensorflow.keras.preprocessing.image import ImageDataGenerator\r\n",
        "from tensorflow.keras.models import Sequential\r\n",
        "from tensorflow.keras.layers import Dense, Dropout, Activation, Flatten\r\n",
        "from tensorflow.keras.layers import Conv2D, MaxPooling2D"
      ],
      "execution_count": 1,
      "outputs": []
    },
    {
      "cell_type": "code",
      "metadata": {
        "id": "US_wCANFRhAu"
      },
      "source": [
        "# seed 값 설정\r\n",
        "seed = 2021\r\n",
        "np.random.seed(seed)\r\n",
        "tf.random.set_seed(seed)"
      ],
      "execution_count": 2,
      "outputs": []
    },
    {
      "cell_type": "markdown",
      "metadata": {
        "id": "Q1-iIAIxRA1N"
      },
      "source": [
        "# 데이터 로드"
      ]
    },
    {
      "cell_type": "code",
      "metadata": {
        "colab": {
          "base_uri": "https://localhost:8080/"
        },
        "id": "1DuD-MfJRwl8",
        "outputId": "0850b31a-10ea-448b-ee4d-a8b29fc700ea"
      },
      "source": [
        "(X_train, y_train), (X_test, y_test) = cifar100.load_data(label_mode='fine')\r\n",
        "X_train.shape, X_test.shape"
      ],
      "execution_count": 3,
      "outputs": [
        {
          "output_type": "execute_result",
          "data": {
            "text/plain": [
              "((50000, 32, 32, 3), (10000, 32, 32, 3))"
            ]
          },
          "metadata": {
            "tags": []
          },
          "execution_count": 3
        }
      ]
    },
    {
      "cell_type": "code",
      "metadata": {
        "colab": {
          "base_uri": "https://localhost:8080/"
        },
        "id": "vaCx_c2jRzmL",
        "outputId": "7ba7d163-221b-4dc9-ae98-69bd38a192b2"
      },
      "source": [
        "y_train[:5]"
      ],
      "execution_count": 4,
      "outputs": [
        {
          "output_type": "execute_result",
          "data": {
            "text/plain": [
              "array([[19],\n",
              "       [29],\n",
              "       [ 0],\n",
              "       [11],\n",
              "       [ 1]])"
            ]
          },
          "metadata": {
            "tags": []
          },
          "execution_count": 4
        }
      ]
    },
    {
      "cell_type": "code",
      "metadata": {
        "id": "1hoOG5SGSCl0"
      },
      "source": [
        "CIFAR100_LABELS = [\r\n",
        "    'apple', 'aquarium_fish', 'baby', 'bear', 'beaver', 'bed', 'bee', 'beetle', \r\n",
        "    'bicycle', 'bottle', 'bowl', 'boy', 'bridge', 'bus', 'butterfly', 'camel', \r\n",
        "    'can', 'castle', 'caterpillar', 'cattle', 'chair', 'chimpanzee', 'clock', \r\n",
        "    'cloud', 'cockroach', 'couch', 'crab', 'crocodile', 'cup', 'dinosaur', \r\n",
        "    'dolphin', 'elephant', 'flatfish', 'forest', 'fox', 'girl', 'hamster', \r\n",
        "    'house', 'kangaroo', 'keyboard', 'lamp', 'lawn_mower', 'leopard', 'lion',\r\n",
        "    'lizard', 'lobster', 'man', 'maple_tree', 'motorcycle', 'mountain', 'mouse',\r\n",
        "    'mushroom', 'oak_tree', 'orange', 'orchid', 'otter', 'palm_tree', 'pear',\r\n",
        "    'pickup_truck', 'pine_tree', 'plain', 'plate', 'poppy', 'porcupine',\r\n",
        "    'possum', 'rabbit', 'raccoon', 'ray', 'road', 'rocket', 'rose',\r\n",
        "    'sea', 'seal', 'shark', 'shrew', 'skunk', 'skyscraper', 'snail', 'snake',\r\n",
        "    'spider', 'squirrel', 'streetcar', 'sunflower', 'sweet_pepper', 'table',\r\n",
        "    'tank', 'telephone', 'television', 'tiger', 'tractor', 'train', 'trout',\r\n",
        "    'tulip', 'turtle', 'wardrobe', 'whale', 'willow_tree', 'wolf', 'woman',\r\n",
        "    'worm'\r\n",
        "]"
      ],
      "execution_count": 5,
      "outputs": []
    },
    {
      "cell_type": "code",
      "metadata": {
        "colab": {
          "base_uri": "https://localhost:8080/",
          "height": 124
        },
        "id": "ZSs0wbQoSY29",
        "outputId": "7f9dd03c-02e6-470e-a4f4-c4342738e251"
      },
      "source": [
        "import matplotlib.pyplot as plt\r\n",
        "%matplotlib inline\r\n",
        "\r\n",
        "plt.subplot(141)\r\n",
        "plt.imshow(X_train[0], interpolation=\"bicubic\")\r\n",
        "plt.subplot(142)\r\n",
        "plt.imshow(X_train[4], interpolation=\"bicubic\")\r\n",
        "plt.subplot(143)\r\n",
        "plt.imshow(X_train[8], interpolation=\"bicubic\")\r\n",
        "plt.subplot(144)\r\n",
        "plt.imshow(X_train[12], interpolation=\"bicubic\")\r\n",
        "plt.grid(False)\r\n",
        "plt.show()"
      ],
      "execution_count": 6,
      "outputs": [
        {
          "output_type": "display_data",
          "data": {
            "image/png": "[encoded data removed]",
            "text/plain": [
              "<Figure size 432x288 with 4 Axes>"
            ]
          },
          "metadata": {
            "tags": [],
            "needs_background": "light"
          }
        }
      ]
    },
    {
      "cell_type": "code",
      "metadata": {
        "colab": {
          "base_uri": "https://localhost:8080/"
        },
        "id": "IrileqLiSg2N",
        "outputId": "8d492770-12fe-42fa-fd45-ee0dd52b8560"
      },
      "source": [
        "CIFAR100_LABELS[y_train[0][0]], CIFAR100_LABELS[y_train[4][0]], \\\r\n",
        "    CIFAR100_LABELS[y_train[8][0]], CIFAR100_LABELS[y_train[12][0]]"
      ],
      "execution_count": 7,
      "outputs": [
        {
          "output_type": "execute_result",
          "data": {
            "text/plain": [
              "('cattle', 'aquarium_fish', 'cloud', 'sunflower')"
            ]
          },
          "metadata": {
            "tags": []
          },
          "execution_count": 7
        }
      ]
    },
    {
      "cell_type": "markdown",
      "metadata": {
        "id": "gxUSnO_6Sylc"
      },
      "source": [
        "### 데이터 전처리"
      ]
    },
    {
      "cell_type": "code",
      "metadata": {
        "id": "nprw1ZSISq5m"
      },
      "source": [
        "X_train = X_train.astype('float32')/255.0\r\n",
        "X_test = X_test.astype('float32')/255.0"
      ],
      "execution_count": 8,
      "outputs": []
    },
    {
      "cell_type": "code",
      "metadata": {
        "colab": {
          "base_uri": "https://localhost:8080/"
        },
        "id": "vCDK2fN-S6c9",
        "outputId": "0e7df228-e800-45ee-fe28-fb44d8f0dfcb"
      },
      "source": [
        "from tensorflow.keras.utils import to_categorical\r\n",
        "Y_train = to_categorical(y_train, 100)\r\n",
        "Y_test = to_categorical(y_test, 100)\r\n",
        "Y_train[0]"
      ],
      "execution_count": 9,
      "outputs": [
        {
          "output_type": "execute_result",
          "data": {
            "text/plain": [
              "array([0., 0., 0., 0., 0., 0., 0., 0., 0., 0., 0., 0., 0., 0., 0., 0., 0.,\n",
              "       0., 0., 1., 0., 0., 0., 0., 0., 0., 0., 0., 0., 0., 0., 0., 0., 0.,\n",
              "       0., 0., 0., 0., 0., 0., 0., 0., 0., 0., 0., 0., 0., 0., 0., 0., 0.,\n",
              "       0., 0., 0., 0., 0., 0., 0., 0., 0., 0., 0., 0., 0., 0., 0., 0., 0.,\n",
              "       0., 0., 0., 0., 0., 0., 0., 0., 0., 0., 0., 0., 0., 0., 0., 0., 0.,\n",
              "       0., 0., 0., 0., 0., 0., 0., 0., 0., 0., 0., 0., 0., 0., 0.],\n",
              "      dtype=float32)"
            ]
          },
          "metadata": {
            "tags": []
          },
          "execution_count": 9
        }
      ]
    },
    {
      "cell_type": "markdown",
      "metadata": {
        "id": "OuUDIYRWTgVu"
      },
      "source": [
        "### 모델 정의/설정/학습"
      ]
    },
    {
      "cell_type": "code",
      "metadata": {
        "colab": {
          "base_uri": "https://localhost:8080/"
        },
        "id": "AWdNQa-qTRH3",
        "outputId": "41dc9a4c-a6d2-4723-c2e7-07e03fbb0cab"
      },
      "source": [
        "model = Sequential()\r\n",
        "\r\n",
        "model.add(Conv2D(32, (3,3), padding='same', activation='relu',\r\n",
        "                 input_shape = X_train.shape[1:]))\r\n",
        "model.add(MaxPooling2D(pool_size=(2, 2)))\r\n",
        "model.add(Activation('relu'))\r\n",
        "\r\n",
        "model.add(Conv2D(64, (3,3), padding='same', activation='relu'))\r\n",
        "model.add(MaxPooling2D(pool_size=(2, 2)))\r\n",
        "model.add(Activation('relu'))\r\n",
        "model.add(Dropout(0.1))\r\n",
        "\r\n",
        "model.add(Conv2D(128, (3,3), padding='same', activation='relu'))\r\n",
        "model.add(MaxPooling2D(pool_size=(2,2)))\r\n",
        "model.add(Dropout(0.25))\r\n",
        "\r\n",
        "model.add(Flatten())\r\n",
        "model.add(Dense(512, activation='relu'))\r\n",
        "model.add(Dropout(0.5))\r\n",
        "model.add(Dense(100, activation='softmax'))\r\n",
        "          \r\n",
        "model.summary()"
      ],
      "execution_count": 10,
      "outputs": [
        {
          "output_type": "stream",
          "text": [
            "Model: \"sequential\"\n",
            "_________________________________________________________________\n",
            "Layer (type)                 Output Shape              Param #   \n",
            "=================================================================\n",
            "conv2d (Conv2D)              (None, 32, 32, 32)        896       \n",
            "_________________________________________________________________\n",
            "max_pooling2d (MaxPooling2D) (None, 16, 16, 32)        0         \n",
            "_________________________________________________________________\n",
            "activation (Activation)      (None, 16, 16, 32)        0         \n",
            "_________________________________________________________________\n",
            "conv2d_1 (Conv2D)            (None, 16, 16, 64)        18496     \n",
            "_________________________________________________________________\n",
            "max_pooling2d_1 (MaxPooling2 (None, 8, 8, 64)          0         \n",
            "_________________________________________________________________\n",
            "activation_1 (Activation)    (None, 8, 8, 64)          0         \n",
            "_________________________________________________________________\n",
            "dropout (Dropout)            (None, 8, 8, 64)          0         \n",
            "_________________________________________________________________\n",
            "conv2d_2 (Conv2D)            (None, 8, 8, 128)         73856     \n",
            "_________________________________________________________________\n",
            "max_pooling2d_2 (MaxPooling2 (None, 4, 4, 128)         0         \n",
            "_________________________________________________________________\n",
            "dropout_1 (Dropout)          (None, 4, 4, 128)         0         \n",
            "_________________________________________________________________\n",
            "flatten (Flatten)            (None, 2048)              0         \n",
            "_________________________________________________________________\n",
            "dense (Dense)                (None, 512)               1049088   \n",
            "_________________________________________________________________\n",
            "dropout_2 (Dropout)          (None, 512)               0         \n",
            "_________________________________________________________________\n",
            "dense_1 (Dense)              (None, 100)               51300     \n",
            "=================================================================\n",
            "Total params: 1,193,636\n",
            "Trainable params: 1,193,636\n",
            "Non-trainable params: 0\n",
            "_________________________________________________________________\n"
          ],
          "name": "stdout"
        }
      ]
    },
    {
      "cell_type": "code",
      "metadata": {
        "id": "LcGCt_wkTe7f"
      },
      "source": [
        "from tensorflow.keras.optimizers import Adam\r\n",
        "opt = Adam(lr=0.0001)\r\n",
        "model.compile(loss='categorical_crossentropy', optimizer=opt, metrics=['accuracy'])"
      ],
      "execution_count": 11,
      "outputs": []
    },
    {
      "cell_type": "code",
      "metadata": {
        "id": "9-rciBurVR7l"
      },
      "source": [
        "from tensorflow.keras.callbacks import ModelCheckpoint, EarlyStopping\r\n",
        "modelpath = \"model/cifar100-cnn-{epoch:02d}-{val_loss:.4f}.hdf5\"\r\n",
        "checkpointer = ModelCheckpoint(filepath=modelpath, monitor='val_loss', \r\n",
        "                               verbose=1, save_best_only=True)\r\n",
        "early_stopping_callback = EarlyStopping(monitor='val_loss', \r\n",
        "                                        patience=10)"
      ],
      "execution_count": 12,
      "outputs": []
    },
    {
      "cell_type": "code",
      "metadata": {
        "colab": {
          "base_uri": "https://localhost:8080/"
        },
        "id": "2iY63KG8VCht",
        "outputId": "84d98399-5e79-4367-d170-bb81670d0513"
      },
      "source": [
        "history = model.fit(X_train, Y_train, epochs=100, batch_size=50, \r\n",
        "                    validation_split=0.2, verbose=1,\r\n",
        "                    callbacks=[early_stopping_callback, checkpointer])"
      ],
      "execution_count": 13,
      "outputs": [
        {
          "output_type": "stream",
          "text": [
            "Epoch 1/100\n",
            "800/800 [==============================] - 6s 5ms/step - loss: 4.5196 - accuracy: 0.0211 - val_loss: 4.0712 - val_accuracy: 0.0959\n",
            "\n",
            "Epoch 00001: val_loss improved from inf to 4.07125, saving model to model/cifar100-cnn-01-4.0712.hdf5\n",
            "Epoch 2/100\n",
            "800/800 [==============================] - 3s 4ms/step - loss: 4.0618 - accuracy: 0.0786 - val_loss: 3.7113 - val_accuracy: 0.1530\n",
            "\n",
            "Epoch 00002: val_loss improved from 4.07125 to 3.71129, saving model to model/cifar100-cnn-02-3.7113.hdf5\n",
            "Epoch 3/100\n",
            "800/800 [==============================] - 3s 4ms/step - loss: 3.7818 - accuracy: 0.1205 - val_loss: 3.5291 - val_accuracy: 0.1818\n",
            "\n",
            "Epoch 00003: val_loss improved from 3.71129 to 3.52912, saving model to model/cifar100-cnn-03-3.5291.hdf5\n",
            "Epoch 4/100\n",
            "800/800 [==============================] - 3s 4ms/step - loss: 3.6171 - accuracy: 0.1477 - val_loss: 3.3853 - val_accuracy: 0.2062\n",
            "\n",
            "Epoch 00004: val_loss improved from 3.52912 to 3.38529, saving model to model/cifar100-cnn-04-3.3853.hdf5\n",
            "Epoch 5/100\n",
            "800/800 [==============================] - 3s 4ms/step - loss: 3.4729 - accuracy: 0.1783 - val_loss: 3.2662 - val_accuracy: 0.2309\n",
            "\n",
            "Epoch 00005: val_loss improved from 3.38529 to 3.26615, saving model to model/cifar100-cnn-05-3.2662.hdf5\n",
            "Epoch 6/100\n",
            "800/800 [==============================] - 3s 4ms/step - loss: 3.3752 - accuracy: 0.1977 - val_loss: 3.1582 - val_accuracy: 0.2485\n",
            "\n",
            "Epoch 00006: val_loss improved from 3.26615 to 3.15825, saving model to model/cifar100-cnn-06-3.1582.hdf5\n",
            "Epoch 7/100\n",
            "800/800 [==============================] - 3s 4ms/step - loss: 3.2667 - accuracy: 0.2129 - val_loss: 3.0869 - val_accuracy: 0.2575\n",
            "\n",
            "Epoch 00007: val_loss improved from 3.15825 to 3.08688, saving model to model/cifar100-cnn-07-3.0869.hdf5\n",
            "Epoch 8/100\n",
            "800/800 [==============================] - 3s 4ms/step - loss: 3.1914 - accuracy: 0.2282 - val_loss: 3.0253 - val_accuracy: 0.2712\n",
            "\n",
            "Epoch 00008: val_loss improved from 3.08688 to 3.02531, saving model to model/cifar100-cnn-08-3.0253.hdf5\n",
            "Epoch 9/100\n",
            "800/800 [==============================] - 3s 4ms/step - loss: 3.0957 - accuracy: 0.2426 - val_loss: 2.9427 - val_accuracy: 0.2850\n",
            "\n",
            "Epoch 00009: val_loss improved from 3.02531 to 2.94269, saving model to model/cifar100-cnn-09-2.9427.hdf5\n",
            "Epoch 10/100\n",
            "800/800 [==============================] - 3s 4ms/step - loss: 3.0390 - accuracy: 0.2559 - val_loss: 2.9258 - val_accuracy: 0.2909\n",
            "\n",
            "Epoch 00010: val_loss improved from 2.94269 to 2.92580, saving model to model/cifar100-cnn-10-2.9258.hdf5\n",
            "Epoch 11/100\n",
            "800/800 [==============================] - 3s 4ms/step - loss: 2.9725 - accuracy: 0.2695 - val_loss: 2.8527 - val_accuracy: 0.3064\n",
            "\n",
            "Epoch 00011: val_loss improved from 2.92580 to 2.85272, saving model to model/cifar100-cnn-11-2.8527.hdf5\n",
            "Epoch 12/100\n",
            "800/800 [==============================] - 3s 4ms/step - loss: 2.9135 - accuracy: 0.2794 - val_loss: 2.8003 - val_accuracy: 0.3178\n",
            "\n",
            "Epoch 00012: val_loss improved from 2.85272 to 2.80028, saving model to model/cifar100-cnn-12-2.8003.hdf5\n",
            "Epoch 13/100\n",
            "800/800 [==============================] - 3s 4ms/step - loss: 2.8533 - accuracy: 0.2886 - val_loss: 2.7552 - val_accuracy: 0.3215\n",
            "\n",
            "Epoch 00013: val_loss improved from 2.80028 to 2.75524, saving model to model/cifar100-cnn-13-2.7552.hdf5\n",
            "Epoch 14/100\n",
            "800/800 [==============================] - 3s 4ms/step - loss: 2.8085 - accuracy: 0.2997 - val_loss: 2.7200 - val_accuracy: 0.3293\n",
            "\n",
            "Epoch 00014: val_loss improved from 2.75524 to 2.71997, saving model to model/cifar100-cnn-14-2.7200.hdf5\n",
            "Epoch 15/100\n",
            "800/800 [==============================] - 3s 4ms/step - loss: 2.7676 - accuracy: 0.3097 - val_loss: 2.6772 - val_accuracy: 0.3366\n",
            "\n",
            "Epoch 00015: val_loss improved from 2.71997 to 2.67720, saving model to model/cifar100-cnn-15-2.6772.hdf5\n",
            "Epoch 16/100\n",
            "800/800 [==============================] - 3s 4ms/step - loss: 2.7140 - accuracy: 0.3130 - val_loss: 2.6490 - val_accuracy: 0.3418\n",
            "\n",
            "Epoch 00016: val_loss improved from 2.67720 to 2.64903, saving model to model/cifar100-cnn-16-2.6490.hdf5\n",
            "Epoch 17/100\n",
            "800/800 [==============================] - 3s 4ms/step - loss: 2.6524 - accuracy: 0.3262 - val_loss: 2.6150 - val_accuracy: 0.3521\n",
            "\n",
            "Epoch 00017: val_loss improved from 2.64903 to 2.61498, saving model to model/cifar100-cnn-17-2.6150.hdf5\n",
            "Epoch 18/100\n",
            "800/800 [==============================] - 3s 4ms/step - loss: 2.6363 - accuracy: 0.3303 - val_loss: 2.5888 - val_accuracy: 0.3505\n",
            "\n",
            "Epoch 00018: val_loss improved from 2.61498 to 2.58882, saving model to model/cifar100-cnn-18-2.5888.hdf5\n",
            "Epoch 19/100\n",
            "800/800 [==============================] - 3s 4ms/step - loss: 2.6146 - accuracy: 0.3408 - val_loss: 2.5604 - val_accuracy: 0.3609\n",
            "\n",
            "Epoch 00019: val_loss improved from 2.58882 to 2.56038, saving model to model/cifar100-cnn-19-2.5604.hdf5\n",
            "Epoch 20/100\n",
            "800/800 [==============================] - 3s 4ms/step - loss: 2.5528 - accuracy: 0.3492 - val_loss: 2.5588 - val_accuracy: 0.3637\n",
            "\n",
            "Epoch 00020: val_loss improved from 2.56038 to 2.55877, saving model to model/cifar100-cnn-20-2.5588.hdf5\n",
            "Epoch 21/100\n",
            "800/800 [==============================] - 3s 4ms/step - loss: 2.5200 - accuracy: 0.3603 - val_loss: 2.5235 - val_accuracy: 0.3660\n",
            "\n",
            "Epoch 00021: val_loss improved from 2.55877 to 2.52348, saving model to model/cifar100-cnn-21-2.5235.hdf5\n",
            "Epoch 22/100\n",
            "800/800 [==============================] - 3s 4ms/step - loss: 2.5075 - accuracy: 0.3599 - val_loss: 2.4880 - val_accuracy: 0.3716\n",
            "\n",
            "Epoch 00022: val_loss improved from 2.52348 to 2.48797, saving model to model/cifar100-cnn-22-2.4880.hdf5\n",
            "Epoch 23/100\n",
            "800/800 [==============================] - 3s 4ms/step - loss: 2.4439 - accuracy: 0.3718 - val_loss: 2.4805 - val_accuracy: 0.3791\n",
            "\n",
            "Epoch 00023: val_loss improved from 2.48797 to 2.48045, saving model to model/cifar100-cnn-23-2.4805.hdf5\n",
            "Epoch 24/100\n",
            "800/800 [==============================] - 3s 4ms/step - loss: 2.4199 - accuracy: 0.3784 - val_loss: 2.4537 - val_accuracy: 0.3838\n",
            "\n",
            "Epoch 00024: val_loss improved from 2.48045 to 2.45366, saving model to model/cifar100-cnn-24-2.4537.hdf5\n",
            "Epoch 25/100\n",
            "800/800 [==============================] - 3s 4ms/step - loss: 2.4069 - accuracy: 0.3826 - val_loss: 2.4421 - val_accuracy: 0.3807\n",
            "\n",
            "Epoch 00025: val_loss improved from 2.45366 to 2.44211, saving model to model/cifar100-cnn-25-2.4421.hdf5\n",
            "Epoch 26/100\n",
            "800/800 [==============================] - 3s 4ms/step - loss: 2.3621 - accuracy: 0.3889 - val_loss: 2.4297 - val_accuracy: 0.3853\n",
            "\n",
            "Epoch 00026: val_loss improved from 2.44211 to 2.42974, saving model to model/cifar100-cnn-26-2.4297.hdf5\n",
            "Epoch 27/100\n",
            "800/800 [==============================] - 3s 4ms/step - loss: 2.3269 - accuracy: 0.3990 - val_loss: 2.4164 - val_accuracy: 0.3913\n",
            "\n",
            "Epoch 00027: val_loss improved from 2.42974 to 2.41641, saving model to model/cifar100-cnn-27-2.4164.hdf5\n",
            "Epoch 28/100\n",
            "800/800 [==============================] - 3s 4ms/step - loss: 2.2937 - accuracy: 0.4040 - val_loss: 2.3752 - val_accuracy: 0.3957\n",
            "\n",
            "Epoch 00028: val_loss improved from 2.41641 to 2.37518, saving model to model/cifar100-cnn-28-2.3752.hdf5\n",
            "Epoch 29/100\n",
            "800/800 [==============================] - 3s 4ms/step - loss: 2.2533 - accuracy: 0.4139 - val_loss: 2.3667 - val_accuracy: 0.3993\n",
            "\n",
            "Epoch 00029: val_loss improved from 2.37518 to 2.36673, saving model to model/cifar100-cnn-29-2.3667.hdf5\n",
            "Epoch 30/100\n",
            "800/800 [==============================] - 3s 4ms/step - loss: 2.2473 - accuracy: 0.4121 - val_loss: 2.3579 - val_accuracy: 0.4008\n",
            "\n",
            "Epoch 00030: val_loss improved from 2.36673 to 2.35793, saving model to model/cifar100-cnn-30-2.3579.hdf5\n",
            "Epoch 31/100\n",
            "800/800 [==============================] - 3s 4ms/step - loss: 2.2030 - accuracy: 0.4273 - val_loss: 2.3478 - val_accuracy: 0.4053\n",
            "\n",
            "Epoch 00031: val_loss improved from 2.35793 to 2.34779, saving model to model/cifar100-cnn-31-2.3478.hdf5\n",
            "Epoch 32/100\n",
            "800/800 [==============================] - 3s 4ms/step - loss: 2.1778 - accuracy: 0.4293 - val_loss: 2.3286 - val_accuracy: 0.4076\n",
            "\n",
            "Epoch 00032: val_loss improved from 2.34779 to 2.32860, saving model to model/cifar100-cnn-32-2.3286.hdf5\n",
            "Epoch 33/100\n",
            "800/800 [==============================] - 3s 4ms/step - loss: 2.1421 - accuracy: 0.4374 - val_loss: 2.3224 - val_accuracy: 0.4114\n",
            "\n",
            "Epoch 00033: val_loss improved from 2.32860 to 2.32240, saving model to model/cifar100-cnn-33-2.3224.hdf5\n",
            "Epoch 34/100\n",
            "800/800 [==============================] - 3s 4ms/step - loss: 2.1464 - accuracy: 0.4320 - val_loss: 2.2979 - val_accuracy: 0.4143\n",
            "\n",
            "Epoch 00034: val_loss improved from 2.32240 to 2.29790, saving model to model/cifar100-cnn-34-2.2979.hdf5\n",
            "Epoch 35/100\n",
            "800/800 [==============================] - 3s 4ms/step - loss: 2.1255 - accuracy: 0.4377 - val_loss: 2.3119 - val_accuracy: 0.4153\n",
            "\n",
            "Epoch 00035: val_loss did not improve from 2.29790\n",
            "Epoch 36/100\n",
            "800/800 [==============================] - 3s 4ms/step - loss: 2.0860 - accuracy: 0.4481 - val_loss: 2.2846 - val_accuracy: 0.4208\n",
            "\n",
            "Epoch 00036: val_loss improved from 2.29790 to 2.28457, saving model to model/cifar100-cnn-36-2.2846.hdf5\n",
            "Epoch 37/100\n",
            "800/800 [==============================] - 3s 4ms/step - loss: 2.0466 - accuracy: 0.4530 - val_loss: 2.2737 - val_accuracy: 0.4199\n",
            "\n",
            "Epoch 00037: val_loss improved from 2.28457 to 2.27368, saving model to model/cifar100-cnn-37-2.2737.hdf5\n",
            "Epoch 38/100\n",
            "800/800 [==============================] - 3s 4ms/step - loss: 2.0374 - accuracy: 0.4570 - val_loss: 2.2569 - val_accuracy: 0.4248\n",
            "\n",
            "Epoch 00038: val_loss improved from 2.27368 to 2.25692, saving model to model/cifar100-cnn-38-2.2569.hdf5\n",
            "Epoch 39/100\n",
            "800/800 [==============================] - 3s 4ms/step - loss: 2.0146 - accuracy: 0.4611 - val_loss: 2.2523 - val_accuracy: 0.4277\n",
            "\n",
            "Epoch 00039: val_loss improved from 2.25692 to 2.25226, saving model to model/cifar100-cnn-39-2.2523.hdf5\n",
            "Epoch 40/100\n",
            "800/800 [==============================] - 3s 4ms/step - loss: 1.9782 - accuracy: 0.4721 - val_loss: 2.2520 - val_accuracy: 0.4271\n",
            "\n",
            "Epoch 00040: val_loss improved from 2.25226 to 2.25203, saving model to model/cifar100-cnn-40-2.2520.hdf5\n",
            "Epoch 41/100\n",
            "800/800 [==============================] - 3s 4ms/step - loss: 1.9492 - accuracy: 0.4739 - val_loss: 2.2372 - val_accuracy: 0.4264\n",
            "\n",
            "Epoch 00041: val_loss improved from 2.25203 to 2.23724, saving model to model/cifar100-cnn-41-2.2372.hdf5\n",
            "Epoch 42/100\n",
            "800/800 [==============================] - 3s 4ms/step - loss: 1.9435 - accuracy: 0.4763 - val_loss: 2.2271 - val_accuracy: 0.4320\n",
            "\n",
            "Epoch 00042: val_loss improved from 2.23724 to 2.22707, saving model to model/cifar100-cnn-42-2.2271.hdf5\n",
            "Epoch 43/100\n",
            "800/800 [==============================] - 3s 4ms/step - loss: 1.9308 - accuracy: 0.4822 - val_loss: 2.2276 - val_accuracy: 0.4310\n",
            "\n",
            "Epoch 00043: val_loss did not improve from 2.22707\n",
            "Epoch 44/100\n",
            "800/800 [==============================] - 3s 4ms/step - loss: 1.9035 - accuracy: 0.4910 - val_loss: 2.2212 - val_accuracy: 0.4307\n",
            "\n",
            "Epoch 00044: val_loss improved from 2.22707 to 2.22124, saving model to model/cifar100-cnn-44-2.2212.hdf5\n",
            "Epoch 45/100\n",
            "800/800 [==============================] - 3s 4ms/step - loss: 1.8814 - accuracy: 0.4855 - val_loss: 2.2122 - val_accuracy: 0.4339\n",
            "\n",
            "Epoch 00045: val_loss improved from 2.22124 to 2.21224, saving model to model/cifar100-cnn-45-2.2122.hdf5\n",
            "Epoch 46/100\n",
            "800/800 [==============================] - 3s 4ms/step - loss: 1.8469 - accuracy: 0.4975 - val_loss: 2.2026 - val_accuracy: 0.4346\n",
            "\n",
            "Epoch 00046: val_loss improved from 2.21224 to 2.20265, saving model to model/cifar100-cnn-46-2.2026.hdf5\n",
            "Epoch 47/100\n",
            "800/800 [==============================] - 3s 4ms/step - loss: 1.8159 - accuracy: 0.5063 - val_loss: 2.2050 - val_accuracy: 0.4381\n",
            "\n",
            "Epoch 00047: val_loss did not improve from 2.20265\n",
            "Epoch 48/100\n",
            "800/800 [==============================] - 3s 4ms/step - loss: 1.8232 - accuracy: 0.5006 - val_loss: 2.1895 - val_accuracy: 0.4373\n",
            "\n",
            "Epoch 00048: val_loss improved from 2.20265 to 2.18953, saving model to model/cifar100-cnn-48-2.1895.hdf5\n",
            "Epoch 49/100\n",
            "800/800 [==============================] - 3s 4ms/step - loss: 1.7984 - accuracy: 0.5088 - val_loss: 2.1823 - val_accuracy: 0.4388\n",
            "\n",
            "Epoch 00049: val_loss improved from 2.18953 to 2.18235, saving model to model/cifar100-cnn-49-2.1823.hdf5\n",
            "Epoch 50/100\n",
            "800/800 [==============================] - 3s 4ms/step - loss: 1.7711 - accuracy: 0.5146 - val_loss: 2.1901 - val_accuracy: 0.4411\n",
            "\n",
            "Epoch 00050: val_loss did not improve from 2.18235\n",
            "Epoch 51/100\n",
            "800/800 [==============================] - 3s 4ms/step - loss: 1.7560 - accuracy: 0.5200 - val_loss: 2.1957 - val_accuracy: 0.4357\n",
            "\n",
            "Epoch 00051: val_loss did not improve from 2.18235\n",
            "Epoch 52/100\n",
            "800/800 [==============================] - 3s 4ms/step - loss: 1.7347 - accuracy: 0.5240 - val_loss: 2.1799 - val_accuracy: 0.4419\n",
            "\n",
            "Epoch 00052: val_loss improved from 2.18235 to 2.17990, saving model to model/cifar100-cnn-52-2.1799.hdf5\n",
            "Epoch 53/100\n",
            "800/800 [==============================] - 3s 4ms/step - loss: 1.7165 - accuracy: 0.5261 - val_loss: 2.1825 - val_accuracy: 0.4403\n",
            "\n",
            "Epoch 00053: val_loss did not improve from 2.17990\n",
            "Epoch 54/100\n",
            "800/800 [==============================] - 3s 4ms/step - loss: 1.6863 - accuracy: 0.5304 - val_loss: 2.1698 - val_accuracy: 0.4480\n",
            "\n",
            "Epoch 00054: val_loss improved from 2.17990 to 2.16981, saving model to model/cifar100-cnn-54-2.1698.hdf5\n",
            "Epoch 55/100\n",
            "800/800 [==============================] - 3s 4ms/step - loss: 1.6817 - accuracy: 0.5370 - val_loss: 2.1684 - val_accuracy: 0.4465\n",
            "\n",
            "Epoch 00055: val_loss improved from 2.16981 to 2.16840, saving model to model/cifar100-cnn-55-2.1684.hdf5\n",
            "Epoch 56/100\n",
            "800/800 [==============================] - 3s 4ms/step - loss: 1.6671 - accuracy: 0.5375 - val_loss: 2.1669 - val_accuracy: 0.4430\n",
            "\n",
            "Epoch 00056: val_loss improved from 2.16840 to 2.16690, saving model to model/cifar100-cnn-56-2.1669.hdf5\n",
            "Epoch 57/100\n",
            "800/800 [==============================] - 3s 4ms/step - loss: 1.6392 - accuracy: 0.5443 - val_loss: 2.1586 - val_accuracy: 0.4498\n",
            "\n",
            "Epoch 00057: val_loss improved from 2.16690 to 2.15864, saving model to model/cifar100-cnn-57-2.1586.hdf5\n",
            "Epoch 58/100\n",
            "800/800 [==============================] - 3s 4ms/step - loss: 1.6258 - accuracy: 0.5475 - val_loss: 2.1534 - val_accuracy: 0.4503\n",
            "\n",
            "Epoch 00058: val_loss improved from 2.15864 to 2.15345, saving model to model/cifar100-cnn-58-2.1534.hdf5\n",
            "Epoch 59/100\n",
            "800/800 [==============================] - 3s 4ms/step - loss: 1.6078 - accuracy: 0.5545 - val_loss: 2.1552 - val_accuracy: 0.4494\n",
            "\n",
            "Epoch 00059: val_loss did not improve from 2.15345\n",
            "Epoch 60/100\n",
            "800/800 [==============================] - 3s 4ms/step - loss: 1.5777 - accuracy: 0.5585 - val_loss: 2.1535 - val_accuracy: 0.4492\n",
            "\n",
            "Epoch 00060: val_loss did not improve from 2.15345\n",
            "Epoch 61/100\n",
            "800/800 [==============================] - 3s 4ms/step - loss: 1.5675 - accuracy: 0.5597 - val_loss: 2.1720 - val_accuracy: 0.4435\n",
            "\n",
            "Epoch 00061: val_loss did not improve from 2.15345\n",
            "Epoch 62/100\n",
            "800/800 [==============================] - 3s 4ms/step - loss: 1.5656 - accuracy: 0.5597 - val_loss: 2.1472 - val_accuracy: 0.4538\n",
            "\n",
            "Epoch 00062: val_loss improved from 2.15345 to 2.14716, saving model to model/cifar100-cnn-62-2.1472.hdf5\n",
            "Epoch 63/100\n",
            "800/800 [==============================] - 3s 4ms/step - loss: 1.5400 - accuracy: 0.5691 - val_loss: 2.1480 - val_accuracy: 0.4519\n",
            "\n",
            "Epoch 00063: val_loss did not improve from 2.14716\n",
            "Epoch 64/100\n",
            "800/800 [==============================] - 3s 4ms/step - loss: 1.5496 - accuracy: 0.5674 - val_loss: 2.1610 - val_accuracy: 0.4490\n",
            "\n",
            "Epoch 00064: val_loss did not improve from 2.14716\n",
            "Epoch 65/100\n",
            "800/800 [==============================] - 3s 4ms/step - loss: 1.4950 - accuracy: 0.5750 - val_loss: 2.1518 - val_accuracy: 0.4537\n",
            "\n",
            "Epoch 00065: val_loss did not improve from 2.14716\n",
            "Epoch 66/100\n",
            "800/800 [==============================] - 3s 4ms/step - loss: 1.4956 - accuracy: 0.5774 - val_loss: 2.1517 - val_accuracy: 0.4563\n",
            "\n",
            "Epoch 00066: val_loss did not improve from 2.14716\n",
            "Epoch 67/100\n",
            "800/800 [==============================] - 3s 4ms/step - loss: 1.4698 - accuracy: 0.5840 - val_loss: 2.1545 - val_accuracy: 0.4475\n",
            "\n",
            "Epoch 00067: val_loss did not improve from 2.14716\n",
            "Epoch 68/100\n",
            "800/800 [==============================] - 3s 4ms/step - loss: 1.4585 - accuracy: 0.5839 - val_loss: 2.1499 - val_accuracy: 0.4533\n",
            "\n",
            "Epoch 00068: val_loss did not improve from 2.14716\n",
            "Epoch 69/100\n",
            "800/800 [==============================] - 3s 4ms/step - loss: 1.4471 - accuracy: 0.5857 - val_loss: 2.1540 - val_accuracy: 0.4525\n",
            "\n",
            "Epoch 00069: val_loss did not improve from 2.14716\n",
            "Epoch 70/100\n",
            "800/800 [==============================] - 3s 4ms/step - loss: 1.4443 - accuracy: 0.5872 - val_loss: 2.1514 - val_accuracy: 0.4550\n",
            "\n",
            "Epoch 00070: val_loss did not improve from 2.14716\n",
            "Epoch 71/100\n",
            "800/800 [==============================] - 3s 4ms/step - loss: 1.4161 - accuracy: 0.5910 - val_loss: 2.1431 - val_accuracy: 0.4543\n",
            "\n",
            "Epoch 00071: val_loss improved from 2.14716 to 2.14313, saving model to model/cifar100-cnn-71-2.1431.hdf5\n",
            "Epoch 72/100\n",
            "800/800 [==============================] - 3s 4ms/step - loss: 1.4098 - accuracy: 0.5965 - val_loss: 2.1500 - val_accuracy: 0.4524\n",
            "\n",
            "Epoch 00072: val_loss did not improve from 2.14313\n",
            "Epoch 73/100\n",
            "800/800 [==============================] - 3s 4ms/step - loss: 1.4062 - accuracy: 0.5984 - val_loss: 2.1495 - val_accuracy: 0.4605\n",
            "\n",
            "Epoch 00073: val_loss did not improve from 2.14313\n",
            "Epoch 74/100\n",
            "800/800 [==============================] - 3s 4ms/step - loss: 1.3874 - accuracy: 0.6026 - val_loss: 2.1539 - val_accuracy: 0.4591\n",
            "\n",
            "Epoch 00074: val_loss did not improve from 2.14313\n",
            "Epoch 75/100\n",
            "800/800 [==============================] - 3s 4ms/step - loss: 1.3716 - accuracy: 0.6031 - val_loss: 2.1520 - val_accuracy: 0.4566\n",
            "\n",
            "Epoch 00075: val_loss did not improve from 2.14313\n",
            "Epoch 76/100\n",
            "800/800 [==============================] - 3s 4ms/step - loss: 1.3397 - accuracy: 0.6148 - val_loss: 2.1579 - val_accuracy: 0.4568\n",
            "\n",
            "Epoch 00076: val_loss did not improve from 2.14313\n",
            "Epoch 77/100\n",
            "800/800 [==============================] - 3s 4ms/step - loss: 1.3367 - accuracy: 0.6137 - val_loss: 2.1493 - val_accuracy: 0.4581\n",
            "\n",
            "Epoch 00077: val_loss did not improve from 2.14313\n",
            "Epoch 78/100\n",
            "800/800 [==============================] - 3s 4ms/step - loss: 1.3214 - accuracy: 0.6147 - val_loss: 2.1536 - val_accuracy: 0.4561\n",
            "\n",
            "Epoch 00078: val_loss did not improve from 2.14313\n",
            "Epoch 79/100\n",
            "800/800 [==============================] - 3s 4ms/step - loss: 1.3089 - accuracy: 0.6182 - val_loss: 2.1401 - val_accuracy: 0.4584\n",
            "\n",
            "Epoch 00079: val_loss improved from 2.14313 to 2.14014, saving model to model/cifar100-cnn-79-2.1401.hdf5\n",
            "Epoch 80/100\n",
            "800/800 [==============================] - 3s 4ms/step - loss: 1.3009 - accuracy: 0.6181 - val_loss: 2.1403 - val_accuracy: 0.4569\n",
            "\n",
            "Epoch 00080: val_loss did not improve from 2.14014\n",
            "Epoch 81/100\n",
            "800/800 [==============================] - 3s 4ms/step - loss: 1.2843 - accuracy: 0.6234 - val_loss: 2.1633 - val_accuracy: 0.4609\n",
            "\n",
            "Epoch 00081: val_loss did not improve from 2.14014\n",
            "Epoch 82/100\n",
            "800/800 [==============================] - 3s 4ms/step - loss: 1.2850 - accuracy: 0.6240 - val_loss: 2.1672 - val_accuracy: 0.4579\n",
            "\n",
            "Epoch 00082: val_loss did not improve from 2.14014\n",
            "Epoch 83/100\n",
            "800/800 [==============================] - 3s 4ms/step - loss: 1.2670 - accuracy: 0.6289 - val_loss: 2.1494 - val_accuracy: 0.4596\n",
            "\n",
            "Epoch 00083: val_loss did not improve from 2.14014\n",
            "Epoch 84/100\n",
            "800/800 [==============================] - 3s 4ms/step - loss: 1.2525 - accuracy: 0.6350 - val_loss: 2.1541 - val_accuracy: 0.4603\n",
            "\n",
            "Epoch 00084: val_loss did not improve from 2.14014\n",
            "Epoch 85/100\n",
            "800/800 [==============================] - 3s 4ms/step - loss: 1.2449 - accuracy: 0.6310 - val_loss: 2.1725 - val_accuracy: 0.4580\n",
            "\n",
            "Epoch 00085: val_loss did not improve from 2.14014\n",
            "Epoch 86/100\n",
            "800/800 [==============================] - 3s 4ms/step - loss: 1.2162 - accuracy: 0.6405 - val_loss: 2.1600 - val_accuracy: 0.4578\n",
            "\n",
            "Epoch 00086: val_loss did not improve from 2.14014\n",
            "Epoch 87/100\n",
            "800/800 [==============================] - 3s 4ms/step - loss: 1.2151 - accuracy: 0.6416 - val_loss: 2.1849 - val_accuracy: 0.4559\n",
            "\n",
            "Epoch 00087: val_loss did not improve from 2.14014\n",
            "Epoch 88/100\n",
            "800/800 [==============================] - 3s 4ms/step - loss: 1.1996 - accuracy: 0.6471 - val_loss: 2.1627 - val_accuracy: 0.4642\n",
            "\n",
            "Epoch 00088: val_loss did not improve from 2.14014\n",
            "Epoch 89/100\n",
            "800/800 [==============================] - 3s 4ms/step - loss: 1.1769 - accuracy: 0.6520 - val_loss: 2.1592 - val_accuracy: 0.4661\n",
            "\n",
            "Epoch 00089: val_loss did not improve from 2.14014\n"
          ],
          "name": "stdout"
        }
      ]
    },
    {
      "cell_type": "code",
      "metadata": {
        "id": "TgpfvFZ7Yqpf"
      },
      "source": [
        "from tensorflow.keras.models import load_model\r\n",
        "best_model = load_model('./model/cifar100-cnn-79-2.1401.hdf5')"
      ],
      "execution_count": 14,
      "outputs": []
    },
    {
      "cell_type": "code",
      "metadata": {
        "colab": {
          "base_uri": "https://localhost:8080/"
        },
        "id": "cg8Z7_uSYv9M",
        "outputId": "5599d98a-2146-4cea-d7d8-c2c079a9cc10"
      },
      "source": [
        "# 테스트 정확도 출력 \r\n",
        "acc = model.evaluate(X_test, Y_test, verbose=2)[1]\r\n",
        "print(f\"\\n Test Accuracy: {acc:.4f}\")"
      ],
      "execution_count": 15,
      "outputs": [
        {
          "output_type": "stream",
          "text": [
            "313/313 - 1s - loss: 2.1499 - accuracy: 0.4659\n",
            "\n",
            " Test Accuracy: 0.4659\n"
          ],
          "name": "stdout"
        }
      ]
    },
    {
      "cell_type": "markdown",
      "metadata": {
        "id": "YTtREseWY8Pr"
      },
      "source": [
        "### 훈련과정 시각화"
      ]
    },
    {
      "cell_type": "code",
      "metadata": {
        "id": "eZIGDAdPY10M"
      },
      "source": [
        "# 테스트셋\r\n",
        "y_vloss = history.history['val_loss']\r\n",
        "y_vacc = history.history['val_accuracy']\r\n",
        "# 학습셋\r\n",
        "y_loss = history.history['loss']\r\n",
        "y_acc = history.history['accuracy']"
      ],
      "execution_count": 16,
      "outputs": []
    },
    {
      "cell_type": "code",
      "metadata": {
        "colab": {
          "base_uri": "https://localhost:8080/",
          "height": 606
        },
        "id": "HUc7tFoOZFS0",
        "outputId": "18961c61-8b94-4150-f51a-b32af1fe3f74"
      },
      "source": [
        "x_len = np.arange(1, len(y_loss)+1)\r\n",
        "fig, ax0 = plt.subplots(figsize=(12,10))\r\n",
        "ax1 = ax0.twinx()\r\n",
        "ax0.plot(x_len, y_loss, c=\"blue\", label='train set loss')\r\n",
        "ax0.plot(x_len, y_vloss, c=\"red\", label='test set loss')\r\n",
        "ax0.set_ylabel('loss')\r\n",
        "ax1.plot(x_len, y_acc, c=\"darkgreen\", label='train set accuracy')\r\n",
        "ax1.plot(x_len, y_vacc, c=\"magenta\", label='test set accuracy')\r\n",
        "ax1.set_ylabel('accuracy')\r\n",
        "ax0.set_xlabel('epoch')\r\n",
        "ax0.legend(loc='upper center')\r\n",
        "ax1.legend(loc='lower center')\r\n",
        "plt.show()"
      ],
      "execution_count": 18,
      "outputs": [
        {
          "output_type": "display_data",
          "data": {
            "image/png": "[encoded data removed]",
            "text/plain": [
              "<Figure size 864x720 with 2 Axes>"
            ]
          },
          "metadata": {
            "tags": [],
            "needs_background": "light"
          }
        }
      ]
    },
    {
      "cell_type": "code",
      "metadata": {
        "id": "DVWbcg9aZOL_"
      },
      "source": [
        ""
      ],
      "execution_count": null,
      "outputs": []
    }
  ]
}