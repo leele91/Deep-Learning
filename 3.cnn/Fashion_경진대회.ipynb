{
  "nbformat": 4,
  "nbformat_minor": 0,
  "metadata": {
    "colab": {
      "name": "Fashion_경진대회.ipynb",
      "provenance": [],
      "collapsed_sections": []
    },
    "kernelspec": {
      "name": "python3",
      "display_name": "Python 3"
    },
    "accelerator": "GPU"
  },
  "cells": [
    {
      "cell_type": "markdown",
      "metadata": {
        "id": "kSYwPphXNKr3"
      },
      "source": [
        "# Fashion MNIST 경진대회"
      ]
    },
    {
      "cell_type": "code",
      "metadata": {
        "id": "RcRNEfoVNKeB"
      },
      "source": [
        "import numpy as np\r\n",
        "import tensorflow as tf"
      ],
      "execution_count": 1,
      "outputs": []
    },
    {
      "cell_type": "code",
      "metadata": {
        "id": "LfUWidQnM7au"
      },
      "source": [
        "# 실행할 때마다 같은 결과를 출력하기 위한 seed 값 설정\r\n",
        "seed = 2021\r\n",
        "np.random.seed(seed)\r\n",
        "tf.random.set_seed(seed)"
      ],
      "execution_count": 2,
      "outputs": []
    },
    {
      "cell_type": "markdown",
      "metadata": {
        "id": "3ji3EZDoNZ_b"
      },
      "source": [
        "### 데이터 전처리"
      ]
    },
    {
      "cell_type": "code",
      "metadata": {
        "id": "2LDqnWXrNTcF"
      },
      "source": [
        "from tensorflow.keras.datasets import fashion_mnist\r\n",
        "(X_train, Y_class_train), (X_test, Y_class_test) = fashion_mnist.load_data()"
      ],
      "execution_count": 37,
      "outputs": []
    },
    {
      "cell_type": "markdown",
      "metadata": {
        "id": "sIBFmFFHNwMW"
      },
      "source": [
        "### Fashion MNIST ver.0"
      ]
    },
    {
      "cell_type": "code",
      "metadata": {
        "colab": {
          "base_uri": "https://localhost:8080/"
        },
        "id": "Q1veNgAhNcC7",
        "outputId": "c3d57c79-a4e1-416a-ab91-1bd6a7903345"
      },
      "source": [
        "# 0 ~ 1 사이의 값으로 정규화\r\n",
        "X_train = X_train.reshape(-1, 784)\r\n",
        "X_train = X_train / 255.0\r\n",
        "X_train.shape"
      ],
      "execution_count": 4,
      "outputs": [
        {
          "output_type": "execute_result",
          "data": {
            "text/plain": [
              "(60000, 784)"
            ]
          },
          "metadata": {
            "tags": []
          },
          "execution_count": 4
        }
      ]
    },
    {
      "cell_type": "code",
      "metadata": {
        "colab": {
          "base_uri": "https://localhost:8080/"
        },
        "id": "m6D_Du_iNtm4",
        "outputId": "37b43bad-00db-45a7-8647-7f371b09e4c4"
      },
      "source": [
        "X_test = X_test.reshape(-1, 784)\r\n",
        "X_test = X_test / 255.0\r\n",
        "type(X_test[0,0])"
      ],
      "execution_count": 5,
      "outputs": [
        {
          "output_type": "execute_result",
          "data": {
            "text/plain": [
              "numpy.float64"
            ]
          },
          "metadata": {
            "tags": []
          },
          "execution_count": 5
        }
      ]
    },
    {
      "cell_type": "code",
      "metadata": {
        "colab": {
          "base_uri": "https://localhost:8080/"
        },
        "id": "2psRolkcN-k5",
        "outputId": "42b9d7ab-2cc4-4310-b4d4-3577da6becb1"
      },
      "source": [
        "# One hot encoding\r\n",
        "from tensorflow.keras.utils import to_categorical\r\n",
        "Y_train = to_categorical(Y_class_train, 10)\r\n",
        "Y_test = to_categorical(Y_class_test, 10)\r\n",
        "Y_train[0]"
      ],
      "execution_count": 6,
      "outputs": [
        {
          "output_type": "execute_result",
          "data": {
            "text/plain": [
              "array([0., 0., 0., 0., 0., 0., 0., 0., 0., 1.], dtype=float32)"
            ]
          },
          "metadata": {
            "tags": []
          },
          "execution_count": 6
        }
      ]
    },
    {
      "cell_type": "markdown",
      "metadata": {
        "id": "O-RnsO-HOFLJ"
      },
      "source": [
        "### 모델 정의, 설정, 학습"
      ]
    },
    {
      "cell_type": "code",
      "metadata": {
        "id": "bdMCoKn8OD3E"
      },
      "source": [
        "from tensorflow.keras.models import Sequential\r\n",
        "from tensorflow.keras.layers import Dense, Flatten, Conv2D, MaxPooling2D, Dropout\r\n",
        "import os\r\n",
        "MODEL_DIR = './model/'\r\n",
        "if not os.path.exists(MODEL_DIR):\r\n",
        "    os.mkdir(MODEL_DIR)"
      ],
      "execution_count": 7,
      "outputs": []
    },
    {
      "cell_type": "code",
      "metadata": {
        "colab": {
          "base_uri": "https://localhost:8080/"
        },
        "id": "z-GlIfLuOQAr",
        "outputId": "6aceba79-7207-4c5a-ebb8-440204a51266"
      },
      "source": [
        "model = Sequential([\r\n",
        "    Dense(512, input_dim=784, activation='relu'),\r\n",
        "    Dense(5, activation='relu'),\r\n",
        "    Dense(10, activation='softmax')\r\n",
        "])\r\n",
        "model.summary()"
      ],
      "execution_count": 8,
      "outputs": [
        {
          "output_type": "stream",
          "text": [
            "Model: \"sequential\"\n",
            "_________________________________________________________________\n",
            "Layer (type)                 Output Shape              Param #   \n",
            "=================================================================\n",
            "dense (Dense)                (None, 512)               401920    \n",
            "_________________________________________________________________\n",
            "dense_1 (Dense)              (None, 5)                 2565      \n",
            "_________________________________________________________________\n",
            "dense_2 (Dense)              (None, 10)                60        \n",
            "=================================================================\n",
            "Total params: 404,545\n",
            "Trainable params: 404,545\n",
            "Non-trainable params: 0\n",
            "_________________________________________________________________\n"
          ],
          "name": "stdout"
        }
      ]
    },
    {
      "cell_type": "code",
      "metadata": {
        "id": "lC378KOvOVLP"
      },
      "source": [
        "# 모델 실행환경 설정\r\n",
        "model.compile(loss='categorical_crossentropy', optimizer='adam', metrics=['accuracy'])"
      ],
      "execution_count": 9,
      "outputs": []
    },
    {
      "cell_type": "code",
      "metadata": {
        "id": "_beffjQsOZYT"
      },
      "source": [
        "# 모델 저장 조건 설정\r\n",
        "modelpath = MODEL_DIR + \"best{epoch:03d}-{val_loss:.4f}.hdf5\""
      ],
      "execution_count": 10,
      "outputs": []
    },
    {
      "cell_type": "code",
      "metadata": {
        "id": "kk6VnqAkOfT7"
      },
      "source": [
        "# 모델 최적화 설정\r\n",
        "from tensorflow.keras.callbacks import ModelCheckpoint, EarlyStopping\r\n",
        "checkpointer = ModelCheckpoint(filepath=modelpath, monitor='val_loss', \r\n",
        "                               verbose=1, save_best_only=True)\r\n",
        "early_stopping = EarlyStopping(monitor='val_loss', patience=10)"
      ],
      "execution_count": 11,
      "outputs": []
    },
    {
      "cell_type": "code",
      "metadata": {
        "colab": {
          "base_uri": "https://localhost:8080/"
        },
        "id": "VEn3f6jxOpim",
        "outputId": "d2feffc8-e693-4e44-e4a7-14749ba14c0b"
      },
      "source": [
        "# 모델 실행\r\n",
        "history = model.fit(X_train, Y_train, validation_split=0.2,\r\n",
        "                    epochs=30, batch_size=200, verbose=0,\r\n",
        "                    callbacks=[checkpointer, early_stopping])"
      ],
      "execution_count": 12,
      "outputs": [
        {
          "output_type": "stream",
          "text": [
            "\n",
            "Epoch 00001: val_loss improved from inf to 1.50084, saving model to ./model/best001-1.5008.hdf5\n",
            "\n",
            "Epoch 00002: val_loss improved from 1.50084 to 1.30088, saving model to ./model/best002-1.3009.hdf5\n",
            "\n",
            "Epoch 00003: val_loss improved from 1.30088 to 0.97617, saving model to ./model/best003-0.9762.hdf5\n",
            "\n",
            "Epoch 00004: val_loss improved from 0.97617 to 0.71903, saving model to ./model/best004-0.7190.hdf5\n",
            "\n",
            "Epoch 00005: val_loss improved from 0.71903 to 0.59269, saving model to ./model/best005-0.5927.hdf5\n",
            "\n",
            "Epoch 00006: val_loss improved from 0.59269 to 0.53268, saving model to ./model/best006-0.5327.hdf5\n",
            "\n",
            "Epoch 00007: val_loss improved from 0.53268 to 0.49168, saving model to ./model/best007-0.4917.hdf5\n",
            "\n",
            "Epoch 00008: val_loss improved from 0.49168 to 0.46411, saving model to ./model/best008-0.4641.hdf5\n",
            "\n",
            "Epoch 00009: val_loss improved from 0.46411 to 0.44729, saving model to ./model/best009-0.4473.hdf5\n",
            "\n",
            "Epoch 00010: val_loss improved from 0.44729 to 0.41966, saving model to ./model/best010-0.4197.hdf5\n",
            "\n",
            "Epoch 00011: val_loss improved from 0.41966 to 0.40828, saving model to ./model/best011-0.4083.hdf5\n",
            "\n",
            "Epoch 00012: val_loss did not improve from 0.40828\n",
            "\n",
            "Epoch 00013: val_loss improved from 0.40828 to 0.39355, saving model to ./model/best013-0.3935.hdf5\n",
            "\n",
            "Epoch 00014: val_loss improved from 0.39355 to 0.39084, saving model to ./model/best014-0.3908.hdf5\n",
            "\n",
            "Epoch 00015: val_loss improved from 0.39084 to 0.37404, saving model to ./model/best015-0.3740.hdf5\n",
            "\n",
            "Epoch 00016: val_loss did not improve from 0.37404\n",
            "\n",
            "Epoch 00017: val_loss did not improve from 0.37404\n",
            "\n",
            "Epoch 00018: val_loss improved from 0.37404 to 0.37032, saving model to ./model/best018-0.3703.hdf5\n",
            "\n",
            "Epoch 00019: val_loss did not improve from 0.37032\n",
            "\n",
            "Epoch 00020: val_loss improved from 0.37032 to 0.36858, saving model to ./model/best020-0.3686.hdf5\n",
            "\n",
            "Epoch 00021: val_loss improved from 0.36858 to 0.35780, saving model to ./model/best021-0.3578.hdf5\n",
            "\n",
            "Epoch 00022: val_loss did not improve from 0.35780\n",
            "\n",
            "Epoch 00023: val_loss did not improve from 0.35780\n",
            "\n",
            "Epoch 00024: val_loss did not improve from 0.35780\n",
            "\n",
            "Epoch 00025: val_loss did not improve from 0.35780\n",
            "\n",
            "Epoch 00026: val_loss did not improve from 0.35780\n",
            "\n",
            "Epoch 00027: val_loss did not improve from 0.35780\n",
            "\n",
            "Epoch 00028: val_loss did not improve from 0.35780\n",
            "\n",
            "Epoch 00029: val_loss did not improve from 0.35780\n",
            "\n",
            "Epoch 00030: val_loss did not improve from 0.35780\n"
          ],
          "name": "stdout"
        }
      ]
    },
    {
      "cell_type": "code",
      "metadata": {
        "id": "A_VsgcdpOrMJ"
      },
      "source": [
        "from tensorflow.keras.models import load_model\r\n",
        "best_model = load_model('./model/best021-0.3578.hdf5')"
      ],
      "execution_count": 15,
      "outputs": []
    },
    {
      "cell_type": "code",
      "metadata": {
        "colab": {
          "base_uri": "https://localhost:8080/"
        },
        "id": "OKECgirQP3Gz",
        "outputId": "be42419f-82e1-4d3e-f74a-46e7b01e6c56"
      },
      "source": [
        "# 테스트 정확도 출력 \r\n",
        "acc = model.evaluate(X_test, Y_test, verbose=2)[1]\r\n",
        "print(f\"\\n Test Accuracy: {acc:.4f}\")"
      ],
      "execution_count": 16,
      "outputs": [
        {
          "output_type": "stream",
          "text": [
            "313/313 - 1s - loss: 0.4046 - accuracy: 0.8821\n",
            "\n",
            " Test Accuracy: 0.8821\n"
          ],
          "name": "stdout"
        }
      ]
    },
    {
      "cell_type": "markdown",
      "metadata": {
        "id": "37artCb3RSF_"
      },
      "source": [
        "### Fashion MNIST ver.1 (Conv2D 2개)\r\n",
        "- Conv2D 2개"
      ]
    },
    {
      "cell_type": "code",
      "metadata": {
        "colab": {
          "base_uri": "https://localhost:8080/"
        },
        "id": "ZDJdP4f5P57z",
        "outputId": "476ad6dc-af0b-4031-ced0-93c6a8c7ee58"
      },
      "source": [
        "X_train = X_train.reshape(-1, 28, 28, 1)\r\n",
        "X_test = X_test.reshape(-1, 28, 28, 1)\r\n",
        "X_train.shape, X_test.shape"
      ],
      "execution_count": 18,
      "outputs": [
        {
          "output_type": "execute_result",
          "data": {
            "text/plain": [
              "((60000, 28, 28, 1), (10000, 28, 28, 1))"
            ]
          },
          "metadata": {
            "tags": []
          },
          "execution_count": 18
        }
      ]
    },
    {
      "cell_type": "code",
      "metadata": {
        "id": "0wEBFMZ4Rccs"
      },
      "source": [
        "# 0 ~ 1 사이의 값으로 정규화\r\n",
        "X_train = X_train / 255.0\r\n",
        "X_test = X_test / 255.0"
      ],
      "execution_count": 19,
      "outputs": []
    },
    {
      "cell_type": "code",
      "metadata": {
        "colab": {
          "base_uri": "https://localhost:8080/"
        },
        "id": "kzA2XPNdReTL",
        "outputId": "7a31507b-6757-4303-a811-e35e8dfd03bc"
      },
      "source": [
        "model = Sequential([\r\n",
        "    Conv2D(32, kernel_size=(3,3), input_shape=(28,28,1), activation='relu'),\r\n",
        "    Conv2D(64, (3,3), activation='relu'),\r\n",
        "    Flatten(),             \r\n",
        "    Dense(512, activation='relu'),\r\n",
        "    Dense(10, activation='softmax')\r\n",
        "])\r\n",
        "model.summary()"
      ],
      "execution_count": 20,
      "outputs": [
        {
          "output_type": "stream",
          "text": [
            "Model: \"sequential_1\"\n",
            "_________________________________________________________________\n",
            "Layer (type)                 Output Shape              Param #   \n",
            "=================================================================\n",
            "conv2d (Conv2D)              (None, 26, 26, 32)        320       \n",
            "_________________________________________________________________\n",
            "conv2d_1 (Conv2D)            (None, 24, 24, 64)        18496     \n",
            "_________________________________________________________________\n",
            "flatten (Flatten)            (None, 36864)             0         \n",
            "_________________________________________________________________\n",
            "dense_3 (Dense)              (None, 512)               18874880  \n",
            "_________________________________________________________________\n",
            "dense_4 (Dense)              (None, 10)                5130      \n",
            "=================================================================\n",
            "Total params: 18,898,826\n",
            "Trainable params: 18,898,826\n",
            "Non-trainable params: 0\n",
            "_________________________________________________________________\n"
          ],
          "name": "stdout"
        }
      ]
    },
    {
      "cell_type": "code",
      "metadata": {
        "id": "gDs3Gr6dRz7_"
      },
      "source": [
        "# 모델 실행환경 설정\r\n",
        "model.compile(loss='categorical_crossentropy', optimizer='adam', metrics=['accuracy'])"
      ],
      "execution_count": 21,
      "outputs": []
    },
    {
      "cell_type": "code",
      "metadata": {
        "id": "1ZgoKrN6R1Iy"
      },
      "source": [
        "# 모델 저장 조건 설정\r\n",
        "modelpath = MODEL_DIR + \"best{epoch:03d}-{val_loss:.4f}.hdf5\""
      ],
      "execution_count": 22,
      "outputs": []
    },
    {
      "cell_type": "code",
      "metadata": {
        "id": "ExgLSJH-R2Pd"
      },
      "source": [
        "# 모델 최적화 설정\r\n",
        "from tensorflow.keras.callbacks import ModelCheckpoint, EarlyStopping\r\n",
        "checkpointer = ModelCheckpoint(filepath=modelpath, monitor='val_loss', \r\n",
        "                               verbose=1, save_best_only=True)\r\n",
        "early_stopping = EarlyStopping(monitor='val_loss', patience=10)"
      ],
      "execution_count": 23,
      "outputs": []
    },
    {
      "cell_type": "code",
      "metadata": {
        "colab": {
          "base_uri": "https://localhost:8080/"
        },
        "id": "OB0SdR1SR4Rv",
        "outputId": "1b9ac12f-cb99-4a0b-e5b4-ee6728205ed6"
      },
      "source": [
        "# 모델 실행\r\n",
        "history = model.fit(X_train, Y_train, validation_split=0.2,\r\n",
        "                    epochs=30, batch_size=200, verbose=0,\r\n",
        "                    callbacks=[checkpointer, early_stopping])"
      ],
      "execution_count": 24,
      "outputs": [
        {
          "output_type": "stream",
          "text": [
            "\n",
            "Epoch 00001: val_loss improved from inf to 0.29721, saving model to ./model/best001-0.2972.hdf5\n",
            "\n",
            "Epoch 00002: val_loss improved from 0.29721 to 0.26376, saving model to ./model/best002-0.2638.hdf5\n",
            "\n",
            "Epoch 00003: val_loss improved from 0.26376 to 0.24976, saving model to ./model/best003-0.2498.hdf5\n",
            "\n",
            "Epoch 00004: val_loss improved from 0.24976 to 0.24289, saving model to ./model/best004-0.2429.hdf5\n",
            "\n",
            "Epoch 00005: val_loss did not improve from 0.24289\n",
            "\n",
            "Epoch 00006: val_loss did not improve from 0.24289\n",
            "\n",
            "Epoch 00007: val_loss did not improve from 0.24289\n",
            "\n",
            "Epoch 00008: val_loss did not improve from 0.24289\n",
            "\n",
            "Epoch 00009: val_loss did not improve from 0.24289\n",
            "\n",
            "Epoch 00010: val_loss did not improve from 0.24289\n",
            "\n",
            "Epoch 00011: val_loss did not improve from 0.24289\n",
            "\n",
            "Epoch 00012: val_loss did not improve from 0.24289\n",
            "\n",
            "Epoch 00013: val_loss did not improve from 0.24289\n",
            "\n",
            "Epoch 00014: val_loss did not improve from 0.24289\n"
          ],
          "name": "stdout"
        }
      ]
    },
    {
      "cell_type": "code",
      "metadata": {
        "id": "lXtGXfSvR5zT"
      },
      "source": [
        "from tensorflow.keras.models import load_model\r\n",
        "best_model = load_model('./model/best004-0.2429.hdf5')"
      ],
      "execution_count": 25,
      "outputs": []
    },
    {
      "cell_type": "code",
      "metadata": {
        "colab": {
          "base_uri": "https://localhost:8080/"
        },
        "id": "VZplbLDkSuQ0",
        "outputId": "a8ea1da0-6a58-44ec-bf19-5836f51abf6b"
      },
      "source": [
        "# 테스트 정확도 출력 \r\n",
        "acc = model.evaluate(X_test, Y_test, verbose=2)[1]\r\n",
        "print(f\"\\n Test Accuracy: {acc:.4f}\")"
      ],
      "execution_count": 26,
      "outputs": [
        {
          "output_type": "stream",
          "text": [
            "313/313 - 2s - loss: 0.4915 - accuracy: 0.9089\n",
            "\n",
            " Test Accuracy: 0.9089\n"
          ],
          "name": "stdout"
        }
      ]
    },
    {
      "cell_type": "markdown",
      "metadata": {
        "id": "RrhmjUMxVb2k"
      },
      "source": [
        "### Fashion MNIST ver.2 (Conv2D 2개 +MaxPooling 1개)\r\n",
        "- Conv2D 2개\r\n",
        "- MaxPooling 1개"
      ]
    },
    {
      "cell_type": "code",
      "metadata": {
        "colab": {
          "base_uri": "https://localhost:8080/"
        },
        "id": "BFPINcvDVpBG",
        "outputId": "3b2998d0-7a3b-47f9-ec3f-c6b0709f073f"
      },
      "source": [
        "X_train = X_train.reshape(-1, 28, 28, 1)\r\n",
        "X_test = X_test.reshape(-1, 28, 28, 1)\r\n",
        "X_train.shape, X_test.shape"
      ],
      "execution_count": 38,
      "outputs": [
        {
          "output_type": "execute_result",
          "data": {
            "text/plain": [
              "((60000, 28, 28, 1), (10000, 28, 28, 1))"
            ]
          },
          "metadata": {
            "tags": []
          },
          "execution_count": 38
        }
      ]
    },
    {
      "cell_type": "code",
      "metadata": {
        "id": "muMYTksUVo3d"
      },
      "source": [
        "# 0 ~ 1 사이의 값으로 정규화\r\n",
        "X_train = X_train / 255.0\r\n",
        "X_test = X_test / 255.0"
      ],
      "execution_count": 39,
      "outputs": []
    },
    {
      "cell_type": "code",
      "metadata": {
        "colab": {
          "base_uri": "https://localhost:8080/"
        },
        "id": "THXe-EESVy4W",
        "outputId": "e813e289-c9fd-40a9-dea4-7a0554f5d4d7"
      },
      "source": [
        "model = Sequential([\r\n",
        "    Conv2D(32, kernel_size=(3,3), input_shape=(28,28,1), activation='relu'),\r\n",
        "    Conv2D(64, (3,3), activation='relu'),\r\n",
        "    MaxPooling2D(pool_size=2),\r\n",
        "    Flatten(),             \r\n",
        "    Dense(512, activation='relu'),\r\n",
        "    Dense(10, activation='softmax')\r\n",
        "])\r\n",
        "model.summary()"
      ],
      "execution_count": 40,
      "outputs": [
        {
          "output_type": "stream",
          "text": [
            "Model: \"sequential_3\"\n",
            "_________________________________________________________________\n",
            "Layer (type)                 Output Shape              Param #   \n",
            "=================================================================\n",
            "conv2d_4 (Conv2D)            (None, 26, 26, 32)        320       \n",
            "_________________________________________________________________\n",
            "conv2d_5 (Conv2D)            (None, 24, 24, 64)        18496     \n",
            "_________________________________________________________________\n",
            "max_pooling2d_1 (MaxPooling2 (None, 12, 12, 64)        0         \n",
            "_________________________________________________________________\n",
            "flatten_2 (Flatten)          (None, 9216)              0         \n",
            "_________________________________________________________________\n",
            "dense_7 (Dense)              (None, 512)               4719104   \n",
            "_________________________________________________________________\n",
            "dense_8 (Dense)              (None, 10)                5130      \n",
            "=================================================================\n",
            "Total params: 4,743,050\n",
            "Trainable params: 4,743,050\n",
            "Non-trainable params: 0\n",
            "_________________________________________________________________\n"
          ],
          "name": "stdout"
        }
      ]
    },
    {
      "cell_type": "code",
      "metadata": {
        "id": "hrSNMNzQVyw3"
      },
      "source": [
        "# 모델 실행환경 설정\r\n",
        "model.compile(loss='categorical_crossentropy', optimizer='adam', metrics=['accuracy'])"
      ],
      "execution_count": 41,
      "outputs": []
    },
    {
      "cell_type": "code",
      "metadata": {
        "id": "RFpmOcy4VosA"
      },
      "source": [
        "# 모델 저장 조건 설정\r\n",
        "modelpath = MODEL_DIR + \"best{epoch:03d}-{val_loss:.4f}.hdf5\""
      ],
      "execution_count": 42,
      "outputs": []
    },
    {
      "cell_type": "code",
      "metadata": {
        "id": "z21fgughV5kW"
      },
      "source": [
        "# 모델 최적화 설정\r\n",
        "from tensorflow.keras.callbacks import ModelCheckpoint, EarlyStopping\r\n",
        "checkpointer = ModelCheckpoint(filepath=modelpath, monitor='val_loss', \r\n",
        "                               verbose=1, save_best_only=True)\r\n",
        "early_stopping = EarlyStopping(monitor='val_loss', patience=10)"
      ],
      "execution_count": 43,
      "outputs": []
    },
    {
      "cell_type": "code",
      "metadata": {
        "colab": {
          "base_uri": "https://localhost:8080/"
        },
        "id": "YZo2_tbOV5b7",
        "outputId": "c44cc27c-0ea6-49bc-bcb1-7c24faa6f6bb"
      },
      "source": [
        "# 모델 실행\r\n",
        "history = model.fit(X_train, Y_train, validation_split=0.2,\r\n",
        "                    epochs=30, batch_size=200, verbose=0,\r\n",
        "                    callbacks=[checkpointer, early_stopping])"
      ],
      "execution_count": 44,
      "outputs": [
        {
          "output_type": "stream",
          "text": [
            "\n",
            "Epoch 00001: val_loss improved from inf to 0.31296, saving model to ./model/best001-0.3130.hdf5\n",
            "\n",
            "Epoch 00002: val_loss improved from 0.31296 to 0.26875, saving model to ./model/best002-0.2688.hdf5\n",
            "\n",
            "Epoch 00003: val_loss improved from 0.26875 to 0.25079, saving model to ./model/best003-0.2508.hdf5\n",
            "\n",
            "Epoch 00004: val_loss improved from 0.25079 to 0.23139, saving model to ./model/best004-0.2314.hdf5\n",
            "\n",
            "Epoch 00005: val_loss improved from 0.23139 to 0.22386, saving model to ./model/best005-0.2239.hdf5\n",
            "\n",
            "Epoch 00006: val_loss did not improve from 0.22386\n",
            "\n",
            "Epoch 00007: val_loss did not improve from 0.22386\n",
            "\n",
            "Epoch 00008: val_loss did not improve from 0.22386\n",
            "\n",
            "Epoch 00009: val_loss did not improve from 0.22386\n",
            "\n",
            "Epoch 00010: val_loss did not improve from 0.22386\n",
            "\n",
            "Epoch 00011: val_loss did not improve from 0.22386\n",
            "\n",
            "Epoch 00012: val_loss did not improve from 0.22386\n",
            "\n",
            "Epoch 00013: val_loss did not improve from 0.22386\n",
            "\n",
            "Epoch 00014: val_loss did not improve from 0.22386\n",
            "\n",
            "Epoch 00015: val_loss did not improve from 0.22386\n"
          ],
          "name": "stdout"
        }
      ]
    },
    {
      "cell_type": "code",
      "metadata": {
        "id": "rSLzvUS-V5T8"
      },
      "source": [
        "from tensorflow.keras.models import load_model\r\n",
        "best_model = load_model('./model/best005-0.2239.hdf5')"
      ],
      "execution_count": 45,
      "outputs": []
    },
    {
      "cell_type": "code",
      "metadata": {
        "colab": {
          "base_uri": "https://localhost:8080/"
        },
        "id": "4fMfbd2zV977",
        "outputId": "09a3b299-6834-4d83-b042-301440e3da0f"
      },
      "source": [
        "# 테스트 정확도 출력 \r\n",
        "acc = model.evaluate(X_test, Y_test, verbose=2)[1]\r\n",
        "print(f\"\\n Test Accuracy: {acc:.4f}\")"
      ],
      "execution_count": 46,
      "outputs": [
        {
          "output_type": "stream",
          "text": [
            "313/313 - 1s - loss: 0.4359 - accuracy: 0.9159\n",
            "\n",
            " Test Accuracy: 0.9159\n"
          ],
          "name": "stdout"
        }
      ]
    },
    {
      "cell_type": "markdown",
      "metadata": {
        "id": "1WZQiVQJUDoo"
      },
      "source": [
        "### Fashion MNIST ver.3 (MaxPooling 1개 + Dropout 2개)\r\n",
        "- Conv2D 2개\r\n",
        "- MaxPooling 1개\r\n",
        "- Dropout 2개"
      ]
    },
    {
      "cell_type": "code",
      "metadata": {
        "colab": {
          "base_uri": "https://localhost:8080/"
        },
        "id": "lkpLunv9SvGL",
        "outputId": "b85d8ba8-a6d6-41a3-d8ce-52e351d733b6"
      },
      "source": [
        "X_train = X_train.reshape(-1, 28, 28, 1)\r\n",
        "X_test = X_test.reshape(-1, 28, 28, 1)\r\n",
        "X_train.shape, X_test.shape"
      ],
      "execution_count": 28,
      "outputs": [
        {
          "output_type": "execute_result",
          "data": {
            "text/plain": [
              "((60000, 28, 28, 1), (10000, 28, 28, 1))"
            ]
          },
          "metadata": {
            "tags": []
          },
          "execution_count": 28
        }
      ]
    },
    {
      "cell_type": "code",
      "metadata": {
        "id": "ypFz-fmuUTp2"
      },
      "source": [
        "# 0 ~ 1 사이의 값으로 정규화\r\n",
        "X_train = X_train / 255.0\r\n",
        "X_test = X_test / 255.0"
      ],
      "execution_count": 29,
      "outputs": []
    },
    {
      "cell_type": "code",
      "metadata": {
        "colab": {
          "base_uri": "https://localhost:8080/"
        },
        "id": "Hl0NxT--UVIv",
        "outputId": "a2910e15-4ac2-408b-d416-67dca2859850"
      },
      "source": [
        "model = Sequential([\r\n",
        "    Conv2D(32, kernel_size=(3,3), input_shape=(28,28,1), activation='relu'),\r\n",
        "    Conv2D(64, (3,3), activation='relu'),\r\n",
        "    MaxPooling2D(pool_size=2),\r\n",
        "    Dropout(0.25),\r\n",
        "    Flatten(),             \r\n",
        "    Dense(512, activation='relu'),\r\n",
        "    Dropout(0.5),\r\n",
        "    Dense(10, activation='softmax')\r\n",
        "])\r\n",
        "model.summary()"
      ],
      "execution_count": 30,
      "outputs": [
        {
          "output_type": "stream",
          "text": [
            "Model: \"sequential_2\"\n",
            "_________________________________________________________________\n",
            "Layer (type)                 Output Shape              Param #   \n",
            "=================================================================\n",
            "conv2d_2 (Conv2D)            (None, 26, 26, 32)        320       \n",
            "_________________________________________________________________\n",
            "conv2d_3 (Conv2D)            (None, 24, 24, 64)        18496     \n",
            "_________________________________________________________________\n",
            "max_pooling2d (MaxPooling2D) (None, 12, 12, 64)        0         \n",
            "_________________________________________________________________\n",
            "dropout (Dropout)            (None, 12, 12, 64)        0         \n",
            "_________________________________________________________________\n",
            "flatten_1 (Flatten)          (None, 9216)              0         \n",
            "_________________________________________________________________\n",
            "dense_5 (Dense)              (None, 512)               4719104   \n",
            "_________________________________________________________________\n",
            "dropout_1 (Dropout)          (None, 512)               0         \n",
            "_________________________________________________________________\n",
            "dense_6 (Dense)              (None, 10)                5130      \n",
            "=================================================================\n",
            "Total params: 4,743,050\n",
            "Trainable params: 4,743,050\n",
            "Non-trainable params: 0\n",
            "_________________________________________________________________\n"
          ],
          "name": "stdout"
        }
      ]
    },
    {
      "cell_type": "code",
      "metadata": {
        "id": "MDuu5paiUZA5"
      },
      "source": [
        "# 모델 실행환경 설정\r\n",
        "model.compile(loss='categorical_crossentropy', optimizer='adam', metrics=['accuracy'])"
      ],
      "execution_count": 31,
      "outputs": []
    },
    {
      "cell_type": "code",
      "metadata": {
        "id": "WpCqH4YvUbOk"
      },
      "source": [
        "# 모델 저장 조건 설정\r\n",
        "modelpath = MODEL_DIR + \"best{epoch:03d}-{val_loss:.4f}.hdf5\""
      ],
      "execution_count": 32,
      "outputs": []
    },
    {
      "cell_type": "code",
      "metadata": {
        "id": "b78Bs1hbUdMH"
      },
      "source": [
        "# 모델 최적화 설정\r\n",
        "from tensorflow.keras.callbacks import ModelCheckpoint, EarlyStopping\r\n",
        "checkpointer = ModelCheckpoint(filepath=modelpath, monitor='val_loss', \r\n",
        "                               verbose=1, save_best_only=True)\r\n",
        "early_stopping = EarlyStopping(monitor='val_loss', patience=10)"
      ],
      "execution_count": 33,
      "outputs": []
    },
    {
      "cell_type": "code",
      "metadata": {
        "colab": {
          "base_uri": "https://localhost:8080/"
        },
        "id": "UJ6-wAGzUeyt",
        "outputId": "984a91ad-af95-4a6d-db7c-9c02b7417da0"
      },
      "source": [
        "# 모델 실행\r\n",
        "history = model.fit(X_train, Y_train, validation_split=0.2,\r\n",
        "                    epochs=30, batch_size=200, verbose=0,\r\n",
        "                    callbacks=[checkpointer, early_stopping])"
      ],
      "execution_count": 34,
      "outputs": [
        {
          "output_type": "stream",
          "text": [
            "\n",
            "Epoch 00001: val_loss improved from inf to 0.31600, saving model to ./model/best001-0.3160.hdf5\n",
            "\n",
            "Epoch 00002: val_loss improved from 0.31600 to 0.27383, saving model to ./model/best002-0.2738.hdf5\n",
            "\n",
            "Epoch 00003: val_loss improved from 0.27383 to 0.24451, saving model to ./model/best003-0.2445.hdf5\n",
            "\n",
            "Epoch 00004: val_loss improved from 0.24451 to 0.23184, saving model to ./model/best004-0.2318.hdf5\n",
            "\n",
            "Epoch 00005: val_loss improved from 0.23184 to 0.22887, saving model to ./model/best005-0.2289.hdf5\n",
            "\n",
            "Epoch 00006: val_loss improved from 0.22887 to 0.21123, saving model to ./model/best006-0.2112.hdf5\n",
            "\n",
            "Epoch 00007: val_loss improved from 0.21123 to 0.20048, saving model to ./model/best007-0.2005.hdf5\n",
            "\n",
            "Epoch 00008: val_loss did not improve from 0.20048\n",
            "\n",
            "Epoch 00009: val_loss did not improve from 0.20048\n",
            "\n",
            "Epoch 00010: val_loss did not improve from 0.20048\n",
            "\n",
            "Epoch 00011: val_loss did not improve from 0.20048\n",
            "\n",
            "Epoch 00012: val_loss did not improve from 0.20048\n",
            "\n",
            "Epoch 00013: val_loss did not improve from 0.20048\n",
            "\n",
            "Epoch 00014: val_loss did not improve from 0.20048\n",
            "\n",
            "Epoch 00015: val_loss did not improve from 0.20048\n",
            "\n",
            "Epoch 00016: val_loss did not improve from 0.20048\n",
            "\n",
            "Epoch 00017: val_loss did not improve from 0.20048\n"
          ],
          "name": "stdout"
        }
      ]
    },
    {
      "cell_type": "code",
      "metadata": {
        "id": "biQDOl60UgRT"
      },
      "source": [
        "from tensorflow.keras.models import load_model\r\n",
        "best_model = load_model('./model/best007-0.2005.hdf5')"
      ],
      "execution_count": 35,
      "outputs": []
    },
    {
      "cell_type": "code",
      "metadata": {
        "colab": {
          "base_uri": "https://localhost:8080/"
        },
        "id": "AasAlF9bVF1F",
        "outputId": "083ca0cb-0cfc-461f-dc09-27e357e8c6fb"
      },
      "source": [
        "# 테스트 정확도 출력 \r\n",
        "acc = model.evaluate(X_test, Y_test, verbose=2)[1]\r\n",
        "print(f\"\\n Test Accuracy: {acc:.4f}\")"
      ],
      "execution_count": 36,
      "outputs": [
        {
          "output_type": "stream",
          "text": [
            "313/313 - 2s - loss: 0.2642 - accuracy: 0.9285\n",
            "\n",
            " Test Accuracy: 0.9285\n"
          ],
          "name": "stdout"
        }
      ]
    },
    {
      "cell_type": "code",
      "metadata": {
        "id": "RDXr2iuOVHvB"
      },
      "source": [
        ""
      ],
      "execution_count": null,
      "outputs": []
    }
  ]
}