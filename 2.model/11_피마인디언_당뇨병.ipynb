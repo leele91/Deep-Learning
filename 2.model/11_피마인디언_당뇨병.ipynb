{
  "nbformat": 4,
  "nbformat_minor": 0,
  "metadata": {
    "colab": {
      "name": "11_피마인디언_당뇨병.ipynb",
      "provenance": [],
      "collapsed_sections": []
    },
    "kernelspec": {
      "name": "python3",
      "display_name": "Python 3"
    }
  },
  "cells": [
    {
      "cell_type": "markdown",
      "metadata": {
        "id": "lA81nbFCpOvG"
      },
      "source": [
        "# 피마 인디언 당뇨병 사례"
      ]
    },
    {
      "cell_type": "code",
      "metadata": {
        "id": "7MsK0h9bpJQ9"
      },
      "source": [
        "import numpy as np\r\n",
        "import tensorflow as tf"
      ],
      "execution_count": 1,
      "outputs": []
    },
    {
      "cell_type": "code",
      "metadata": {
        "id": "xQsm1JWUpmJF"
      },
      "source": [
        "# 실행할 때마다 같은 결과를 출력하기 위한 seed 값 설정\r\n",
        "seed =2021\r\n",
        "np.random.seed(seed)\r\n",
        "tf.random.set_seed(seed)"
      ],
      "execution_count": 2,
      "outputs": []
    },
    {
      "cell_type": "markdown",
      "metadata": {
        "id": "YBwIK7tRpsLI"
      },
      "source": [
        "### 데이터 전처리"
      ]
    },
    {
      "cell_type": "code",
      "metadata": {
        "colab": {
          "resources": {
            "http://localhost:8080/nbextensions/google.colab/files.js": {
              "data": "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",
              "ok": true,
              "headers": [
                [
                  "content-type",
                  "application/javascript"
                ]
              ],
              "status": 200,
              "status_text": ""
            }
          },
          "base_uri": "https://localhost:8080/",
          "height": 180
        },
        "id": "4RbH6SmJpqQq",
        "outputId": "4fb64952-8d50-4dce-eb54-e753a5333788"
      },
      "source": [
        "from google.colab import files\r\n",
        "uploaded = files.upload()\r\n",
        "filename = list(uploaded.keys())[0]\r\n",
        "Data_set = np.loadtxt(filename, delimiter=\",\")\r\n",
        "Data_set[:3, :]"
      ],
      "execution_count": 3,
      "outputs": [
        {
          "output_type": "display_data",
          "data": {
            "text/html": [
              "\n",
              "     <input type=\"file\" id=\"files-7d8048c4-e566-4896-9536-fb6d32bd91b2\" name=\"files[]\" multiple disabled\n",
              "        style=\"border:none\" />\n",
              "     <output id=\"result-7d8048c4-e566-4896-9536-fb6d32bd91b2\">\n",
              "      Upload widget is only available when the cell has been executed in the\n",
              "      current browser session. Please rerun this cell to enable.\n",
              "      </output>\n",
              "      <script src=\"/nbextensions/google.colab/files.js\"></script> "
            ],
            "text/plain": [
              "<IPython.core.display.HTML object>"
            ]
          },
          "metadata": {
            "tags": []
          }
        },
        {
          "output_type": "stream",
          "text": [
            "Saving pima-indians-diabetes.csv to pima-indians-diabetes (1).csv\n"
          ],
          "name": "stdout"
        },
        {
          "output_type": "execute_result",
          "data": {
            "text/plain": [
              "array([[  6.   , 148.   ,  72.   ,  35.   ,   0.   ,  33.6  ,   0.627,\n",
              "         50.   ,   1.   ],\n",
              "       [  1.   ,  85.   ,  66.   ,  29.   ,   0.   ,  26.6  ,   0.351,\n",
              "         31.   ,   0.   ],\n",
              "       [  8.   , 183.   ,  64.   ,   0.   ,   0.   ,  23.3  ,   0.672,\n",
              "         32.   ,   1.   ]])"
            ]
          },
          "metadata": {
            "tags": []
          },
          "execution_count": 3
        }
      ]
    },
    {
      "cell_type": "code",
      "metadata": {
        "id": "YEzaq54gqGLq"
      },
      "source": [
        "from sklearn.preprocessing import StandardScaler\r\n",
        "scaler = StandardScaler()\r\n",
        "X_norm = scaler.fit_transform(Data_set[:, :-1])"
      ],
      "execution_count": 4,
      "outputs": []
    },
    {
      "cell_type": "code",
      "metadata": {
        "colab": {
          "base_uri": "https://localhost:8080/"
        },
        "id": "AaKhpIuaqowf",
        "outputId": "449cf54a-daa9-4e0a-9e09-b73466051be8"
      },
      "source": [
        "from sklearn.model_selection import train_test_split\r\n",
        "X_train, X_test, y_train, y_test = train_test_split(\r\n",
        "    X_norm, Data_set[:, -1], stratify=Data_set[:, -1], random_state=seed\r\n",
        ")\r\n",
        "X_train.shape, X_test.shape"
      ],
      "execution_count": 5,
      "outputs": [
        {
          "output_type": "execute_result",
          "data": {
            "text/plain": [
              "((576, 8), (192, 8))"
            ]
          },
          "metadata": {
            "tags": []
          },
          "execution_count": 5
        }
      ]
    },
    {
      "cell_type": "markdown",
      "metadata": {
        "id": "bL4TiSipq12D"
      },
      "source": [
        "### 모델 정의/설정/학습/평가"
      ]
    },
    {
      "cell_type": "code",
      "metadata": {
        "id": "kXgbGS8dqtB3"
      },
      "source": [
        "from tensorflow.keras.models import Sequential\r\n",
        "from tensorflow.keras.layers import Dense"
      ],
      "execution_count": 6,
      "outputs": []
    },
    {
      "cell_type": "code",
      "metadata": {
        "colab": {
          "base_uri": "https://localhost:8080/"
        },
        "id": "lvZxq-8HrBx9",
        "outputId": "be6b1e01-a261-42bd-e6cb-6933151ffcc1"
      },
      "source": [
        "# 딥러닝 모델 설정\r\n",
        "model = Sequential([\r\n",
        "    Dense(12, input_shape=(8,), activation='relu'),\r\n",
        "    Dense(8, activation='relu'),\r\n",
        "    Dense(1, activation='sigmoid')\r\n",
        "])\r\n",
        "model.summary()"
      ],
      "execution_count": 7,
      "outputs": [
        {
          "output_type": "stream",
          "text": [
            "Model: \"sequential\"\n",
            "_________________________________________________________________\n",
            "Layer (type)                 Output Shape              Param #   \n",
            "=================================================================\n",
            "dense (Dense)                (None, 12)                108       \n",
            "_________________________________________________________________\n",
            "dense_1 (Dense)              (None, 8)                 104       \n",
            "_________________________________________________________________\n",
            "dense_2 (Dense)              (None, 1)                 9         \n",
            "=================================================================\n",
            "Total params: 221\n",
            "Trainable params: 221\n",
            "Non-trainable params: 0\n",
            "_________________________________________________________________\n"
          ],
          "name": "stdout"
        }
      ]
    },
    {
      "cell_type": "code",
      "metadata": {
        "id": "CCof37YjJONj"
      },
      "source": [
        "# 모델 컴파일 \r\n",
        "model.compile(loss='binary_crossentropy', \r\n",
        "              optimizer='adam',\r\n",
        "              metrics=['accuracy'])"
      ],
      "execution_count": 8,
      "outputs": []
    },
    {
      "cell_type": "code",
      "metadata": {
        "colab": {
          "base_uri": "https://localhost:8080/"
        },
        "id": "tCJXdAPiJQev",
        "outputId": "87797fd4-1316-49d7-94f4-7cdbf94fcfbc"
      },
      "source": [
        "# 모델 실행\r\n",
        "history = model.fit(X_train, y_train, validation_split=0.2, epochs=200, batch_size=50)"
      ],
      "execution_count": 9,
      "outputs": [
        {
          "output_type": "stream",
          "text": [
            "Epoch 1/200\n",
            "10/10 [==============================] - 1s 50ms/step - loss: 0.6544 - accuracy: 0.6107 - val_loss: 0.6141 - val_accuracy: 0.6379\n",
            "Epoch 2/200\n",
            "10/10 [==============================] - 0s 6ms/step - loss: 0.6274 - accuracy: 0.6698 - val_loss: 0.5967 - val_accuracy: 0.6466\n",
            "Epoch 3/200\n",
            "10/10 [==============================] - 0s 5ms/step - loss: 0.6065 - accuracy: 0.6923 - val_loss: 0.5823 - val_accuracy: 0.6552\n",
            "Epoch 4/200\n",
            "10/10 [==============================] - 0s 5ms/step - loss: 0.5886 - accuracy: 0.7010 - val_loss: 0.5718 - val_accuracy: 0.6638\n",
            "Epoch 5/200\n",
            "10/10 [==============================] - 0s 5ms/step - loss: 0.5858 - accuracy: 0.6975 - val_loss: 0.5635 - val_accuracy: 0.6466\n",
            "Epoch 6/200\n",
            "10/10 [==============================] - 0s 5ms/step - loss: 0.5648 - accuracy: 0.7288 - val_loss: 0.5562 - val_accuracy: 0.6466\n",
            "Epoch 7/200\n",
            "10/10 [==============================] - 0s 6ms/step - loss: 0.5505 - accuracy: 0.7117 - val_loss: 0.5510 - val_accuracy: 0.6552\n",
            "Epoch 8/200\n",
            "10/10 [==============================] - 0s 5ms/step - loss: 0.5410 - accuracy: 0.7391 - val_loss: 0.5469 - val_accuracy: 0.6466\n",
            "Epoch 9/200\n",
            "10/10 [==============================] - 0s 5ms/step - loss: 0.5458 - accuracy: 0.7263 - val_loss: 0.5433 - val_accuracy: 0.6724\n",
            "Epoch 10/200\n",
            "10/10 [==============================] - 0s 5ms/step - loss: 0.5385 - accuracy: 0.7288 - val_loss: 0.5395 - val_accuracy: 0.6724\n",
            "Epoch 11/200\n",
            "10/10 [==============================] - 0s 5ms/step - loss: 0.5240 - accuracy: 0.7552 - val_loss: 0.5376 - val_accuracy: 0.6724\n",
            "Epoch 12/200\n",
            "10/10 [==============================] - 0s 6ms/step - loss: 0.5155 - accuracy: 0.7519 - val_loss: 0.5358 - val_accuracy: 0.6724\n",
            "Epoch 13/200\n",
            "10/10 [==============================] - 0s 5ms/step - loss: 0.5016 - accuracy: 0.7647 - val_loss: 0.5339 - val_accuracy: 0.6810\n",
            "Epoch 14/200\n",
            "10/10 [==============================] - 0s 5ms/step - loss: 0.5237 - accuracy: 0.7444 - val_loss: 0.5318 - val_accuracy: 0.6983\n",
            "Epoch 15/200\n",
            "10/10 [==============================] - 0s 6ms/step - loss: 0.4849 - accuracy: 0.7613 - val_loss: 0.5309 - val_accuracy: 0.6983\n",
            "Epoch 16/200\n",
            "10/10 [==============================] - 0s 5ms/step - loss: 0.5081 - accuracy: 0.7752 - val_loss: 0.5294 - val_accuracy: 0.6983\n",
            "Epoch 17/200\n",
            "10/10 [==============================] - 0s 6ms/step - loss: 0.5036 - accuracy: 0.7519 - val_loss: 0.5280 - val_accuracy: 0.6983\n",
            "Epoch 18/200\n",
            "10/10 [==============================] - 0s 5ms/step - loss: 0.4987 - accuracy: 0.7722 - val_loss: 0.5261 - val_accuracy: 0.7155\n",
            "Epoch 19/200\n",
            "10/10 [==============================] - 0s 6ms/step - loss: 0.4909 - accuracy: 0.7769 - val_loss: 0.5263 - val_accuracy: 0.6983\n",
            "Epoch 20/200\n",
            "10/10 [==============================] - 0s 18ms/step - loss: 0.4811 - accuracy: 0.7768 - val_loss: 0.5263 - val_accuracy: 0.6897\n",
            "Epoch 21/200\n",
            "10/10 [==============================] - 0s 5ms/step - loss: 0.5015 - accuracy: 0.7509 - val_loss: 0.5264 - val_accuracy: 0.6897\n",
            "Epoch 22/200\n",
            "10/10 [==============================] - 0s 5ms/step - loss: 0.4388 - accuracy: 0.8073 - val_loss: 0.5276 - val_accuracy: 0.6897\n",
            "Epoch 23/200\n",
            "10/10 [==============================] - 0s 6ms/step - loss: 0.5018 - accuracy: 0.7417 - val_loss: 0.5283 - val_accuracy: 0.6983\n",
            "Epoch 24/200\n",
            "10/10 [==============================] - 0s 6ms/step - loss: 0.4886 - accuracy: 0.7567 - val_loss: 0.5291 - val_accuracy: 0.6983\n",
            "Epoch 25/200\n",
            "10/10 [==============================] - 0s 6ms/step - loss: 0.4593 - accuracy: 0.7662 - val_loss: 0.5309 - val_accuracy: 0.6983\n",
            "Epoch 26/200\n",
            "10/10 [==============================] - 0s 6ms/step - loss: 0.4851 - accuracy: 0.7945 - val_loss: 0.5310 - val_accuracy: 0.7069\n",
            "Epoch 27/200\n",
            "10/10 [==============================] - 0s 6ms/step - loss: 0.5001 - accuracy: 0.7778 - val_loss: 0.5309 - val_accuracy: 0.7069\n",
            "Epoch 28/200\n",
            "10/10 [==============================] - 0s 6ms/step - loss: 0.4601 - accuracy: 0.8134 - val_loss: 0.5329 - val_accuracy: 0.7069\n",
            "Epoch 29/200\n",
            "10/10 [==============================] - 0s 6ms/step - loss: 0.4776 - accuracy: 0.7723 - val_loss: 0.5339 - val_accuracy: 0.7069\n",
            "Epoch 30/200\n",
            "10/10 [==============================] - 0s 5ms/step - loss: 0.4691 - accuracy: 0.7895 - val_loss: 0.5346 - val_accuracy: 0.7069\n",
            "Epoch 31/200\n",
            "10/10 [==============================] - 0s 5ms/step - loss: 0.4486 - accuracy: 0.8037 - val_loss: 0.5341 - val_accuracy: 0.6983\n",
            "Epoch 32/200\n",
            "10/10 [==============================] - 0s 6ms/step - loss: 0.4553 - accuracy: 0.7901 - val_loss: 0.5332 - val_accuracy: 0.6983\n",
            "Epoch 33/200\n",
            "10/10 [==============================] - 0s 5ms/step - loss: 0.4329 - accuracy: 0.8007 - val_loss: 0.5327 - val_accuracy: 0.6983\n",
            "Epoch 34/200\n",
            "10/10 [==============================] - 0s 6ms/step - loss: 0.4659 - accuracy: 0.7808 - val_loss: 0.5328 - val_accuracy: 0.6983\n",
            "Epoch 35/200\n",
            "10/10 [==============================] - 0s 6ms/step - loss: 0.4386 - accuracy: 0.8021 - val_loss: 0.5345 - val_accuracy: 0.6983\n",
            "Epoch 36/200\n",
            "10/10 [==============================] - 0s 5ms/step - loss: 0.4822 - accuracy: 0.7715 - val_loss: 0.5368 - val_accuracy: 0.7155\n",
            "Epoch 37/200\n",
            "10/10 [==============================] - 0s 5ms/step - loss: 0.4785 - accuracy: 0.7809 - val_loss: 0.5375 - val_accuracy: 0.7155\n",
            "Epoch 38/200\n",
            "10/10 [==============================] - 0s 5ms/step - loss: 0.4485 - accuracy: 0.8014 - val_loss: 0.5399 - val_accuracy: 0.7069\n",
            "Epoch 39/200\n",
            "10/10 [==============================] - 0s 6ms/step - loss: 0.4437 - accuracy: 0.8042 - val_loss: 0.5407 - val_accuracy: 0.7069\n",
            "Epoch 40/200\n",
            "10/10 [==============================] - 0s 5ms/step - loss: 0.4501 - accuracy: 0.8052 - val_loss: 0.5436 - val_accuracy: 0.7069\n",
            "Epoch 41/200\n",
            "10/10 [==============================] - 0s 6ms/step - loss: 0.4421 - accuracy: 0.7938 - val_loss: 0.5438 - val_accuracy: 0.6983\n",
            "Epoch 42/200\n",
            "10/10 [==============================] - 0s 5ms/step - loss: 0.4203 - accuracy: 0.8063 - val_loss: 0.5451 - val_accuracy: 0.6983\n",
            "Epoch 43/200\n",
            "10/10 [==============================] - 0s 5ms/step - loss: 0.4511 - accuracy: 0.7962 - val_loss: 0.5463 - val_accuracy: 0.6983\n",
            "Epoch 44/200\n",
            "10/10 [==============================] - 0s 6ms/step - loss: 0.4423 - accuracy: 0.7995 - val_loss: 0.5471 - val_accuracy: 0.6897\n",
            "Epoch 45/200\n",
            "10/10 [==============================] - 0s 6ms/step - loss: 0.4469 - accuracy: 0.7924 - val_loss: 0.5477 - val_accuracy: 0.6983\n",
            "Epoch 46/200\n",
            "10/10 [==============================] - 0s 6ms/step - loss: 0.4202 - accuracy: 0.8034 - val_loss: 0.5486 - val_accuracy: 0.7155\n",
            "Epoch 47/200\n",
            "10/10 [==============================] - 0s 5ms/step - loss: 0.4548 - accuracy: 0.7851 - val_loss: 0.5493 - val_accuracy: 0.7155\n",
            "Epoch 48/200\n",
            "10/10 [==============================] - 0s 6ms/step - loss: 0.4515 - accuracy: 0.7838 - val_loss: 0.5497 - val_accuracy: 0.7155\n",
            "Epoch 49/200\n",
            "10/10 [==============================] - 0s 6ms/step - loss: 0.4372 - accuracy: 0.7807 - val_loss: 0.5498 - val_accuracy: 0.7155\n",
            "Epoch 50/200\n",
            "10/10 [==============================] - 0s 6ms/step - loss: 0.4367 - accuracy: 0.7766 - val_loss: 0.5494 - val_accuracy: 0.7069\n",
            "Epoch 51/200\n",
            "10/10 [==============================] - 0s 5ms/step - loss: 0.4324 - accuracy: 0.7891 - val_loss: 0.5486 - val_accuracy: 0.7241\n",
            "Epoch 52/200\n",
            "10/10 [==============================] - 0s 6ms/step - loss: 0.4066 - accuracy: 0.8093 - val_loss: 0.5502 - val_accuracy: 0.7241\n",
            "Epoch 53/200\n",
            "10/10 [==============================] - 0s 7ms/step - loss: 0.4328 - accuracy: 0.7919 - val_loss: 0.5514 - val_accuracy: 0.7155\n",
            "Epoch 54/200\n",
            "10/10 [==============================] - 0s 5ms/step - loss: 0.4230 - accuracy: 0.8059 - val_loss: 0.5516 - val_accuracy: 0.7155\n",
            "Epoch 55/200\n",
            "10/10 [==============================] - 0s 5ms/step - loss: 0.4507 - accuracy: 0.7863 - val_loss: 0.5516 - val_accuracy: 0.7069\n",
            "Epoch 56/200\n",
            "10/10 [==============================] - 0s 5ms/step - loss: 0.4024 - accuracy: 0.8119 - val_loss: 0.5536 - val_accuracy: 0.7069\n",
            "Epoch 57/200\n",
            "10/10 [==============================] - 0s 5ms/step - loss: 0.4277 - accuracy: 0.8120 - val_loss: 0.5537 - val_accuracy: 0.6983\n",
            "Epoch 58/200\n",
            "10/10 [==============================] - 0s 6ms/step - loss: 0.4350 - accuracy: 0.7779 - val_loss: 0.5515 - val_accuracy: 0.6983\n",
            "Epoch 59/200\n",
            "10/10 [==============================] - 0s 6ms/step - loss: 0.4284 - accuracy: 0.7983 - val_loss: 0.5517 - val_accuracy: 0.6983\n",
            "Epoch 60/200\n",
            "10/10 [==============================] - 0s 6ms/step - loss: 0.4271 - accuracy: 0.7948 - val_loss: 0.5533 - val_accuracy: 0.7069\n",
            "Epoch 61/200\n",
            "10/10 [==============================] - 0s 6ms/step - loss: 0.4136 - accuracy: 0.8090 - val_loss: 0.5535 - val_accuracy: 0.7069\n",
            "Epoch 62/200\n",
            "10/10 [==============================] - 0s 6ms/step - loss: 0.4022 - accuracy: 0.8249 - val_loss: 0.5523 - val_accuracy: 0.7069\n",
            "Epoch 63/200\n",
            "10/10 [==============================] - 0s 19ms/step - loss: 0.3994 - accuracy: 0.8308 - val_loss: 0.5526 - val_accuracy: 0.7069\n",
            "Epoch 64/200\n",
            "10/10 [==============================] - 0s 6ms/step - loss: 0.4042 - accuracy: 0.8170 - val_loss: 0.5519 - val_accuracy: 0.7069\n",
            "Epoch 65/200\n",
            "10/10 [==============================] - 0s 6ms/step - loss: 0.3935 - accuracy: 0.8377 - val_loss: 0.5548 - val_accuracy: 0.7069\n",
            "Epoch 66/200\n",
            "10/10 [==============================] - 0s 7ms/step - loss: 0.4061 - accuracy: 0.8221 - val_loss: 0.5559 - val_accuracy: 0.7069\n",
            "Epoch 67/200\n",
            "10/10 [==============================] - 0s 6ms/step - loss: 0.4183 - accuracy: 0.8200 - val_loss: 0.5566 - val_accuracy: 0.7069\n",
            "Epoch 68/200\n",
            "10/10 [==============================] - 0s 6ms/step - loss: 0.4043 - accuracy: 0.8087 - val_loss: 0.5581 - val_accuracy: 0.7069\n",
            "Epoch 69/200\n",
            "10/10 [==============================] - 0s 6ms/step - loss: 0.4337 - accuracy: 0.8086 - val_loss: 0.5587 - val_accuracy: 0.7155\n",
            "Epoch 70/200\n",
            "10/10 [==============================] - 0s 6ms/step - loss: 0.4201 - accuracy: 0.7994 - val_loss: 0.5573 - val_accuracy: 0.7155\n",
            "Epoch 71/200\n",
            "10/10 [==============================] - 0s 6ms/step - loss: 0.4114 - accuracy: 0.8116 - val_loss: 0.5578 - val_accuracy: 0.7069\n",
            "Epoch 72/200\n",
            "10/10 [==============================] - 0s 6ms/step - loss: 0.3952 - accuracy: 0.8316 - val_loss: 0.5602 - val_accuracy: 0.7155\n",
            "Epoch 73/200\n",
            "10/10 [==============================] - 0s 6ms/step - loss: 0.3835 - accuracy: 0.8277 - val_loss: 0.5603 - val_accuracy: 0.7155\n",
            "Epoch 74/200\n",
            "10/10 [==============================] - 0s 6ms/step - loss: 0.3962 - accuracy: 0.8138 - val_loss: 0.5573 - val_accuracy: 0.7069\n",
            "Epoch 75/200\n",
            "10/10 [==============================] - 0s 6ms/step - loss: 0.4035 - accuracy: 0.8071 - val_loss: 0.5573 - val_accuracy: 0.7155\n",
            "Epoch 76/200\n",
            "10/10 [==============================] - 0s 5ms/step - loss: 0.4236 - accuracy: 0.8027 - val_loss: 0.5591 - val_accuracy: 0.7241\n",
            "Epoch 77/200\n",
            "10/10 [==============================] - 0s 5ms/step - loss: 0.4128 - accuracy: 0.8062 - val_loss: 0.5627 - val_accuracy: 0.7155\n",
            "Epoch 78/200\n",
            "10/10 [==============================] - 0s 6ms/step - loss: 0.4258 - accuracy: 0.7951 - val_loss: 0.5612 - val_accuracy: 0.7241\n",
            "Epoch 79/200\n",
            "10/10 [==============================] - 0s 6ms/step - loss: 0.4100 - accuracy: 0.8130 - val_loss: 0.5624 - val_accuracy: 0.7241\n",
            "Epoch 80/200\n",
            "10/10 [==============================] - 0s 6ms/step - loss: 0.3658 - accuracy: 0.8430 - val_loss: 0.5647 - val_accuracy: 0.7241\n",
            "Epoch 81/200\n",
            "10/10 [==============================] - 0s 6ms/step - loss: 0.4008 - accuracy: 0.8220 - val_loss: 0.5650 - val_accuracy: 0.7155\n",
            "Epoch 82/200\n",
            "10/10 [==============================] - 0s 6ms/step - loss: 0.4033 - accuracy: 0.8151 - val_loss: 0.5648 - val_accuracy: 0.7241\n",
            "Epoch 83/200\n",
            "10/10 [==============================] - 0s 7ms/step - loss: 0.3859 - accuracy: 0.8213 - val_loss: 0.5677 - val_accuracy: 0.7241\n",
            "Epoch 84/200\n",
            "10/10 [==============================] - 0s 7ms/step - loss: 0.3783 - accuracy: 0.8304 - val_loss: 0.5681 - val_accuracy: 0.7241\n",
            "Epoch 85/200\n",
            "10/10 [==============================] - 0s 6ms/step - loss: 0.3907 - accuracy: 0.8306 - val_loss: 0.5671 - val_accuracy: 0.7241\n",
            "Epoch 86/200\n",
            "10/10 [==============================] - 0s 5ms/step - loss: 0.3883 - accuracy: 0.8072 - val_loss: 0.5671 - val_accuracy: 0.7328\n",
            "Epoch 87/200\n",
            "10/10 [==============================] - 0s 6ms/step - loss: 0.3930 - accuracy: 0.8259 - val_loss: 0.5690 - val_accuracy: 0.7328\n",
            "Epoch 88/200\n",
            "10/10 [==============================] - 0s 6ms/step - loss: 0.3745 - accuracy: 0.8328 - val_loss: 0.5733 - val_accuracy: 0.7241\n",
            "Epoch 89/200\n",
            "10/10 [==============================] - 0s 6ms/step - loss: 0.4003 - accuracy: 0.8102 - val_loss: 0.5739 - val_accuracy: 0.7155\n",
            "Epoch 90/200\n",
            "10/10 [==============================] - 0s 6ms/step - loss: 0.3848 - accuracy: 0.8255 - val_loss: 0.5708 - val_accuracy: 0.7328\n",
            "Epoch 91/200\n",
            "10/10 [==============================] - 0s 6ms/step - loss: 0.3589 - accuracy: 0.8477 - val_loss: 0.5728 - val_accuracy: 0.7241\n",
            "Epoch 92/200\n",
            "10/10 [==============================] - 0s 6ms/step - loss: 0.4087 - accuracy: 0.8162 - val_loss: 0.5727 - val_accuracy: 0.7328\n",
            "Epoch 93/200\n",
            "10/10 [==============================] - 0s 7ms/step - loss: 0.4051 - accuracy: 0.8160 - val_loss: 0.5755 - val_accuracy: 0.7241\n",
            "Epoch 94/200\n",
            "10/10 [==============================] - 0s 7ms/step - loss: 0.3779 - accuracy: 0.8342 - val_loss: 0.5806 - val_accuracy: 0.7241\n",
            "Epoch 95/200\n",
            "10/10 [==============================] - 0s 6ms/step - loss: 0.4274 - accuracy: 0.7915 - val_loss: 0.5799 - val_accuracy: 0.7241\n",
            "Epoch 96/200\n",
            "10/10 [==============================] - 0s 6ms/step - loss: 0.3821 - accuracy: 0.8304 - val_loss: 0.5811 - val_accuracy: 0.7241\n",
            "Epoch 97/200\n",
            "10/10 [==============================] - 0s 6ms/step - loss: 0.3852 - accuracy: 0.8302 - val_loss: 0.5795 - val_accuracy: 0.7241\n",
            "Epoch 98/200\n",
            "10/10 [==============================] - 0s 6ms/step - loss: 0.3719 - accuracy: 0.8449 - val_loss: 0.5788 - val_accuracy: 0.7241\n",
            "Epoch 99/200\n",
            "10/10 [==============================] - 0s 6ms/step - loss: 0.4185 - accuracy: 0.7976 - val_loss: 0.5771 - val_accuracy: 0.7328\n",
            "Epoch 100/200\n",
            "10/10 [==============================] - 0s 7ms/step - loss: 0.3855 - accuracy: 0.8278 - val_loss: 0.5768 - val_accuracy: 0.7241\n",
            "Epoch 101/200\n",
            "10/10 [==============================] - 0s 6ms/step - loss: 0.3857 - accuracy: 0.8171 - val_loss: 0.5787 - val_accuracy: 0.7241\n",
            "Epoch 102/200\n",
            "10/10 [==============================] - 0s 6ms/step - loss: 0.3678 - accuracy: 0.8285 - val_loss: 0.5800 - val_accuracy: 0.7241\n",
            "Epoch 103/200\n",
            "10/10 [==============================] - 0s 6ms/step - loss: 0.3796 - accuracy: 0.8345 - val_loss: 0.5798 - val_accuracy: 0.7328\n",
            "Epoch 104/200\n",
            "10/10 [==============================] - 0s 5ms/step - loss: 0.3816 - accuracy: 0.8273 - val_loss: 0.5781 - val_accuracy: 0.7328\n",
            "Epoch 105/200\n",
            "10/10 [==============================] - 0s 6ms/step - loss: 0.3962 - accuracy: 0.8250 - val_loss: 0.5790 - val_accuracy: 0.7328\n",
            "Epoch 106/200\n",
            "10/10 [==============================] - 0s 7ms/step - loss: 0.4211 - accuracy: 0.8143 - val_loss: 0.5791 - val_accuracy: 0.7414\n",
            "Epoch 107/200\n",
            "10/10 [==============================] - 0s 5ms/step - loss: 0.3806 - accuracy: 0.8248 - val_loss: 0.5828 - val_accuracy: 0.7328\n",
            "Epoch 108/200\n",
            "10/10 [==============================] - 0s 5ms/step - loss: 0.3807 - accuracy: 0.8308 - val_loss: 0.5861 - val_accuracy: 0.7241\n",
            "Epoch 109/200\n",
            "10/10 [==============================] - 0s 6ms/step - loss: 0.4151 - accuracy: 0.7942 - val_loss: 0.5843 - val_accuracy: 0.7328\n",
            "Epoch 110/200\n",
            "10/10 [==============================] - 0s 6ms/step - loss: 0.3582 - accuracy: 0.8526 - val_loss: 0.5861 - val_accuracy: 0.7328\n",
            "Epoch 111/200\n",
            "10/10 [==============================] - 0s 6ms/step - loss: 0.3831 - accuracy: 0.8229 - val_loss: 0.5828 - val_accuracy: 0.7328\n",
            "Epoch 112/200\n",
            "10/10 [==============================] - 0s 5ms/step - loss: 0.3912 - accuracy: 0.8237 - val_loss: 0.5869 - val_accuracy: 0.7241\n",
            "Epoch 113/200\n",
            "10/10 [==============================] - 0s 6ms/step - loss: 0.3771 - accuracy: 0.8310 - val_loss: 0.5881 - val_accuracy: 0.7241\n",
            "Epoch 114/200\n",
            "10/10 [==============================] - 0s 6ms/step - loss: 0.3611 - accuracy: 0.8350 - val_loss: 0.5906 - val_accuracy: 0.7241\n",
            "Epoch 115/200\n",
            "10/10 [==============================] - 0s 5ms/step - loss: 0.3597 - accuracy: 0.8355 - val_loss: 0.5900 - val_accuracy: 0.7241\n",
            "Epoch 116/200\n",
            "10/10 [==============================] - 0s 6ms/step - loss: 0.3745 - accuracy: 0.8370 - val_loss: 0.5886 - val_accuracy: 0.7328\n",
            "Epoch 117/200\n",
            "10/10 [==============================] - 0s 19ms/step - loss: 0.3434 - accuracy: 0.8600 - val_loss: 0.5895 - val_accuracy: 0.7328\n",
            "Epoch 118/200\n",
            "10/10 [==============================] - 0s 5ms/step - loss: 0.3738 - accuracy: 0.8364 - val_loss: 0.5879 - val_accuracy: 0.7328\n",
            "Epoch 119/200\n",
            "10/10 [==============================] - 0s 5ms/step - loss: 0.3931 - accuracy: 0.8050 - val_loss: 0.5890 - val_accuracy: 0.7241\n",
            "Epoch 120/200\n",
            "10/10 [==============================] - 0s 5ms/step - loss: 0.3983 - accuracy: 0.8100 - val_loss: 0.5905 - val_accuracy: 0.7241\n",
            "Epoch 121/200\n",
            "10/10 [==============================] - 0s 6ms/step - loss: 0.3699 - accuracy: 0.8308 - val_loss: 0.5925 - val_accuracy: 0.7241\n",
            "Epoch 122/200\n",
            "10/10 [==============================] - 0s 6ms/step - loss: 0.3738 - accuracy: 0.8238 - val_loss: 0.5918 - val_accuracy: 0.7241\n",
            "Epoch 123/200\n",
            "10/10 [==============================] - 0s 6ms/step - loss: 0.3615 - accuracy: 0.8234 - val_loss: 0.5941 - val_accuracy: 0.7241\n",
            "Epoch 124/200\n",
            "10/10 [==============================] - 0s 6ms/step - loss: 0.4123 - accuracy: 0.8075 - val_loss: 0.5944 - val_accuracy: 0.7241\n",
            "Epoch 125/200\n",
            "10/10 [==============================] - 0s 6ms/step - loss: 0.3649 - accuracy: 0.8412 - val_loss: 0.5949 - val_accuracy: 0.7241\n",
            "Epoch 126/200\n",
            "10/10 [==============================] - 0s 6ms/step - loss: 0.3770 - accuracy: 0.8297 - val_loss: 0.5960 - val_accuracy: 0.7241\n",
            "Epoch 127/200\n",
            "10/10 [==============================] - 0s 6ms/step - loss: 0.3822 - accuracy: 0.8286 - val_loss: 0.5955 - val_accuracy: 0.7328\n",
            "Epoch 128/200\n",
            "10/10 [==============================] - 0s 6ms/step - loss: 0.3709 - accuracy: 0.8476 - val_loss: 0.5925 - val_accuracy: 0.7328\n",
            "Epoch 129/200\n",
            "10/10 [==============================] - 0s 6ms/step - loss: 0.3796 - accuracy: 0.8299 - val_loss: 0.5898 - val_accuracy: 0.7328\n",
            "Epoch 130/200\n",
            "10/10 [==============================] - 0s 6ms/step - loss: 0.3777 - accuracy: 0.8252 - val_loss: 0.5911 - val_accuracy: 0.7328\n",
            "Epoch 131/200\n",
            "10/10 [==============================] - 0s 7ms/step - loss: 0.3581 - accuracy: 0.8335 - val_loss: 0.5924 - val_accuracy: 0.7328\n",
            "Epoch 132/200\n",
            "10/10 [==============================] - 0s 7ms/step - loss: 0.3561 - accuracy: 0.8487 - val_loss: 0.5951 - val_accuracy: 0.7241\n",
            "Epoch 133/200\n",
            "10/10 [==============================] - 0s 6ms/step - loss: 0.3684 - accuracy: 0.8330 - val_loss: 0.5954 - val_accuracy: 0.7241\n",
            "Epoch 134/200\n",
            "10/10 [==============================] - 0s 6ms/step - loss: 0.4086 - accuracy: 0.8082 - val_loss: 0.5956 - val_accuracy: 0.7328\n",
            "Epoch 135/200\n",
            "10/10 [==============================] - 0s 6ms/step - loss: 0.3561 - accuracy: 0.8332 - val_loss: 0.5966 - val_accuracy: 0.7328\n",
            "Epoch 136/200\n",
            "10/10 [==============================] - 0s 6ms/step - loss: 0.3456 - accuracy: 0.8498 - val_loss: 0.5973 - val_accuracy: 0.7328\n",
            "Epoch 137/200\n",
            "10/10 [==============================] - 0s 6ms/step - loss: 0.3590 - accuracy: 0.8357 - val_loss: 0.5966 - val_accuracy: 0.7328\n",
            "Epoch 138/200\n",
            "10/10 [==============================] - 0s 6ms/step - loss: 0.3678 - accuracy: 0.8283 - val_loss: 0.5951 - val_accuracy: 0.7328\n",
            "Epoch 139/200\n",
            "10/10 [==============================] - 0s 6ms/step - loss: 0.3415 - accuracy: 0.8503 - val_loss: 0.5945 - val_accuracy: 0.7328\n",
            "Epoch 140/200\n",
            "10/10 [==============================] - 0s 6ms/step - loss: 0.3297 - accuracy: 0.8560 - val_loss: 0.5957 - val_accuracy: 0.7328\n",
            "Epoch 141/200\n",
            "10/10 [==============================] - 0s 6ms/step - loss: 0.3602 - accuracy: 0.8235 - val_loss: 0.5971 - val_accuracy: 0.7328\n",
            "Epoch 142/200\n",
            "10/10 [==============================] - 0s 6ms/step - loss: 0.3556 - accuracy: 0.8329 - val_loss: 0.6004 - val_accuracy: 0.7328\n",
            "Epoch 143/200\n",
            "10/10 [==============================] - 0s 6ms/step - loss: 0.3542 - accuracy: 0.8399 - val_loss: 0.6042 - val_accuracy: 0.7241\n",
            "Epoch 144/200\n",
            "10/10 [==============================] - 0s 6ms/step - loss: 0.3752 - accuracy: 0.8261 - val_loss: 0.6025 - val_accuracy: 0.7328\n",
            "Epoch 145/200\n",
            "10/10 [==============================] - 0s 7ms/step - loss: 0.3765 - accuracy: 0.8346 - val_loss: 0.6042 - val_accuracy: 0.7328\n",
            "Epoch 146/200\n",
            "10/10 [==============================] - 0s 5ms/step - loss: 0.3767 - accuracy: 0.8145 - val_loss: 0.6023 - val_accuracy: 0.7328\n",
            "Epoch 147/200\n",
            "10/10 [==============================] - 0s 5ms/step - loss: 0.3696 - accuracy: 0.8370 - val_loss: 0.6017 - val_accuracy: 0.7328\n",
            "Epoch 148/200\n",
            "10/10 [==============================] - 0s 6ms/step - loss: 0.3817 - accuracy: 0.8216 - val_loss: 0.6022 - val_accuracy: 0.7241\n",
            "Epoch 149/200\n",
            "10/10 [==============================] - 0s 7ms/step - loss: 0.3422 - accuracy: 0.8500 - val_loss: 0.6050 - val_accuracy: 0.7241\n",
            "Epoch 150/200\n",
            "10/10 [==============================] - 0s 6ms/step - loss: 0.3849 - accuracy: 0.8282 - val_loss: 0.6054 - val_accuracy: 0.7328\n",
            "Epoch 151/200\n",
            "10/10 [==============================] - 0s 6ms/step - loss: 0.3318 - accuracy: 0.8697 - val_loss: 0.6072 - val_accuracy: 0.7328\n",
            "Epoch 152/200\n",
            "10/10 [==============================] - 0s 6ms/step - loss: 0.3474 - accuracy: 0.8471 - val_loss: 0.6080 - val_accuracy: 0.7328\n",
            "Epoch 153/200\n",
            "10/10 [==============================] - 0s 6ms/step - loss: 0.3415 - accuracy: 0.8310 - val_loss: 0.6069 - val_accuracy: 0.7328\n",
            "Epoch 154/200\n",
            "10/10 [==============================] - 0s 7ms/step - loss: 0.3221 - accuracy: 0.8582 - val_loss: 0.6076 - val_accuracy: 0.7328\n",
            "Epoch 155/200\n",
            "10/10 [==============================] - 0s 6ms/step - loss: 0.3715 - accuracy: 0.8243 - val_loss: 0.6079 - val_accuracy: 0.7328\n",
            "Epoch 156/200\n",
            "10/10 [==============================] - 0s 6ms/step - loss: 0.3913 - accuracy: 0.8260 - val_loss: 0.6080 - val_accuracy: 0.7328\n",
            "Epoch 157/200\n",
            "10/10 [==============================] - 0s 6ms/step - loss: 0.3440 - accuracy: 0.8420 - val_loss: 0.6073 - val_accuracy: 0.7241\n",
            "Epoch 158/200\n",
            "10/10 [==============================] - 0s 6ms/step - loss: 0.3536 - accuracy: 0.8342 - val_loss: 0.6083 - val_accuracy: 0.7328\n",
            "Epoch 159/200\n",
            "10/10 [==============================] - 0s 6ms/step - loss: 0.3827 - accuracy: 0.8220 - val_loss: 0.6103 - val_accuracy: 0.7328\n",
            "Epoch 160/200\n",
            "10/10 [==============================] - 0s 6ms/step - loss: 0.3491 - accuracy: 0.8478 - val_loss: 0.6135 - val_accuracy: 0.7328\n",
            "Epoch 161/200\n",
            "10/10 [==============================] - 0s 19ms/step - loss: 0.3660 - accuracy: 0.8350 - val_loss: 0.6159 - val_accuracy: 0.7328\n",
            "Epoch 162/200\n",
            "10/10 [==============================] - 0s 6ms/step - loss: 0.3702 - accuracy: 0.8388 - val_loss: 0.6173 - val_accuracy: 0.7328\n",
            "Epoch 163/200\n",
            "10/10 [==============================] - 0s 6ms/step - loss: 0.3708 - accuracy: 0.8318 - val_loss: 0.6162 - val_accuracy: 0.7328\n",
            "Epoch 164/200\n",
            "10/10 [==============================] - 0s 6ms/step - loss: 0.3434 - accuracy: 0.8597 - val_loss: 0.6161 - val_accuracy: 0.7328\n",
            "Epoch 165/200\n",
            "10/10 [==============================] - 0s 6ms/step - loss: 0.3629 - accuracy: 0.8458 - val_loss: 0.6159 - val_accuracy: 0.7414\n",
            "Epoch 166/200\n",
            "10/10 [==============================] - 0s 6ms/step - loss: 0.3382 - accuracy: 0.8469 - val_loss: 0.6173 - val_accuracy: 0.7328\n",
            "Epoch 167/200\n",
            "10/10 [==============================] - 0s 6ms/step - loss: 0.3566 - accuracy: 0.8267 - val_loss: 0.6192 - val_accuracy: 0.7241\n",
            "Epoch 168/200\n",
            "10/10 [==============================] - 0s 6ms/step - loss: 0.3603 - accuracy: 0.8372 - val_loss: 0.6191 - val_accuracy: 0.7328\n",
            "Epoch 169/200\n",
            "10/10 [==============================] - 0s 5ms/step - loss: 0.3574 - accuracy: 0.8451 - val_loss: 0.6199 - val_accuracy: 0.7328\n",
            "Epoch 170/200\n",
            "10/10 [==============================] - 0s 6ms/step - loss: 0.3240 - accuracy: 0.8542 - val_loss: 0.6191 - val_accuracy: 0.7414\n",
            "Epoch 171/200\n",
            "10/10 [==============================] - 0s 6ms/step - loss: 0.3497 - accuracy: 0.8492 - val_loss: 0.6188 - val_accuracy: 0.7328\n",
            "Epoch 172/200\n",
            "10/10 [==============================] - 0s 6ms/step - loss: 0.3455 - accuracy: 0.8475 - val_loss: 0.6196 - val_accuracy: 0.7328\n",
            "Epoch 173/200\n",
            "10/10 [==============================] - 0s 5ms/step - loss: 0.3594 - accuracy: 0.8400 - val_loss: 0.6223 - val_accuracy: 0.7414\n",
            "Epoch 174/200\n",
            "10/10 [==============================] - 0s 6ms/step - loss: 0.3388 - accuracy: 0.8522 - val_loss: 0.6256 - val_accuracy: 0.7414\n",
            "Epoch 175/200\n",
            "10/10 [==============================] - 0s 7ms/step - loss: 0.3860 - accuracy: 0.8289 - val_loss: 0.6282 - val_accuracy: 0.7328\n",
            "Epoch 176/200\n",
            "10/10 [==============================] - 0s 7ms/step - loss: 0.3396 - accuracy: 0.8481 - val_loss: 0.6273 - val_accuracy: 0.7414\n",
            "Epoch 177/200\n",
            "10/10 [==============================] - 0s 6ms/step - loss: 0.3727 - accuracy: 0.8365 - val_loss: 0.6264 - val_accuracy: 0.7414\n",
            "Epoch 178/200\n",
            "10/10 [==============================] - 0s 5ms/step - loss: 0.3552 - accuracy: 0.8448 - val_loss: 0.6273 - val_accuracy: 0.7328\n",
            "Epoch 179/200\n",
            "10/10 [==============================] - 0s 6ms/step - loss: 0.3219 - accuracy: 0.8583 - val_loss: 0.6290 - val_accuracy: 0.7328\n",
            "Epoch 180/200\n",
            "10/10 [==============================] - 0s 7ms/step - loss: 0.3304 - accuracy: 0.8618 - val_loss: 0.6323 - val_accuracy: 0.7328\n",
            "Epoch 181/200\n",
            "10/10 [==============================] - 0s 6ms/step - loss: 0.3433 - accuracy: 0.8660 - val_loss: 0.6301 - val_accuracy: 0.7328\n",
            "Epoch 182/200\n",
            "10/10 [==============================] - 0s 5ms/step - loss: 0.3413 - accuracy: 0.8472 - val_loss: 0.6307 - val_accuracy: 0.7241\n",
            "Epoch 183/200\n",
            "10/10 [==============================] - 0s 6ms/step - loss: 0.3743 - accuracy: 0.8163 - val_loss: 0.6309 - val_accuracy: 0.7328\n",
            "Epoch 184/200\n",
            "10/10 [==============================] - 0s 6ms/step - loss: 0.3309 - accuracy: 0.8565 - val_loss: 0.6376 - val_accuracy: 0.7328\n",
            "Epoch 185/200\n",
            "10/10 [==============================] - 0s 6ms/step - loss: 0.3353 - accuracy: 0.8464 - val_loss: 0.6400 - val_accuracy: 0.7414\n",
            "Epoch 186/200\n",
            "10/10 [==============================] - 0s 6ms/step - loss: 0.3432 - accuracy: 0.8448 - val_loss: 0.6379 - val_accuracy: 0.7414\n",
            "Epoch 187/200\n",
            "10/10 [==============================] - 0s 5ms/step - loss: 0.3152 - accuracy: 0.8699 - val_loss: 0.6361 - val_accuracy: 0.7414\n",
            "Epoch 188/200\n",
            "10/10 [==============================] - 0s 7ms/step - loss: 0.3358 - accuracy: 0.8549 - val_loss: 0.6371 - val_accuracy: 0.7414\n",
            "Epoch 189/200\n",
            "10/10 [==============================] - 0s 6ms/step - loss: 0.3198 - accuracy: 0.8554 - val_loss: 0.6368 - val_accuracy: 0.7500\n",
            "Epoch 190/200\n",
            "10/10 [==============================] - 0s 6ms/step - loss: 0.3235 - accuracy: 0.8430 - val_loss: 0.6400 - val_accuracy: 0.7414\n",
            "Epoch 191/200\n",
            "10/10 [==============================] - 0s 6ms/step - loss: 0.3464 - accuracy: 0.8506 - val_loss: 0.6441 - val_accuracy: 0.7414\n",
            "Epoch 192/200\n",
            "10/10 [==============================] - 0s 6ms/step - loss: 0.3479 - accuracy: 0.8419 - val_loss: 0.6414 - val_accuracy: 0.7328\n",
            "Epoch 193/200\n",
            "10/10 [==============================] - 0s 6ms/step - loss: 0.3506 - accuracy: 0.8469 - val_loss: 0.6445 - val_accuracy: 0.7414\n",
            "Epoch 194/200\n",
            "10/10 [==============================] - 0s 6ms/step - loss: 0.3265 - accuracy: 0.8506 - val_loss: 0.6441 - val_accuracy: 0.7414\n",
            "Epoch 195/200\n",
            "10/10 [==============================] - 0s 6ms/step - loss: 0.3207 - accuracy: 0.8725 - val_loss: 0.6408 - val_accuracy: 0.7414\n",
            "Epoch 196/200\n",
            "10/10 [==============================] - 0s 6ms/step - loss: 0.2964 - accuracy: 0.8747 - val_loss: 0.6439 - val_accuracy: 0.7414\n",
            "Epoch 197/200\n",
            "10/10 [==============================] - 0s 6ms/step - loss: 0.3037 - accuracy: 0.8553 - val_loss: 0.6502 - val_accuracy: 0.7500\n",
            "Epoch 198/200\n",
            "10/10 [==============================] - 0s 6ms/step - loss: 0.3479 - accuracy: 0.8495 - val_loss: 0.6503 - val_accuracy: 0.7500\n",
            "Epoch 199/200\n",
            "10/10 [==============================] - 0s 6ms/step - loss: 0.3324 - accuracy: 0.8470 - val_loss: 0.6490 - val_accuracy: 0.7500\n",
            "Epoch 200/200\n",
            "10/10 [==============================] - 0s 6ms/step - loss: 0.3380 - accuracy: 0.8477 - val_loss: 0.6504 - val_accuracy: 0.7500\n"
          ],
          "name": "stdout"
        }
      ]
    },
    {
      "cell_type": "code",
      "metadata": {
        "colab": {
          "base_uri": "https://localhost:8080/"
        },
        "id": "TkIiGRZjJSrb",
        "outputId": "6cf5babe-11a0-42d0-da6e-539cc0529c15"
      },
      "source": [
        "acc = model.evaluate(X_test, y_test)\r\n",
        "print(f'Accuracy: {acc[1]:.4f}')"
      ],
      "execution_count": 10,
      "outputs": [
        {
          "output_type": "stream",
          "text": [
            "6/6 [==============================] - 0s 2ms/step - loss: 0.4788 - accuracy: 0.8073\n",
            "Accuracy: 0.8073\n"
          ],
          "name": "stdout"
        }
      ]
    },
    {
      "cell_type": "markdown",
      "metadata": {
        "id": "UOR3eOzwezJi"
      },
      "source": [
        "### 테스트"
      ]
    },
    {
      "cell_type": "code",
      "metadata": {
        "id": "7DyCsaEUJcq2",
        "colab": {
          "base_uri": "https://localhost:8080/"
        },
        "outputId": "5514810f-fefd-46ce-931d-63b9921f00d9"
      },
      "source": [
        "index = 10\r\n",
        "test_data = X_test[index, :].reshape(1,-1)\r\n",
        "test_data"
      ],
      "execution_count": 11,
      "outputs": [
        {
          "output_type": "execute_result",
          "data": {
            "text/plain": [
              "array([[-0.54791859,  2.38188392,  0.04624525,  4.92186584, -0.69289057,\n",
              "         0.34362394,  0.31144581,  2.44704844]])"
            ]
          },
          "metadata": {
            "tags": []
          },
          "execution_count": 11
        }
      ]
    },
    {
      "cell_type": "code",
      "metadata": {
        "colab": {
          "base_uri": "https://localhost:8080/"
        },
        "id": "UPitoAIbe2yz",
        "outputId": "22191441-1770-4644-a997-c2b7ecfe9b42"
      },
      "source": [
        "label = y_test[index]\r\n",
        "int(label)"
      ],
      "execution_count": 12,
      "outputs": [
        {
          "output_type": "execute_result",
          "data": {
            "text/plain": [
              "1"
            ]
          },
          "metadata": {
            "tags": []
          },
          "execution_count": 12
        }
      ]
    },
    {
      "cell_type": "code",
      "metadata": {
        "colab": {
          "base_uri": "https://localhost:8080/"
        },
        "id": "f4nn45GUe4Z6",
        "outputId": "6a79b39c-7362-407f-dec9-7c74ae16ef39"
      },
      "source": [
        "pred = model.predict(test_data)\r\n",
        "pred"
      ],
      "execution_count": 13,
      "outputs": [
        {
          "output_type": "execute_result",
          "data": {
            "text/plain": [
              "array([[0.72384053]], dtype=float32)"
            ]
          },
          "metadata": {
            "tags": []
          },
          "execution_count": 13
        }
      ]
    },
    {
      "cell_type": "code",
      "metadata": {
        "colab": {
          "base_uri": "https://localhost:8080/"
        },
        "id": "34dWWxVJe6N4",
        "outputId": "fbe21dc3-5025-4b3b-92f1-2854495e87a5"
      },
      "source": [
        "int(pred[0][0] > 0.5)"
      ],
      "execution_count": 14,
      "outputs": [
        {
          "output_type": "execute_result",
          "data": {
            "text/plain": [
              "1"
            ]
          },
          "metadata": {
            "tags": []
          },
          "execution_count": 14
        }
      ]
    },
    {
      "cell_type": "markdown",
      "metadata": {
        "id": "AUbLECoUe9l3"
      },
      "source": [
        "### 은닉층 추가"
      ]
    },
    {
      "cell_type": "code",
      "metadata": {
        "colab": {
          "base_uri": "https://localhost:8080/"
        },
        "id": "JWxEn-KLe7pH",
        "outputId": "71964f55-892d-46e7-d4cb-7079cd4c07db"
      },
      "source": [
        "model2 = Sequential([\r\n",
        "    Dense(24, input_shape=(8,), activation='relu'),\r\n",
        "    Dense(12, activation='relu'),\r\n",
        "    Dense(8, activation='relu'),\r\n",
        "    Dense(1, activation='sigmoid')\r\n",
        "])\r\n",
        "model2.summary()"
      ],
      "execution_count": 15,
      "outputs": [
        {
          "output_type": "stream",
          "text": [
            "Model: \"sequential_1\"\n",
            "_________________________________________________________________\n",
            "Layer (type)                 Output Shape              Param #   \n",
            "=================================================================\n",
            "dense_3 (Dense)              (None, 24)                216       \n",
            "_________________________________________________________________\n",
            "dense_4 (Dense)              (None, 12)                300       \n",
            "_________________________________________________________________\n",
            "dense_5 (Dense)              (None, 8)                 104       \n",
            "_________________________________________________________________\n",
            "dense_6 (Dense)              (None, 1)                 9         \n",
            "=================================================================\n",
            "Total params: 629\n",
            "Trainable params: 629\n",
            "Non-trainable params: 0\n",
            "_________________________________________________________________\n"
          ],
          "name": "stdout"
        }
      ]
    },
    {
      "cell_type": "code",
      "metadata": {
        "id": "jl1tf186fAZw"
      },
      "source": [
        "model2.compile(loss='binary_crossentropy', \r\n",
        "               optimizer='adam',\r\n",
        "               metrics=['accuracy'])"
      ],
      "execution_count": 16,
      "outputs": []
    },
    {
      "cell_type": "code",
      "metadata": {
        "colab": {
          "base_uri": "https://localhost:8080/"
        },
        "id": "_7557qT_fCaY",
        "outputId": "7a09fa2e-c00f-4dbc-ec46-da1970bddcb0"
      },
      "source": [
        "model2.fit(X_train, y_train, validation_split=0.2, epochs=100, batch_size=50)"
      ],
      "execution_count": 17,
      "outputs": [
        {
          "output_type": "stream",
          "text": [
            "Epoch 1/100\n",
            "10/10 [==============================] - 1s 21ms/step - loss: 0.6395 - accuracy: 0.7005 - val_loss: 0.6443 - val_accuracy: 0.6034\n",
            "Epoch 2/100\n",
            "10/10 [==============================] - 0s 5ms/step - loss: 0.6100 - accuracy: 0.7309 - val_loss: 0.6337 - val_accuracy: 0.6379\n",
            "Epoch 3/100\n",
            "10/10 [==============================] - 0s 5ms/step - loss: 0.6024 - accuracy: 0.7237 - val_loss: 0.6249 - val_accuracy: 0.6207\n",
            "Epoch 4/100\n",
            "10/10 [==============================] - 0s 19ms/step - loss: 0.5794 - accuracy: 0.7334 - val_loss: 0.6182 - val_accuracy: 0.6121\n",
            "Epoch 5/100\n",
            "10/10 [==============================] - 0s 5ms/step - loss: 0.5723 - accuracy: 0.7279 - val_loss: 0.6117 - val_accuracy: 0.6207\n",
            "Epoch 6/100\n",
            "10/10 [==============================] - 0s 5ms/step - loss: 0.5631 - accuracy: 0.7492 - val_loss: 0.6039 - val_accuracy: 0.6207\n",
            "Epoch 7/100\n",
            "10/10 [==============================] - 0s 6ms/step - loss: 0.5353 - accuracy: 0.7437 - val_loss: 0.5962 - val_accuracy: 0.6293\n",
            "Epoch 8/100\n",
            "10/10 [==============================] - 0s 6ms/step - loss: 0.5104 - accuracy: 0.7941 - val_loss: 0.5907 - val_accuracy: 0.6293\n",
            "Epoch 9/100\n",
            "10/10 [==============================] - 0s 5ms/step - loss: 0.5189 - accuracy: 0.7623 - val_loss: 0.5850 - val_accuracy: 0.6466\n",
            "Epoch 10/100\n",
            "10/10 [==============================] - 0s 5ms/step - loss: 0.5228 - accuracy: 0.7474 - val_loss: 0.5789 - val_accuracy: 0.6724\n",
            "Epoch 11/100\n",
            "10/10 [==============================] - 0s 6ms/step - loss: 0.5015 - accuracy: 0.7679 - val_loss: 0.5781 - val_accuracy: 0.6638\n",
            "Epoch 12/100\n",
            "10/10 [==============================] - 0s 5ms/step - loss: 0.4871 - accuracy: 0.7860 - val_loss: 0.5771 - val_accuracy: 0.6552\n",
            "Epoch 13/100\n",
            "10/10 [==============================] - 0s 6ms/step - loss: 0.4743 - accuracy: 0.7923 - val_loss: 0.5750 - val_accuracy: 0.6724\n",
            "Epoch 14/100\n",
            "10/10 [==============================] - 0s 5ms/step - loss: 0.5007 - accuracy: 0.7496 - val_loss: 0.5748 - val_accuracy: 0.6897\n",
            "Epoch 15/100\n",
            "10/10 [==============================] - 0s 6ms/step - loss: 0.4610 - accuracy: 0.7799 - val_loss: 0.5747 - val_accuracy: 0.6897\n",
            "Epoch 16/100\n",
            "10/10 [==============================] - 0s 5ms/step - loss: 0.4666 - accuracy: 0.7817 - val_loss: 0.5692 - val_accuracy: 0.6897\n",
            "Epoch 17/100\n",
            "10/10 [==============================] - 0s 5ms/step - loss: 0.4752 - accuracy: 0.7834 - val_loss: 0.5640 - val_accuracy: 0.6983\n",
            "Epoch 18/100\n",
            "10/10 [==============================] - 0s 6ms/step - loss: 0.4596 - accuracy: 0.7892 - val_loss: 0.5606 - val_accuracy: 0.6897\n",
            "Epoch 19/100\n",
            "10/10 [==============================] - 0s 6ms/step - loss: 0.4648 - accuracy: 0.7894 - val_loss: 0.5602 - val_accuracy: 0.6897\n",
            "Epoch 20/100\n",
            "10/10 [==============================] - 0s 6ms/step - loss: 0.4316 - accuracy: 0.7994 - val_loss: 0.5626 - val_accuracy: 0.6983\n",
            "Epoch 21/100\n",
            "10/10 [==============================] - 0s 5ms/step - loss: 0.4612 - accuracy: 0.7721 - val_loss: 0.5618 - val_accuracy: 0.6983\n",
            "Epoch 22/100\n",
            "10/10 [==============================] - 0s 6ms/step - loss: 0.4018 - accuracy: 0.8153 - val_loss: 0.5661 - val_accuracy: 0.6983\n",
            "Epoch 23/100\n",
            "10/10 [==============================] - 0s 6ms/step - loss: 0.4711 - accuracy: 0.7677 - val_loss: 0.5626 - val_accuracy: 0.6983\n",
            "Epoch 24/100\n",
            "10/10 [==============================] - 0s 6ms/step - loss: 0.4607 - accuracy: 0.7773 - val_loss: 0.5646 - val_accuracy: 0.7069\n",
            "Epoch 25/100\n",
            "10/10 [==============================] - 0s 6ms/step - loss: 0.4261 - accuracy: 0.7983 - val_loss: 0.5698 - val_accuracy: 0.6983\n",
            "Epoch 26/100\n",
            "10/10 [==============================] - 0s 6ms/step - loss: 0.4470 - accuracy: 0.7949 - val_loss: 0.5681 - val_accuracy: 0.6983\n",
            "Epoch 27/100\n",
            "10/10 [==============================] - 0s 7ms/step - loss: 0.4666 - accuracy: 0.7745 - val_loss: 0.5642 - val_accuracy: 0.6897\n",
            "Epoch 28/100\n",
            "10/10 [==============================] - 0s 6ms/step - loss: 0.4113 - accuracy: 0.8240 - val_loss: 0.5661 - val_accuracy: 0.6897\n",
            "Epoch 29/100\n",
            "10/10 [==============================] - 0s 5ms/step - loss: 0.4374 - accuracy: 0.7926 - val_loss: 0.5652 - val_accuracy: 0.6897\n",
            "Epoch 30/100\n",
            "10/10 [==============================] - 0s 6ms/step - loss: 0.4297 - accuracy: 0.8016 - val_loss: 0.5647 - val_accuracy: 0.6897\n",
            "Epoch 31/100\n",
            "10/10 [==============================] - 0s 6ms/step - loss: 0.4048 - accuracy: 0.8187 - val_loss: 0.5631 - val_accuracy: 0.6897\n",
            "Epoch 32/100\n",
            "10/10 [==============================] - 0s 6ms/step - loss: 0.4179 - accuracy: 0.8092 - val_loss: 0.5608 - val_accuracy: 0.6983\n",
            "Epoch 33/100\n",
            "10/10 [==============================] - 0s 5ms/step - loss: 0.4061 - accuracy: 0.8079 - val_loss: 0.5603 - val_accuracy: 0.7069\n",
            "Epoch 34/100\n",
            "10/10 [==============================] - 0s 6ms/step - loss: 0.4410 - accuracy: 0.8014 - val_loss: 0.5607 - val_accuracy: 0.7069\n",
            "Epoch 35/100\n",
            "10/10 [==============================] - 0s 6ms/step - loss: 0.3896 - accuracy: 0.8288 - val_loss: 0.5682 - val_accuracy: 0.7069\n",
            "Epoch 36/100\n",
            "10/10 [==============================] - 0s 6ms/step - loss: 0.4400 - accuracy: 0.7913 - val_loss: 0.5727 - val_accuracy: 0.7241\n",
            "Epoch 37/100\n",
            "10/10 [==============================] - 0s 5ms/step - loss: 0.4554 - accuracy: 0.7974 - val_loss: 0.5728 - val_accuracy: 0.7155\n",
            "Epoch 38/100\n",
            "10/10 [==============================] - 0s 6ms/step - loss: 0.4086 - accuracy: 0.8117 - val_loss: 0.5746 - val_accuracy: 0.7155\n",
            "Epoch 39/100\n",
            "10/10 [==============================] - 0s 6ms/step - loss: 0.4072 - accuracy: 0.8143 - val_loss: 0.5743 - val_accuracy: 0.7155\n",
            "Epoch 40/100\n",
            "10/10 [==============================] - 0s 5ms/step - loss: 0.4156 - accuracy: 0.8172 - val_loss: 0.5778 - val_accuracy: 0.7241\n",
            "Epoch 41/100\n",
            "10/10 [==============================] - 0s 6ms/step - loss: 0.4025 - accuracy: 0.8230 - val_loss: 0.5746 - val_accuracy: 0.7241\n",
            "Epoch 42/100\n",
            "10/10 [==============================] - 0s 6ms/step - loss: 0.3852 - accuracy: 0.8222 - val_loss: 0.5753 - val_accuracy: 0.7241\n",
            "Epoch 43/100\n",
            "10/10 [==============================] - 0s 6ms/step - loss: 0.4207 - accuracy: 0.8011 - val_loss: 0.5782 - val_accuracy: 0.7241\n",
            "Epoch 44/100\n",
            "10/10 [==============================] - 0s 6ms/step - loss: 0.4192 - accuracy: 0.8171 - val_loss: 0.5769 - val_accuracy: 0.7241\n",
            "Epoch 45/100\n",
            "10/10 [==============================] - 0s 6ms/step - loss: 0.4193 - accuracy: 0.8150 - val_loss: 0.5787 - val_accuracy: 0.7241\n",
            "Epoch 46/100\n",
            "10/10 [==============================] - 0s 6ms/step - loss: 0.3787 - accuracy: 0.8246 - val_loss: 0.5794 - val_accuracy: 0.7241\n",
            "Epoch 47/100\n",
            "10/10 [==============================] - 0s 6ms/step - loss: 0.4191 - accuracy: 0.8061 - val_loss: 0.5774 - val_accuracy: 0.7241\n",
            "Epoch 48/100\n",
            "10/10 [==============================] - 0s 6ms/step - loss: 0.4128 - accuracy: 0.8098 - val_loss: 0.5733 - val_accuracy: 0.7241\n",
            "Epoch 49/100\n",
            "10/10 [==============================] - 0s 6ms/step - loss: 0.4034 - accuracy: 0.8098 - val_loss: 0.5725 - val_accuracy: 0.7241\n",
            "Epoch 50/100\n",
            "10/10 [==============================] - 0s 5ms/step - loss: 0.4002 - accuracy: 0.8278 - val_loss: 0.5710 - val_accuracy: 0.7241\n",
            "Epoch 51/100\n",
            "10/10 [==============================] - 0s 6ms/step - loss: 0.3968 - accuracy: 0.8157 - val_loss: 0.5658 - val_accuracy: 0.7241\n",
            "Epoch 52/100\n",
            "10/10 [==============================] - 0s 6ms/step - loss: 0.3784 - accuracy: 0.8327 - val_loss: 0.5736 - val_accuracy: 0.7241\n",
            "Epoch 53/100\n",
            "10/10 [==============================] - 0s 6ms/step - loss: 0.3968 - accuracy: 0.8347 - val_loss: 0.5741 - val_accuracy: 0.7328\n",
            "Epoch 54/100\n",
            "10/10 [==============================] - 0s 6ms/step - loss: 0.3733 - accuracy: 0.8439 - val_loss: 0.5728 - val_accuracy: 0.7328\n",
            "Epoch 55/100\n",
            "10/10 [==============================] - 0s 6ms/step - loss: 0.4115 - accuracy: 0.8167 - val_loss: 0.5742 - val_accuracy: 0.7328\n",
            "Epoch 56/100\n",
            "10/10 [==============================] - 0s 6ms/step - loss: 0.3703 - accuracy: 0.8403 - val_loss: 0.5757 - val_accuracy: 0.7328\n",
            "Epoch 57/100\n",
            "10/10 [==============================] - 0s 5ms/step - loss: 0.3890 - accuracy: 0.8360 - val_loss: 0.5685 - val_accuracy: 0.7500\n",
            "Epoch 58/100\n",
            "10/10 [==============================] - 0s 18ms/step - loss: 0.4112 - accuracy: 0.8171 - val_loss: 0.5614 - val_accuracy: 0.7414\n",
            "Epoch 59/100\n",
            "10/10 [==============================] - 0s 6ms/step - loss: 0.3853 - accuracy: 0.8344 - val_loss: 0.5652 - val_accuracy: 0.7414\n",
            "Epoch 60/100\n",
            "10/10 [==============================] - 0s 6ms/step - loss: 0.3892 - accuracy: 0.8273 - val_loss: 0.5700 - val_accuracy: 0.7500\n",
            "Epoch 61/100\n",
            "10/10 [==============================] - 0s 6ms/step - loss: 0.3799 - accuracy: 0.8450 - val_loss: 0.5681 - val_accuracy: 0.7414\n",
            "Epoch 62/100\n",
            "10/10 [==============================] - 0s 7ms/step - loss: 0.3563 - accuracy: 0.8550 - val_loss: 0.5628 - val_accuracy: 0.7328\n",
            "Epoch 63/100\n",
            "10/10 [==============================] - 0s 6ms/step - loss: 0.3597 - accuracy: 0.8448 - val_loss: 0.5647 - val_accuracy: 0.7328\n",
            "Epoch 64/100\n",
            "10/10 [==============================] - 0s 5ms/step - loss: 0.3658 - accuracy: 0.8487 - val_loss: 0.5640 - val_accuracy: 0.7414\n",
            "Epoch 65/100\n",
            "10/10 [==============================] - 0s 5ms/step - loss: 0.3505 - accuracy: 0.8521 - val_loss: 0.5713 - val_accuracy: 0.7500\n",
            "Epoch 66/100\n",
            "10/10 [==============================] - 0s 6ms/step - loss: 0.3686 - accuracy: 0.8472 - val_loss: 0.5739 - val_accuracy: 0.7328\n",
            "Epoch 67/100\n",
            "10/10 [==============================] - 0s 6ms/step - loss: 0.3778 - accuracy: 0.8500 - val_loss: 0.5769 - val_accuracy: 0.7500\n",
            "Epoch 68/100\n",
            "10/10 [==============================] - 0s 6ms/step - loss: 0.3604 - accuracy: 0.8506 - val_loss: 0.5761 - val_accuracy: 0.7414\n",
            "Epoch 69/100\n",
            "10/10 [==============================] - 0s 6ms/step - loss: 0.3915 - accuracy: 0.8292 - val_loss: 0.5761 - val_accuracy: 0.7414\n",
            "Epoch 70/100\n",
            "10/10 [==============================] - 0s 6ms/step - loss: 0.3690 - accuracy: 0.8532 - val_loss: 0.5712 - val_accuracy: 0.7414\n",
            "Epoch 71/100\n",
            "10/10 [==============================] - 0s 6ms/step - loss: 0.3595 - accuracy: 0.8559 - val_loss: 0.5736 - val_accuracy: 0.7414\n",
            "Epoch 72/100\n",
            "10/10 [==============================] - 0s 6ms/step - loss: 0.3441 - accuracy: 0.8630 - val_loss: 0.5797 - val_accuracy: 0.7328\n",
            "Epoch 73/100\n",
            "10/10 [==============================] - 0s 5ms/step - loss: 0.3509 - accuracy: 0.8584 - val_loss: 0.5747 - val_accuracy: 0.7414\n",
            "Epoch 74/100\n",
            "10/10 [==============================] - 0s 6ms/step - loss: 0.3445 - accuracy: 0.8600 - val_loss: 0.5686 - val_accuracy: 0.7500\n",
            "Epoch 75/100\n",
            "10/10 [==============================] - 0s 6ms/step - loss: 0.3639 - accuracy: 0.8380 - val_loss: 0.5743 - val_accuracy: 0.7328\n",
            "Epoch 76/100\n",
            "10/10 [==============================] - 0s 6ms/step - loss: 0.3880 - accuracy: 0.8398 - val_loss: 0.5826 - val_accuracy: 0.7414\n",
            "Epoch 77/100\n",
            "10/10 [==============================] - 0s 6ms/step - loss: 0.3689 - accuracy: 0.8429 - val_loss: 0.5853 - val_accuracy: 0.7328\n",
            "Epoch 78/100\n",
            "10/10 [==============================] - 0s 6ms/step - loss: 0.3703 - accuracy: 0.8188 - val_loss: 0.5776 - val_accuracy: 0.7241\n",
            "Epoch 79/100\n",
            "10/10 [==============================] - 0s 6ms/step - loss: 0.3498 - accuracy: 0.8468 - val_loss: 0.5871 - val_accuracy: 0.7241\n",
            "Epoch 80/100\n",
            "10/10 [==============================] - 0s 7ms/step - loss: 0.3194 - accuracy: 0.8657 - val_loss: 0.5951 - val_accuracy: 0.7328\n",
            "Epoch 81/100\n",
            "10/10 [==============================] - 0s 6ms/step - loss: 0.3503 - accuracy: 0.8595 - val_loss: 0.5897 - val_accuracy: 0.7414\n",
            "Epoch 82/100\n",
            "10/10 [==============================] - 0s 5ms/step - loss: 0.3549 - accuracy: 0.8479 - val_loss: 0.5857 - val_accuracy: 0.7414\n",
            "Epoch 83/100\n",
            "10/10 [==============================] - 0s 6ms/step - loss: 0.3298 - accuracy: 0.8666 - val_loss: 0.5988 - val_accuracy: 0.7328\n",
            "Epoch 84/100\n",
            "10/10 [==============================] - 0s 6ms/step - loss: 0.3190 - accuracy: 0.8593 - val_loss: 0.5993 - val_accuracy: 0.7241\n",
            "Epoch 85/100\n",
            "10/10 [==============================] - 0s 7ms/step - loss: 0.3281 - accuracy: 0.8692 - val_loss: 0.6002 - val_accuracy: 0.7241\n",
            "Epoch 86/100\n",
            "10/10 [==============================] - 0s 6ms/step - loss: 0.3175 - accuracy: 0.8608 - val_loss: 0.5964 - val_accuracy: 0.7328\n",
            "Epoch 87/100\n",
            "10/10 [==============================] - 0s 5ms/step - loss: 0.3331 - accuracy: 0.8701 - val_loss: 0.6023 - val_accuracy: 0.7414\n",
            "Epoch 88/100\n",
            "10/10 [==============================] - 0s 5ms/step - loss: 0.3125 - accuracy: 0.8826 - val_loss: 0.6080 - val_accuracy: 0.7414\n",
            "Epoch 89/100\n",
            "10/10 [==============================] - 0s 6ms/step - loss: 0.3375 - accuracy: 0.8466 - val_loss: 0.6061 - val_accuracy: 0.7241\n",
            "Epoch 90/100\n",
            "10/10 [==============================] - 0s 5ms/step - loss: 0.3160 - accuracy: 0.8725 - val_loss: 0.6055 - val_accuracy: 0.7241\n",
            "Epoch 91/100\n",
            "10/10 [==============================] - 0s 6ms/step - loss: 0.2963 - accuracy: 0.8994 - val_loss: 0.6140 - val_accuracy: 0.7328\n",
            "Epoch 92/100\n",
            "10/10 [==============================] - 0s 6ms/step - loss: 0.3340 - accuracy: 0.8658 - val_loss: 0.6109 - val_accuracy: 0.7241\n",
            "Epoch 93/100\n",
            "10/10 [==============================] - 0s 6ms/step - loss: 0.3208 - accuracy: 0.8762 - val_loss: 0.6059 - val_accuracy: 0.7241\n",
            "Epoch 94/100\n",
            "10/10 [==============================] - 0s 6ms/step - loss: 0.3153 - accuracy: 0.8611 - val_loss: 0.6141 - val_accuracy: 0.7241\n",
            "Epoch 95/100\n",
            "10/10 [==============================] - 0s 6ms/step - loss: 0.3565 - accuracy: 0.8442 - val_loss: 0.6123 - val_accuracy: 0.7241\n",
            "Epoch 96/100\n",
            "10/10 [==============================] - 0s 6ms/step - loss: 0.3145 - accuracy: 0.8623 - val_loss: 0.6211 - val_accuracy: 0.7241\n",
            "Epoch 97/100\n",
            "10/10 [==============================] - 0s 6ms/step - loss: 0.3204 - accuracy: 0.8640 - val_loss: 0.6176 - val_accuracy: 0.7241\n",
            "Epoch 98/100\n",
            "10/10 [==============================] - 0s 6ms/step - loss: 0.3034 - accuracy: 0.8868 - val_loss: 0.6201 - val_accuracy: 0.7155\n",
            "Epoch 99/100\n",
            "10/10 [==============================] - 0s 6ms/step - loss: 0.3342 - accuracy: 0.8490 - val_loss: 0.6180 - val_accuracy: 0.7241\n",
            "Epoch 100/100\n",
            "10/10 [==============================] - 0s 6ms/step - loss: 0.3147 - accuracy: 0.8631 - val_loss: 0.6202 - val_accuracy: 0.7241\n"
          ],
          "name": "stdout"
        },
        {
          "output_type": "execute_result",
          "data": {
            "text/plain": [
              "<tensorflow.python.keras.callbacks.History at 0x7f5484446630>"
            ]
          },
          "metadata": {
            "tags": []
          },
          "execution_count": 17
        }
      ]
    },
    {
      "cell_type": "code",
      "metadata": {
        "colab": {
          "base_uri": "https://localhost:8080/"
        },
        "id": "x4JJCqorfDzg",
        "outputId": "6364e890-7fa7-4a34-bbab-d20e23299c63"
      },
      "source": [
        "acc = model2.evaluate(X_test, y_test)\r\n",
        "print(f'Accuracy: {acc[1]:.4f}')"
      ],
      "execution_count": 18,
      "outputs": [
        {
          "output_type": "stream",
          "text": [
            "6/6 [==============================] - 0s 2ms/step - loss: 0.5248 - accuracy: 0.7604\n",
            "Accuracy: 0.7604\n"
          ],
          "name": "stdout"
        }
      ]
    },
    {
      "cell_type": "code",
      "metadata": {
        "id": "ntuIyGD4fGw_"
      },
      "source": [
        ""
      ],
      "execution_count": null,
      "outputs": []
    }
  ]
}