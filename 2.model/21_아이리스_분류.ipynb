{
  "nbformat": 4,
  "nbformat_minor": 0,
  "metadata": {
    "colab": {
      "name": "03_아이리스.ipynb",
      "provenance": [],
      "collapsed_sections": []
    },
    "kernelspec": {
      "name": "python3",
      "display_name": "Python 3"
    }
  },
  "cells": [
    {
      "cell_type": "markdown",
      "metadata": {
        "id": "cBO9jypTFu63"
      },
      "source": [
        "# 아이리스 다중 분류"
      ]
    },
    {
      "cell_type": "code",
      "metadata": {
        "id": "x4V2s-HGFlhG"
      },
      "source": [
        "import numpy as np\r\n",
        "import tensorflow as tf"
      ],
      "execution_count": 1,
      "outputs": []
    },
    {
      "cell_type": "code",
      "metadata": {
        "id": "95NUwnXrF2pO"
      },
      "source": [
        "# 실행할 때마다 같은 결과를 출력하기 위한 seed 값 설정\r\n",
        "seed =2021\r\n",
        "np.random.seed(seed)\r\n",
        "tf.random.set_seed(seed)"
      ],
      "execution_count": 2,
      "outputs": []
    },
    {
      "cell_type": "markdown",
      "metadata": {
        "id": "lCf501fCGBHk"
      },
      "source": [
        "### 데이터 전처리"
      ]
    },
    {
      "cell_type": "code",
      "metadata": {
        "id": "RxWAQTHCGEfQ"
      },
      "source": [
        "from sklearn.datasets import load_iris\r\n",
        "iris = load_iris()"
      ],
      "execution_count": 3,
      "outputs": []
    },
    {
      "cell_type": "code",
      "metadata": {
        "colab": {
          "base_uri": "https://localhost:8080/"
        },
        "id": "9Wp5jbkbGQN7",
        "outputId": "98ebaf94-a615-4481-f95c-83d10f5206fc"
      },
      "source": [
        "# One hot encoding\r\n",
        "from tensorflow.keras.utils import to_categorical\r\n",
        "y_one_hot = to_categorical(iris.target)\r\n",
        "y_one_hot[:3]"
      ],
      "execution_count": 4,
      "outputs": [
        {
          "output_type": "execute_result",
          "data": {
            "text/plain": [
              "array([[1., 0., 0.],\n",
              "       [1., 0., 0.],\n",
              "       [1., 0., 0.]], dtype=float32)"
            ]
          },
          "metadata": {
            "tags": []
          },
          "execution_count": 4
        }
      ]
    },
    {
      "cell_type": "code",
      "metadata": {
        "id": "cX07t3MNHlVg"
      },
      "source": [
        "# 데이터 정규화\r\n",
        "from sklearn.preprocessing import MinMaxScaler\r\n",
        "scaler =MinMaxScaler()\r\n",
        "X_scaled = scaler.fit_transform(iris.data)"
      ],
      "execution_count": 9,
      "outputs": []
    },
    {
      "cell_type": "code",
      "metadata": {
        "colab": {
          "base_uri": "https://localhost:8080/"
        },
        "id": "UiJsadFEGqY7",
        "outputId": "bb3772b1-c0f5-42bd-9ee0-59033b814e77"
      },
      "source": [
        "from sklearn.model_selection import train_test_split\r\n",
        "X_train, X_test, y_train, y_test = train_test_split(\r\n",
        "    X_scaled, y_one_hot, stratify=y_one_hot, random_state=seed\r\n",
        ")\r\n",
        "X_train.shape, X_test.shape"
      ],
      "execution_count": 10,
      "outputs": [
        {
          "output_type": "execute_result",
          "data": {
            "text/plain": [
              "((112, 4), (38, 4))"
            ]
          },
          "metadata": {
            "tags": []
          },
          "execution_count": 10
        }
      ]
    },
    {
      "cell_type": "markdown",
      "metadata": {
        "id": "v14yAjMAINgs"
      },
      "source": [
        "### 모델 정의/설정/학습/평가"
      ]
    },
    {
      "cell_type": "code",
      "metadata": {
        "colab": {
          "base_uri": "https://localhost:8080/"
        },
        "id": "EDeRrgdjHK5d",
        "outputId": "bcab88b7-7c9f-4057-b3c6-fd0c2b392887"
      },
      "source": [
        "from tensorflow.keras.models import Sequential\r\n",
        "from tensorflow.keras.layers import Dense\r\n",
        "\r\n",
        "model = Sequential([\r\n",
        "    Dense(16, input_shape=(4,), activation='relu'),\r\n",
        "    Dense(3, activation='softmax')\r\n",
        "])\r\n",
        "model.summary()"
      ],
      "execution_count": 12,
      "outputs": [
        {
          "output_type": "stream",
          "text": [
            "Model: \"sequential\"\n",
            "_________________________________________________________________\n",
            "Layer (type)                 Output Shape              Param #   \n",
            "=================================================================\n",
            "dense (Dense)                (None, 16)                80        \n",
            "_________________________________________________________________\n",
            "dense_1 (Dense)              (None, 3)                 51        \n",
            "=================================================================\n",
            "Total params: 131\n",
            "Trainable params: 131\n",
            "Non-trainable params: 0\n",
            "_________________________________________________________________\n"
          ],
          "name": "stdout"
        }
      ]
    },
    {
      "cell_type": "code",
      "metadata": {
        "id": "Tek3RRL4IiXa"
      },
      "source": [
        "model.compile(loss='categorical_crossentropy', \r\n",
        "              optimizer='adam',\r\n",
        "              metrics=['accuracy'])"
      ],
      "execution_count": 13,
      "outputs": []
    },
    {
      "cell_type": "code",
      "metadata": {
        "colab": {
          "base_uri": "https://localhost:8080/"
        },
        "id": "EWopgponI0WI",
        "outputId": "e7d86947-6102-4b29-cce9-8a090d2e41da"
      },
      "source": [
        "model.fit(X_train, y_train, validation_split=0.2, epochs=50, batch_size=30)"
      ],
      "execution_count": 14,
      "outputs": [
        {
          "output_type": "stream",
          "text": [
            "Epoch 1/50\n",
            "3/3 [==============================] - 1s 118ms/step - loss: 1.1695 - accuracy: 0.1507 - val_loss: 1.1591 - val_accuracy: 0.1739\n",
            "Epoch 2/50\n",
            "3/3 [==============================] - 0s 19ms/step - loss: 1.1631 - accuracy: 0.1564 - val_loss: 1.1552 - val_accuracy: 0.1739\n",
            "Epoch 3/50\n",
            "3/3 [==============================] - 0s 19ms/step - loss: 1.1532 - accuracy: 0.1187 - val_loss: 1.1513 - val_accuracy: 0.1739\n",
            "Epoch 4/50\n",
            "3/3 [==============================] - 0s 18ms/step - loss: 1.1479 - accuracy: 0.1201 - val_loss: 1.1479 - val_accuracy: 0.1739\n",
            "Epoch 5/50\n",
            "3/3 [==============================] - 0s 21ms/step - loss: 1.1410 - accuracy: 0.1607 - val_loss: 1.1446 - val_accuracy: 0.2609\n",
            "Epoch 6/50\n",
            "3/3 [==============================] - 0s 14ms/step - loss: 1.1343 - accuracy: 0.2459 - val_loss: 1.1417 - val_accuracy: 0.3043\n",
            "Epoch 7/50\n",
            "3/3 [==============================] - 0s 63ms/step - loss: 1.1248 - accuracy: 0.3031 - val_loss: 1.1383 - val_accuracy: 0.3478\n",
            "Epoch 8/50\n",
            "3/3 [==============================] - 0s 13ms/step - loss: 1.1173 - accuracy: 0.3352 - val_loss: 1.1352 - val_accuracy: 0.3043\n",
            "Epoch 9/50\n",
            "3/3 [==============================] - 0s 13ms/step - loss: 1.1022 - accuracy: 0.3783 - val_loss: 1.1317 - val_accuracy: 0.2609\n",
            "Epoch 10/50\n",
            "3/3 [==============================] - 0s 13ms/step - loss: 1.1045 - accuracy: 0.3269 - val_loss: 1.1282 - val_accuracy: 0.3043\n",
            "Epoch 11/50\n",
            "3/3 [==============================] - 0s 12ms/step - loss: 1.1045 - accuracy: 0.3060 - val_loss: 1.1247 - val_accuracy: 0.3043\n",
            "Epoch 12/50\n",
            "3/3 [==============================] - 0s 14ms/step - loss: 1.0935 - accuracy: 0.3269 - val_loss: 1.1206 - val_accuracy: 0.3043\n",
            "Epoch 13/50\n",
            "3/3 [==============================] - 0s 15ms/step - loss: 1.0851 - accuracy: 0.3144 - val_loss: 1.1170 - val_accuracy: 0.3043\n",
            "Epoch 14/50\n",
            "3/3 [==============================] - 0s 13ms/step - loss: 1.0771 - accuracy: 0.3269 - val_loss: 1.1132 - val_accuracy: 0.3043\n",
            "Epoch 15/50\n",
            "3/3 [==============================] - 0s 13ms/step - loss: 1.0768 - accuracy: 0.3060 - val_loss: 1.1093 - val_accuracy: 0.3043\n",
            "Epoch 16/50\n",
            "3/3 [==============================] - 0s 13ms/step - loss: 1.0638 - accuracy: 0.3352 - val_loss: 1.1055 - val_accuracy: 0.3043\n",
            "Epoch 17/50\n",
            "3/3 [==============================] - 0s 12ms/step - loss: 1.0606 - accuracy: 0.3435 - val_loss: 1.1016 - val_accuracy: 0.3043\n",
            "Epoch 18/50\n",
            "3/3 [==============================] - 0s 19ms/step - loss: 1.0378 - accuracy: 0.3685 - val_loss: 1.0980 - val_accuracy: 0.3043\n",
            "Epoch 19/50\n",
            "3/3 [==============================] - 0s 20ms/step - loss: 1.0419 - accuracy: 0.3450 - val_loss: 1.0941 - val_accuracy: 0.3043\n",
            "Epoch 20/50\n",
            "3/3 [==============================] - 0s 19ms/step - loss: 1.0389 - accuracy: 0.3589 - val_loss: 1.0900 - val_accuracy: 0.3043\n",
            "Epoch 21/50\n",
            "3/3 [==============================] - 0s 20ms/step - loss: 1.0386 - accuracy: 0.3829 - val_loss: 1.0856 - val_accuracy: 0.3043\n",
            "Epoch 22/50\n",
            "3/3 [==============================] - 0s 19ms/step - loss: 1.0273 - accuracy: 0.4372 - val_loss: 1.0812 - val_accuracy: 0.3043\n",
            "Epoch 23/50\n",
            "3/3 [==============================] - 0s 17ms/step - loss: 1.0308 - accuracy: 0.4095 - val_loss: 1.0763 - val_accuracy: 0.3478\n",
            "Epoch 24/50\n",
            "3/3 [==============================] - 0s 18ms/step - loss: 0.9827 - accuracy: 0.5849 - val_loss: 1.0723 - val_accuracy: 0.3913\n",
            "Epoch 25/50\n",
            "3/3 [==============================] - 0s 20ms/step - loss: 1.0060 - accuracy: 0.5782 - val_loss: 1.0675 - val_accuracy: 0.4348\n",
            "Epoch 26/50\n",
            "3/3 [==============================] - 0s 19ms/step - loss: 1.0081 - accuracy: 0.5967 - val_loss: 1.0622 - val_accuracy: 0.4348\n",
            "Epoch 27/50\n",
            "3/3 [==============================] - 0s 22ms/step - loss: 0.9936 - accuracy: 0.6802 - val_loss: 1.0570 - val_accuracy: 0.5217\n",
            "Epoch 28/50\n",
            "3/3 [==============================] - 0s 20ms/step - loss: 0.9909 - accuracy: 0.6775 - val_loss: 1.0515 - val_accuracy: 0.5217\n",
            "Epoch 29/50\n",
            "3/3 [==============================] - 0s 19ms/step - loss: 0.9815 - accuracy: 0.7123 - val_loss: 1.0463 - val_accuracy: 0.5217\n",
            "Epoch 30/50\n",
            "3/3 [==============================] - 0s 20ms/step - loss: 0.9701 - accuracy: 0.6998 - val_loss: 1.0411 - val_accuracy: 0.5217\n",
            "Epoch 31/50\n",
            "3/3 [==============================] - 0s 20ms/step - loss: 0.9732 - accuracy: 0.7164 - val_loss: 1.0358 - val_accuracy: 0.5217\n",
            "Epoch 32/50\n",
            "3/3 [==============================] - 0s 19ms/step - loss: 0.9668 - accuracy: 0.6873 - val_loss: 1.0304 - val_accuracy: 0.5217\n",
            "Epoch 33/50\n",
            "3/3 [==============================] - 0s 19ms/step - loss: 0.9368 - accuracy: 0.7414 - val_loss: 1.0255 - val_accuracy: 0.5217\n",
            "Epoch 34/50\n",
            "3/3 [==============================] - 0s 19ms/step - loss: 0.9569 - accuracy: 0.6956 - val_loss: 1.0201 - val_accuracy: 0.5217\n",
            "Epoch 35/50\n",
            "3/3 [==============================] - 0s 18ms/step - loss: 0.9550 - accuracy: 0.6873 - val_loss: 1.0146 - val_accuracy: 0.5217\n",
            "Epoch 36/50\n",
            "3/3 [==============================] - 0s 20ms/step - loss: 0.9488 - accuracy: 0.6873 - val_loss: 1.0092 - val_accuracy: 0.5217\n",
            "Epoch 37/50\n",
            "3/3 [==============================] - 0s 20ms/step - loss: 0.9404 - accuracy: 0.6831 - val_loss: 1.0037 - val_accuracy: 0.5217\n",
            "Epoch 38/50\n",
            "3/3 [==============================] - 0s 19ms/step - loss: 0.9206 - accuracy: 0.7081 - val_loss: 0.9985 - val_accuracy: 0.5217\n",
            "Epoch 39/50\n",
            "3/3 [==============================] - 0s 21ms/step - loss: 0.9135 - accuracy: 0.7039 - val_loss: 0.9930 - val_accuracy: 0.5217\n",
            "Epoch 40/50\n",
            "3/3 [==============================] - 0s 21ms/step - loss: 0.9131 - accuracy: 0.6706 - val_loss: 0.9873 - val_accuracy: 0.5217\n",
            "Epoch 41/50\n",
            "3/3 [==============================] - 0s 20ms/step - loss: 0.9088 - accuracy: 0.6831 - val_loss: 0.9815 - val_accuracy: 0.5217\n",
            "Epoch 42/50\n",
            "3/3 [==============================] - 0s 20ms/step - loss: 0.9051 - accuracy: 0.6873 - val_loss: 0.9757 - val_accuracy: 0.5217\n",
            "Epoch 43/50\n",
            "3/3 [==============================] - 0s 20ms/step - loss: 0.8866 - accuracy: 0.6998 - val_loss: 0.9702 - val_accuracy: 0.5217\n",
            "Epoch 44/50\n",
            "3/3 [==============================] - 0s 18ms/step - loss: 0.8831 - accuracy: 0.7039 - val_loss: 0.9644 - val_accuracy: 0.5217\n",
            "Epoch 45/50\n",
            "3/3 [==============================] - 0s 20ms/step - loss: 0.8761 - accuracy: 0.6998 - val_loss: 0.9586 - val_accuracy: 0.5217\n",
            "Epoch 46/50\n",
            "3/3 [==============================] - 0s 13ms/step - loss: 0.8667 - accuracy: 0.7039 - val_loss: 0.9528 - val_accuracy: 0.5217\n",
            "Epoch 47/50\n",
            "3/3 [==============================] - 0s 21ms/step - loss: 0.8487 - accuracy: 0.7331 - val_loss: 0.9471 - val_accuracy: 0.5217\n",
            "Epoch 48/50\n",
            "3/3 [==============================] - 0s 21ms/step - loss: 0.8576 - accuracy: 0.6914 - val_loss: 0.9407 - val_accuracy: 0.5217\n",
            "Epoch 49/50\n",
            "3/3 [==============================] - 0s 19ms/step - loss: 0.8446 - accuracy: 0.7123 - val_loss: 0.9347 - val_accuracy: 0.5217\n",
            "Epoch 50/50\n",
            "3/3 [==============================] - 0s 21ms/step - loss: 0.8484 - accuracy: 0.6748 - val_loss: 0.9283 - val_accuracy: 0.5217\n"
          ],
          "name": "stdout"
        },
        {
          "output_type": "execute_result",
          "data": {
            "text/plain": [
              "<tensorflow.python.keras.callbacks.History at 0x7f8769cf0710>"
            ]
          },
          "metadata": {
            "tags": []
          },
          "execution_count": 14
        }
      ]
    },
    {
      "cell_type": "code",
      "metadata": {
        "colab": {
          "base_uri": "https://localhost:8080/"
        },
        "id": "o78e4QqWI-Op",
        "outputId": "61c3e244-ca47-4d8c-c858-06780cfc648a"
      },
      "source": [
        "acc = model.evaluate(X_test, y_test)\r\n",
        "print(f'Accuracy: {acc[1]:.4f}')"
      ],
      "execution_count": 15,
      "outputs": [
        {
          "output_type": "stream",
          "text": [
            "2/2 [==============================] - 0s 2ms/step - loss: 0.8552 - accuracy: 0.6579\n",
            "Accuracy: 0.6579\n"
          ],
          "name": "stdout"
        }
      ]
    },
    {
      "cell_type": "markdown",
      "metadata": {
        "id": "DZc3OsCwKCLS"
      },
      "source": [
        "### 은닉층을 하나 더 추가"
      ]
    },
    {
      "cell_type": "code",
      "metadata": {
        "colab": {
          "base_uri": "https://localhost:8080/"
        },
        "id": "7mEMAWT0JH-3",
        "outputId": "c71ca06e-7947-4c05-9c4c-ac5626ed189c"
      },
      "source": [
        "model2 = Sequential()\r\n",
        "model2.add(Dense(12, input_dim=4, activation='relu'))\r\n",
        "model2.add(Dense(8, activation='relu'))\r\n",
        "model2.add(Dense(3, activation='softmax'))\r\n",
        "model2.summary()"
      ],
      "execution_count": 19,
      "outputs": [
        {
          "output_type": "stream",
          "text": [
            "Model: \"sequential_2\"\n",
            "_________________________________________________________________\n",
            "Layer (type)                 Output Shape              Param #   \n",
            "=================================================================\n",
            "dense_5 (Dense)              (None, 12)                60        \n",
            "_________________________________________________________________\n",
            "dense_6 (Dense)              (None, 8)                 104       \n",
            "_________________________________________________________________\n",
            "dense_7 (Dense)              (None, 3)                 27        \n",
            "=================================================================\n",
            "Total params: 191\n",
            "Trainable params: 191\n",
            "Non-trainable params: 0\n",
            "_________________________________________________________________\n"
          ],
          "name": "stdout"
        }
      ]
    },
    {
      "cell_type": "code",
      "metadata": {
        "colab": {
          "base_uri": "https://localhost:8080/"
        },
        "id": "guTgCQuZKj0l",
        "outputId": "90c55498-b144-4cc4-8a4a-80b3e954422b"
      },
      "source": [
        "model2.compile(loss='categorical_crossentropy',\r\n",
        "               optimizer='adam',\r\n",
        "               metrics=['accuracy'])\r\n",
        "model2.fit(X_train, y_train, validation_split=0.2, epochs=200, batch_size=30)"
      ],
      "execution_count": 20,
      "outputs": [
        {
          "output_type": "stream",
          "text": [
            "Epoch 1/200\n",
            "3/3 [==============================] - 1s 86ms/step - loss: 1.0791 - accuracy: 0.3294 - val_loss: 1.0334 - val_accuracy: 0.4783\n",
            "Epoch 2/200\n",
            "3/3 [==============================] - 0s 18ms/step - loss: 1.0731 - accuracy: 0.3044 - val_loss: 1.0270 - val_accuracy: 0.4783\n",
            "Epoch 3/200\n",
            "3/3 [==============================] - 0s 22ms/step - loss: 1.0594 - accuracy: 0.3044 - val_loss: 1.0210 - val_accuracy: 0.4783\n",
            "Epoch 4/200\n",
            "3/3 [==============================] - 0s 18ms/step - loss: 1.0509 - accuracy: 0.2750 - val_loss: 1.0156 - val_accuracy: 0.4783\n",
            "Epoch 5/200\n",
            "3/3 [==============================] - 0s 19ms/step - loss: 1.0460 - accuracy: 0.2317 - val_loss: 1.0109 - val_accuracy: 0.4783\n",
            "Epoch 6/200\n",
            "3/3 [==============================] - 0s 21ms/step - loss: 1.0340 - accuracy: 0.2163 - val_loss: 1.0068 - val_accuracy: 0.4348\n",
            "Epoch 7/200\n",
            "3/3 [==============================] - 0s 17ms/step - loss: 1.0217 - accuracy: 0.3421 - val_loss: 1.0025 - val_accuracy: 0.3043\n",
            "Epoch 8/200\n",
            "3/3 [==============================] - 0s 18ms/step - loss: 1.0160 - accuracy: 0.4064 - val_loss: 0.9986 - val_accuracy: 0.3478\n",
            "Epoch 9/200\n",
            "3/3 [==============================] - 0s 19ms/step - loss: 1.0021 - accuracy: 0.4985 - val_loss: 0.9945 - val_accuracy: 0.3478\n",
            "Epoch 10/200\n",
            "3/3 [==============================] - 0s 18ms/step - loss: 1.0040 - accuracy: 0.4986 - val_loss: 0.9905 - val_accuracy: 0.3478\n",
            "Epoch 11/200\n",
            "3/3 [==============================] - 0s 21ms/step - loss: 0.9964 - accuracy: 0.5601 - val_loss: 0.9864 - val_accuracy: 0.4783\n",
            "Epoch 12/200\n",
            "3/3 [==============================] - 0s 19ms/step - loss: 0.9846 - accuracy: 0.5673 - val_loss: 0.9821 - val_accuracy: 0.5217\n",
            "Epoch 13/200\n",
            "3/3 [==============================] - 0s 20ms/step - loss: 0.9819 - accuracy: 0.6467 - val_loss: 0.9782 - val_accuracy: 0.5217\n",
            "Epoch 14/200\n",
            "3/3 [==============================] - 0s 22ms/step - loss: 0.9690 - accuracy: 0.6719 - val_loss: 0.9741 - val_accuracy: 0.5217\n",
            "Epoch 15/200\n",
            "3/3 [==============================] - 0s 23ms/step - loss: 0.9708 - accuracy: 0.6427 - val_loss: 0.9697 - val_accuracy: 0.5217\n",
            "Epoch 16/200\n",
            "3/3 [==============================] - 0s 18ms/step - loss: 0.9534 - accuracy: 0.6719 - val_loss: 0.9657 - val_accuracy: 0.5217\n",
            "Epoch 17/200\n",
            "3/3 [==============================] - 0s 21ms/step - loss: 0.9470 - accuracy: 0.6177 - val_loss: 0.9614 - val_accuracy: 0.5217\n",
            "Epoch 18/200\n",
            "3/3 [==============================] - 0s 20ms/step - loss: 0.9226 - accuracy: 0.7316 - val_loss: 0.9577 - val_accuracy: 0.5217\n",
            "Epoch 19/200\n",
            "3/3 [==============================] - 0s 18ms/step - loss: 0.9265 - accuracy: 0.7164 - val_loss: 0.9534 - val_accuracy: 0.5217\n",
            "Epoch 20/200\n",
            "3/3 [==============================] - 0s 18ms/step - loss: 0.9209 - accuracy: 0.7039 - val_loss: 0.9488 - val_accuracy: 0.5217\n",
            "Epoch 21/200\n",
            "3/3 [==============================] - 0s 18ms/step - loss: 0.9210 - accuracy: 0.7039 - val_loss: 0.9438 - val_accuracy: 0.5217\n",
            "Epoch 22/200\n",
            "3/3 [==============================] - 0s 19ms/step - loss: 0.9085 - accuracy: 0.7164 - val_loss: 0.9387 - val_accuracy: 0.5217\n",
            "Epoch 23/200\n",
            "3/3 [==============================] - 0s 21ms/step - loss: 0.9132 - accuracy: 0.6706 - val_loss: 0.9329 - val_accuracy: 0.5217\n",
            "Epoch 24/200\n",
            "3/3 [==============================] - 0s 19ms/step - loss: 0.8549 - accuracy: 0.7623 - val_loss: 0.9286 - val_accuracy: 0.5217\n",
            "Epoch 25/200\n",
            "3/3 [==============================] - 0s 20ms/step - loss: 0.8858 - accuracy: 0.7289 - val_loss: 0.9228 - val_accuracy: 0.5217\n",
            "Epoch 26/200\n",
            "3/3 [==============================] - 0s 19ms/step - loss: 0.8793 - accuracy: 0.6873 - val_loss: 0.9166 - val_accuracy: 0.5217\n",
            "Epoch 27/200\n",
            "3/3 [==============================] - 0s 18ms/step - loss: 0.8703 - accuracy: 0.7039 - val_loss: 0.9105 - val_accuracy: 0.5217\n",
            "Epoch 28/200\n",
            "3/3 [==============================] - 0s 17ms/step - loss: 0.8683 - accuracy: 0.6831 - val_loss: 0.9039 - val_accuracy: 0.5217\n",
            "Epoch 29/200\n",
            "3/3 [==============================] - 0s 18ms/step - loss: 0.8604 - accuracy: 0.7123 - val_loss: 0.8976 - val_accuracy: 0.5217\n",
            "Epoch 30/200\n",
            "3/3 [==============================] - 0s 19ms/step - loss: 0.8371 - accuracy: 0.6998 - val_loss: 0.8910 - val_accuracy: 0.5217\n",
            "Epoch 31/200\n",
            "3/3 [==============================] - 0s 20ms/step - loss: 0.8457 - accuracy: 0.7164 - val_loss: 0.8842 - val_accuracy: 0.5217\n",
            "Epoch 32/200\n",
            "3/3 [==============================] - 0s 21ms/step - loss: 0.8363 - accuracy: 0.6873 - val_loss: 0.8776 - val_accuracy: 0.5217\n",
            "Epoch 33/200\n",
            "3/3 [==============================] - 0s 19ms/step - loss: 0.8044 - accuracy: 0.7414 - val_loss: 0.8717 - val_accuracy: 0.5217\n",
            "Epoch 34/200\n",
            "3/3 [==============================] - 0s 20ms/step - loss: 0.8223 - accuracy: 0.6956 - val_loss: 0.8652 - val_accuracy: 0.5217\n",
            "Epoch 35/200\n",
            "3/3 [==============================] - 0s 23ms/step - loss: 0.8220 - accuracy: 0.6873 - val_loss: 0.8586 - val_accuracy: 0.5217\n",
            "Epoch 36/200\n",
            "3/3 [==============================] - 0s 19ms/step - loss: 0.8165 - accuracy: 0.6873 - val_loss: 0.8523 - val_accuracy: 0.5217\n",
            "Epoch 37/200\n",
            "3/3 [==============================] - 0s 23ms/step - loss: 0.8070 - accuracy: 0.6831 - val_loss: 0.8463 - val_accuracy: 0.5217\n",
            "Epoch 38/200\n",
            "3/3 [==============================] - 0s 19ms/step - loss: 0.7859 - accuracy: 0.7081 - val_loss: 0.8407 - val_accuracy: 0.5217\n",
            "Epoch 39/200\n",
            "3/3 [==============================] - 0s 78ms/step - loss: 0.7829 - accuracy: 0.7039 - val_loss: 0.8351 - val_accuracy: 0.5217\n",
            "Epoch 40/200\n",
            "3/3 [==============================] - 0s 22ms/step - loss: 0.7733 - accuracy: 0.6706 - val_loss: 0.8298 - val_accuracy: 0.5217\n",
            "Epoch 41/200\n",
            "3/3 [==============================] - 0s 18ms/step - loss: 0.7733 - accuracy: 0.6831 - val_loss: 0.8241 - val_accuracy: 0.5217\n",
            "Epoch 42/200\n",
            "3/3 [==============================] - 0s 22ms/step - loss: 0.7644 - accuracy: 0.6873 - val_loss: 0.8185 - val_accuracy: 0.5217\n",
            "Epoch 43/200\n",
            "3/3 [==============================] - 0s 22ms/step - loss: 0.7481 - accuracy: 0.6998 - val_loss: 0.8134 - val_accuracy: 0.5217\n",
            "Epoch 44/200\n",
            "3/3 [==============================] - 0s 19ms/step - loss: 0.7487 - accuracy: 0.7039 - val_loss: 0.8081 - val_accuracy: 0.5217\n",
            "Epoch 45/200\n",
            "3/3 [==============================] - 0s 19ms/step - loss: 0.7429 - accuracy: 0.6998 - val_loss: 0.8027 - val_accuracy: 0.5217\n",
            "Epoch 46/200\n",
            "3/3 [==============================] - 0s 18ms/step - loss: 0.7272 - accuracy: 0.7039 - val_loss: 0.7974 - val_accuracy: 0.5217\n",
            "Epoch 47/200\n",
            "3/3 [==============================] - 0s 19ms/step - loss: 0.7143 - accuracy: 0.7331 - val_loss: 0.7922 - val_accuracy: 0.5217\n",
            "Epoch 48/200\n",
            "3/3 [==============================] - 0s 24ms/step - loss: 0.7220 - accuracy: 0.6914 - val_loss: 0.7862 - val_accuracy: 0.5217\n",
            "Epoch 49/200\n",
            "3/3 [==============================] - 0s 21ms/step - loss: 0.7071 - accuracy: 0.7123 - val_loss: 0.7808 - val_accuracy: 0.5217\n",
            "Epoch 50/200\n",
            "3/3 [==============================] - 0s 21ms/step - loss: 0.7117 - accuracy: 0.6748 - val_loss: 0.7749 - val_accuracy: 0.5217\n",
            "Epoch 51/200\n",
            "3/3 [==============================] - 0s 22ms/step - loss: 0.6969 - accuracy: 0.6914 - val_loss: 0.7696 - val_accuracy: 0.5217\n",
            "Epoch 52/200\n",
            "3/3 [==============================] - 0s 19ms/step - loss: 0.6774 - accuracy: 0.7206 - val_loss: 0.7648 - val_accuracy: 0.5217\n",
            "Epoch 53/200\n",
            "3/3 [==============================] - 0s 20ms/step - loss: 0.6849 - accuracy: 0.6956 - val_loss: 0.7588 - val_accuracy: 0.5217\n",
            "Epoch 54/200\n",
            "3/3 [==============================] - 0s 20ms/step - loss: 0.6873 - accuracy: 0.6914 - val_loss: 0.7528 - val_accuracy: 0.5217\n",
            "Epoch 55/200\n",
            "3/3 [==============================] - 0s 21ms/step - loss: 0.6611 - accuracy: 0.7123 - val_loss: 0.7478 - val_accuracy: 0.5217\n",
            "Epoch 56/200\n",
            "3/3 [==============================] - 0s 24ms/step - loss: 0.6538 - accuracy: 0.7164 - val_loss: 0.7429 - val_accuracy: 0.5217\n",
            "Epoch 57/200\n",
            "3/3 [==============================] - 0s 20ms/step - loss: 0.6498 - accuracy: 0.7164 - val_loss: 0.7372 - val_accuracy: 0.5217\n",
            "Epoch 58/200\n",
            "3/3 [==============================] - 0s 21ms/step - loss: 0.6422 - accuracy: 0.7081 - val_loss: 0.7323 - val_accuracy: 0.5217\n",
            "Epoch 59/200\n",
            "3/3 [==============================] - 0s 21ms/step - loss: 0.6324 - accuracy: 0.7206 - val_loss: 0.7276 - val_accuracy: 0.5217\n",
            "Epoch 60/200\n",
            "3/3 [==============================] - 0s 21ms/step - loss: 0.6229 - accuracy: 0.7206 - val_loss: 0.7225 - val_accuracy: 0.5217\n",
            "Epoch 61/200\n",
            "3/3 [==============================] - 0s 21ms/step - loss: 0.6128 - accuracy: 0.7248 - val_loss: 0.7179 - val_accuracy: 0.5217\n",
            "Epoch 62/200\n",
            "3/3 [==============================] - 0s 20ms/step - loss: 0.6297 - accuracy: 0.6873 - val_loss: 0.7120 - val_accuracy: 0.5217\n",
            "Epoch 63/200\n",
            "3/3 [==============================] - 0s 25ms/step - loss: 0.6010 - accuracy: 0.7206 - val_loss: 0.7068 - val_accuracy: 0.5217\n",
            "Epoch 64/200\n",
            "3/3 [==============================] - 0s 22ms/step - loss: 0.6144 - accuracy: 0.6914 - val_loss: 0.7011 - val_accuracy: 0.5217\n",
            "Epoch 65/200\n",
            "3/3 [==============================] - 0s 22ms/step - loss: 0.6029 - accuracy: 0.6998 - val_loss: 0.6966 - val_accuracy: 0.5217\n",
            "Epoch 66/200\n",
            "3/3 [==============================] - 0s 20ms/step - loss: 0.5711 - accuracy: 0.7498 - val_loss: 0.6922 - val_accuracy: 0.5217\n",
            "Epoch 67/200\n",
            "3/3 [==============================] - 0s 19ms/step - loss: 0.5840 - accuracy: 0.7164 - val_loss: 0.6875 - val_accuracy: 0.5217\n",
            "Epoch 68/200\n",
            "3/3 [==============================] - 0s 18ms/step - loss: 0.5643 - accuracy: 0.7373 - val_loss: 0.6837 - val_accuracy: 0.5217\n",
            "Epoch 69/200\n",
            "3/3 [==============================] - 0s 20ms/step - loss: 0.5773 - accuracy: 0.7123 - val_loss: 0.6790 - val_accuracy: 0.5217\n",
            "Epoch 70/200\n",
            "3/3 [==============================] - 0s 22ms/step - loss: 0.5506 - accuracy: 0.7414 - val_loss: 0.6747 - val_accuracy: 0.5217\n",
            "Epoch 71/200\n",
            "3/3 [==============================] - 0s 21ms/step - loss: 0.5561 - accuracy: 0.7164 - val_loss: 0.6698 - val_accuracy: 0.5217\n",
            "Epoch 72/200\n",
            "3/3 [==============================] - 0s 20ms/step - loss: 0.5520 - accuracy: 0.7081 - val_loss: 0.6639 - val_accuracy: 0.5217\n",
            "Epoch 73/200\n",
            "3/3 [==============================] - 0s 23ms/step - loss: 0.5720 - accuracy: 0.6789 - val_loss: 0.6583 - val_accuracy: 0.5217\n",
            "Epoch 74/200\n",
            "3/3 [==============================] - 0s 21ms/step - loss: 0.5546 - accuracy: 0.6914 - val_loss: 0.6541 - val_accuracy: 0.5217\n",
            "Epoch 75/200\n",
            "3/3 [==============================] - 0s 20ms/step - loss: 0.5594 - accuracy: 0.6748 - val_loss: 0.6492 - val_accuracy: 0.5217\n",
            "Epoch 76/200\n",
            "3/3 [==============================] - 0s 19ms/step - loss: 0.5430 - accuracy: 0.6956 - val_loss: 0.6458 - val_accuracy: 0.5217\n",
            "Epoch 77/200\n",
            "3/3 [==============================] - 0s 21ms/step - loss: 0.5560 - accuracy: 0.6748 - val_loss: 0.6421 - val_accuracy: 0.5217\n",
            "Epoch 78/200\n",
            "3/3 [==============================] - 0s 19ms/step - loss: 0.5301 - accuracy: 0.7123 - val_loss: 0.6388 - val_accuracy: 0.5217\n",
            "Epoch 79/200\n",
            "3/3 [==============================] - 0s 19ms/step - loss: 0.5140 - accuracy: 0.7206 - val_loss: 0.6353 - val_accuracy: 0.5217\n",
            "Epoch 80/200\n",
            "3/3 [==============================] - 0s 19ms/step - loss: 0.5052 - accuracy: 0.7164 - val_loss: 0.6315 - val_accuracy: 0.5217\n",
            "Epoch 81/200\n",
            "3/3 [==============================] - 0s 20ms/step - loss: 0.4926 - accuracy: 0.7331 - val_loss: 0.6276 - val_accuracy: 0.5217\n",
            "Epoch 82/200\n",
            "3/3 [==============================] - 0s 23ms/step - loss: 0.4947 - accuracy: 0.7206 - val_loss: 0.6237 - val_accuracy: 0.5652\n",
            "Epoch 83/200\n",
            "3/3 [==============================] - 0s 20ms/step - loss: 0.5072 - accuracy: 0.6971 - val_loss: 0.6186 - val_accuracy: 0.5652\n",
            "Epoch 84/200\n",
            "3/3 [==============================] - 0s 20ms/step - loss: 0.4920 - accuracy: 0.7221 - val_loss: 0.6148 - val_accuracy: 0.5652\n",
            "Epoch 85/200\n",
            "3/3 [==============================] - 0s 76ms/step - loss: 0.4751 - accuracy: 0.7554 - val_loss: 0.6117 - val_accuracy: 0.5652\n",
            "Epoch 86/200\n",
            "3/3 [==============================] - 0s 23ms/step - loss: 0.4768 - accuracy: 0.7360 - val_loss: 0.6078 - val_accuracy: 0.5652\n",
            "Epoch 87/200\n",
            "3/3 [==============================] - 0s 22ms/step - loss: 0.4872 - accuracy: 0.7277 - val_loss: 0.6038 - val_accuracy: 0.5652\n",
            "Epoch 88/200\n",
            "3/3 [==============================] - 0s 22ms/step - loss: 0.4606 - accuracy: 0.7610 - val_loss: 0.6004 - val_accuracy: 0.5652\n",
            "Epoch 89/200\n",
            "3/3 [==============================] - 0s 21ms/step - loss: 0.4985 - accuracy: 0.6943 - val_loss: 0.5955 - val_accuracy: 0.5652\n",
            "Epoch 90/200\n",
            "3/3 [==============================] - 0s 20ms/step - loss: 0.4711 - accuracy: 0.7068 - val_loss: 0.5912 - val_accuracy: 0.5652\n",
            "Epoch 91/200\n",
            "3/3 [==============================] - 0s 21ms/step - loss: 0.4614 - accuracy: 0.7291 - val_loss: 0.5876 - val_accuracy: 0.6087\n",
            "Epoch 92/200\n",
            "3/3 [==============================] - 0s 23ms/step - loss: 0.4494 - accuracy: 0.7541 - val_loss: 0.5847 - val_accuracy: 0.6087\n",
            "Epoch 93/200\n",
            "3/3 [==============================] - 0s 21ms/step - loss: 0.4261 - accuracy: 0.7916 - val_loss: 0.5830 - val_accuracy: 0.6087\n",
            "Epoch 94/200\n",
            "3/3 [==============================] - 0s 23ms/step - loss: 0.4443 - accuracy: 0.7458 - val_loss: 0.5792 - val_accuracy: 0.6087\n",
            "Epoch 95/200\n",
            "3/3 [==============================] - 0s 23ms/step - loss: 0.4383 - accuracy: 0.7654 - val_loss: 0.5758 - val_accuracy: 0.6087\n",
            "Epoch 96/200\n",
            "3/3 [==============================] - 0s 21ms/step - loss: 0.4537 - accuracy: 0.7445 - val_loss: 0.5719 - val_accuracy: 0.6522\n",
            "Epoch 97/200\n",
            "3/3 [==============================] - 0s 22ms/step - loss: 0.4360 - accuracy: 0.7835 - val_loss: 0.5690 - val_accuracy: 0.6522\n",
            "Epoch 98/200\n",
            "3/3 [==============================] - 0s 20ms/step - loss: 0.4429 - accuracy: 0.7849 - val_loss: 0.5650 - val_accuracy: 0.6522\n",
            "Epoch 99/200\n",
            "3/3 [==============================] - 0s 23ms/step - loss: 0.4246 - accuracy: 0.7989 - val_loss: 0.5618 - val_accuracy: 0.6522\n",
            "Epoch 100/200\n",
            "3/3 [==============================] - 0s 22ms/step - loss: 0.4174 - accuracy: 0.8072 - val_loss: 0.5599 - val_accuracy: 0.6522\n",
            "Epoch 101/200\n",
            "3/3 [==============================] - 0s 20ms/step - loss: 0.4304 - accuracy: 0.7864 - val_loss: 0.5560 - val_accuracy: 0.6522\n",
            "Epoch 102/200\n",
            "3/3 [==============================] - 0s 22ms/step - loss: 0.4285 - accuracy: 0.8045 - val_loss: 0.5525 - val_accuracy: 0.6522\n",
            "Epoch 103/200\n",
            "3/3 [==============================] - 0s 25ms/step - loss: 0.4285 - accuracy: 0.8282 - val_loss: 0.5482 - val_accuracy: 0.6522\n",
            "Epoch 104/200\n",
            "3/3 [==============================] - 0s 24ms/step - loss: 0.4196 - accuracy: 0.8297 - val_loss: 0.5450 - val_accuracy: 0.6957\n",
            "Epoch 105/200\n",
            "3/3 [==============================] - 0s 22ms/step - loss: 0.4068 - accuracy: 0.8493 - val_loss: 0.5418 - val_accuracy: 0.6957\n",
            "Epoch 106/200\n",
            "3/3 [==============================] - 0s 20ms/step - loss: 0.4166 - accuracy: 0.8465 - val_loss: 0.5376 - val_accuracy: 0.6957\n",
            "Epoch 107/200\n",
            "3/3 [==============================] - 0s 25ms/step - loss: 0.4055 - accuracy: 0.8757 - val_loss: 0.5351 - val_accuracy: 0.6957\n",
            "Epoch 108/200\n",
            "3/3 [==============================] - 0s 21ms/step - loss: 0.4130 - accuracy: 0.8840 - val_loss: 0.5320 - val_accuracy: 0.6957\n",
            "Epoch 109/200\n",
            "3/3 [==============================] - 0s 24ms/step - loss: 0.4038 - accuracy: 0.8674 - val_loss: 0.5281 - val_accuracy: 0.7391\n",
            "Epoch 110/200\n",
            "3/3 [==============================] - 0s 23ms/step - loss: 0.3816 - accuracy: 0.8674 - val_loss: 0.5260 - val_accuracy: 0.7391\n",
            "Epoch 111/200\n",
            "3/3 [==============================] - 0s 24ms/step - loss: 0.3857 - accuracy: 0.8674 - val_loss: 0.5233 - val_accuracy: 0.7391\n",
            "Epoch 112/200\n",
            "3/3 [==============================] - 0s 22ms/step - loss: 0.3872 - accuracy: 0.8855 - val_loss: 0.5188 - val_accuracy: 0.7826\n",
            "Epoch 113/200\n",
            "3/3 [==============================] - 0s 21ms/step - loss: 0.3781 - accuracy: 0.8938 - val_loss: 0.5166 - val_accuracy: 0.7826\n",
            "Epoch 114/200\n",
            "3/3 [==============================] - 0s 20ms/step - loss: 0.3650 - accuracy: 0.9063 - val_loss: 0.5127 - val_accuracy: 0.7826\n",
            "Epoch 115/200\n",
            "3/3 [==============================] - 0s 25ms/step - loss: 0.3771 - accuracy: 0.8897 - val_loss: 0.5086 - val_accuracy: 0.7826\n",
            "Epoch 116/200\n",
            "3/3 [==============================] - 0s 21ms/step - loss: 0.3862 - accuracy: 0.8605 - val_loss: 0.5058 - val_accuracy: 0.7826\n",
            "Epoch 117/200\n",
            "3/3 [==============================] - 0s 20ms/step - loss: 0.3639 - accuracy: 0.8994 - val_loss: 0.5029 - val_accuracy: 0.7826\n",
            "Epoch 118/200\n",
            "3/3 [==============================] - 0s 21ms/step - loss: 0.3522 - accuracy: 0.9036 - val_loss: 0.4995 - val_accuracy: 0.7826\n",
            "Epoch 119/200\n",
            "3/3 [==============================] - 0s 21ms/step - loss: 0.3638 - accuracy: 0.9134 - val_loss: 0.4964 - val_accuracy: 0.7826\n",
            "Epoch 120/200\n",
            "3/3 [==============================] - 0s 21ms/step - loss: 0.3626 - accuracy: 0.9023 - val_loss: 0.4934 - val_accuracy: 0.8261\n",
            "Epoch 121/200\n",
            "3/3 [==============================] - 0s 26ms/step - loss: 0.3698 - accuracy: 0.9148 - val_loss: 0.4908 - val_accuracy: 0.8261\n",
            "Epoch 122/200\n",
            "3/3 [==============================] - 0s 25ms/step - loss: 0.3509 - accuracy: 0.9246 - val_loss: 0.4877 - val_accuracy: 0.8261\n",
            "Epoch 123/200\n",
            "3/3 [==============================] - 0s 26ms/step - loss: 0.3668 - accuracy: 0.9330 - val_loss: 0.4842 - val_accuracy: 0.8696\n",
            "Epoch 124/200\n",
            "3/3 [==============================] - 0s 23ms/step - loss: 0.3415 - accuracy: 0.9288 - val_loss: 0.4819 - val_accuracy: 0.8696\n",
            "Epoch 125/200\n",
            "3/3 [==============================] - 0s 21ms/step - loss: 0.3289 - accuracy: 0.9330 - val_loss: 0.4787 - val_accuracy: 0.8696\n",
            "Epoch 126/200\n",
            "3/3 [==============================] - 0s 25ms/step - loss: 0.3570 - accuracy: 0.9246 - val_loss: 0.4752 - val_accuracy: 0.8696\n",
            "Epoch 127/200\n",
            "3/3 [==============================] - 0s 21ms/step - loss: 0.3546 - accuracy: 0.9205 - val_loss: 0.4730 - val_accuracy: 0.8696\n",
            "Epoch 128/200\n",
            "3/3 [==============================] - 0s 21ms/step - loss: 0.3394 - accuracy: 0.9163 - val_loss: 0.4696 - val_accuracy: 0.8696\n",
            "Epoch 129/200\n",
            "3/3 [==============================] - 0s 26ms/step - loss: 0.3036 - accuracy: 0.9496 - val_loss: 0.4664 - val_accuracy: 0.8696\n",
            "Epoch 130/200\n",
            "3/3 [==============================] - 0s 22ms/step - loss: 0.3204 - accuracy: 0.9496 - val_loss: 0.4631 - val_accuracy: 0.8696\n",
            "Epoch 131/200\n",
            "3/3 [==============================] - 0s 82ms/step - loss: 0.3210 - accuracy: 0.9496 - val_loss: 0.4604 - val_accuracy: 0.8696\n",
            "Epoch 132/200\n",
            "3/3 [==============================] - 0s 22ms/step - loss: 0.3266 - accuracy: 0.9344 - val_loss: 0.4568 - val_accuracy: 0.8696\n",
            "Epoch 133/200\n",
            "3/3 [==============================] - 0s 20ms/step - loss: 0.3176 - accuracy: 0.9804 - val_loss: 0.4531 - val_accuracy: 0.9130\n",
            "Epoch 134/200\n",
            "3/3 [==============================] - 0s 23ms/step - loss: 0.3316 - accuracy: 0.9819 - val_loss: 0.4490 - val_accuracy: 0.9130\n",
            "Epoch 135/200\n",
            "3/3 [==============================] - 0s 24ms/step - loss: 0.3004 - accuracy: 0.9944 - val_loss: 0.4465 - val_accuracy: 0.9130\n",
            "Epoch 136/200\n",
            "3/3 [==============================] - 0s 22ms/step - loss: 0.3196 - accuracy: 0.9902 - val_loss: 0.4435 - val_accuracy: 0.9130\n",
            "Epoch 137/200\n",
            "3/3 [==============================] - 0s 21ms/step - loss: 0.2962 - accuracy: 0.9944 - val_loss: 0.4424 - val_accuracy: 0.9130\n",
            "Epoch 138/200\n",
            "3/3 [==============================] - 0s 19ms/step - loss: 0.3203 - accuracy: 0.9819 - val_loss: 0.4393 - val_accuracy: 0.9130\n",
            "Epoch 139/200\n",
            "3/3 [==============================] - 0s 22ms/step - loss: 0.2946 - accuracy: 0.9819 - val_loss: 0.4362 - val_accuracy: 0.9130\n",
            "Epoch 140/200\n",
            "3/3 [==============================] - 0s 23ms/step - loss: 0.2809 - accuracy: 0.9819 - val_loss: 0.4343 - val_accuracy: 0.9130\n",
            "Epoch 141/200\n",
            "3/3 [==============================] - 0s 24ms/step - loss: 0.2978 - accuracy: 0.9902 - val_loss: 0.4316 - val_accuracy: 0.9130\n",
            "Epoch 142/200\n",
            "3/3 [==============================] - 0s 23ms/step - loss: 0.3008 - accuracy: 0.9819 - val_loss: 0.4283 - val_accuracy: 0.9130\n",
            "Epoch 143/200\n",
            "3/3 [==============================] - 0s 24ms/step - loss: 0.2782 - accuracy: 0.9944 - val_loss: 0.4257 - val_accuracy: 0.9130\n",
            "Epoch 144/200\n",
            "3/3 [==============================] - 0s 24ms/step - loss: 0.2991 - accuracy: 0.9819 - val_loss: 0.4215 - val_accuracy: 0.9130\n",
            "Epoch 145/200\n",
            "3/3 [==============================] - 0s 27ms/step - loss: 0.2755 - accuracy: 0.9944 - val_loss: 0.4190 - val_accuracy: 0.9130\n",
            "Epoch 146/200\n",
            "3/3 [==============================] - 0s 24ms/step - loss: 0.2613 - accuracy: 0.9944 - val_loss: 0.4165 - val_accuracy: 0.9130\n",
            "Epoch 147/200\n",
            "3/3 [==============================] - 0s 21ms/step - loss: 0.2657 - accuracy: 0.9944 - val_loss: 0.4143 - val_accuracy: 0.9130\n",
            "Epoch 148/200\n",
            "3/3 [==============================] - 0s 23ms/step - loss: 0.2632 - accuracy: 0.9944 - val_loss: 0.4116 - val_accuracy: 0.9130\n",
            "Epoch 149/200\n",
            "3/3 [==============================] - 0s 21ms/step - loss: 0.2624 - accuracy: 0.9819 - val_loss: 0.4088 - val_accuracy: 0.9130\n",
            "Epoch 150/200\n",
            "3/3 [==============================] - 0s 21ms/step - loss: 0.2683 - accuracy: 0.9819 - val_loss: 0.4050 - val_accuracy: 0.9130\n",
            "Epoch 151/200\n",
            "3/3 [==============================] - 0s 24ms/step - loss: 0.2796 - accuracy: 0.9819 - val_loss: 0.4018 - val_accuracy: 0.9130\n",
            "Epoch 152/200\n",
            "3/3 [==============================] - 0s 25ms/step - loss: 0.2596 - accuracy: 0.9944 - val_loss: 0.3997 - val_accuracy: 0.9130\n",
            "Epoch 153/200\n",
            "3/3 [==============================] - 0s 21ms/step - loss: 0.2660 - accuracy: 0.9819 - val_loss: 0.3968 - val_accuracy: 0.9130\n",
            "Epoch 154/200\n",
            "3/3 [==============================] - 0s 20ms/step - loss: 0.2629 - accuracy: 0.9819 - val_loss: 0.3944 - val_accuracy: 0.9130\n",
            "Epoch 155/200\n",
            "3/3 [==============================] - 0s 23ms/step - loss: 0.2554 - accuracy: 0.9902 - val_loss: 0.3921 - val_accuracy: 0.9130\n",
            "Epoch 156/200\n",
            "3/3 [==============================] - 0s 19ms/step - loss: 0.2562 - accuracy: 0.9819 - val_loss: 0.3898 - val_accuracy: 0.9130\n",
            "Epoch 157/200\n",
            "3/3 [==============================] - 0s 25ms/step - loss: 0.2675 - accuracy: 0.9902 - val_loss: 0.3860 - val_accuracy: 0.9130\n",
            "Epoch 158/200\n",
            "3/3 [==============================] - 0s 22ms/step - loss: 0.2341 - accuracy: 0.9944 - val_loss: 0.3836 - val_accuracy: 0.9130\n",
            "Epoch 159/200\n",
            "3/3 [==============================] - 0s 22ms/step - loss: 0.2541 - accuracy: 0.9902 - val_loss: 0.3803 - val_accuracy: 0.9130\n",
            "Epoch 160/200\n",
            "3/3 [==============================] - 0s 24ms/step - loss: 0.2364 - accuracy: 0.9819 - val_loss: 0.3788 - val_accuracy: 0.9130\n",
            "Epoch 161/200\n",
            "3/3 [==============================] - 0s 21ms/step - loss: 0.2280 - accuracy: 0.9944 - val_loss: 0.3780 - val_accuracy: 0.9130\n",
            "Epoch 162/200\n",
            "3/3 [==============================] - 0s 21ms/step - loss: 0.2391 - accuracy: 0.9819 - val_loss: 0.3775 - val_accuracy: 0.9130\n",
            "Epoch 163/200\n",
            "3/3 [==============================] - 0s 24ms/step - loss: 0.2357 - accuracy: 0.9819 - val_loss: 0.3737 - val_accuracy: 0.9130\n",
            "Epoch 164/200\n",
            "3/3 [==============================] - 0s 25ms/step - loss: 0.2171 - accuracy: 0.9902 - val_loss: 0.3701 - val_accuracy: 0.9130\n",
            "Epoch 165/200\n",
            "3/3 [==============================] - 0s 22ms/step - loss: 0.2413 - accuracy: 0.9819 - val_loss: 0.3663 - val_accuracy: 0.9130\n",
            "Epoch 166/200\n",
            "3/3 [==============================] - 0s 22ms/step - loss: 0.2176 - accuracy: 0.9902 - val_loss: 0.3639 - val_accuracy: 0.9130\n",
            "Epoch 167/200\n",
            "3/3 [==============================] - 0s 17ms/step - loss: 0.2355 - accuracy: 0.9944 - val_loss: 0.3612 - val_accuracy: 0.9130\n",
            "Epoch 168/200\n",
            "3/3 [==============================] - 0s 25ms/step - loss: 0.2323 - accuracy: 0.9902 - val_loss: 0.3594 - val_accuracy: 0.9130\n",
            "Epoch 169/200\n",
            "3/3 [==============================] - 0s 23ms/step - loss: 0.2211 - accuracy: 0.9944 - val_loss: 0.3586 - val_accuracy: 0.9130\n",
            "Epoch 170/200\n",
            "3/3 [==============================] - 0s 21ms/step - loss: 0.2042 - accuracy: 0.9902 - val_loss: 0.3568 - val_accuracy: 0.9130\n",
            "Epoch 171/200\n",
            "3/3 [==============================] - 0s 26ms/step - loss: 0.2044 - accuracy: 0.9944 - val_loss: 0.3540 - val_accuracy: 0.9130\n",
            "Epoch 172/200\n",
            "3/3 [==============================] - 0s 20ms/step - loss: 0.2194 - accuracy: 0.9819 - val_loss: 0.3505 - val_accuracy: 0.9130\n",
            "Epoch 173/200\n",
            "3/3 [==============================] - 0s 20ms/step - loss: 0.2275 - accuracy: 0.9819 - val_loss: 0.3473 - val_accuracy: 0.8696\n",
            "Epoch 174/200\n",
            "3/3 [==============================] - 0s 20ms/step - loss: 0.2061 - accuracy: 0.9944 - val_loss: 0.3457 - val_accuracy: 0.8696\n",
            "Epoch 175/200\n",
            "3/3 [==============================] - 0s 29ms/step - loss: 0.1932 - accuracy: 0.9902 - val_loss: 0.3441 - val_accuracy: 0.8696\n",
            "Epoch 176/200\n",
            "3/3 [==============================] - 0s 23ms/step - loss: 0.2053 - accuracy: 0.9902 - val_loss: 0.3419 - val_accuracy: 0.8696\n",
            "Epoch 177/200\n",
            "3/3 [==============================] - 0s 81ms/step - loss: 0.2026 - accuracy: 0.9902 - val_loss: 0.3398 - val_accuracy: 0.8696\n",
            "Epoch 178/200\n",
            "3/3 [==============================] - 0s 21ms/step - loss: 0.2028 - accuracy: 0.9819 - val_loss: 0.3384 - val_accuracy: 0.9130\n",
            "Epoch 179/200\n",
            "3/3 [==============================] - 0s 23ms/step - loss: 0.2056 - accuracy: 0.9819 - val_loss: 0.3359 - val_accuracy: 0.8696\n",
            "Epoch 180/200\n",
            "3/3 [==============================] - 0s 24ms/step - loss: 0.2045 - accuracy: 0.9819 - val_loss: 0.3343 - val_accuracy: 0.8696\n",
            "Epoch 181/200\n",
            "3/3 [==============================] - 0s 22ms/step - loss: 0.1911 - accuracy: 0.9902 - val_loss: 0.3322 - val_accuracy: 0.8696\n",
            "Epoch 182/200\n",
            "3/3 [==============================] - 0s 24ms/step - loss: 0.1867 - accuracy: 0.9944 - val_loss: 0.3298 - val_accuracy: 0.8696\n",
            "Epoch 183/200\n",
            "3/3 [==============================] - 0s 22ms/step - loss: 0.2036 - accuracy: 0.9819 - val_loss: 0.3272 - val_accuracy: 0.8696\n",
            "Epoch 184/200\n",
            "3/3 [==============================] - 0s 23ms/step - loss: 0.1882 - accuracy: 0.9902 - val_loss: 0.3256 - val_accuracy: 0.8696\n",
            "Epoch 185/200\n",
            "3/3 [==============================] - 0s 21ms/step - loss: 0.1854 - accuracy: 0.9902 - val_loss: 0.3244 - val_accuracy: 0.8696\n",
            "Epoch 186/200\n",
            "3/3 [==============================] - 0s 23ms/step - loss: 0.1895 - accuracy: 0.9944 - val_loss: 0.3232 - val_accuracy: 0.8696\n",
            "Epoch 187/200\n",
            "3/3 [==============================] - 0s 23ms/step - loss: 0.1750 - accuracy: 0.9902 - val_loss: 0.3202 - val_accuracy: 0.8696\n",
            "Epoch 188/200\n",
            "3/3 [==============================] - 0s 22ms/step - loss: 0.1976 - accuracy: 0.9819 - val_loss: 0.3176 - val_accuracy: 0.8696\n",
            "Epoch 189/200\n",
            "3/3 [==============================] - 0s 19ms/step - loss: 0.1894 - accuracy: 0.9902 - val_loss: 0.3158 - val_accuracy: 0.8696\n",
            "Epoch 190/200\n",
            "3/3 [==============================] - 0s 21ms/step - loss: 0.1832 - accuracy: 0.9902 - val_loss: 0.3138 - val_accuracy: 0.8696\n",
            "Epoch 191/200\n",
            "3/3 [==============================] - 0s 25ms/step - loss: 0.1843 - accuracy: 0.9819 - val_loss: 0.3126 - val_accuracy: 0.8696\n",
            "Epoch 192/200\n",
            "3/3 [==============================] - 0s 26ms/step - loss: 0.1836 - accuracy: 0.9819 - val_loss: 0.3113 - val_accuracy: 0.8696\n",
            "Epoch 193/200\n",
            "3/3 [==============================] - 0s 25ms/step - loss: 0.1659 - accuracy: 0.9944 - val_loss: 0.3106 - val_accuracy: 0.8696\n",
            "Epoch 194/200\n",
            "3/3 [==============================] - 0s 22ms/step - loss: 0.1766 - accuracy: 0.9902 - val_loss: 0.3082 - val_accuracy: 0.8696\n",
            "Epoch 195/200\n",
            "3/3 [==============================] - 0s 23ms/step - loss: 0.1801 - accuracy: 0.9819 - val_loss: 0.3066 - val_accuracy: 0.8696\n",
            "Epoch 196/200\n",
            "3/3 [==============================] - 0s 24ms/step - loss: 0.1688 - accuracy: 0.9902 - val_loss: 0.3041 - val_accuracy: 0.8696\n",
            "Epoch 197/200\n",
            "3/3 [==============================] - 0s 26ms/step - loss: 0.1643 - accuracy: 0.9944 - val_loss: 0.3021 - val_accuracy: 0.8696\n",
            "Epoch 198/200\n",
            "3/3 [==============================] - 0s 23ms/step - loss: 0.1661 - accuracy: 0.9819 - val_loss: 0.3000 - val_accuracy: 0.8696\n",
            "Epoch 199/200\n",
            "3/3 [==============================] - 0s 22ms/step - loss: 0.1617 - accuracy: 0.9819 - val_loss: 0.2985 - val_accuracy: 0.8696\n",
            "Epoch 200/200\n",
            "3/3 [==============================] - 0s 23ms/step - loss: 0.1672 - accuracy: 0.9819 - val_loss: 0.2977 - val_accuracy: 0.8696\n"
          ],
          "name": "stdout"
        },
        {
          "output_type": "execute_result",
          "data": {
            "text/plain": [
              "<tensorflow.python.keras.callbacks.History at 0x7f8769cf02b0>"
            ]
          },
          "metadata": {
            "tags": []
          },
          "execution_count": 20
        }
      ]
    },
    {
      "cell_type": "code",
      "metadata": {
        "colab": {
          "base_uri": "https://localhost:8080/"
        },
        "id": "I-c9FyhQK8rc",
        "outputId": "b723ac8a-6c1b-480b-b994-09d6beecd312"
      },
      "source": [
        "acc = model2.evaluate(X_test, y_test)\r\n",
        "print(f'Accuracy: {acc[1]:.4f}')"
      ],
      "execution_count": 21,
      "outputs": [
        {
          "output_type": "stream",
          "text": [
            "2/2 [==============================] - 0s 4ms/step - loss: 0.2021 - accuracy: 0.9474\n",
            "Accuracy: 0.9474\n"
          ],
          "name": "stdout"
        }
      ]
    },
    {
      "cell_type": "code",
      "metadata": {
        "id": "YgRd38pXLCkr"
      },
      "source": [
        ""
      ],
      "execution_count": null,
      "outputs": []
    }
  ]
}