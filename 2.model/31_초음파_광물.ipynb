{
  "nbformat": 4,
  "nbformat_minor": 0,
  "metadata": {
    "colab": {
      "name": "31_초음파_광물.ipynb",
      "provenance": [],
      "collapsed_sections": []
    },
    "kernelspec": {
      "name": "python3",
      "display_name": "Python 3"
    }
  },
  "cells": [
    {
      "cell_type": "markdown",
      "metadata": {
        "id": "Mf8qSyEmM5q-"
      },
      "source": [
        "# 초음파 광물 예측"
      ]
    },
    {
      "cell_type": "code",
      "metadata": {
        "id": "6iMxqbA_MymX"
      },
      "source": [
        "import numpy as np\r\n",
        "import tensorflow as tf"
      ],
      "execution_count": 1,
      "outputs": []
    },
    {
      "cell_type": "code",
      "metadata": {
        "id": "Ocdsu7rgND9A"
      },
      "source": [
        "# 실행할 때마다 같은 결과를 출력하기 위한 seed 값 설정\r\n",
        "seed =2021\r\n",
        "np.random.seed(seed)\r\n",
        "tf.random.set_seed(seed)"
      ],
      "execution_count": 2,
      "outputs": []
    },
    {
      "cell_type": "markdown",
      "metadata": {
        "id": "2ji5FFczNPvP"
      },
      "source": [
        "### 데이터 탐색"
      ]
    },
    {
      "cell_type": "code",
      "metadata": {
        "colab": {
          "resources": {
            "http://localhost:8080/nbextensions/google.colab/files.js": {
              "data": "Ly8gQ29weXJpZ2h0IDIwMTcgR29vZ2xlIExMQwovLwovLyBMaWNlbnNlZCB1bmRlciB0aGUgQXBhY2hlIExpY2Vuc2UsIFZlcnNpb24gMi4wICh0aGUgIkxpY2Vuc2UiKTsKLy8geW91IG1heSBub3QgdXNlIHRoaXMgZmlsZSBleGNlcHQgaW4gY29tcGxpYW5jZSB3aXRoIHRoZSBMaWNlbnNlLgovLyBZb3UgbWF5IG9idGFpbiBhIGNvcHkgb2YgdGhlIExpY2Vuc2UgYXQKLy8KLy8gICAgICBodHRwOi8vd3d3LmFwYWNoZS5vcmcvbGljZW5zZXMvTElDRU5TRS0yLjAKLy8KLy8gVW5sZXNzIHJlcXVpcmVkIGJ5IGFwcGxpY2FibGUgbGF3IG9yIGFncmVlZCB0byBpbiB3cml0aW5nLCBzb2Z0d2FyZQovLyBkaXN0cmlidXRlZCB1bmRlciB0aGUgTGljZW5zZSBpcyBkaXN0cmlidXRlZCBvbiBhbiAiQVMgSVMiIEJBU0lTLAovLyBXSVRIT1VUIFdBUlJBTlRJRVMgT1IgQ09ORElUSU9OUyBPRiBBTlkgS0lORCwgZWl0aGVyIGV4cHJlc3Mgb3IgaW1wbGllZC4KLy8gU2VlIHRoZSBMaWNlbnNlIGZvciB0aGUgc3BlY2lmaWMgbGFuZ3VhZ2UgZ292ZXJuaW5nIHBlcm1pc3Npb25zIGFuZAovLyBsaW1pdGF0aW9ucyB1bmRlciB0aGUgTGljZW5zZS4KCi8qKgogKiBAZmlsZW92ZXJ2aWV3IEhlbHBlcnMgZm9yIGdvb2dsZS5jb2xhYiBQeXRob24gbW9kdWxlLgogKi8KKGZ1bmN0aW9uKHNjb3BlKSB7CmZ1bmN0aW9uIHNwYW4odGV4dCwgc3R5bGVBdHRyaWJ1dGVzID0ge30pIHsKICBjb25zdCBlbGVtZW50ID0gZG9jdW1lbnQuY3JlYXRlRWxlbWVudCgnc3BhbicpOwogIGVsZW1lbnQudGV4dENvbnRlbnQgPSB0ZXh0OwogIGZvciAoY29uc3Qga2V5IG9mIE9iamVjdC5rZXlzKHN0eWxlQXR0cmlidXRlcykpIHsKICAgIGVsZW1lbnQuc3R5bGVba2V5XSA9IHN0eWxlQXR0cmlidXRlc1trZXldOwogIH0KICByZXR1cm4gZWxlbWVudDsKfQoKLy8gTWF4IG51bWJlciBvZiBieXRlcyB3aGljaCB3aWxsIGJlIHVwbG9hZGVkIGF0IGEgdGltZS4KY29uc3QgTUFYX1BBWUxPQURfU0laRSA9IDEwMCAqIDEwMjQ7CgpmdW5jdGlvbiBfdXBsb2FkRmlsZXMoaW5wdXRJZCwgb3V0cHV0SWQpIHsKICBjb25zdCBzdGVwcyA9IHVwbG9hZEZpbGVzU3RlcChpbnB1dElkLCBvdXRwdXRJZCk7CiAgY29uc3Qgb3V0cHV0RWxlbWVudCA9IGRvY3VtZW50LmdldEVsZW1lbnRCeUlkKG91dHB1dElkKTsKICAvLyBDYWNoZSBzdGVwcyBvbiB0aGUgb3V0cHV0RWxlbWVudCB0byBtYWtlIGl0IGF2YWlsYWJsZSBmb3IgdGhlIG5leHQgY2FsbAogIC8vIHRvIHVwbG9hZEZpbGVzQ29udGludWUgZnJvbSBQeXRob24uCiAgb3V0cHV0RWxlbWVudC5zdGVwcyA9IHN0ZXBzOwoKICByZXR1cm4gX3VwbG9hZEZpbGVzQ29udGludWUob3V0cHV0SWQpOwp9CgovLyBUaGlzIGlzIHJvdWdobHkgYW4gYXN5bmMgZ2VuZXJhdG9yIChub3Qgc3VwcG9ydGVkIGluIHRoZSBicm93c2VyIHlldCksCi8vIHdoZXJlIHRoZXJlIGFyZSBtdWx0aXBsZSBhc3luY2hyb25vdXMgc3RlcHMgYW5kIHRoZSBQeXRob24gc2lkZSBpcyBnb2luZwovLyB0byBwb2xsIGZvciBjb21wbGV0aW9uIG9mIGVhY2ggc3RlcC4KLy8gVGhpcyB1c2VzIGEgUHJvbWlzZSB0byBibG9jayB0aGUgcHl0aG9uIHNpZGUgb24gY29tcGxldGlvbiBvZiBlYWNoIHN0ZXAsCi8vIHRoZW4gcGFzc2VzIHRoZSByZXN1bHQgb2YgdGhlIHByZXZpb3VzIHN0ZXAgYXMgdGhlIGlucHV0IHRvIHRoZSBuZXh0IHN0ZXAuCmZ1bmN0aW9uIF91cGxvYWRGaWxlc0NvbnRpbnVlKG91dHB1dElkKSB7CiAgY29uc3Qgb3V0cHV0RWxlbWVudCA9IGRvY3VtZW50LmdldEVsZW1lbnRCeUlkKG91dHB1dElkKTsKICBjb25zdCBzdGVwcyA9IG91dHB1dEVsZW1lbnQuc3RlcHM7CgogIGNvbnN0IG5leHQgPSBzdGVwcy5uZXh0KG91dHB1dEVsZW1lbnQubGFzdFByb21pc2VWYWx1ZSk7CiAgcmV0dXJuIFByb21pc2UucmVzb2x2ZShuZXh0LnZhbHVlLnByb21pc2UpLnRoZW4oKHZhbHVlKSA9PiB7CiAgICAvLyBDYWNoZSB0aGUgbGFzdCBwcm9taXNlIHZhbHVlIHRvIG1ha2UgaXQgYXZhaWxhYmxlIHRvIHRoZSBuZXh0CiAgICAvLyBzdGVwIG9mIHRoZSBnZW5lcmF0b3IuCiAgICBvdXRwdXRFbGVtZW50Lmxhc3RQcm9taXNlVmFsdWUgPSB2YWx1ZTsKICAgIHJldHVybiBuZXh0LnZhbHVlLnJlc3BvbnNlOwogIH0pOwp9CgovKioKICogR2VuZXJhdG9yIGZ1bmN0aW9uIHdoaWNoIGlzIGNhbGxlZCBiZXR3ZWVuIGVhY2ggYXN5bmMgc3RlcCBvZiB0aGUgdXBsb2FkCiAqIHByb2Nlc3MuCiAqIEBwYXJhbSB7c3RyaW5nfSBpbnB1dElkIEVsZW1lbnQgSUQgb2YgdGhlIGlucHV0IGZpbGUgcGlja2VyIGVsZW1lbnQuCiAqIEBwYXJhbSB7c3RyaW5nfSBvdXRwdXRJZCBFbGVtZW50IElEIG9mIHRoZSBvdXRwdXQgZGlzcGxheS4KICogQHJldHVybiB7IUl0ZXJhYmxlPCFPYmplY3Q+fSBJdGVyYWJsZSBvZiBuZXh0IHN0ZXBzLgogKi8KZnVuY3Rpb24qIHVwbG9hZEZpbGVzU3RlcChpbnB1dElkLCBvdXRwdXRJZCkgewogIGNvbnN0IGlucHV0RWxlbWVudCA9IGRvY3VtZW50LmdldEVsZW1lbnRCeUlkKGlucHV0SWQpOwogIGlucHV0RWxlbWVudC5kaXNhYmxlZCA9IGZhbHNlOwoKICBjb25zdCBvdXRwdXRFbGVtZW50ID0gZG9jdW1lbnQuZ2V0RWxlbWVudEJ5SWQob3V0cHV0SWQpOwogIG91dHB1dEVsZW1lbnQuaW5uZXJIVE1MID0gJyc7CgogIGNvbnN0IHBpY2tlZFByb21pc2UgPSBuZXcgUHJvbWlzZSgocmVzb2x2ZSkgPT4gewogICAgaW5wdXRFbGVtZW50LmFkZEV2ZW50TGlzdGVuZXIoJ2NoYW5nZScsIChlKSA9PiB7CiAgICAgIHJlc29sdmUoZS50YXJnZXQuZmlsZXMpOwogICAgfSk7CiAgfSk7CgogIGNvbnN0IGNhbmNlbCA9IGRvY3VtZW50LmNyZWF0ZUVsZW1lbnQoJ2J1dHRvbicpOwogIGlucHV0RWxlbWVudC5wYXJlbnRFbGVtZW50LmFwcGVuZENoaWxkKGNhbmNlbCk7CiAgY2FuY2VsLnRleHRDb250ZW50ID0gJ0NhbmNlbCB1cGxvYWQnOwogIGNvbnN0IGNhbmNlbFByb21pc2UgPSBuZXcgUHJvbWlzZSgocmVzb2x2ZSkgPT4gewogICAgY2FuY2VsLm9uY2xpY2sgPSAoKSA9PiB7CiAgICAgIHJlc29sdmUobnVsbCk7CiAgICB9OwogIH0pOwoKICAvLyBXYWl0IGZvciB0aGUgdXNlciB0byBwaWNrIHRoZSBmaWxlcy4KICBjb25zdCBmaWxlcyA9IHlpZWxkIHsKICAgIHByb21pc2U6IFByb21pc2UucmFjZShbcGlja2VkUHJvbWlzZSwgY2FuY2VsUHJvbWlzZV0pLAogICAgcmVzcG9uc2U6IHsKICAgICAgYWN0aW9uOiAnc3RhcnRpbmcnLAogICAgfQogIH07CgogIGNhbmNlbC5yZW1vdmUoKTsKCiAgLy8gRGlzYWJsZSB0aGUgaW5wdXQgZWxlbWVudCBzaW5jZSBmdXJ0aGVyIHBpY2tzIGFyZSBub3QgYWxsb3dlZC4KICBpbnB1dEVsZW1lbnQuZGlzYWJsZWQgPSB0cnVlOwoKICBpZiAoIWZpbGVzKSB7CiAgICByZXR1cm4gewogICAgICByZXNwb25zZTogewogICAgICAgIGFjdGlvbjogJ2NvbXBsZXRlJywKICAgICAgfQogICAgfTsKICB9CgogIGZvciAoY29uc3QgZmlsZSBvZiBmaWxlcykgewogICAgY29uc3QgbGkgPSBkb2N1bWVudC5jcmVhdGVFbGVtZW50KCdsaScpOwogICAgbGkuYXBwZW5kKHNwYW4oZmlsZS5uYW1lLCB7Zm9udFdlaWdodDogJ2JvbGQnfSkpOwogICAgbGkuYXBwZW5kKHNwYW4oCiAgICAgICAgYCgke2ZpbGUudHlwZSB8fCAnbi9hJ30pIC0gJHtmaWxlLnNpemV9IGJ5dGVzLCBgICsKICAgICAgICBgbGFzdCBtb2RpZmllZDogJHsKICAgICAgICAgICAgZmlsZS5sYXN0TW9kaWZpZWREYXRlID8gZmlsZS5sYXN0TW9kaWZpZWREYXRlLnRvTG9jYWxlRGF0ZVN0cmluZygpIDoKICAgICAgICAgICAgICAgICAgICAgICAgICAgICAgICAgICAgJ24vYSd9IC0gYCkpOwogICAgY29uc3QgcGVyY2VudCA9IHNwYW4oJzAlIGRvbmUnKTsKICAgIGxpLmFwcGVuZENoaWxkKHBlcmNlbnQpOwoKICAgIG91dHB1dEVsZW1lbnQuYXBwZW5kQ2hpbGQobGkpOwoKICAgIGNvbnN0IGZpbGVEYXRhUHJvbWlzZSA9IG5ldyBQcm9taXNlKChyZXNvbHZlKSA9PiB7CiAgICAgIGNvbnN0IHJlYWRlciA9IG5ldyBGaWxlUmVhZGVyKCk7CiAgICAgIHJlYWRlci5vbmxvYWQgPSAoZSkgPT4gewogICAgICAgIHJlc29sdmUoZS50YXJnZXQucmVzdWx0KTsKICAgICAgfTsKICAgICAgcmVhZGVyLnJlYWRBc0FycmF5QnVmZmVyKGZpbGUpOwogICAgfSk7CiAgICAvLyBXYWl0IGZvciB0aGUgZGF0YSB0byBiZSByZWFkeS4KICAgIGxldCBmaWxlRGF0YSA9IHlpZWxkIHsKICAgICAgcHJvbWlzZTogZmlsZURhdGFQcm9taXNlLAogICAgICByZXNwb25zZTogewogICAgICAgIGFjdGlvbjogJ2NvbnRpbnVlJywKICAgICAgfQogICAgfTsKCiAgICAvLyBVc2UgYSBjaHVua2VkIHNlbmRpbmcgdG8gYXZvaWQgbWVzc2FnZSBzaXplIGxpbWl0cy4gU2VlIGIvNjIxMTU2NjAuCiAgICBsZXQgcG9zaXRpb24gPSAwOwogICAgd2hpbGUgKHBvc2l0aW9uIDwgZmlsZURhdGEuYnl0ZUxlbmd0aCkgewogICAgICBjb25zdCBsZW5ndGggPSBNYXRoLm1pbihmaWxlRGF0YS5ieXRlTGVuZ3RoIC0gcG9zaXRpb24sIE1BWF9QQVlMT0FEX1NJWkUpOwogICAgICBjb25zdCBjaHVuayA9IG5ldyBVaW50OEFycmF5KGZpbGVEYXRhLCBwb3NpdGlvbiwgbGVuZ3RoKTsKICAgICAgcG9zaXRpb24gKz0gbGVuZ3RoOwoKICAgICAgY29uc3QgYmFzZTY0ID0gYnRvYShTdHJpbmcuZnJvbUNoYXJDb2RlLmFwcGx5KG51bGwsIGNodW5rKSk7CiAgICAgIHlpZWxkIHsKICAgICAgICByZXNwb25zZTogewogICAgICAgICAgYWN0aW9uOiAnYXBwZW5kJywKICAgICAgICAgIGZpbGU6IGZpbGUubmFtZSwKICAgICAgICAgIGRhdGE6IGJhc2U2NCwKICAgICAgICB9LAogICAgICB9OwogICAgICBwZXJjZW50LnRleHRDb250ZW50ID0KICAgICAgICAgIGAke01hdGgucm91bmQoKHBvc2l0aW9uIC8gZmlsZURhdGEuYnl0ZUxlbmd0aCkgKiAxMDApfSUgZG9uZWA7CiAgICB9CiAgfQoKICAvLyBBbGwgZG9uZS4KICB5aWVsZCB7CiAgICByZXNwb25zZTogewogICAgICBhY3Rpb246ICdjb21wbGV0ZScsCiAgICB9CiAgfTsKfQoKc2NvcGUuZ29vZ2xlID0gc2NvcGUuZ29vZ2xlIHx8IHt9OwpzY29wZS5nb29nbGUuY29sYWIgPSBzY29wZS5nb29nbGUuY29sYWIgfHwge307CnNjb3BlLmdvb2dsZS5jb2xhYi5fZmlsZXMgPSB7CiAgX3VwbG9hZEZpbGVzLAogIF91cGxvYWRGaWxlc0NvbnRpbnVlLAp9Owp9KShzZWxmKTsK",
              "ok": true,
              "headers": [
                [
                  "content-type",
                  "application/javascript"
                ]
              ],
              "status": 200,
              "status_text": ""
            }
          },
          "base_uri": "https://localhost:8080/",
          "height": 94
        },
        "id": "2cyiqtEgNPP-",
        "outputId": "56a802ff-4a2e-4df8-bf2d-5b0cb88525a8"
      },
      "source": [
        "# 준비된 수술 환자 데이터를 불러들임\r\n",
        "\r\n",
        "from google.colab import files\r\n",
        "uploaded = files.upload()\r\n",
        "filename = list(uploaded.keys())[0]\r\n",
        "filename"
      ],
      "execution_count": 3,
      "outputs": [
        {
          "output_type": "display_data",
          "data": {
            "text/html": [
              "\n",
              "     <input type=\"file\" id=\"files-59bd4363-b1b2-40e5-87cb-dbf177917cb3\" name=\"files[]\" multiple disabled\n",
              "        style=\"border:none\" />\n",
              "     <output id=\"result-59bd4363-b1b2-40e5-87cb-dbf177917cb3\">\n",
              "      Upload widget is only available when the cell has been executed in the\n",
              "      current browser session. Please rerun this cell to enable.\n",
              "      </output>\n",
              "      <script src=\"/nbextensions/google.colab/files.js\"></script> "
            ],
            "text/plain": [
              "<IPython.core.display.HTML object>"
            ]
          },
          "metadata": {
            "tags": []
          }
        },
        {
          "output_type": "stream",
          "text": [
            "Saving sonar.csv to sonar.csv\n"
          ],
          "name": "stdout"
        },
        {
          "output_type": "execute_result",
          "data": {
            "application/vnd.google.colaboratory.intrinsic+json": {
              "type": "string"
            },
            "text/plain": [
              "'sonar.csv'"
            ]
          },
          "metadata": {
            "tags": []
          },
          "execution_count": 3
        }
      ]
    },
    {
      "cell_type": "code",
      "metadata": {
        "colab": {
          "base_uri": "https://localhost:8080/",
          "height": 161
        },
        "id": "Nfz_zsq_NiM9",
        "outputId": "4b66bbda-b60c-424c-bbf4-545f9b2033ce"
      },
      "source": [
        "import pandas as pd\r\n",
        "df = pd.read_csv(filename, header=None)\r\n",
        "df.head(3)"
      ],
      "execution_count": 8,
      "outputs": [
        {
          "output_type": "execute_result",
          "data": {
            "text/html": [
              "<div>\n",
              "<style scoped>\n",
              "    .dataframe tbody tr th:only-of-type {\n",
              "        vertical-align: middle;\n",
              "    }\n",
              "\n",
              "    .dataframe tbody tr th {\n",
              "        vertical-align: top;\n",
              "    }\n",
              "\n",
              "    .dataframe thead th {\n",
              "        text-align: right;\n",
              "    }\n",
              "</style>\n",
              "<table border=\"1\" class=\"dataframe\">\n",
              "  <thead>\n",
              "    <tr style=\"text-align: right;\">\n",
              "      <th></th>\n",
              "      <th>0</th>\n",
              "      <th>1</th>\n",
              "      <th>2</th>\n",
              "      <th>3</th>\n",
              "      <th>4</th>\n",
              "      <th>5</th>\n",
              "      <th>6</th>\n",
              "      <th>7</th>\n",
              "      <th>8</th>\n",
              "      <th>9</th>\n",
              "      <th>10</th>\n",
              "      <th>11</th>\n",
              "      <th>12</th>\n",
              "      <th>13</th>\n",
              "      <th>14</th>\n",
              "      <th>15</th>\n",
              "      <th>16</th>\n",
              "      <th>17</th>\n",
              "      <th>18</th>\n",
              "      <th>19</th>\n",
              "      <th>20</th>\n",
              "      <th>21</th>\n",
              "      <th>22</th>\n",
              "      <th>23</th>\n",
              "      <th>24</th>\n",
              "      <th>25</th>\n",
              "      <th>26</th>\n",
              "      <th>27</th>\n",
              "      <th>28</th>\n",
              "      <th>29</th>\n",
              "      <th>30</th>\n",
              "      <th>31</th>\n",
              "      <th>32</th>\n",
              "      <th>33</th>\n",
              "      <th>34</th>\n",
              "      <th>35</th>\n",
              "      <th>36</th>\n",
              "      <th>37</th>\n",
              "      <th>38</th>\n",
              "      <th>39</th>\n",
              "      <th>40</th>\n",
              "      <th>41</th>\n",
              "      <th>42</th>\n",
              "      <th>43</th>\n",
              "      <th>44</th>\n",
              "      <th>45</th>\n",
              "      <th>46</th>\n",
              "      <th>47</th>\n",
              "      <th>48</th>\n",
              "      <th>49</th>\n",
              "      <th>50</th>\n",
              "      <th>51</th>\n",
              "      <th>52</th>\n",
              "      <th>53</th>\n",
              "      <th>54</th>\n",
              "      <th>55</th>\n",
              "      <th>56</th>\n",
              "      <th>57</th>\n",
              "      <th>58</th>\n",
              "      <th>59</th>\n",
              "      <th>60</th>\n",
              "    </tr>\n",
              "  </thead>\n",
              "  <tbody>\n",
              "    <tr>\n",
              "      <th>0</th>\n",
              "      <td>0.0200</td>\n",
              "      <td>0.0371</td>\n",
              "      <td>0.0428</td>\n",
              "      <td>0.0207</td>\n",
              "      <td>0.0954</td>\n",
              "      <td>0.0986</td>\n",
              "      <td>0.1539</td>\n",
              "      <td>0.1601</td>\n",
              "      <td>0.3109</td>\n",
              "      <td>0.2111</td>\n",
              "      <td>0.1609</td>\n",
              "      <td>0.1582</td>\n",
              "      <td>0.2238</td>\n",
              "      <td>0.0645</td>\n",
              "      <td>0.0660</td>\n",
              "      <td>0.2273</td>\n",
              "      <td>0.3100</td>\n",
              "      <td>0.2999</td>\n",
              "      <td>0.5078</td>\n",
              "      <td>0.4797</td>\n",
              "      <td>0.5783</td>\n",
              "      <td>0.5071</td>\n",
              "      <td>0.4328</td>\n",
              "      <td>0.5550</td>\n",
              "      <td>0.6711</td>\n",
              "      <td>0.6415</td>\n",
              "      <td>0.7104</td>\n",
              "      <td>0.8080</td>\n",
              "      <td>0.6791</td>\n",
              "      <td>0.3857</td>\n",
              "      <td>0.1307</td>\n",
              "      <td>0.2604</td>\n",
              "      <td>0.5121</td>\n",
              "      <td>0.7547</td>\n",
              "      <td>0.8537</td>\n",
              "      <td>0.8507</td>\n",
              "      <td>0.6692</td>\n",
              "      <td>0.6097</td>\n",
              "      <td>0.4943</td>\n",
              "      <td>0.2744</td>\n",
              "      <td>0.0510</td>\n",
              "      <td>0.2834</td>\n",
              "      <td>0.2825</td>\n",
              "      <td>0.4256</td>\n",
              "      <td>0.2641</td>\n",
              "      <td>0.1386</td>\n",
              "      <td>0.1051</td>\n",
              "      <td>0.1343</td>\n",
              "      <td>0.0383</td>\n",
              "      <td>0.0324</td>\n",
              "      <td>0.0232</td>\n",
              "      <td>0.0027</td>\n",
              "      <td>0.0065</td>\n",
              "      <td>0.0159</td>\n",
              "      <td>0.0072</td>\n",
              "      <td>0.0167</td>\n",
              "      <td>0.0180</td>\n",
              "      <td>0.0084</td>\n",
              "      <td>0.0090</td>\n",
              "      <td>0.0032</td>\n",
              "      <td>R</td>\n",
              "    </tr>\n",
              "    <tr>\n",
              "      <th>1</th>\n",
              "      <td>0.0453</td>\n",
              "      <td>0.0523</td>\n",
              "      <td>0.0843</td>\n",
              "      <td>0.0689</td>\n",
              "      <td>0.1183</td>\n",
              "      <td>0.2583</td>\n",
              "      <td>0.2156</td>\n",
              "      <td>0.3481</td>\n",
              "      <td>0.3337</td>\n",
              "      <td>0.2872</td>\n",
              "      <td>0.4918</td>\n",
              "      <td>0.6552</td>\n",
              "      <td>0.6919</td>\n",
              "      <td>0.7797</td>\n",
              "      <td>0.7464</td>\n",
              "      <td>0.9444</td>\n",
              "      <td>1.0000</td>\n",
              "      <td>0.8874</td>\n",
              "      <td>0.8024</td>\n",
              "      <td>0.7818</td>\n",
              "      <td>0.5212</td>\n",
              "      <td>0.4052</td>\n",
              "      <td>0.3957</td>\n",
              "      <td>0.3914</td>\n",
              "      <td>0.3250</td>\n",
              "      <td>0.3200</td>\n",
              "      <td>0.3271</td>\n",
              "      <td>0.2767</td>\n",
              "      <td>0.4423</td>\n",
              "      <td>0.2028</td>\n",
              "      <td>0.3788</td>\n",
              "      <td>0.2947</td>\n",
              "      <td>0.1984</td>\n",
              "      <td>0.2341</td>\n",
              "      <td>0.1306</td>\n",
              "      <td>0.4182</td>\n",
              "      <td>0.3835</td>\n",
              "      <td>0.1057</td>\n",
              "      <td>0.1840</td>\n",
              "      <td>0.1970</td>\n",
              "      <td>0.1674</td>\n",
              "      <td>0.0583</td>\n",
              "      <td>0.1401</td>\n",
              "      <td>0.1628</td>\n",
              "      <td>0.0621</td>\n",
              "      <td>0.0203</td>\n",
              "      <td>0.0530</td>\n",
              "      <td>0.0742</td>\n",
              "      <td>0.0409</td>\n",
              "      <td>0.0061</td>\n",
              "      <td>0.0125</td>\n",
              "      <td>0.0084</td>\n",
              "      <td>0.0089</td>\n",
              "      <td>0.0048</td>\n",
              "      <td>0.0094</td>\n",
              "      <td>0.0191</td>\n",
              "      <td>0.0140</td>\n",
              "      <td>0.0049</td>\n",
              "      <td>0.0052</td>\n",
              "      <td>0.0044</td>\n",
              "      <td>R</td>\n",
              "    </tr>\n",
              "    <tr>\n",
              "      <th>2</th>\n",
              "      <td>0.0262</td>\n",
              "      <td>0.0582</td>\n",
              "      <td>0.1099</td>\n",
              "      <td>0.1083</td>\n",
              "      <td>0.0974</td>\n",
              "      <td>0.2280</td>\n",
              "      <td>0.2431</td>\n",
              "      <td>0.3771</td>\n",
              "      <td>0.5598</td>\n",
              "      <td>0.6194</td>\n",
              "      <td>0.6333</td>\n",
              "      <td>0.7060</td>\n",
              "      <td>0.5544</td>\n",
              "      <td>0.5320</td>\n",
              "      <td>0.6479</td>\n",
              "      <td>0.6931</td>\n",
              "      <td>0.6759</td>\n",
              "      <td>0.7551</td>\n",
              "      <td>0.8929</td>\n",
              "      <td>0.8619</td>\n",
              "      <td>0.7974</td>\n",
              "      <td>0.6737</td>\n",
              "      <td>0.4293</td>\n",
              "      <td>0.3648</td>\n",
              "      <td>0.5331</td>\n",
              "      <td>0.2413</td>\n",
              "      <td>0.5070</td>\n",
              "      <td>0.8533</td>\n",
              "      <td>0.6036</td>\n",
              "      <td>0.8514</td>\n",
              "      <td>0.8512</td>\n",
              "      <td>0.5045</td>\n",
              "      <td>0.1862</td>\n",
              "      <td>0.2709</td>\n",
              "      <td>0.4232</td>\n",
              "      <td>0.3043</td>\n",
              "      <td>0.6116</td>\n",
              "      <td>0.6756</td>\n",
              "      <td>0.5375</td>\n",
              "      <td>0.4719</td>\n",
              "      <td>0.4647</td>\n",
              "      <td>0.2587</td>\n",
              "      <td>0.2129</td>\n",
              "      <td>0.2222</td>\n",
              "      <td>0.2111</td>\n",
              "      <td>0.0176</td>\n",
              "      <td>0.1348</td>\n",
              "      <td>0.0744</td>\n",
              "      <td>0.0130</td>\n",
              "      <td>0.0106</td>\n",
              "      <td>0.0033</td>\n",
              "      <td>0.0232</td>\n",
              "      <td>0.0166</td>\n",
              "      <td>0.0095</td>\n",
              "      <td>0.0180</td>\n",
              "      <td>0.0244</td>\n",
              "      <td>0.0316</td>\n",
              "      <td>0.0164</td>\n",
              "      <td>0.0095</td>\n",
              "      <td>0.0078</td>\n",
              "      <td>R</td>\n",
              "    </tr>\n",
              "  </tbody>\n",
              "</table>\n",
              "</div>"
            ],
            "text/plain": [
              "       0       1       2       3       4   ...      56      57      58      59  60\n",
              "0  0.0200  0.0371  0.0428  0.0207  0.0954  ...  0.0180  0.0084  0.0090  0.0032   R\n",
              "1  0.0453  0.0523  0.0843  0.0689  0.1183  ...  0.0140  0.0049  0.0052  0.0044   R\n",
              "2  0.0262  0.0582  0.1099  0.1083  0.0974  ...  0.0316  0.0164  0.0095  0.0078   R\n",
              "\n",
              "[3 rows x 61 columns]"
            ]
          },
          "metadata": {
            "tags": []
          },
          "execution_count": 8
        }
      ]
    },
    {
      "cell_type": "code",
      "metadata": {
        "colab": {
          "base_uri": "https://localhost:8080/"
        },
        "id": "d34kXCdjNsoK",
        "outputId": "d9db54da-4c30-4502-e5b7-b4b58205cfe8"
      },
      "source": [
        "df[60].unique()"
      ],
      "execution_count": 9,
      "outputs": [
        {
          "output_type": "execute_result",
          "data": {
            "text/plain": [
              "array(['R', 'M'], dtype=object)"
            ]
          },
          "metadata": {
            "tags": []
          },
          "execution_count": 9
        }
      ]
    },
    {
      "cell_type": "code",
      "metadata": {
        "colab": {
          "base_uri": "https://localhost:8080/"
        },
        "id": "V6qipLcQOBSF",
        "outputId": "9de006d6-68bf-4b9b-c5c6-9afe02eb13a2"
      },
      "source": [
        "from sklearn.preprocessing import LabelEncoder\r\n",
        "le = LabelEncoder()\r\n",
        "y_encoded = le.fit_transform(df[60].values)\r\n",
        "y_encoded[95:100]"
      ],
      "execution_count": 13,
      "outputs": [
        {
          "output_type": "execute_result",
          "data": {
            "text/plain": [
              "array([1, 1, 0, 0, 0])"
            ]
          },
          "metadata": {
            "tags": []
          },
          "execution_count": 13
        }
      ]
    },
    {
      "cell_type": "code",
      "metadata": {
        "colab": {
          "base_uri": "https://localhost:8080/"
        },
        "id": "rhyMlLV_O8Ez",
        "outputId": "e8edca67-f7eb-48e9-d47d-dd904acb0cb5"
      },
      "source": [
        "X = df.iloc[:, :-1].values\r\n",
        "X.shape"
      ],
      "execution_count": 14,
      "outputs": [
        {
          "output_type": "execute_result",
          "data": {
            "text/plain": [
              "(208, 60)"
            ]
          },
          "metadata": {
            "tags": []
          },
          "execution_count": 14
        }
      ]
    },
    {
      "cell_type": "markdown",
      "metadata": {
        "id": "uUlWuH6USLIr"
      },
      "source": [
        "### 과적합 발생"
      ]
    },
    {
      "cell_type": "code",
      "metadata": {
        "colab": {
          "base_uri": "https://localhost:8080/"
        },
        "id": "jOUheFciSHcH",
        "outputId": "04e30d70-8e8c-42db-f5f9-bfd3db47b1a2"
      },
      "source": [
        "from tensorflow.keras.models import Sequential\r\n",
        "from tensorflow.keras.layers import Dense\r\n",
        "\r\n",
        "model = Sequential()\r\n",
        "model.add(Dense(24, input_dim=60, activation='relu'))\r\n",
        "model.add(Dense(8, activation='relu'))\r\n",
        "model.add(Dense(1, activation='sigmoid'))\r\n",
        "model.summary()"
      ],
      "execution_count": 15,
      "outputs": [
        {
          "output_type": "stream",
          "text": [
            "Model: \"sequential\"\n",
            "_________________________________________________________________\n",
            "Layer (type)                 Output Shape              Param #   \n",
            "=================================================================\n",
            "dense (Dense)                (None, 24)                1464      \n",
            "_________________________________________________________________\n",
            "dense_1 (Dense)              (None, 8)                 200       \n",
            "_________________________________________________________________\n",
            "dense_2 (Dense)              (None, 1)                 9         \n",
            "=================================================================\n",
            "Total params: 1,673\n",
            "Trainable params: 1,673\n",
            "Non-trainable params: 0\n",
            "_________________________________________________________________\n"
          ],
          "name": "stdout"
        }
      ]
    },
    {
      "cell_type": "code",
      "metadata": {
        "id": "u2T1-gbRTA-l"
      },
      "source": [
        "model.compile(loss='binary_crossentropy',\r\n",
        "              optimizer='adam',\r\n",
        "              metrics=['accuracy'])"
      ],
      "execution_count": 20,
      "outputs": []
    },
    {
      "cell_type": "code",
      "metadata": {
        "colab": {
          "base_uri": "https://localhost:8080/"
        },
        "id": "8hV99WWlTVW8",
        "outputId": "f242ae22-8dfe-44be-ffed-35986a20cd8d"
      },
      "source": [
        "model.fit(X, y_encoded, batch_size=10, epochs=200, verbose=0)"
      ],
      "execution_count": 21,
      "outputs": [
        {
          "output_type": "execute_result",
          "data": {
            "text/plain": [
              "<tensorflow.python.keras.callbacks.History at 0x7f56b2bb6400>"
            ]
          },
          "metadata": {
            "tags": []
          },
          "execution_count": 21
        }
      ]
    },
    {
      "cell_type": "code",
      "metadata": {
        "colab": {
          "base_uri": "https://localhost:8080/"
        },
        "id": "Id1CXr_sTs3V",
        "outputId": "e35ed9d2-5f2d-493f-dc5e-439bcafd08c2"
      },
      "source": [
        "acc = model.evaluate(X, y_encoded)\r\n",
        "print(f'Accuracy: {acc[1]:.4f}')"
      ],
      "execution_count": 22,
      "outputs": [
        {
          "output_type": "stream",
          "text": [
            "7/7 [==============================] - 0s 2ms/step - loss: 0.0313 - accuracy: 1.0000\n",
            "Accuracy: 1.0000\n"
          ],
          "name": "stdout"
        }
      ]
    },
    {
      "cell_type": "markdown",
      "metadata": {
        "id": "mkZIw9mRULEz"
      },
      "source": [
        "### Train/Test Dataset으로 나누기 : 과적합을 피하는 방법"
      ]
    },
    {
      "cell_type": "code",
      "metadata": {
        "colab": {
          "base_uri": "https://localhost:8080/"
        },
        "id": "9-FkUG2_UJ5k",
        "outputId": "7fec287d-5bba-4f0b-d2ff-300c346b26e8"
      },
      "source": [
        "from sklearn.model_selection import train_test_split\r\n",
        "X_train, X_test, y_train, y_test = train_test_split(\r\n",
        "    X, y_encoded, stratify = y_encoded, random_state = seed\r\n",
        ")\r\n",
        "X_train.shape, X_test.shape"
      ],
      "execution_count": 37,
      "outputs": [
        {
          "output_type": "execute_result",
          "data": {
            "text/plain": [
              "((156, 60), (52, 60))"
            ]
          },
          "metadata": {
            "tags": []
          },
          "execution_count": 37
        }
      ]
    },
    {
      "cell_type": "code",
      "metadata": {
        "colab": {
          "base_uri": "https://localhost:8080/"
        },
        "id": "k5U5ZFJjU9RE",
        "outputId": "82825a83-aaa2-4df6-d666-9244dd963b9a"
      },
      "source": [
        "model2 = Sequential()\r\n",
        "model2.add(Dense(24, input_dim=60, activation='relu'))\r\n",
        "model2.add(Dense(8, activation='relu'))\r\n",
        "model2.add(Dense(1, activation='sigmoid'))\r\n",
        "model2.summary()"
      ],
      "execution_count": 24,
      "outputs": [
        {
          "output_type": "stream",
          "text": [
            "Model: \"sequential_1\"\n",
            "_________________________________________________________________\n",
            "Layer (type)                 Output Shape              Param #   \n",
            "=================================================================\n",
            "dense_3 (Dense)              (None, 24)                1464      \n",
            "_________________________________________________________________\n",
            "dense_4 (Dense)              (None, 8)                 200       \n",
            "_________________________________________________________________\n",
            "dense_5 (Dense)              (None, 1)                 9         \n",
            "=================================================================\n",
            "Total params: 1,673\n",
            "Trainable params: 1,673\n",
            "Non-trainable params: 0\n",
            "_________________________________________________________________\n"
          ],
          "name": "stdout"
        }
      ]
    },
    {
      "cell_type": "code",
      "metadata": {
        "id": "ZfPcZuadVD5t"
      },
      "source": [
        "model2.compile(loss='binary_crossentropy',\r\n",
        "              optimizer='adam', metrics=['accuracy'])"
      ],
      "execution_count": 25,
      "outputs": []
    },
    {
      "cell_type": "code",
      "metadata": {
        "colab": {
          "base_uri": "https://localhost:8080/"
        },
        "id": "_qhXvvnOVKc7",
        "outputId": "666ff518-765f-4902-a544-e329e682578a"
      },
      "source": [
        "model2.fit(X_train, y_train, batch_size=10, epochs=200, verbose=0)"
      ],
      "execution_count": 26,
      "outputs": [
        {
          "output_type": "execute_result",
          "data": {
            "text/plain": [
              "<tensorflow.python.keras.callbacks.History at 0x7f56afd01e48>"
            ]
          },
          "metadata": {
            "tags": []
          },
          "execution_count": 26
        }
      ]
    },
    {
      "cell_type": "code",
      "metadata": {
        "colab": {
          "base_uri": "https://localhost:8080/"
        },
        "id": "39exSRVUVWXv",
        "outputId": "4b67572d-dc43-428e-8967-acc41be328d4"
      },
      "source": [
        "acc = model2.evaluate(X_test, y_test)\r\n",
        "print(f'Accuracy: {acc[1]:.4f}')"
      ],
      "execution_count": 28,
      "outputs": [
        {
          "output_type": "stream",
          "text": [
            "2/2 [==============================] - 0s 4ms/step - loss: 0.6994 - accuracy: 0.8077\n",
            "Accuracy: 0.8077\n"
          ],
          "name": "stdout"
        }
      ]
    },
    {
      "cell_type": "markdown",
      "metadata": {
        "id": "mCWySdX_WL9I"
      },
      "source": [
        "### 모델 저장하기"
      ]
    },
    {
      "cell_type": "code",
      "metadata": {
        "id": "EGdt4tzKVeZd"
      },
      "source": [
        "# 모델을 컴퓨터에 저장\r\n",
        "model2.save('my_model2.h5')"
      ],
      "execution_count": 29,
      "outputs": []
    },
    {
      "cell_type": "code",
      "metadata": {
        "colab": {
          "base_uri": "https://localhost:8080/"
        },
        "id": "DX0cFjR7WrGq",
        "outputId": "99f04da2-7592-4810-bca8-4b56701b293d"
      },
      "source": [
        "!ls -l"
      ],
      "execution_count": 30,
      "outputs": [
        {
          "output_type": "stream",
          "text": [
            "total 144\n",
            "-rw-r--r-- 1 root root 51312 Feb  9 05:54 my_model2.h5\n",
            "drwxr-xr-x 1 root root  4096 Feb  4 15:26 sample_data\n",
            "-rw-r--r-- 1 root root 87776 Feb  9 05:14 sonar.csv\n"
          ],
          "name": "stdout"
        }
      ]
    },
    {
      "cell_type": "code",
      "metadata": {
        "colab": {
          "base_uri": "https://localhost:8080/"
        },
        "id": "Mb3_ddg-WtqV",
        "outputId": "e7509f59-3133-45ae-cfa9-5ec6bd05585f"
      },
      "source": [
        "from tensorflow.keras.models import load_model\r\n",
        "\r\n",
        "my_model = load_model('my_model2.h5')\r\n",
        "acc = my_model.evaluate(X_test, y_test)\r\n",
        "print(f'Accuracy: {acc[1]:.4f}')"
      ],
      "execution_count": 31,
      "outputs": [
        {
          "output_type": "stream",
          "text": [
            "2/2 [==============================] - 0s 4ms/step - loss: 0.6994 - accuracy: 0.8077\n",
            "Accuracy: 0.8077\n"
          ],
          "name": "stdout"
        }
      ]
    },
    {
      "cell_type": "markdown",
      "metadata": {
        "id": "FqyyeWxngU_h"
      },
      "source": [
        "### 은닉층 추가"
      ]
    },
    {
      "cell_type": "code",
      "metadata": {
        "colab": {
          "base_uri": "https://localhost:8080/"
        },
        "id": "UCxrnDqvXJI-",
        "outputId": "740fe302-11d3-444e-b3f5-f33153910d8d"
      },
      "source": [
        "model3 = Sequential()\r\n",
        "model3.add(Dense(24, input_dim=60, activation='relu'))\r\n",
        "model3.add(Dense(12, activation='relu'))\r\n",
        "model3.add(Dense(6, activation='relu'))\r\n",
        "model3.add(Dense(3, activation='relu'))\r\n",
        "model3.add(Dense(2, activation='relu'))\r\n",
        "model3.add(Dense(1, activation='sigmoid'))\r\n",
        "model3.summary()"
      ],
      "execution_count": 62,
      "outputs": [
        {
          "output_type": "stream",
          "text": [
            "Model: \"sequential_6\"\n",
            "_________________________________________________________________\n",
            "Layer (type)                 Output Shape              Param #   \n",
            "=================================================================\n",
            "dense_30 (Dense)             (None, 24)                1464      \n",
            "_________________________________________________________________\n",
            "dense_31 (Dense)             (None, 12)                300       \n",
            "_________________________________________________________________\n",
            "dense_32 (Dense)             (None, 6)                 78        \n",
            "_________________________________________________________________\n",
            "dense_33 (Dense)             (None, 3)                 21        \n",
            "_________________________________________________________________\n",
            "dense_34 (Dense)             (None, 2)                 8         \n",
            "_________________________________________________________________\n",
            "dense_35 (Dense)             (None, 1)                 3         \n",
            "=================================================================\n",
            "Total params: 1,874\n",
            "Trainable params: 1,874\n",
            "Non-trainable params: 0\n",
            "_________________________________________________________________\n"
          ],
          "name": "stdout"
        }
      ]
    },
    {
      "cell_type": "code",
      "metadata": {
        "id": "UjuBs3Gug5LX"
      },
      "source": [
        "model3.compile(loss='binary_crossentropy', optimizer='adam', metrics=['accuracy'])"
      ],
      "execution_count": 63,
      "outputs": []
    },
    {
      "cell_type": "code",
      "metadata": {
        "colab": {
          "base_uri": "https://localhost:8080/"
        },
        "id": "B-XSSZPkhAGy",
        "outputId": "791320c4-ce72-4f55-9f1f-93fa2926a0a2"
      },
      "source": [
        "history = model3.fit(X_train, y_train, validation_split=0.2, epochs=200, batch_size=10)"
      ],
      "execution_count": 64,
      "outputs": [
        {
          "output_type": "stream",
          "text": [
            "Epoch 1/200\n",
            "13/13 [==============================] - 1s 20ms/step - loss: 0.6932 - accuracy: 0.4196 - val_loss: 0.6931 - val_accuracy: 0.5312\n",
            "Epoch 2/200\n",
            "13/13 [==============================] - 0s 6ms/step - loss: 0.6931 - accuracy: 0.5376 - val_loss: 0.6930 - val_accuracy: 0.5312\n",
            "Epoch 3/200\n",
            "13/13 [==============================] - 0s 5ms/step - loss: 0.6929 - accuracy: 0.5521 - val_loss: 0.6929 - val_accuracy: 0.5312\n",
            "Epoch 4/200\n",
            "13/13 [==============================] - 0s 5ms/step - loss: 0.6931 - accuracy: 0.5052 - val_loss: 0.6928 - val_accuracy: 0.5312\n",
            "Epoch 5/200\n",
            "13/13 [==============================] - 0s 5ms/step - loss: 0.6927 - accuracy: 0.5326 - val_loss: 0.6918 - val_accuracy: 0.5312\n",
            "Epoch 6/200\n",
            "13/13 [==============================] - 0s 5ms/step - loss: 0.6917 - accuracy: 0.5308 - val_loss: 0.6915 - val_accuracy: 0.5312\n",
            "Epoch 7/200\n",
            "13/13 [==============================] - 0s 5ms/step - loss: 0.6923 - accuracy: 0.4724 - val_loss: 0.6892 - val_accuracy: 0.5312\n",
            "Epoch 8/200\n",
            "13/13 [==============================] - 0s 5ms/step - loss: 0.6910 - accuracy: 0.4859 - val_loss: 0.6867 - val_accuracy: 0.5312\n",
            "Epoch 9/200\n",
            "13/13 [==============================] - 0s 5ms/step - loss: 0.6831 - accuracy: 0.6035 - val_loss: 0.6839 - val_accuracy: 0.5312\n",
            "Epoch 10/200\n",
            "13/13 [==============================] - 0s 5ms/step - loss: 0.6850 - accuracy: 0.5220 - val_loss: 0.6817 - val_accuracy: 0.5312\n",
            "Epoch 11/200\n",
            "13/13 [==============================] - 0s 5ms/step - loss: 0.6819 - accuracy: 0.5252 - val_loss: 0.6789 - val_accuracy: 0.5312\n",
            "Epoch 12/200\n",
            "13/13 [==============================] - 0s 5ms/step - loss: 0.6800 - accuracy: 0.5273 - val_loss: 0.6756 - val_accuracy: 0.5312\n",
            "Epoch 13/200\n",
            "13/13 [==============================] - 0s 5ms/step - loss: 0.6754 - accuracy: 0.5139 - val_loss: 0.6700 - val_accuracy: 0.5312\n",
            "Epoch 14/200\n",
            "13/13 [==============================] - 0s 5ms/step - loss: 0.6605 - accuracy: 0.5930 - val_loss: 0.6626 - val_accuracy: 0.5312\n",
            "Epoch 15/200\n",
            "13/13 [==============================] - 0s 5ms/step - loss: 0.6663 - accuracy: 0.5310 - val_loss: 0.6571 - val_accuracy: 0.5312\n",
            "Epoch 16/200\n",
            "13/13 [==============================] - 0s 5ms/step - loss: 0.6717 - accuracy: 0.4875 - val_loss: 0.6502 - val_accuracy: 0.5312\n",
            "Epoch 17/200\n",
            "13/13 [==============================] - 0s 5ms/step - loss: 0.6459 - accuracy: 0.5321 - val_loss: 0.6409 - val_accuracy: 0.5312\n",
            "Epoch 18/200\n",
            "13/13 [==============================] - 0s 18ms/step - loss: 0.6164 - accuracy: 0.6117 - val_loss: 0.6315 - val_accuracy: 0.5312\n",
            "Epoch 19/200\n",
            "13/13 [==============================] - 0s 5ms/step - loss: 0.6421 - accuracy: 0.5153 - val_loss: 0.6231 - val_accuracy: 0.5312\n",
            "Epoch 20/200\n",
            "13/13 [==============================] - 0s 5ms/step - loss: 0.6365 - accuracy: 0.5322 - val_loss: 0.6159 - val_accuracy: 0.5312\n",
            "Epoch 21/200\n",
            "13/13 [==============================] - 0s 5ms/step - loss: 0.6275 - accuracy: 0.4825 - val_loss: 0.6087 - val_accuracy: 0.5312\n",
            "Epoch 22/200\n",
            "13/13 [==============================] - 0s 5ms/step - loss: 0.6216 - accuracy: 0.5241 - val_loss: 0.6001 - val_accuracy: 0.5312\n",
            "Epoch 23/200\n",
            "13/13 [==============================] - 0s 5ms/step - loss: 0.5984 - accuracy: 0.6396 - val_loss: 0.5944 - val_accuracy: 0.7500\n",
            "Epoch 24/200\n",
            "13/13 [==============================] - 0s 5ms/step - loss: 0.5908 - accuracy: 0.7505 - val_loss: 0.5826 - val_accuracy: 0.6875\n",
            "Epoch 25/200\n",
            "13/13 [==============================] - 0s 6ms/step - loss: 0.5875 - accuracy: 0.7674 - val_loss: 0.5753 - val_accuracy: 0.7812\n",
            "Epoch 26/200\n",
            "13/13 [==============================] - 0s 5ms/step - loss: 0.6102 - accuracy: 0.7276 - val_loss: 0.5684 - val_accuracy: 0.8125\n",
            "Epoch 27/200\n",
            "13/13 [==============================] - 0s 6ms/step - loss: 0.5578 - accuracy: 0.7670 - val_loss: 0.5758 - val_accuracy: 0.8438\n",
            "Epoch 28/200\n",
            "13/13 [==============================] - 0s 5ms/step - loss: 0.6009 - accuracy: 0.7838 - val_loss: 0.5577 - val_accuracy: 0.7812\n",
            "Epoch 29/200\n",
            "13/13 [==============================] - 0s 5ms/step - loss: 0.5144 - accuracy: 0.8072 - val_loss: 0.5674 - val_accuracy: 0.8438\n",
            "Epoch 30/200\n",
            "13/13 [==============================] - 0s 5ms/step - loss: 0.5735 - accuracy: 0.8270 - val_loss: 0.5584 - val_accuracy: 0.8438\n",
            "Epoch 31/200\n",
            "13/13 [==============================] - 0s 5ms/step - loss: 0.5454 - accuracy: 0.8129 - val_loss: 0.5472 - val_accuracy: 0.8125\n",
            "Epoch 32/200\n",
            "13/13 [==============================] - 0s 6ms/step - loss: 0.5802 - accuracy: 0.8204 - val_loss: 0.5464 - val_accuracy: 0.8438\n",
            "Epoch 33/200\n",
            "13/13 [==============================] - 0s 6ms/step - loss: 0.5209 - accuracy: 0.8148 - val_loss: 0.5376 - val_accuracy: 0.8125\n",
            "Epoch 34/200\n",
            "13/13 [==============================] - 0s 6ms/step - loss: 0.5711 - accuracy: 0.8030 - val_loss: 0.5431 - val_accuracy: 0.8125\n",
            "Epoch 35/200\n",
            "13/13 [==============================] - 0s 5ms/step - loss: 0.5473 - accuracy: 0.7538 - val_loss: 0.5305 - val_accuracy: 0.8125\n",
            "Epoch 36/200\n",
            "13/13 [==============================] - 0s 5ms/step - loss: 0.5496 - accuracy: 0.7631 - val_loss: 0.5389 - val_accuracy: 0.8438\n",
            "Epoch 37/200\n",
            "13/13 [==============================] - 0s 5ms/step - loss: 0.4973 - accuracy: 0.8295 - val_loss: 0.5310 - val_accuracy: 0.8125\n",
            "Epoch 38/200\n",
            "13/13 [==============================] - 0s 6ms/step - loss: 0.5217 - accuracy: 0.8168 - val_loss: 0.5343 - val_accuracy: 0.8750\n",
            "Epoch 39/200\n",
            "13/13 [==============================] - 0s 5ms/step - loss: 0.4942 - accuracy: 0.8220 - val_loss: 0.5265 - val_accuracy: 0.8438\n",
            "Epoch 40/200\n",
            "13/13 [==============================] - 0s 5ms/step - loss: 0.5312 - accuracy: 0.8075 - val_loss: 0.5244 - val_accuracy: 0.8438\n",
            "Epoch 41/200\n",
            "13/13 [==============================] - 0s 6ms/step - loss: 0.4630 - accuracy: 0.8642 - val_loss: 0.5185 - val_accuracy: 0.8438\n",
            "Epoch 42/200\n",
            "13/13 [==============================] - 0s 6ms/step - loss: 0.4904 - accuracy: 0.8485 - val_loss: 0.5204 - val_accuracy: 0.8750\n",
            "Epoch 43/200\n",
            "13/13 [==============================] - 0s 5ms/step - loss: 0.4817 - accuracy: 0.8185 - val_loss: 0.5109 - val_accuracy: 0.8125\n",
            "Epoch 44/200\n",
            "13/13 [==============================] - 0s 5ms/step - loss: 0.5053 - accuracy: 0.8210 - val_loss: 0.5226 - val_accuracy: 0.8750\n",
            "Epoch 45/200\n",
            "13/13 [==============================] - 0s 5ms/step - loss: 0.4659 - accuracy: 0.8497 - val_loss: 0.5057 - val_accuracy: 0.8750\n",
            "Epoch 46/200\n",
            "13/13 [==============================] - 0s 5ms/step - loss: 0.4590 - accuracy: 0.8510 - val_loss: 0.5196 - val_accuracy: 0.8438\n",
            "Epoch 47/200\n",
            "13/13 [==============================] - 0s 5ms/step - loss: 0.5222 - accuracy: 0.8700 - val_loss: 0.5026 - val_accuracy: 0.8125\n",
            "Epoch 48/200\n",
            "13/13 [==============================] - 0s 5ms/step - loss: 0.5275 - accuracy: 0.7850 - val_loss: 0.5196 - val_accuracy: 0.8750\n",
            "Epoch 49/200\n",
            "13/13 [==============================] - 0s 5ms/step - loss: 0.4852 - accuracy: 0.8809 - val_loss: 0.4963 - val_accuracy: 0.8125\n",
            "Epoch 50/200\n",
            "13/13 [==============================] - 0s 5ms/step - loss: 0.4790 - accuracy: 0.7759 - val_loss: 0.4946 - val_accuracy: 0.8750\n",
            "Epoch 51/200\n",
            "13/13 [==============================] - 0s 5ms/step - loss: 0.5029 - accuracy: 0.8631 - val_loss: 0.4951 - val_accuracy: 0.8750\n",
            "Epoch 52/200\n",
            "13/13 [==============================] - 0s 5ms/step - loss: 0.4790 - accuracy: 0.8165 - val_loss: 0.4969 - val_accuracy: 0.8750\n",
            "Epoch 53/200\n",
            "13/13 [==============================] - 0s 5ms/step - loss: 0.4706 - accuracy: 0.8138 - val_loss: 0.4909 - val_accuracy: 0.8438\n",
            "Epoch 54/200\n",
            "13/13 [==============================] - 0s 5ms/step - loss: 0.4367 - accuracy: 0.8445 - val_loss: 0.5110 - val_accuracy: 0.8438\n",
            "Epoch 55/200\n",
            "13/13 [==============================] - 0s 6ms/step - loss: 0.4808 - accuracy: 0.8506 - val_loss: 0.5005 - val_accuracy: 0.8750\n",
            "Epoch 56/200\n",
            "13/13 [==============================] - 0s 5ms/step - loss: 0.4369 - accuracy: 0.9030 - val_loss: 0.4804 - val_accuracy: 0.8438\n",
            "Epoch 57/200\n",
            "13/13 [==============================] - 0s 5ms/step - loss: 0.4829 - accuracy: 0.8272 - val_loss: 0.4957 - val_accuracy: 0.8750\n",
            "Epoch 58/200\n",
            "13/13 [==============================] - 0s 5ms/step - loss: 0.4448 - accuracy: 0.8677 - val_loss: 0.4887 - val_accuracy: 0.8750\n",
            "Epoch 59/200\n",
            "13/13 [==============================] - 0s 6ms/step - loss: 0.4079 - accuracy: 0.9116 - val_loss: 0.4867 - val_accuracy: 0.8750\n",
            "Epoch 60/200\n",
            "13/13 [==============================] - 0s 5ms/step - loss: 0.3899 - accuracy: 0.8980 - val_loss: 0.4931 - val_accuracy: 0.8438\n",
            "Epoch 61/200\n",
            "13/13 [==============================] - 0s 6ms/step - loss: 0.4654 - accuracy: 0.8846 - val_loss: 0.4713 - val_accuracy: 0.8438\n",
            "Epoch 62/200\n",
            "13/13 [==============================] - 0s 5ms/step - loss: 0.4001 - accuracy: 0.8599 - val_loss: 0.5120 - val_accuracy: 0.8438\n",
            "Epoch 63/200\n",
            "13/13 [==============================] - 0s 6ms/step - loss: 0.4500 - accuracy: 0.9053 - val_loss: 0.4687 - val_accuracy: 0.8438\n",
            "Epoch 64/200\n",
            "13/13 [==============================] - 0s 5ms/step - loss: 0.4457 - accuracy: 0.8103 - val_loss: 0.5047 - val_accuracy: 0.8750\n",
            "Epoch 65/200\n",
            "13/13 [==============================] - 0s 6ms/step - loss: 0.4570 - accuracy: 0.9075 - val_loss: 0.4695 - val_accuracy: 0.8750\n",
            "Epoch 66/200\n",
            "13/13 [==============================] - 0s 5ms/step - loss: 0.4513 - accuracy: 0.8646 - val_loss: 0.4797 - val_accuracy: 0.8750\n",
            "Epoch 67/200\n",
            "13/13 [==============================] - 0s 5ms/step - loss: 0.4357 - accuracy: 0.9087 - val_loss: 0.4738 - val_accuracy: 0.8750\n",
            "Epoch 68/200\n",
            "13/13 [==============================] - 0s 17ms/step - loss: 0.4005 - accuracy: 0.8739 - val_loss: 0.4644 - val_accuracy: 0.8438\n",
            "Epoch 69/200\n",
            "13/13 [==============================] - 0s 5ms/step - loss: 0.4531 - accuracy: 0.8594 - val_loss: 0.4699 - val_accuracy: 0.8750\n",
            "Epoch 70/200\n",
            "13/13 [==============================] - 0s 6ms/step - loss: 0.4044 - accuracy: 0.8729 - val_loss: 0.4672 - val_accuracy: 0.8750\n",
            "Epoch 71/200\n",
            "13/13 [==============================] - 0s 5ms/step - loss: 0.4224 - accuracy: 0.8779 - val_loss: 0.4564 - val_accuracy: 0.8438\n",
            "Epoch 72/200\n",
            "13/13 [==============================] - 0s 5ms/step - loss: 0.3909 - accuracy: 0.8633 - val_loss: 0.4817 - val_accuracy: 0.8438\n",
            "Epoch 73/200\n",
            "13/13 [==============================] - 0s 5ms/step - loss: 0.3747 - accuracy: 0.9164 - val_loss: 0.4687 - val_accuracy: 0.8750\n",
            "Epoch 74/200\n",
            "13/13 [==============================] - 0s 5ms/step - loss: 0.3351 - accuracy: 0.9300 - val_loss: 0.4884 - val_accuracy: 0.8750\n",
            "Epoch 75/200\n",
            "13/13 [==============================] - 0s 6ms/step - loss: 0.3799 - accuracy: 0.9273 - val_loss: 0.4572 - val_accuracy: 0.8125\n",
            "Epoch 76/200\n",
            "13/13 [==============================] - 0s 6ms/step - loss: 0.3550 - accuracy: 0.8900 - val_loss: 0.4876 - val_accuracy: 0.8750\n",
            "Epoch 77/200\n",
            "13/13 [==============================] - 0s 5ms/step - loss: 0.3512 - accuracy: 0.9203 - val_loss: 0.4955 - val_accuracy: 0.8438\n",
            "Epoch 78/200\n",
            "13/13 [==============================] - 0s 5ms/step - loss: 0.3194 - accuracy: 0.9589 - val_loss: 0.4583 - val_accuracy: 0.8125\n",
            "Epoch 79/200\n",
            "13/13 [==============================] - 0s 5ms/step - loss: 0.3414 - accuracy: 0.9375 - val_loss: 0.4924 - val_accuracy: 0.8438\n",
            "Epoch 80/200\n",
            "13/13 [==============================] - 0s 5ms/step - loss: 0.3292 - accuracy: 0.9634 - val_loss: 0.4575 - val_accuracy: 0.8125\n",
            "Epoch 81/200\n",
            "13/13 [==============================] - 0s 5ms/step - loss: 0.3295 - accuracy: 0.8982 - val_loss: 0.4692 - val_accuracy: 0.8438\n",
            "Epoch 82/200\n",
            "13/13 [==============================] - 0s 6ms/step - loss: 0.3488 - accuracy: 0.8963 - val_loss: 0.4634 - val_accuracy: 0.8438\n",
            "Epoch 83/200\n",
            "13/13 [==============================] - 0s 5ms/step - loss: 0.3043 - accuracy: 0.9478 - val_loss: 0.4656 - val_accuracy: 0.8438\n",
            "Epoch 84/200\n",
            "13/13 [==============================] - 0s 5ms/step - loss: 0.3181 - accuracy: 0.9466 - val_loss: 0.4548 - val_accuracy: 0.8438\n",
            "Epoch 85/200\n",
            "13/13 [==============================] - 0s 6ms/step - loss: 0.3513 - accuracy: 0.9230 - val_loss: 0.4614 - val_accuracy: 0.8438\n",
            "Epoch 86/200\n",
            "13/13 [==============================] - 0s 5ms/step - loss: 0.3253 - accuracy: 0.9351 - val_loss: 0.4645 - val_accuracy: 0.8438\n",
            "Epoch 87/200\n",
            "13/13 [==============================] - 0s 6ms/step - loss: 0.3271 - accuracy: 0.9593 - val_loss: 0.4566 - val_accuracy: 0.8438\n",
            "Epoch 88/200\n",
            "13/13 [==============================] - 0s 5ms/step - loss: 0.3138 - accuracy: 0.9723 - val_loss: 0.4398 - val_accuracy: 0.8125\n",
            "Epoch 89/200\n",
            "13/13 [==============================] - 0s 5ms/step - loss: 0.3092 - accuracy: 0.9207 - val_loss: 0.4367 - val_accuracy: 0.8438\n",
            "Epoch 90/200\n",
            "13/13 [==============================] - 0s 6ms/step - loss: 0.2931 - accuracy: 0.9434 - val_loss: 0.4807 - val_accuracy: 0.8750\n",
            "Epoch 91/200\n",
            "13/13 [==============================] - 0s 5ms/step - loss: 0.3084 - accuracy: 0.9500 - val_loss: 0.4596 - val_accuracy: 0.8438\n",
            "Epoch 92/200\n",
            "13/13 [==============================] - 0s 5ms/step - loss: 0.3059 - accuracy: 0.9489 - val_loss: 0.4326 - val_accuracy: 0.8750\n",
            "Epoch 93/200\n",
            "13/13 [==============================] - 0s 5ms/step - loss: 0.2872 - accuracy: 0.9447 - val_loss: 0.4376 - val_accuracy: 0.8438\n",
            "Epoch 94/200\n",
            "13/13 [==============================] - 0s 5ms/step - loss: 0.2778 - accuracy: 0.9651 - val_loss: 0.4608 - val_accuracy: 0.8438\n",
            "Epoch 95/200\n",
            "13/13 [==============================] - 0s 7ms/step - loss: 0.2740 - accuracy: 0.9712 - val_loss: 0.4372 - val_accuracy: 0.8438\n",
            "Epoch 96/200\n",
            "13/13 [==============================] - 0s 5ms/step - loss: 0.2646 - accuracy: 0.9703 - val_loss: 0.4459 - val_accuracy: 0.8438\n",
            "Epoch 97/200\n",
            "13/13 [==============================] - 0s 5ms/step - loss: 0.2885 - accuracy: 0.9531 - val_loss: 0.4434 - val_accuracy: 0.8438\n",
            "Epoch 98/200\n",
            "13/13 [==============================] - 0s 6ms/step - loss: 0.2666 - accuracy: 0.9791 - val_loss: 0.4416 - val_accuracy: 0.8438\n",
            "Epoch 99/200\n",
            "13/13 [==============================] - 0s 5ms/step - loss: 0.2324 - accuracy: 0.9725 - val_loss: 0.4387 - val_accuracy: 0.8438\n",
            "Epoch 100/200\n",
            "13/13 [==============================] - 0s 5ms/step - loss: 0.2504 - accuracy: 0.9765 - val_loss: 0.4366 - val_accuracy: 0.8438\n",
            "Epoch 101/200\n",
            "13/13 [==============================] - 0s 6ms/step - loss: 0.2568 - accuracy: 0.9635 - val_loss: 0.4483 - val_accuracy: 0.8438\n",
            "Epoch 102/200\n",
            "13/13 [==============================] - 0s 6ms/step - loss: 0.2486 - accuracy: 0.9862 - val_loss: 0.4307 - val_accuracy: 0.8750\n",
            "Epoch 103/200\n",
            "13/13 [==============================] - 0s 6ms/step - loss: 0.2653 - accuracy: 0.9539 - val_loss: 0.4372 - val_accuracy: 0.8750\n",
            "Epoch 104/200\n",
            "13/13 [==============================] - 0s 5ms/step - loss: 0.2623 - accuracy: 0.9802 - val_loss: 0.4319 - val_accuracy: 0.8438\n",
            "Epoch 105/200\n",
            "13/13 [==============================] - 0s 5ms/step - loss: 0.2818 - accuracy: 0.9581 - val_loss: 0.4494 - val_accuracy: 0.8438\n",
            "Epoch 106/200\n",
            "13/13 [==============================] - 0s 5ms/step - loss: 0.2294 - accuracy: 0.9867 - val_loss: 0.4538 - val_accuracy: 0.8750\n",
            "Epoch 107/200\n",
            "13/13 [==============================] - 0s 5ms/step - loss: 0.2726 - accuracy: 0.9624 - val_loss: 0.4159 - val_accuracy: 0.8750\n",
            "Epoch 108/200\n",
            "13/13 [==============================] - 0s 5ms/step - loss: 0.2338 - accuracy: 0.9615 - val_loss: 0.4766 - val_accuracy: 0.8438\n",
            "Epoch 109/200\n",
            "13/13 [==============================] - 0s 5ms/step - loss: 0.2410 - accuracy: 0.9719 - val_loss: 0.4468 - val_accuracy: 0.8125\n",
            "Epoch 110/200\n",
            "13/13 [==============================] - 0s 7ms/step - loss: 0.1991 - accuracy: 0.9783 - val_loss: 0.4329 - val_accuracy: 0.8438\n",
            "Epoch 111/200\n",
            "13/13 [==============================] - 0s 5ms/step - loss: 0.2209 - accuracy: 0.9850 - val_loss: 0.4360 - val_accuracy: 0.8438\n",
            "Epoch 112/200\n",
            "13/13 [==============================] - 0s 6ms/step - loss: 0.2150 - accuracy: 0.9710 - val_loss: 0.4537 - val_accuracy: 0.8750\n",
            "Epoch 113/200\n",
            "13/13 [==============================] - 0s 6ms/step - loss: 0.1932 - accuracy: 0.9925 - val_loss: 0.4477 - val_accuracy: 0.8750\n",
            "Epoch 114/200\n",
            "13/13 [==============================] - 0s 6ms/step - loss: 0.2270 - accuracy: 0.9711 - val_loss: 0.4291 - val_accuracy: 0.8438\n",
            "Epoch 115/200\n",
            "13/13 [==============================] - 0s 5ms/step - loss: 0.1923 - accuracy: 0.9844 - val_loss: 0.4419 - val_accuracy: 0.8750\n",
            "Epoch 116/200\n",
            "13/13 [==============================] - 0s 5ms/step - loss: 0.2285 - accuracy: 0.9816 - val_loss: 0.4309 - val_accuracy: 0.8438\n",
            "Epoch 117/200\n",
            "13/13 [==============================] - 0s 6ms/step - loss: 0.1909 - accuracy: 0.9922 - val_loss: 0.4287 - val_accuracy: 0.8750\n",
            "Epoch 118/200\n",
            "13/13 [==============================] - 0s 16ms/step - loss: 0.2038 - accuracy: 0.9949 - val_loss: 0.4365 - val_accuracy: 0.8438\n",
            "Epoch 119/200\n",
            "13/13 [==============================] - 0s 5ms/step - loss: 0.2286 - accuracy: 0.9736 - val_loss: 0.4308 - val_accuracy: 0.8125\n",
            "Epoch 120/200\n",
            "13/13 [==============================] - 0s 6ms/step - loss: 0.1992 - accuracy: 0.9835 - val_loss: 0.4415 - val_accuracy: 0.8750\n",
            "Epoch 121/200\n",
            "13/13 [==============================] - 0s 6ms/step - loss: 0.1942 - accuracy: 0.9719 - val_loss: 0.4440 - val_accuracy: 0.8750\n",
            "Epoch 122/200\n",
            "13/13 [==============================] - 0s 5ms/step - loss: 0.2292 - accuracy: 0.9716 - val_loss: 0.4568 - val_accuracy: 0.8438\n",
            "Epoch 123/200\n",
            "13/13 [==============================] - 0s 6ms/step - loss: 0.2181 - accuracy: 0.9576 - val_loss: 0.4397 - val_accuracy: 0.8750\n",
            "Epoch 124/200\n",
            "13/13 [==============================] - 0s 6ms/step - loss: 0.1891 - accuracy: 0.9983 - val_loss: 0.4389 - val_accuracy: 0.8438\n",
            "Epoch 125/200\n",
            "13/13 [==============================] - 0s 6ms/step - loss: 0.1765 - accuracy: 0.9874 - val_loss: 0.4627 - val_accuracy: 0.8125\n",
            "Epoch 126/200\n",
            "13/13 [==============================] - 0s 7ms/step - loss: 0.2101 - accuracy: 0.9749 - val_loss: 0.4495 - val_accuracy: 0.8125\n",
            "Epoch 127/200\n",
            "13/13 [==============================] - 0s 6ms/step - loss: 0.2050 - accuracy: 0.9942 - val_loss: 0.4321 - val_accuracy: 0.8438\n",
            "Epoch 128/200\n",
            "13/13 [==============================] - 0s 5ms/step - loss: 0.1791 - accuracy: 0.9898 - val_loss: 0.4514 - val_accuracy: 0.8750\n",
            "Epoch 129/200\n",
            "13/13 [==============================] - 0s 5ms/step - loss: 0.1851 - accuracy: 0.9850 - val_loss: 0.4595 - val_accuracy: 0.8438\n",
            "Epoch 130/200\n",
            "13/13 [==============================] - 0s 6ms/step - loss: 0.1805 - accuracy: 0.9952 - val_loss: 0.4667 - val_accuracy: 0.8438\n",
            "Epoch 131/200\n",
            "13/13 [==============================] - 0s 5ms/step - loss: 0.1879 - accuracy: 0.9983 - val_loss: 0.4534 - val_accuracy: 0.8438\n",
            "Epoch 132/200\n",
            "13/13 [==============================] - 0s 5ms/step - loss: 0.1729 - accuracy: 0.9942 - val_loss: 0.4630 - val_accuracy: 0.8438\n",
            "Epoch 133/200\n",
            "13/13 [==============================] - 0s 6ms/step - loss: 0.1926 - accuracy: 0.9767 - val_loss: 0.4776 - val_accuracy: 0.8125\n",
            "Epoch 134/200\n",
            "13/13 [==============================] - 0s 8ms/step - loss: 0.1750 - accuracy: 0.9898 - val_loss: 0.4979 - val_accuracy: 0.8125\n",
            "Epoch 135/200\n",
            "13/13 [==============================] - 0s 5ms/step - loss: 0.1480 - accuracy: 0.9812 - val_loss: 0.4903 - val_accuracy: 0.8125\n",
            "Epoch 136/200\n",
            "13/13 [==============================] - 0s 5ms/step - loss: 0.1515 - accuracy: 0.9976 - val_loss: 0.4737 - val_accuracy: 0.8125\n",
            "Epoch 137/200\n",
            "13/13 [==============================] - 0s 6ms/step - loss: 0.1950 - accuracy: 0.9767 - val_loss: 0.4718 - val_accuracy: 0.8438\n",
            "Epoch 138/200\n",
            "13/13 [==============================] - 0s 5ms/step - loss: 0.1607 - accuracy: 0.9942 - val_loss: 0.4652 - val_accuracy: 0.8438\n",
            "Epoch 139/200\n",
            "13/13 [==============================] - 0s 6ms/step - loss: 0.1691 - accuracy: 0.9767 - val_loss: 0.4777 - val_accuracy: 0.8438\n",
            "Epoch 140/200\n",
            "13/13 [==============================] - 0s 5ms/step - loss: 0.1677 - accuracy: 0.9976 - val_loss: 0.4667 - val_accuracy: 0.8438\n",
            "Epoch 141/200\n",
            "13/13 [==============================] - 0s 6ms/step - loss: 0.1739 - accuracy: 0.9930 - val_loss: 0.4858 - val_accuracy: 0.8438\n",
            "Epoch 142/200\n",
            "13/13 [==============================] - 0s 6ms/step - loss: 0.1485 - accuracy: 0.9969 - val_loss: 0.4670 - val_accuracy: 0.8750\n",
            "Epoch 143/200\n",
            "13/13 [==============================] - 0s 5ms/step - loss: 0.1559 - accuracy: 0.9942 - val_loss: 0.4685 - val_accuracy: 0.8438\n",
            "Epoch 144/200\n",
            "13/13 [==============================] - 0s 5ms/step - loss: 0.1404 - accuracy: 0.9952 - val_loss: 0.4675 - val_accuracy: 0.8750\n",
            "Epoch 145/200\n",
            "13/13 [==============================] - 0s 5ms/step - loss: 0.1653 - accuracy: 0.9838 - val_loss: 0.4946 - val_accuracy: 0.8438\n",
            "Epoch 146/200\n",
            "13/13 [==============================] - 0s 5ms/step - loss: 0.1508 - accuracy: 0.9942 - val_loss: 0.4580 - val_accuracy: 0.8438\n",
            "Epoch 147/200\n",
            "13/13 [==============================] - 0s 5ms/step - loss: 0.1797 - accuracy: 0.9767 - val_loss: 0.4809 - val_accuracy: 0.8125\n",
            "Epoch 148/200\n",
            "13/13 [==============================] - 0s 5ms/step - loss: 0.1476 - accuracy: 0.9952 - val_loss: 0.4784 - val_accuracy: 0.8438\n",
            "Epoch 149/200\n",
            "13/13 [==============================] - 0s 5ms/step - loss: 0.1369 - accuracy: 0.9930 - val_loss: 0.4874 - val_accuracy: 0.8438\n",
            "Epoch 150/200\n",
            "13/13 [==============================] - 0s 5ms/step - loss: 0.1264 - accuracy: 0.9976 - val_loss: 0.4829 - val_accuracy: 0.8750\n",
            "Epoch 151/200\n",
            "13/13 [==============================] - 0s 6ms/step - loss: 0.1414 - accuracy: 0.9930 - val_loss: 0.4860 - val_accuracy: 0.8438\n",
            "Epoch 152/200\n",
            "13/13 [==============================] - 0s 6ms/step - loss: 0.1280 - accuracy: 0.9952 - val_loss: 0.4926 - val_accuracy: 0.8438\n",
            "Epoch 153/200\n",
            "13/13 [==============================] - 0s 5ms/step - loss: 0.1451 - accuracy: 0.9988 - val_loss: 0.4955 - val_accuracy: 0.8438\n",
            "Epoch 154/200\n",
            "13/13 [==============================] - 0s 5ms/step - loss: 0.1439 - accuracy: 0.9838 - val_loss: 0.4869 - val_accuracy: 0.8438\n",
            "Epoch 155/200\n",
            "13/13 [==============================] - 0s 5ms/step - loss: 0.1410 - accuracy: 0.9983 - val_loss: 0.4824 - val_accuracy: 0.8750\n",
            "Epoch 156/200\n",
            "13/13 [==============================] - 0s 6ms/step - loss: 0.1382 - accuracy: 0.9930 - val_loss: 0.5041 - val_accuracy: 0.8438\n",
            "Epoch 157/200\n",
            "13/13 [==============================] - 0s 5ms/step - loss: 0.1333 - accuracy: 0.9988 - val_loss: 0.4809 - val_accuracy: 0.8750\n",
            "Epoch 158/200\n",
            "13/13 [==============================] - 0s 6ms/step - loss: 0.1143 - accuracy: 0.9952 - val_loss: 0.4886 - val_accuracy: 0.8750\n",
            "Epoch 159/200\n",
            "13/13 [==============================] - 0s 5ms/step - loss: 0.1524 - accuracy: 0.9838 - val_loss: 0.5038 - val_accuracy: 0.8438\n",
            "Epoch 160/200\n",
            "13/13 [==============================] - 0s 6ms/step - loss: 0.1401 - accuracy: 0.9916 - val_loss: 0.5323 - val_accuracy: 0.8125\n",
            "Epoch 161/200\n",
            "13/13 [==============================] - 0s 6ms/step - loss: 0.1551 - accuracy: 0.9838 - val_loss: 0.4763 - val_accuracy: 0.8438\n",
            "Epoch 162/200\n",
            "13/13 [==============================] - 0s 7ms/step - loss: 0.1457 - accuracy: 0.9767 - val_loss: 0.4757 - val_accuracy: 0.8438\n",
            "Epoch 163/200\n",
            "13/13 [==============================] - 0s 6ms/step - loss: 0.1433 - accuracy: 0.9838 - val_loss: 0.4953 - val_accuracy: 0.8750\n",
            "Epoch 164/200\n",
            "13/13 [==============================] - 0s 6ms/step - loss: 0.1376 - accuracy: 0.9767 - val_loss: 0.5200 - val_accuracy: 0.8438\n",
            "Epoch 165/200\n",
            "13/13 [==============================] - 0s 5ms/step - loss: 0.1394 - accuracy: 0.9930 - val_loss: 0.5235 - val_accuracy: 0.8438\n",
            "Epoch 166/200\n",
            "13/13 [==============================] - 0s 5ms/step - loss: 0.1370 - accuracy: 0.9767 - val_loss: 0.5207 - val_accuracy: 0.8438\n",
            "Epoch 167/200\n",
            "13/13 [==============================] - 0s 6ms/step - loss: 0.1298 - accuracy: 0.9930 - val_loss: 0.4914 - val_accuracy: 0.8438\n",
            "Epoch 168/200\n",
            "13/13 [==============================] - 0s 18ms/step - loss: 0.1197 - accuracy: 0.9952 - val_loss: 0.5087 - val_accuracy: 0.8438\n",
            "Epoch 169/200\n",
            "13/13 [==============================] - 0s 6ms/step - loss: 0.1186 - accuracy: 0.9969 - val_loss: 0.4878 - val_accuracy: 0.8750\n",
            "Epoch 170/200\n",
            "13/13 [==============================] - 0s 5ms/step - loss: 0.1145 - accuracy: 0.9983 - val_loss: 0.4905 - val_accuracy: 0.8750\n",
            "Epoch 171/200\n",
            "13/13 [==============================] - 0s 5ms/step - loss: 0.1380 - accuracy: 0.9767 - val_loss: 0.5024 - val_accuracy: 0.8750\n",
            "Epoch 172/200\n",
            "13/13 [==============================] - 0s 7ms/step - loss: 0.1126 - accuracy: 0.9942 - val_loss: 0.5127 - val_accuracy: 0.8750\n",
            "Epoch 173/200\n",
            "13/13 [==============================] - 0s 6ms/step - loss: 0.1175 - accuracy: 0.9898 - val_loss: 0.5362 - val_accuracy: 0.8438\n",
            "Epoch 174/200\n",
            "13/13 [==============================] - 0s 6ms/step - loss: 0.1361 - accuracy: 0.9942 - val_loss: 0.4999 - val_accuracy: 0.8125\n",
            "Epoch 175/200\n",
            "13/13 [==============================] - 0s 5ms/step - loss: 0.1296 - accuracy: 0.9898 - val_loss: 0.5242 - val_accuracy: 0.8438\n",
            "Epoch 176/200\n",
            "13/13 [==============================] - 0s 6ms/step - loss: 0.1123 - accuracy: 0.9874 - val_loss: 0.5495 - val_accuracy: 0.8438\n",
            "Epoch 177/200\n",
            "13/13 [==============================] - 0s 5ms/step - loss: 0.1100 - accuracy: 0.9952 - val_loss: 0.5288 - val_accuracy: 0.8750\n",
            "Epoch 178/200\n",
            "13/13 [==============================] - 0s 5ms/step - loss: 0.1106 - accuracy: 0.9930 - val_loss: 0.5201 - val_accuracy: 0.8438\n",
            "Epoch 179/200\n",
            "13/13 [==============================] - 0s 6ms/step - loss: 0.1142 - accuracy: 0.9983 - val_loss: 0.5140 - val_accuracy: 0.8125\n",
            "Epoch 180/200\n",
            "13/13 [==============================] - 0s 5ms/step - loss: 0.1259 - accuracy: 0.9976 - val_loss: 0.5485 - val_accuracy: 0.8438\n",
            "Epoch 181/200\n",
            "13/13 [==============================] - 0s 6ms/step - loss: 0.1228 - accuracy: 0.9874 - val_loss: 0.5254 - val_accuracy: 0.8125\n",
            "Epoch 182/200\n",
            "13/13 [==============================] - 0s 5ms/step - loss: 0.1060 - accuracy: 0.9976 - val_loss: 0.5292 - val_accuracy: 0.8438\n",
            "Epoch 183/200\n",
            "13/13 [==============================] - 0s 6ms/step - loss: 0.1048 - accuracy: 0.9969 - val_loss: 0.5334 - val_accuracy: 0.8438\n",
            "Epoch 184/200\n",
            "13/13 [==============================] - 0s 5ms/step - loss: 0.0935 - accuracy: 0.9976 - val_loss: 0.5352 - val_accuracy: 0.8438\n",
            "Epoch 185/200\n",
            "13/13 [==============================] - 0s 5ms/step - loss: 0.1285 - accuracy: 0.9874 - val_loss: 0.5506 - val_accuracy: 0.8438\n",
            "Epoch 186/200\n",
            "13/13 [==============================] - 0s 6ms/step - loss: 0.1167 - accuracy: 0.9874 - val_loss: 0.5537 - val_accuracy: 0.8438\n",
            "Epoch 187/200\n",
            "13/13 [==============================] - 0s 6ms/step - loss: 0.1118 - accuracy: 0.9969 - val_loss: 0.5555 - val_accuracy: 0.8750\n",
            "Epoch 188/200\n",
            "13/13 [==============================] - 0s 5ms/step - loss: 0.1031 - accuracy: 0.9983 - val_loss: 0.5543 - val_accuracy: 0.8438\n",
            "Epoch 189/200\n",
            "13/13 [==============================] - 0s 6ms/step - loss: 0.1078 - accuracy: 0.9983 - val_loss: 0.5168 - val_accuracy: 0.8438\n",
            "Epoch 190/200\n",
            "13/13 [==============================] - 0s 6ms/step - loss: 0.1070 - accuracy: 0.9942 - val_loss: 0.5463 - val_accuracy: 0.8438\n",
            "Epoch 191/200\n",
            "13/13 [==============================] - 0s 6ms/step - loss: 0.1111 - accuracy: 0.9988 - val_loss: 0.5108 - val_accuracy: 0.8750\n",
            "Epoch 192/200\n",
            "13/13 [==============================] - 0s 6ms/step - loss: 0.1057 - accuracy: 0.9983 - val_loss: 0.5157 - val_accuracy: 0.8438\n",
            "Epoch 193/200\n",
            "13/13 [==============================] - 0s 5ms/step - loss: 0.1065 - accuracy: 0.9961 - val_loss: 0.5300 - val_accuracy: 0.8438\n",
            "Epoch 194/200\n",
            "13/13 [==============================] - 0s 6ms/step - loss: 0.1171 - accuracy: 0.9898 - val_loss: 0.5387 - val_accuracy: 0.8438\n",
            "Epoch 195/200\n",
            "13/13 [==============================] - 0s 6ms/step - loss: 0.1015 - accuracy: 0.9874 - val_loss: 0.5499 - val_accuracy: 0.8438\n",
            "Epoch 196/200\n",
            "13/13 [==============================] - 0s 6ms/step - loss: 0.1076 - accuracy: 0.9961 - val_loss: 0.5330 - val_accuracy: 0.8438\n",
            "Epoch 197/200\n",
            "13/13 [==============================] - 0s 5ms/step - loss: 0.1052 - accuracy: 0.9969 - val_loss: 0.5384 - val_accuracy: 0.8125\n",
            "Epoch 198/200\n",
            "13/13 [==============================] - 0s 6ms/step - loss: 0.1053 - accuracy: 0.9898 - val_loss: 0.5398 - val_accuracy: 0.8125\n",
            "Epoch 199/200\n",
            "13/13 [==============================] - 0s 6ms/step - loss: 0.1031 - accuracy: 0.9969 - val_loss: 0.5555 - val_accuracy: 0.8125\n",
            "Epoch 200/200\n",
            "13/13 [==============================] - 0s 5ms/step - loss: 0.0966 - accuracy: 0.9952 - val_loss: 0.5512 - val_accuracy: 0.8438\n"
          ],
          "name": "stdout"
        }
      ]
    },
    {
      "cell_type": "code",
      "metadata": {
        "colab": {
          "base_uri": "https://localhost:8080/"
        },
        "id": "Qbyxmop4hD4Q",
        "outputId": "d511aaba-89e4-436c-9752-431277b718a3"
      },
      "source": [
        "acc = model3.evaluate(X_test, y_test)\r\n",
        "print(f'Accuracy: {acc[1]:.4f}')"
      ],
      "execution_count": 65,
      "outputs": [
        {
          "output_type": "stream",
          "text": [
            "2/2 [==============================] - 0s 3ms/step - loss: 0.6239 - accuracy: 0.8269\n",
            "Accuracy: 0.8269\n"
          ],
          "name": "stdout"
        }
      ]
    },
    {
      "cell_type": "markdown",
      "metadata": {
        "id": "2s9lrFRXlg41"
      },
      "source": [
        "### 학습 과정 시각화"
      ]
    },
    {
      "cell_type": "code",
      "metadata": {
        "colab": {
          "base_uri": "https://localhost:8080/"
        },
        "id": "7-VM1zs8l0Mh",
        "outputId": "d542b31c-bbe6-4632-ff66-66def48da0b9"
      },
      "source": [
        "history.history['accuracy'][:3]"
      ],
      "execution_count": 68,
      "outputs": [
        {
          "output_type": "execute_result",
          "data": {
            "text/plain": [
              "[0.42741936445236206, 0.5322580933570862, 0.5322580933570862]"
            ]
          },
          "metadata": {
            "tags": []
          },
          "execution_count": 68
        }
      ]
    },
    {
      "cell_type": "code",
      "metadata": {
        "colab": {
          "base_uri": "https://localhost:8080/"
        },
        "id": "zUh6MOQnl27Q",
        "outputId": "8c1cae2a-33b0-4f4c-b6e6-e30210e1f942"
      },
      "source": [
        "history.history['loss'][:3]"
      ],
      "execution_count": 69,
      "outputs": [
        {
          "output_type": "execute_result",
          "data": {
            "text/plain": [
              "[0.6932418346405029, 0.6930718421936035, 0.6930010914802551]"
            ]
          },
          "metadata": {
            "tags": []
          },
          "execution_count": 69
        }
      ]
    },
    {
      "cell_type": "code",
      "metadata": {
        "colab": {
          "base_uri": "https://localhost:8080/"
        },
        "id": "BcIpVScql2rP",
        "outputId": "0a3cf04c-4dc5-48d4-fe57-ad7b82f9c2f7"
      },
      "source": [
        "history.history['val_accuracy'][:3]"
      ],
      "execution_count": 70,
      "outputs": [
        {
          "output_type": "execute_result",
          "data": {
            "text/plain": [
              "[0.53125, 0.53125, 0.53125]"
            ]
          },
          "metadata": {
            "tags": []
          },
          "execution_count": 70
        }
      ]
    },
    {
      "cell_type": "code",
      "metadata": {
        "colab": {
          "base_uri": "https://localhost:8080/"
        },
        "id": "WhFLax03l6Hg",
        "outputId": "bf251c51-78a4-4780-b563-1b8e5206b1e4"
      },
      "source": [
        "history.history['val_loss'][:3]"
      ],
      "execution_count": 71,
      "outputs": [
        {
          "output_type": "execute_result",
          "data": {
            "text/plain": [
              "[0.693057119846344, 0.6930388808250427, 0.6928881406784058]"
            ]
          },
          "metadata": {
            "tags": []
          },
          "execution_count": 71
        }
      ]
    },
    {
      "cell_type": "code",
      "metadata": {
        "id": "PkWjuKwZlep6"
      },
      "source": [
        "import matplotlib.pyplot as plt\r\n",
        "%matplotlib inline"
      ],
      "execution_count": 67,
      "outputs": []
    },
    {
      "cell_type": "code",
      "metadata": {
        "id": "80fjXdg-ll2m"
      },
      "source": [
        "# y_vloss에 테스트셋으로 실험 결과의 오차 값을 저장\r\n",
        "y_vloss = history.history['val_loss']"
      ],
      "execution_count": 72,
      "outputs": []
    },
    {
      "cell_type": "code",
      "metadata": {
        "id": "-cClW3_xl9U-"
      },
      "source": [
        "# y_acc에 테스트셋으로 실험 결과의 오차 값을 저장\r\n",
        "y_acc = history.history['accuracy']"
      ],
      "execution_count": 73,
      "outputs": []
    },
    {
      "cell_type": "code",
      "metadata": {
        "colab": {
          "base_uri": "https://localhost:8080/",
          "height": 483
        },
        "id": "2jiyI19ZmAf7",
        "outputId": "59b15de9-d257-4c41-82fc-744326970bdb"
      },
      "source": [
        "# x 값을 지정하고 정확도를 파란색으로, 오차를 빨간색으로 표시\r\n",
        "x_len = np.arange(len(y_acc))\r\n",
        "plt.figure(figsize=(12,8))\r\n",
        "plt.plot(x_len, y_vloss, \"o-\", c=\"red\", markersize=5)\r\n",
        "plt.plot(x_len, y_acc, \"o-\", c=\"blue\", markersize=5)\r\n",
        "plt.show()"
      ],
      "execution_count": 74,
      "outputs": [
        {
          "output_type": "display_data",
          "data": {
            "image/png": "[encoded data removed]",
            "text/plain": [
              "<Figure size 864x576 with 1 Axes>"
            ]
          },
          "metadata": {
            "tags": [],
            "needs_background": "light"
          }
        }
      ]
    },
    {
      "cell_type": "code",
      "metadata": {
        "id": "j_sUYd7rmC_2"
      },
      "source": [
        ""
      ],
      "execution_count": null,
      "outputs": []
    }
  ]
}